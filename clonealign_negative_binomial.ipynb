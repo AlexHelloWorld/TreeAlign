{
 "cells": [
  {
   "cell_type": "code",
   "execution_count": 1,
   "metadata": {},
   "outputs": [],
   "source": [
    "# based on clonealign framework, re-write with pyro\n",
    "import logging\n",
    "import sys\n",
    "\n",
    "import os\n",
    "from collections import defaultdict\n",
    "import torch\n",
    "import numpy as np\n",
    "import pandas as pd\n",
    "import scipy.stats\n",
    "from torch.distributions import constraints\n",
    "from torch.nn import Softplus\n",
    "from matplotlib import pyplot\n",
    "%matplotlib inline\n",
    "\n",
    "import pyro\n",
    "import pyro.distributions as dist\n",
    "from pyro.distributions.util import broadcast_shape\n",
    "from pyro import poutine\n",
    "from pyro.infer.autoguide import AutoDelta\n",
    "from pyro.optim import Adam\n",
    "from pyro.infer import SVI, TraceEnum_ELBO, config_enumerate, infer_discrete\n",
    "from pyro.ops.indexing import Vindex\n",
    "\n",
    "smoke_test = ('CI' in os.environ)\n",
    "assert pyro.__version__.startswith('1.5.1')\n",
    "pyro.enable_validation(True)"
   ]
  },
  {
   "cell_type": "code",
   "execution_count": 2,
   "metadata": {},
   "outputs": [],
   "source": [
    "logging.basicConfig(format='%(relativeCreated) 9d %(message)s', level=logging.DEBUG)\n",
    "\n",
    "# Add another handler for logging debugging events (e.g. for profiling)\n",
    "# in a separate stream that can be captured.\n",
    "log = logging.getLogger()\n",
    "debug_handler = logging.StreamHandler(sys.stdout)\n",
    "debug_handler.setLevel(logging.DEBUG)\n",
    "debug_handler.addFilter(filter=lambda record: record.levelno <= logging.DEBUG)\n",
    "log.addHandler(debug_handler)"
   ]
  },
  {
   "cell_type": "code",
   "execution_count": 3,
   "metadata": {},
   "outputs": [],
   "source": [
    "# input data\n",
    "\n",
    "expr_input = \"data/SPECTRUM-OV-022_expr_clonealign_input.csv\"\n",
    "cnv_input = \"data/SPECTRUM-OV-022_cnv_clonealign_input.csv\"\n",
    "\n",
    "clone_assign_prob_output = \"data/SPECTRUM-OV-022_clone_assign_prob_0.csv\"\n",
    "gene_type_score_output = \"data/SPECTRUM-OV-022_gene_type_score_0.csv\"\n",
    "\n"
   ]
  },
  {
   "cell_type": "code",
   "execution_count": 22,
   "metadata": {},
   "outputs": [],
   "source": [
    "\n",
    "expr_csv = pd.read_csv(expr_input, header = 0, index_col=0)\n",
    "cnv_csv = pd.read_csv(cnv_input, header = 0, index_col=0)\n",
    "\n",
    "expr_csv = expr_csv[expr_csv.mean(1) > 0]\n",
    "cnv_csv = cnv_csv.loc[expr_csv.index, ]\n",
    "\n",
    "# cast cnv greater than 6\n",
    "cnv = torch.tensor(cnv_csv.values, dtype=torch.float)\n",
    "cnv = torch.transpose(cnv, 0, 1)\n",
    "\n",
    "cnv[cnv > 6] = 6\n",
    "\n",
    "expr = torch.tensor(expr_csv.values, dtype = torch.float)\n",
    "expr = torch.transpose(expr, 0, 1)"
   ]
  },
  {
   "cell_type": "code",
   "execution_count": 23,
   "metadata": {},
   "outputs": [],
   "source": [
    "expr = expr[0:20]\n",
    "expr = expr[:, torch.mean(expr, dim = 0) > 0]"
   ]
  },
  {
   "cell_type": "code",
   "execution_count": 24,
   "metadata": {},
   "outputs": [
    {
     "data": {
      "text/plain": [
       "torch.Size([3, 2726])"
      ]
     },
     "execution_count": 24,
     "metadata": {},
     "output_type": "execute_result"
    }
   ],
   "source": [
    "cnv = cnv[:, range(expr.shape[1])]\n",
    "cnv.shape"
   ]
  },
  {
   "cell_type": "code",
   "execution_count": 25,
   "metadata": {},
   "outputs": [],
   "source": [
    "# input data: cnv, expr\n",
    "# cnv: clone_count * gene_count\n",
    "# expr: cell_count * gene_count\n",
    "\n",
    "# use the \n",
    "def inverse_softplus(x):\n",
    "    return x + torch.log(-torch.expm1(-x))\n",
    "\n",
    "@config_enumerate\n",
    "def clonealign_pyro(cnv, expr):\n",
    "    num_of_clones = len(cnv)\n",
    "    num_of_genes = len(cnv[0])\n",
    "    num_of_cells = len(expr)\n",
    "\n",
    "    softplus = Softplus()\n",
    "\n",
    "    # initialize per_copy_expr using the data (This typically speeds up convergence)\n",
    "    expr = expr * 2000 / torch.reshape(torch.sum(expr, 1), (num_of_cells, 1))\n",
    "    per_copy_expr_guess = torch.mean(expr, 0)\n",
    "\n",
    "    # calculate copy number mean\n",
    "    copy_number_mean = torch.mean(cnv, 0)\n",
    "\n",
    "    # draw chi from gamma\n",
    "    chi = pyro.sample('expose_chi', dist.Gamma(torch.ones(6) * 2, torch.ones(6)).to_event(1))\n",
    "\n",
    "    gene_plate = pyro.plate('gene', num_of_genes, dim=-1)\n",
    "    cell_plate = pyro.plate('cell', num_of_cells)\n",
    "\n",
    "    with gene_plate:\n",
    "        # draw per_copy_expr from softplus-transformed Normal distribution\n",
    "        per_copy_expr = pyro.sample('expose_per_copy_expr',\n",
    "                                    dist.Normal(inverse_softplus(per_copy_expr_guess), torch.ones(num_of_genes)))\n",
    "\n",
    "\n",
    "        per_copy_expr = softplus(per_copy_expr)\n",
    "\n",
    "        # instead of softplus-transformed normal, use negative binomial instead for per_copy_expr\n",
    "        # per_copy_expr = pyro.sample('per_copy_expr', dist.NegativeBinomial())\n",
    "\n",
    "        # draw w from Normal\n",
    "        w = pyro.sample('expose_w', dist.Normal(torch.zeros(6), torch.sqrt(chi)).to_event(1))\n",
    "\n",
    "        # sample the gene_type_score from uniform distribution.\n",
    "        # the score reflects how much the copy number influence expression.\n",
    "        gene_type_score = pyro.sample('expose_gene_type_score', dist.Beta(0.5, 0.5))\n",
    "        gene_type = pyro.sample('gene_type', dist.Bernoulli(gene_type_score), infer={\"enumerate\": \"parallel\"})\n",
    "\n",
    "    for i in cell_plate:\n",
    "        # draw clone_assign_prob from Dir\n",
    "        clone_assign_prob = pyro.sample('expose_clone_assign_prob_{}'.format(i), dist.Dirichlet(torch.ones(num_of_clones)))\n",
    "\n",
    "        # draw clone_assign from Cat\n",
    "        clone_assign = pyro.sample('clone_assign_{}'.format(i), dist.Categorical(clone_assign_prob), infer={\"enumerate\": \"parallel\"})\n",
    "\n",
    "        # draw psi from Normal\n",
    "        psi = pyro.sample('expose_psi_{}'.format(i), dist.Normal(torch.zeros(6), torch.ones(6)).to_event(1))\n",
    "\n",
    "        with gene_plate:\n",
    "            test1 = (Vindex(cnv)[torch.squeeze(clone_assign, -1)] * gene_type + copy_number_mean * (1 - gene_type))\n",
    "            test2 = torch.exp(torch.matmul(torch.squeeze(psi), torch.transpose(w, 0, 1)))\n",
    "            test3 = per_copy_expr\n",
    "\n",
    "            expected_expr = test1 * test2 * test3\n",
    "            fake_probs = expected_expr.new_zeros(broadcast_shape(expected_expr.shape)) + 0.5              \n",
    "\n",
    "            # draw expr from negative binomial\n",
    "            pyro.sample('obs_{}'.format(i), dist.NegativeBinomial(total_count = expected_expr * 1000, probs=fake_probs, validate_args=False), obs=expr[i])\n",
    "\n",
    "        "
   ]
  },
  {
   "cell_type": "code",
   "execution_count": 26,
   "metadata": {},
   "outputs": [],
   "source": [
    "def guide(cnv, expr):\n",
    "    num_of_clones = len(cnv)\n",
    "    num_of_genes = len(cnv[0])\n",
    "    num_of_cells = len(expr)\n",
    "\n",
    "    chi_loc = pyro.param('chi_loc', \n",
    "                        lambda: torch.ones(6) * 0.1,\n",
    "                        constraint=constraints.positive)\n",
    "    chi = pyro.sample('expose_chi', dist.Delta(chi_loc).to_event(1))\n",
    "\n",
    "\n",
    "    gene_plate = pyro.plate('gene', num_of_genes, dim=-1)\n",
    "    cell_plate = pyro.plate('cell', num_of_cells)\n",
    "\n",
    "    per_copy_expr_loc = pyro.param('per_copy_expr_loc', \n",
    "                                  lambda: torch.exp(torch.randn(num_of_genes)))\n",
    "\n",
    "    w_loc = pyro.param('w_loc', \n",
    "                       lambda: torch.randn(num_of_genes, 6))\n",
    "\n",
    "    gene_type_score_loc = pyro.param('gene_type_score_loc',\n",
    "                                lambda: torch.rand(num_of_genes))\n",
    "\n",
    "    clone_assign_prob_loc = pyro.param('clone_assign_prob_loc',\n",
    "                                  lambda: torch.rand(num_of_cells, num_of_clones),\n",
    "                                      constraint = constraints.simplex)\n",
    "\n",
    "    psi_loc = pyro.param('psi_loc',\n",
    "                                 lambda: torch.randn(num_of_cells, 6))    \n",
    "\n",
    "    with gene_plate:\n",
    "        # draw per_copy_expr from softplus-transformed Normal distribution\n",
    "        per_copy_expr = pyro.sample('expose_per_copy_expr', dist.Delta(per_copy_expr_loc))\n",
    "        w = pyro.sample('expose_w', dist.Delta(w_loc).to_event(1))\n",
    "        gene_type_score = pyro.sample('expose_gene_type_score', dist.Delta(gene_type_score_loc))\n",
    "\n",
    "\n",
    "    for i in cell_plate:\n",
    "        # draw clone_assign_prob from Dir\n",
    "        clone_assign_prob = pyro.sample('expose_clone_assign_prob_{}'.format(i), dist.Delta(clone_assign_prob_loc[i]).to_event(1))\n",
    "        # draw psi from Normal\n",
    "        psi = pyro.sample('expose_psi_{}'.format(i), dist.Delta(psi_loc[i]).to_event(1))     \n",
    "\n",
    "    "
   ]
  },
  {
   "cell_type": "code",
   "execution_count": 27,
   "metadata": {},
   "outputs": [],
   "source": [
    "# initialize Adam optimizer\n",
    "optim = pyro.optim.Adam({'lr': 0.1, 'betas': [0.8, 0.99]})\n",
    "\n",
    "# TraceEnum_ELBO will marginalize out the assignments of datapoints to clusters\n",
    "elbo = TraceEnum_ELBO(max_plate_nesting=3)\n",
    "\n",
    "pyro.clear_param_store()\n",
    "\n",
    "# AutoGuide\n",
    "global_guide = guide\n",
    "# put together SVI object\n",
    "svi = SVI(clonealign_pyro, global_guide, optim, loss=elbo)"
   ]
  },
  {
   "cell_type": "code",
   "execution_count": 28,
   "metadata": {},
   "outputs": [],
   "source": [
    "import datetime"
   ]
  },
  {
   "cell_type": "code",
   "execution_count": null,
   "metadata": {
    "scrolled": true
   },
   "outputs": [
    {
     "name": "stdout",
     "output_type": "stream",
     "text": [
      "2021-04-30 10:36:04.232764\n"
     ]
    }
   ],
   "source": [
    "print(datetime.datetime.now())\n",
    "\n",
    "gradient_norms = defaultdict(list)\n",
    "print(svi.loss(clonealign_pyro, global_guide, cnv, expr))  # Initializes param store.\n",
    "\n",
    "print(datetime.datetime.now())"
   ]
  },
  {
   "cell_type": "code",
   "execution_count": null,
   "metadata": {},
   "outputs": [],
   "source": []
  }
 ],
 "metadata": {
  "kernelspec": {
   "display_name": "Python 3",
   "language": "python",
   "name": "python3"
  },
  "language_info": {
   "codemirror_mode": {
    "name": "ipython",
    "version": 3
   },
   "file_extension": ".py",
   "mimetype": "text/x-python",
   "name": "python",
   "nbconvert_exporter": "python",
   "pygments_lexer": "ipython3",
   "version": "3.7.4"
  }
 },
 "nbformat": 4,
 "nbformat_minor": 2
}
