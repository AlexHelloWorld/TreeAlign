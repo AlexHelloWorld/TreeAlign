{
 "cells": [
  {
   "cell_type": "code",
   "execution_count": 12,
   "metadata": {},
   "outputs": [],
   "source": [
    "# based on clonealign framework, re-write with pyro\n",
    "import os\n",
    "from collections import defaultdict\n",
    "import torch\n",
    "import numpy as np\n",
    "import pandas as pd\n",
    "import scipy.stats\n",
    "from torch.distributions import constraints\n",
    "from torch.nn import Softplus\n",
    "from matplotlib import pyplot\n",
    "%matplotlib inline\n",
    "\n",
    "import pyro\n",
    "import pyro.distributions as dist\n",
    "from pyro.distributions.util import broadcast_shape\n",
    "from pyro import poutine\n",
    "from pyro.infer.autoguide import AutoDelta\n",
    "from pyro.optim import Adam\n",
    "from pyro.infer import SVI, TraceEnum_ELBO, config_enumerate, infer_discrete\n",
    "from pyro.ops.indexing import Vindex\n",
    "\n",
    "smoke_test = ('CI' in os.environ)\n",
    "assert pyro.__version__.startswith('1.5.1')\n",
    "pyro.enable_validation(True)"
   ]
  },
  {
   "cell_type": "code",
   "execution_count": 2,
   "metadata": {},
   "outputs": [],
   "source": [
    "# input data\n",
    "\n",
    "expr_csv = pd.read_csv('data/SPECTRUM-OV-022_expr_clonealign_input.csv', header = 0, index_col=0)\n",
    "cnv_csv = pd.read_csv('data/SPECTRUM-OV-022_cnv_clonealign_input.csv', header = 0, index_col=0)\n",
    "\n",
    "# cast cnv greater than 6\n",
    "cnv = torch.tensor(cnv_csv.values, dtype=torch.float)\n",
    "cnv = torch.transpose(cnv, 0, 1)\n",
    "\n",
    "cnv[cnv > 6] = 6\n",
    "\n",
    "expr = torch.tensor(expr_csv.values, dtype = torch.float)\n",
    "expr = torch.transpose(expr, 0, 1)"
   ]
  },
  {
   "cell_type": "code",
   "execution_count": 13,
   "metadata": {},
   "outputs": [],
   "source": [
    "# input data: cnv, expr\n",
    "# cnv: clone_count * gene_count\n",
    "# expr: cell_count * gene_count\n",
    "\n",
    "# use the \n",
    "def inverse_softplus(x):\n",
    "    return x + torch.log(-torch.expm1(-x))\n",
    "\n",
    "@config_enumerate\n",
    "def clonealign_pyro(cnv, expr):\n",
    "    num_of_clones = len(cnv)\n",
    "    num_of_cells = len(expr)\n",
    "    num_of_genes = len(expr[0])\n",
    "\n",
    "    softplus = Softplus()\n",
    "\n",
    "    # initialize per_copy_expr using the data (This typically speeds up convergence)\n",
    "    expr = expr * 2000 / torch.reshape(torch.sum(expr, 1), (num_of_cells, 1))\n",
    "    per_copy_expr_guess = torch.mean(expr, 0)\n",
    "\n",
    "    # calculate copy number mean\n",
    "    copy_number_mean = torch.mean(cnv, 0)\n",
    "\n",
    "    # draw chi from gamma\n",
    "    chi = pyro.sample('chi', dist.Gamma(torch.ones(6) * 2, torch.ones(6)).to_event(1))\n",
    "\n",
    "    with pyro.plate('gene', num_of_genes):\n",
    "        # draw per_copy_expr from softplus-transformed Normal distribution\n",
    "        per_copy_expr = pyro.sample('per_copy_expr',\n",
    "                                    dist.Normal(inverse_softplus(per_copy_expr_guess), torch.ones(num_of_genes)))\n",
    "        \n",
    "\n",
    "        per_copy_expr = softplus(per_copy_expr)\n",
    "        \n",
    "        # instead of softplus-transformed normal, use negative binomial instead for per_copy_expr\n",
    "        # per_copy_expr = pyro.sample('per_copy_expr', dist.NegativeBinomial())\n",
    "\n",
    "        # draw w from Normal\n",
    "        w = pyro.sample('w', dist.Normal(torch.zeros(6), torch.sqrt(chi)).to_event(1))\n",
    "\n",
    "        # sample the gene_type_score from uniform distribution.\n",
    "        # the score reflects how much the copy number influence expression.\n",
    "        gene_type_score = pyro.sample('gene_type_score', dist.Dirichlet(torch.ones(2) * 0.1))\n",
    "\n",
    "    #gene_type = pyro.sample('gene_type', dist.Bernoulli(probs = gene_type_score))\n",
    "\n",
    "    with pyro.plate('cell', num_of_cells):\n",
    "        # draw clone_assign_prob from Dir\n",
    "        clone_assign_prob = pyro.sample('clone_assign_prob', dist.Dirichlet(torch.ones(num_of_clones) * 0.1))\n",
    "        # draw clone_assign from Cat\n",
    "        clone_assign = pyro.sample('clone_assign', dist.Categorical(clone_assign_prob))\n",
    "\n",
    "        # draw psi from Normal\n",
    "        psi = pyro.sample('psi', dist.Normal(torch.zeros(6), torch.ones(6)).to_event(1))        \n",
    "\n",
    "        expected_expr = per_copy_expr * (\n",
    "                    Vindex(cnv)[clone_assign] * gene_type_score[:, 0] + copy_number_mean * gene_type_score[:, 1]) * torch.exp(\n",
    "            torch.matmul(psi, torch.transpose(w, 0, 1)))\n",
    "\n",
    "        print(expected_expr.shape)\n",
    "        print(expr.shape)\n",
    "        # draw expr from Multinomial\n",
    "        pyro.sample('obs', dist.Multinomial(total_count = 2000, probs=expected_expr, validate_args=False), obs=expr)\n",
    "        \n",
    "        "
   ]
  },
  {
   "cell_type": "code",
   "execution_count": 14,
   "metadata": {},
   "outputs": [],
   "source": [
    "# initialize Adam optimizer\n",
    "optim = pyro.optim.Adam({'lr': 0.1, 'betas': [0.8, 0.99]})\n",
    "\n",
    "# TraceEnum_ELBO will marginalize out the assignments of datapoints to clusters\n",
    "elbo = TraceEnum_ELBO(max_plate_nesting=1)\n",
    "\n",
    "pyro.clear_param_store()\n",
    "\n",
    "# AutoGuide\n",
    "global_guide = AutoDelta(poutine.block(clonealign_pyro, \\\n",
    "                                       expose = ['chi', 'per_copy_expr', 'w', 'k', 'gene_type_score', \\\n",
    "                                                 'clone_assign_prob', 'psi']))\n",
    "# put together SVI object\n",
    "svi = SVI(clonealign_pyro, global_guide, optim, loss=elbo)"
   ]
  },
  {
   "cell_type": "code",
   "execution_count": 15,
   "metadata": {},
   "outputs": [
    {
     "name": "stdout",
     "output_type": "stream",
     "text": [
      "torch.Size([5139, 4059])\n",
      "torch.Size([5139, 4059])\n"
     ]
    }
   ],
   "source": [
    "guide_trace = poutine.trace(global_guide).get_trace(cnv, expr)\n",
    "model_trace = poutine.trace(poutine.replay(poutine.enum(clonealign_pyro, -3), guide_trace)).get_trace(cnv, expr)\n",
    "model_trace.compute_log_prob()\n",
    "\n",
    "with open('test.txt', 'w') as f:\n",
    "    f.write(model_trace.format_shapes())"
   ]
  },
  {
   "cell_type": "code",
   "execution_count": 16,
   "metadata": {},
   "outputs": [
    {
     "name": "stdout",
     "output_type": "stream",
     "text": [
      "torch.Size([5139, 4059])\n"
     ]
    },
    {
     "data": {
      "text/plain": [
       "12474650.0"
      ]
     },
     "execution_count": 16,
     "metadata": {},
     "output_type": "execute_result"
    }
   ],
   "source": [
    "gradient_norms = defaultdict(list)\n",
    "svi.loss(clonealign_pyro, global_guide, cnv, expr)  # Initializes param store."
   ]
  },
  {
   "cell_type": "code",
   "execution_count": 159,
   "metadata": {},
   "outputs": [
    {
     "name": "stdout",
     "output_type": "stream",
     "text": [
      "Start Inference.\n",
      "\n",
      "......................................................................................................................................................................................................."
     ]
    }
   ],
   "source": [
    "losses = []\n",
    "max_iter = 200\n",
    "rel_tol = 1e-5\n",
    "print('Start Inference.')\n",
    "for i in range(max_iter if not smoke_test else 2):\n",
    "    loss = svi.step(cnv, expr)\n",
    "    \n",
    "    if i >= 1:\n",
    "        loss_diff = abs((losses[-1] - loss)/losses[-1])\n",
    "        if loss_diff < rel_tol:\n",
    "            print('ELBO converged at iteration ' + str(i))\n",
    "            break\n",
    "    \n",
    "    losses.append(loss)\n",
    "    \n",
    "    print('.' if i % 200 else '\\n', end='')"
   ]
  },
  {
   "cell_type": "code",
   "execution_count": 160,
   "metadata": {},
   "outputs": [],
   "source": [
    "map_estimates = global_guide(cnv, expr)\n",
    "\n",
    "clone_assign_prob = map_estimates['clone_assign_prob']\n",
    "gene_type_score = map_estimates['gene_type_score']\n",
    "\n",
    "per_copy_expr = map_estimates['per_copy_expr']\n",
    "psi = map_estimates['psi']\n",
    "chi = map_estimates['chi']\n",
    "w = map_estimates['w']"
   ]
  },
  {
   "cell_type": "code",
   "execution_count": 161,
   "metadata": {},
   "outputs": [
    {
     "data": {
      "text/plain": [
       "tensor([[6.6291e-19, 6.6291e-19, 1.0000e+00],\n",
       "        [1.0000e+00, 6.6288e-19, 6.6281e-19],\n",
       "        [1.0000e+00, 6.6283e-19, 6.6266e-19],\n",
       "        ...,\n",
       "        [8.1535e-19, 5.6970e-19, 1.0000e+00],\n",
       "        [6.6291e-19, 1.0000e+00, 6.6291e-19],\n",
       "        [1.0000e+00, 6.6291e-19, 6.6291e-19]], grad_fn=<ExpandBackward>)"
      ]
     },
     "execution_count": 161,
     "metadata": {},
     "output_type": "execute_result"
    }
   ],
   "source": [
    "clone_assign_prob"
   ]
  },
  {
   "cell_type": "code",
   "execution_count": 162,
   "metadata": {},
   "outputs": [],
   "source": [
    "def clonealign_pyro_simulation(cnv, expr, per_copy_expr, psi, chi, w):\n",
    "    num_of_clones = len(cnv)\n",
    "    num_of_cells = len(expr)\n",
    "    num_of_genes = len(expr[0])\n",
    "\n",
    "    softplus = Softplus()\n",
    "    \n",
    "    # calculate copy number mean\n",
    "    copy_number_mean = torch.mean(cnv, 0)\n",
    "    \n",
    "    per_copy_expr = softplus(per_copy_expr)\n",
    "\n",
    "\n",
    "    with pyro.plate('gene', num_of_genes):\n",
    "        # sample the gene_type_score from uniform distribution.\n",
    "        # the score reflects how much the copy number influence expression.\n",
    "        gene_type_score = pyro.sample('gene_type_score', dist.Dirichlet(torch.ones(2) * 0.1))\n",
    "\n",
    "    #gene_type = pyro.sample('gene_type', dist.Bernoulli(probs = gene_type_score))\n",
    "\n",
    "    with pyro.plate('cell', num_of_cells):\n",
    "        # draw clone_assign_prob from Dir\n",
    "        clone_assign_prob = pyro.sample('clone_assign_prob', dist.Dirichlet(torch.ones(num_of_clones)))\n",
    "        # draw clone_assign from Cat\n",
    "        clone_assign = pyro.sample('clone_assign', dist.Categorical(clone_assign_prob))\n",
    "        \n",
    "\n",
    "        expected_expr = per_copy_expr * (\n",
    "                    Vindex(cnv)[clone_assign] * gene_type_score[:, 0] + copy_number_mean * gene_type_score[:, 1]) * torch.exp(\n",
    "            torch.matmul(psi, torch.transpose(w, 0, 1)))\n",
    "\n",
    "        # draw expr from Multinomial\n",
    "        expr_simulated = pyro.sample('obs', dist.Multinomial(total_count = 2000, probs=expected_expr, validate_args=False))\n",
    "    \n",
    "    return expr_simulated, gene_type_score, clone_assign_prob, clone_assign"
   ]
  },
  {
   "cell_type": "code",
   "execution_count": 163,
   "metadata": {},
   "outputs": [],
   "source": [
    "# simulate expr and gene_type_score data\n",
    "\n",
    "num_of_datasets = 1\n",
    "\n",
    "for i in range(num_of_datasets):\n",
    "    expr_simulated, gene_type_score_simuated, clone_assign_prob_simulated, clone_assign_simulated = clonealign_pyro_simulation(cnv, expr, per_copy_expr, psi, chi, w)\n",
    "    \n",
    "    expr_simulated = torch.transpose(expr_simulated, 0, 1)\n",
    "    \n",
    "    expr_simulated_dataframe = pd.DataFrame(expr_simulated.data.numpy())\n",
    "    gene_type_score_simuated_dataframe = pd.DataFrame(gene_type_score_simuated.data.numpy())\n",
    "    clone_assign_prob_simulated_dataframe = pd.DataFrame(clone_assign_prob_simulated.data.numpy())\n",
    "    clone_assign_simulated_dataframe = pd.DataFrame(clone_assign_simulated.data.numpy())\n",
    "    \n",
    "    # rename\n",
    "    cell_name = {i:c for i, c in enumerate(expr_csv.columns)}\n",
    "    gene_name = {i:c for i, c in enumerate(expr_csv.index)}\n",
    "    clone_name = {i:c for i, c in enumerate(cnv_csv.columns)}\n",
    "    \n",
    "\n",
    "    expr_simulated_dataframe.rename(index = gene_name, inplace = True)\n",
    "    expr_simulated_dataframe.rename(columns = cell_name, inplace = True)\n",
    "    \n",
    "    gene_type_score_simuated_dataframe.rename(index = gene_name, inplace = True)\n",
    "    clone_assign_simulated_dataframe.rename(index = cell_name, inplace = True)\n",
    "    \n",
    "    clone_assign_prob_simulated_dataframe.rename(index = cell_name, inplace = True)\n",
    "    clone_assign_prob_simulated_dataframe.rename(index = clone_name, inplace = True)\n",
    "    \n",
    "    expr_simulated_dataframe.to_csv(\"data/expr_simulated_\" + str(i) + \".csv\")\n",
    "    gene_type_score_simuated_dataframe.to_csv(\"data/gene_type_score_simulated_\" + str(i) + \".csv\")\n",
    "    clone_assign_prob_simulated_dataframe.to_csv(\"data/clone_assign_prob_simulated_\" + str(i) + \".csv\")\n",
    "    \n",
    "    clone_assign_simulated_dataframe.to_csv(\"data/clone_assign_simulated_\" + str(i) + \".csv\")\n",
    "\n"
   ]
  },
  {
   "cell_type": "code",
   "execution_count": 2,
   "metadata": {},
   "outputs": [],
   "source": [
    "import torch\n"
   ]
  },
  {
   "cell_type": "code",
   "execution_count": 3,
   "metadata": {},
   "outputs": [],
   "source": [
    "a = torch.ones(10)\n",
    "a = torch.reshape(a, (10, 1))\n",
    "b = torch.zeros(10)\n",
    "b = torch.reshape(b, (10, 1))"
   ]
  },
  {
   "cell_type": "code",
   "execution_count": 5,
   "metadata": {},
   "outputs": [
    {
     "data": {
      "text/plain": [
       "tensor([[0.],\n",
       "        [0.],\n",
       "        [0.],\n",
       "        [0.],\n",
       "        [0.],\n",
       "        [0.],\n",
       "        [0.],\n",
       "        [0.],\n",
       "        [0.],\n",
       "        [0.]])"
      ]
     },
     "execution_count": 5,
     "metadata": {},
     "output_type": "execute_result"
    }
   ],
   "source": [
    "b"
   ]
  },
  {
   "cell_type": "code",
   "execution_count": 6,
   "metadata": {},
   "outputs": [],
   "source": [
    "c = torch.cat((a, b), 1)"
   ]
  },
  {
   "cell_type": "code",
   "execution_count": 11,
   "metadata": {},
   "outputs": [
    {
     "data": {
      "text/plain": [
       "[4, 7, 5, 8, 0]"
      ]
     },
     "execution_count": 11,
     "metadata": {},
     "output_type": "execute_result"
    }
   ],
   "source": [
    "import random\n",
    "random_indices = random.sample(range(10), 5)\n",
    "random_indices"
   ]
  },
  {
   "cell_type": "code",
   "execution_count": 13,
   "metadata": {},
   "outputs": [
    {
     "data": {
      "text/plain": [
       "tensor([1., 1., 1., 1.])"
      ]
     },
     "execution_count": 13,
     "metadata": {},
     "output_type": "execute_result"
    }
   ],
   "source": [
    "a = torch.ones(10)\n",
    "a\n",
    "a[[1, 2, 3, 4]]"
   ]
  },
  {
   "cell_type": "code",
   "execution_count": 12,
   "metadata": {},
   "outputs": [
    {
     "data": {
      "text/plain": [
       "tensor([[0., 0., 1.],\n",
       "        [0., 0., 1.],\n",
       "        [0., 0., 1.],\n",
       "        [0., 0., 1.],\n",
       "        [0., 0., 1.],\n",
       "        [0., 0., 1.],\n",
       "        [0., 0., 1.],\n",
       "        [0., 0., 1.],\n",
       "        [0., 0., 1.],\n",
       "        [0., 0., 1.]])"
      ]
     },
     "execution_count": 12,
     "metadata": {},
     "output_type": "execute_result"
    }
   ],
   "source": [
    "c[:, [1, 1, 0]]"
   ]
  },
  {
   "cell_type": "code",
   "execution_count": 3,
   "metadata": {},
   "outputs": [],
   "source": [
    "expr_csv = pd.read_csv('data/SPECTRUM-OV-022_expr_clonealign_input.csv', header = 0, index_col=0)"
   ]
  },
  {
   "cell_type": "code",
   "execution_count": 6,
   "metadata": {},
   "outputs": [
    {
     "data": {
      "text/plain": [
       "Index(['HCRTR1', 'SPOCD1', 'KHDRBS1'], dtype='object')"
      ]
     },
     "execution_count": 6,
     "metadata": {},
     "output_type": "execute_result"
    }
   ],
   "source": [
    "expr_csv.index[[1, 4, 7]]"
   ]
  },
  {
   "cell_type": "code",
   "execution_count": null,
   "metadata": {},
   "outputs": [],
   "source": []
  }
 ],
 "metadata": {
  "kernelspec": {
   "display_name": "Python 3",
   "language": "python",
   "name": "python3"
  },
  "language_info": {
   "codemirror_mode": {
    "name": "ipython",
    "version": 3
   },
   "file_extension": ".py",
   "mimetype": "text/x-python",
   "name": "python",
   "nbconvert_exporter": "python",
   "pygments_lexer": "ipython3",
   "version": "3.7.4"
  }
 },
 "nbformat": 4,
 "nbformat_minor": 2
}
