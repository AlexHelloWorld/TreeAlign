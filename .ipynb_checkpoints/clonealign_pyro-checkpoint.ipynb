{
 "cells": [
  {
   "cell_type": "code",
   "execution_count": 101,
   "metadata": {},
   "outputs": [
    {
     "name": "stderr",
     "output_type": "stream",
     "text": [
      "  9691390 Loaded backend module://ipykernel.pylab.backend_inline version unknown.\n"
     ]
    },
    {
     "name": "stdout",
     "output_type": "stream",
     "text": [
      "Loaded backend module://ipykernel.pylab.backend_inline version unknown.\n",
      "Loaded backend module://ipykernel.pylab.backend_inline version unknown.\n",
      "Loaded backend module://ipykernel.pylab.backend_inline version unknown.\n",
      "Loaded backend module://ipykernel.pylab.backend_inline version unknown.\n",
      "Loaded backend module://ipykernel.pylab.backend_inline version unknown.\n"
     ]
    }
   ],
   "source": [
    "# based on clonealign framework, re-write with pyro\n",
    "import logging\n",
    "import sys\n",
    "\n",
    "import os\n",
    "from collections import defaultdict\n",
    "import torch\n",
    "import numpy as np\n",
    "import pandas as pd\n",
    "import scipy.stats\n",
    "from torch.distributions import constraints\n",
    "from torch.nn import Softplus\n",
    "from matplotlib import pyplot\n",
    "%matplotlib inline\n",
    "\n",
    "import pyro\n",
    "import pyro.distributions as dist\n",
    "from pyro import poutine\n",
    "from pyro.infer.autoguide import AutoDelta\n",
    "from pyro.optim import Adam\n",
    "from pyro.infer import SVI, TraceEnum_ELBO, config_enumerate, infer_discrete\n",
    "from pyro.ops.indexing import Vindex\n",
    "\n",
    "smoke_test = ('CI' in os.environ)\n",
    "assert pyro.__version__.startswith('1.5.1')\n",
    "pyro.enable_validation(True)"
   ]
  },
  {
   "cell_type": "code",
   "execution_count": 102,
   "metadata": {},
   "outputs": [],
   "source": [
    "logging.basicConfig(format='%(relativeCreated) 9d %(message)s', level=logging.DEBUG)\n",
    "\n",
    "# Add another handler for logging debugging events (e.g. for profiling)\n",
    "# in a separate stream that can be captured.\n",
    "log = logging.getLogger()\n",
    "debug_handler = logging.StreamHandler(sys.stdout)\n",
    "debug_handler.setLevel(logging.DEBUG)\n",
    "debug_handler.addFilter(filter=lambda record: record.levelno <= logging.DEBUG)\n",
    "log.addHandler(debug_handler)"
   ]
  },
  {
   "cell_type": "code",
   "execution_count": 103,
   "metadata": {},
   "outputs": [],
   "source": [
    "# input data\n",
    "\n",
    "expr_input = \"data/SPECTRUM-OV-022_expr_clonealign_input.csv\"\n",
    "cnv_input = \"data/SPECTRUM-OV-022_cnv_clonealign_input.csv\"\n",
    "\n",
    "clone_assign_prob_output = \"data/SPECTRUM-OV-022_clone_assign_prob_0.csv\"\n",
    "gene_type_score_output = \"data/SPECTRUM-OV-022_gene_type_score_0.csv\"\n",
    "gene_fold_change_output = \"data/SPECTRUM-OV-022_gene_fold_change_0.csv\"\n"
   ]
  },
  {
   "cell_type": "code",
   "execution_count": 104,
   "metadata": {},
   "outputs": [],
   "source": [
    "\n",
    "expr_csv = pd.read_csv(expr_input, header = 0, index_col=0)\n",
    "cnv_csv = pd.read_csv(cnv_input, header = 0, index_col=0)\n",
    "\n",
    "expr_csv = expr_csv[expr_csv.mean(1) > 0]\n",
    "cnv_csv = cnv_csv.loc[expr_csv.index, ]\n",
    "\n",
    "# cast cnv greater than 6\n",
    "cnv = torch.tensor(cnv_csv.values, dtype=torch.float)\n",
    "cnv = torch.transpose(cnv, 0, 1)\n",
    "\n",
    "cnv[cnv > 6] = 6\n",
    "\n",
    "expr = torch.tensor(expr_csv.values, dtype = torch.float)\n",
    "expr = torch.transpose(expr, 0, 1)\n",
    "\n"
   ]
  },
  {
   "cell_type": "code",
   "execution_count": 105,
   "metadata": {},
   "outputs": [
    {
     "data": {
      "text/plain": [
       "tensor([2., 2., 2.,  ..., 2., 2., 2.])"
      ]
     },
     "execution_count": 105,
     "metadata": {},
     "output_type": "execute_result"
    }
   ],
   "source": [
    "torch.min(cnv, 0)[0]"
   ]
  },
  {
   "cell_type": "code",
   "execution_count": 106,
   "metadata": {},
   "outputs": [],
   "source": [
    "# input data: cnv, expr\n",
    "# cnv: clone_count * gene_count\n",
    "# expr: cell_count * gene_count\n",
    "def inverse_softplus(x):\n",
    "    return x + torch.log(-torch.expm1(-x))\n",
    "\n",
    "@config_enumerate\n",
    "def clonealign_pyro(cnv, expr, temperature):\n",
    "    num_of_clones = len(cnv)\n",
    "    num_of_cells = len(expr)\n",
    "    num_of_genes = len(expr[0])\n",
    "\n",
    "    softplus = Softplus()\n",
    "\n",
    "    # initialize per_copy_expr using the data (This typically speeds up convergence)\n",
    "    expr = expr * 3000 / torch.reshape(torch.sum(expr, 1), (num_of_cells, 1))\n",
    "    per_copy_expr_guess = torch.mean(expr, 0)\n",
    "\n",
    "    # calculate copy number mean\n",
    "    # copy_number_mean = torch.mean(cnv, 0)\n",
    "    \n",
    "    cnv_min = torch.min(cnv, 0)[0]\n",
    "    cnv_rel = cnv / cnv_min\n",
    "\n",
    "    # draw chi from gamma\n",
    "    chi = pyro.sample('expose_chi', dist.Gamma(torch.ones(6) * 2, torch.ones(6)).to_event(1))\n",
    "\n",
    "    with pyro.plate('gene', num_of_genes):\n",
    "        # draw per_copy_expr from softplus-transformed Normal distribution\n",
    "        per_copy_expr = pyro.sample('expose_per_copy_expr',\n",
    "                                    dist.Normal(inverse_softplus(per_copy_expr_guess), torch.ones(num_of_genes)))\n",
    "        \n",
    "\n",
    "        per_copy_expr = softplus(per_copy_expr)\n",
    "        \n",
    "        # instead of softplus-transformed normal, use negative binomial instead for per_copy_expr\n",
    "        # per_copy_expr = pyro.sample('per_copy_expr', dist.NegativeBinomial())\n",
    "\n",
    "        # draw w from Normal\n",
    "        w = pyro.sample('expose_w', dist.Normal(torch.zeros(6), torch.sqrt(chi)).to_event(1))\n",
    "\n",
    "        # sample the gene_type_score from uniform distribution.\n",
    "        # the score reflects how much the copy number influence expression.\n",
    "        # gene_type_score = pyro.sample('expose_gene_type_score', dist.Dirichlet(torch.ones(2)))\n",
    "        # gene_type = pyro.sample('expose_gene_type', dist.RelaxedOneHotCategorical(temperature = torch.tensor([0.5]), probs = gene_type_score))\n",
    "        \n",
    "        # draw gene fold change \n",
    "        gene_fold_change = pyro.sample('expose_gene_fold_change', dist.Uniform(low = -1, high = 10))\n",
    "        \n",
    "\n",
    "    with pyro.plate('cell', num_of_cells):\n",
    "        # draw clone_assign_prob from Dir\n",
    "        clone_assign_prob = pyro.sample('expose_clone_assign_prob', dist.Dirichlet(torch.ones(num_of_clones) * 0.1))\n",
    "        # draw clone_assign from Cat\n",
    "        clone_assign = pyro.sample('clone_assign', dist.Categorical(clone_assign_prob))\n",
    "\n",
    "        # draw psi from Normal\n",
    "        psi = pyro.sample('expose_psi', dist.Normal(torch.zeros(6), torch.ones(6)).to_event(1))        \n",
    "\n",
    "        # expected_expr = (per_copy_expr * torch.pow(Vindex(cnv)[clone_assign], gene_fold_change) + copy_number_mean * gene_type[:, 1]) * torch.exp(\n",
    "        #    torch.matmul(psi, torch.transpose(w, 0, 1)))\n",
    "\n",
    "        expected_expr = (per_copy_expr * torch.pow(Vindex(cnv_rel)[clone_assign], gene_fold_change) * cnv_min) * torch.exp(\n",
    "            torch.matmul(psi, torch.transpose(w, 0, 1)))\n",
    "        \n",
    "        # draw expr from Multinomial\n",
    "        pyro.sample('obs', dist.Multinomial(total_count = 3000, probs=expected_expr, validate_args=False), obs=expr)\n",
    "        \n"
   ]
  },
  {
   "cell_type": "code",
   "execution_count": 107,
   "metadata": {},
   "outputs": [],
   "source": [
    "# initialize Adam optimizer\n",
    "optim = pyro.optim.Adam({'lr': 0.1, 'betas': [0.8, 0.99]})\n",
    "\n",
    "# TraceEnum_ELBO will marginalize out the assignments of datapoints to clusters\n",
    "elbo = TraceEnum_ELBO(max_plate_nesting=2)\n",
    "\n",
    "pyro.clear_param_store()\n",
    "\n",
    "# AutoGuide\n",
    "global_guide = AutoDelta(poutine.block(clonealign_pyro, expose_fn=lambda msg: msg[\"name\"].startswith(\"expose_\")))\n",
    "# put together SVI object\n",
    "svi = SVI(clonealign_pyro, global_guide, optim, loss=elbo)"
   ]
  },
  {
   "cell_type": "code",
   "execution_count": 108,
   "metadata": {},
   "outputs": [
    {
     "data": {
      "text/plain": [
       "17149884.0"
      ]
     },
     "execution_count": 108,
     "metadata": {},
     "output_type": "execute_result"
    }
   ],
   "source": [
    "tau0 = 1.0\n",
    "ANNEAL_RATE=0.0003\n",
    "MIN_TEMP=0.5\n",
    "np_temp=tau0\n",
    "\n",
    "\n",
    "gradient_norms = defaultdict(list)\n",
    "svi.loss(clonealign_pyro, global_guide, cnv, expr, np_temp)  # Initializes param store."
   ]
  },
  {
   "cell_type": "code",
   "execution_count": 109,
   "metadata": {},
   "outputs": [
    {
     "name": "stdout",
     "output_type": "stream",
     "text": [
      "Start Inference.\n",
      "\n",
      "..........................................................................................................................................................................................ELBO converged at iteration 187\n"
     ]
    }
   ],
   "source": [
    "losses = []\n",
    "max_iter = 500\n",
    "rel_tol = 1e-5\n",
    "print('Start Inference.')\n",
    "for i in range(max_iter if not smoke_test else 2):\n",
    "    loss = svi.step(cnv, expr, np_temp)\n",
    "    if i % 100 == 1:\n",
    "        np_temp=np.maximum(tau0*np.exp(-ANNEAL_RATE*i),MIN_TEMP)\n",
    "    \n",
    "    if i >= 1:\n",
    "        loss_diff = abs((losses[-1] - loss)/losses[-1])\n",
    "        if loss_diff < rel_tol:\n",
    "            print('ELBO converged at iteration ' + str(i))\n",
    "            break\n",
    "    \n",
    "    losses.append(loss)\n",
    "    \n",
    "    print('.' if i % 500 else '\\n', end='')"
   ]
  },
  {
   "cell_type": "code",
   "execution_count": 118,
   "metadata": {},
   "outputs": [
    {
     "data": {
      "text/plain": [
       "[17149884.0,\n",
       " 16419570.0,\n",
       " 15997486.0,\n",
       " 15675291.0,\n",
       " 15355659.0,\n",
       " 15054525.0,\n",
       " 14850300.0,\n",
       " 14735659.0,\n",
       " 14626651.0,\n",
       " 14521833.0,\n",
       " 14436532.0,\n",
       " 14359484.0,\n",
       " 14288455.0,\n",
       " 14221904.0,\n",
       " 14155020.0,\n",
       " 14088712.0,\n",
       " 14027331.0,\n",
       " 13972792.0,\n",
       " 13925211.0,\n",
       " 13884712.0,\n",
       " 13851793.0,\n",
       " 13825787.0,\n",
       " 13804752.0,\n",
       " 13787518.0,\n",
       " 13773753.0,\n",
       " 13762806.0,\n",
       " 13753539.0,\n",
       " 13745006.0,\n",
       " 13737105.0,\n",
       " 13729877.0,\n",
       " 13723303.0,\n",
       " 13717295.0,\n",
       " 13711878.0,\n",
       " 13706886.0,\n",
       " 13702286.0,\n",
       " 13697853.0,\n",
       " 13693593.0,\n",
       " 13689510.0,\n",
       " 13685570.0,\n",
       " 13681780.0,\n",
       " 13678061.0,\n",
       " 13674482.0,\n",
       " 13670987.0,\n",
       " 13667620.0,\n",
       " 13664283.0,\n",
       " 13661020.0,\n",
       " 13657839.0,\n",
       " 13654689.0,\n",
       " 13651604.0,\n",
       " 13648581.0,\n",
       " 13645569.0,\n",
       " 13642651.0,\n",
       " 13639782.0,\n",
       " 13636956.0,\n",
       " 13634142.0,\n",
       " 13631396.0,\n",
       " 13628698.0,\n",
       " 13625997.0,\n",
       " 13623337.0,\n",
       " 13620665.0,\n",
       " 13618066.0,\n",
       " 13615489.0,\n",
       " 13612931.0,\n",
       " 13610386.0,\n",
       " 13607870.0,\n",
       " 13605374.0,\n",
       " 13602903.0,\n",
       " 13600448.0,\n",
       " 13597994.0,\n",
       " 13595555.0,\n",
       " 13593111.0,\n",
       " 13590713.0,\n",
       " 13588293.0,\n",
       " 13585916.0,\n",
       " 13583527.0,\n",
       " 13581119.0,\n",
       " 13578788.0,\n",
       " 13576484.0,\n",
       " 13574114.0,\n",
       " 13571792.0,\n",
       " 13569467.0,\n",
       " 13567123.0,\n",
       " 13564830.0,\n",
       " 13562510.0,\n",
       " 13560246.0,\n",
       " 13557990.0,\n",
       " 13555700.0,\n",
       " 13553400.0,\n",
       " 13551080.0,\n",
       " 13548852.0,\n",
       " 13546595.0,\n",
       " 13544318.0,\n",
       " 13542099.0,\n",
       " 13539848.0,\n",
       " 13537621.0,\n",
       " 13535365.0,\n",
       " 13533133.0,\n",
       " 13530905.0,\n",
       " 13528666.0,\n",
       " 13526443.0,\n",
       " 13524288.0,\n",
       " 13522052.0,\n",
       " 13519854.0,\n",
       " 13517667.0,\n",
       " 13515471.0,\n",
       " 13513260.0,\n",
       " 13511145.0,\n",
       " 13508983.0,\n",
       " 13506915.0,\n",
       " 13504866.0,\n",
       " 13502715.0,\n",
       " 13500631.0,\n",
       " 13498503.0,\n",
       " 13496283.0,\n",
       " 13493983.0,\n",
       " 13491750.0,\n",
       " 13489541.0,\n",
       " 13487286.0,\n",
       " 13485098.0,\n",
       " 13482941.0,\n",
       " 13480807.0,\n",
       " 13478622.0,\n",
       " 13476472.0,\n",
       " 13474275.0,\n",
       " 13472201.0,\n",
       " 13470144.0,\n",
       " 13468053.0,\n",
       " 13466066.0,\n",
       " 13464349.0,\n",
       " 13462991.0,\n",
       " 13462227.0,\n",
       " 13460894.0,\n",
       " 13458930.0,\n",
       " 13455464.0,\n",
       " 13452248.0,\n",
       " 13449736.0,\n",
       " 13447819.0,\n",
       " 13445723.0,\n",
       " 13443346.0,\n",
       " 13441028.0,\n",
       " 13438725.0,\n",
       " 13436536.0,\n",
       " 13434462.0,\n",
       " 13432365.0,\n",
       " 13430235.0,\n",
       " 13428105.0,\n",
       " 13426040.0,\n",
       " 13423899.0,\n",
       " 13421778.0,\n",
       " 13419735.0,\n",
       " 13417693.0,\n",
       " 13415655.0,\n",
       " 13413766.0,\n",
       " 13411984.0,\n",
       " 13410469.0,\n",
       " 13409523.0,\n",
       " 13409807.0,\n",
       " 13410098.0,\n",
       " 13410636.0,\n",
       " 13406003.0,\n",
       " 13400258.0,\n",
       " 13396055.0,\n",
       " 13394650.0,\n",
       " 13393608.0,\n",
       " 13390994.0,\n",
       " 13387847.0,\n",
       " 13385351.0,\n",
       " 13383490.0,\n",
       " 13381639.0,\n",
       " 13379427.0,\n",
       " 13377214.0,\n",
       " 13375035.0,\n",
       " 13372950.0,\n",
       " 13370989.0,\n",
       " 13368975.0,\n",
       " 13366987.0,\n",
       " 13364989.0,\n",
       " 13362973.0,\n",
       " 13360985.0,\n",
       " 13359050.0,\n",
       " 13357124.0,\n",
       " 13355259.0,\n",
       " 13353496.0,\n",
       " 13351909.0,\n",
       " 13350438.0,\n",
       " 13349212.0,\n",
       " 13348428.0]"
      ]
     },
     "execution_count": 118,
     "metadata": {},
     "output_type": "execute_result"
    }
   ],
   "source": [
    "losses"
   ]
  },
  {
   "cell_type": "code",
   "execution_count": 119,
   "metadata": {},
   "outputs": [
    {
     "name": "stderr",
     "output_type": "stream",
     "text": [
      " 10168066 vmin 13182220.447612671 vmax 17366117.695582192\n"
     ]
    },
    {
     "name": "stdout",
     "output_type": "stream",
     "text": [
      "vmin 13182220.447612671 vmax 17366117.695582192\n",
      "vmin 13182220.447612671 vmax 17366117.695582192\n",
      "vmin 13182220.447612671 vmax 17366117.695582192\n",
      "vmin 13182220.447612671 vmax 17366117.695582192\n",
      "vmin 13182220.447612671 vmax 17366117.695582192\n",
      "vmin 13182220.447612671 vmax 17366117.695582192\n"
     ]
    },
    {
     "name": "stderr",
     "output_type": "stream",
     "text": [
      " 10168071 ticklocs array([1.e+06, 1.e+07, 1.e+08, 1.e+09])\n"
     ]
    },
    {
     "name": "stdout",
     "output_type": "stream",
     "text": [
      "ticklocs array([1.e+06, 1.e+07, 1.e+08, 1.e+09])\n",
      "ticklocs array([1.e+06, 1.e+07, 1.e+08, 1.e+09])\n",
      "ticklocs array([1.e+06, 1.e+07, 1.e+08, 1.e+09])\n",
      "ticklocs array([1.e+06, 1.e+07, 1.e+08, 1.e+09])\n",
      "ticklocs array([1.e+06, 1.e+07, 1.e+08, 1.e+09])\n",
      "ticklocs array([1.e+06, 1.e+07, 1.e+08, 1.e+09])\n"
     ]
    },
    {
     "name": "stderr",
     "output_type": "stream",
     "text": [
      " 10168082 vmin 13182220.447612671 vmax 17366117.695582192\n"
     ]
    },
    {
     "name": "stdout",
     "output_type": "stream",
     "text": [
      "vmin 13182220.447612671 vmax 17366117.695582192\n",
      "vmin 13182220.447612671 vmax 17366117.695582192\n",
      "vmin 13182220.447612671 vmax 17366117.695582192\n",
      "vmin 13182220.447612671 vmax 17366117.695582192\n",
      "vmin 13182220.447612671 vmax 17366117.695582192\n",
      "vmin 13182220.447612671 vmax 17366117.695582192\n"
     ]
    },
    {
     "name": "stderr",
     "output_type": "stream",
     "text": [
      " 10168089 ticklocs array([1.e+06, 1.e+07, 1.e+08, 1.e+09])\n"
     ]
    },
    {
     "name": "stdout",
     "output_type": "stream",
     "text": [
      "ticklocs array([1.e+06, 1.e+07, 1.e+08, 1.e+09])\n",
      "ticklocs array([1.e+06, 1.e+07, 1.e+08, 1.e+09])\n",
      "ticklocs array([1.e+06, 1.e+07, 1.e+08, 1.e+09])\n",
      "ticklocs array([1.e+06, 1.e+07, 1.e+08, 1.e+09])\n",
      "ticklocs array([1.e+06, 1.e+07, 1.e+08, 1.e+09])\n",
      "ticklocs array([1.e+06, 1.e+07, 1.e+08, 1.e+09])\n"
     ]
    },
    {
     "name": "stderr",
     "output_type": "stream",
     "text": [
      " 10168096 vmin 13182220.447612671 vmax 17366117.695582192\n"
     ]
    },
    {
     "name": "stdout",
     "output_type": "stream",
     "text": [
      "vmin 13182220.447612671 vmax 17366117.695582192\n",
      "vmin 13182220.447612671 vmax 17366117.695582192\n",
      "vmin 13182220.447612671 vmax 17366117.695582192\n",
      "vmin 13182220.447612671 vmax 17366117.695582192\n",
      "vmin 13182220.447612671 vmax 17366117.695582192\n",
      "vmin 13182220.447612671 vmax 17366117.695582192\n"
     ]
    },
    {
     "name": "stderr",
     "output_type": "stream",
     "text": [
      " 10168101 ticklocs array([2.e+06, 3.e+06, 4.e+06, 5.e+06, 6.e+06, 7.e+06, 8.e+06, 9.e+06,\n",
      "       2.e+07, 3.e+07, 4.e+07, 5.e+07, 6.e+07, 7.e+07, 8.e+07, 9.e+07,\n",
      "       2.e+08, 3.e+08, 4.e+08, 5.e+08, 6.e+08, 7.e+08, 8.e+08, 9.e+08,\n",
      "       2.e+09, 3.e+09, 4.e+09, 5.e+09, 6.e+09, 7.e+09, 8.e+09, 9.e+09])\n"
     ]
    },
    {
     "name": "stdout",
     "output_type": "stream",
     "text": [
      "ticklocs array([2.e+06, 3.e+06, 4.e+06, 5.e+06, 6.e+06, 7.e+06, 8.e+06, 9.e+06,\n",
      "       2.e+07, 3.e+07, 4.e+07, 5.e+07, 6.e+07, 7.e+07, 8.e+07, 9.e+07,\n",
      "       2.e+08, 3.e+08, 4.e+08, 5.e+08, 6.e+08, 7.e+08, 8.e+08, 9.e+08,\n",
      "       2.e+09, 3.e+09, 4.e+09, 5.e+09, 6.e+09, 7.e+09, 8.e+09, 9.e+09])\n",
      "ticklocs array([2.e+06, 3.e+06, 4.e+06, 5.e+06, 6.e+06, 7.e+06, 8.e+06, 9.e+06,\n",
      "       2.e+07, 3.e+07, 4.e+07, 5.e+07, 6.e+07, 7.e+07, 8.e+07, 9.e+07,\n",
      "       2.e+08, 3.e+08, 4.e+08, 5.e+08, 6.e+08, 7.e+08, 8.e+08, 9.e+08,\n",
      "       2.e+09, 3.e+09, 4.e+09, 5.e+09, 6.e+09, 7.e+09, 8.e+09, 9.e+09])\n",
      "ticklocs array([2.e+06, 3.e+06, 4.e+06, 5.e+06, 6.e+06, 7.e+06, 8.e+06, 9.e+06,\n",
      "       2.e+07, 3.e+07, 4.e+07, 5.e+07, 6.e+07, 7.e+07, 8.e+07, 9.e+07,\n",
      "       2.e+08, 3.e+08, 4.e+08, 5.e+08, 6.e+08, 7.e+08, 8.e+08, 9.e+08,\n",
      "       2.e+09, 3.e+09, 4.e+09, 5.e+09, 6.e+09, 7.e+09, 8.e+09, 9.e+09])\n",
      "ticklocs array([2.e+06, 3.e+06, 4.e+06, 5.e+06, 6.e+06, 7.e+06, 8.e+06, 9.e+06,\n",
      "       2.e+07, 3.e+07, 4.e+07, 5.e+07, 6.e+07, 7.e+07, 8.e+07, 9.e+07,\n",
      "       2.e+08, 3.e+08, 4.e+08, 5.e+08, 6.e+08, 7.e+08, 8.e+08, 9.e+08,\n",
      "       2.e+09, 3.e+09, 4.e+09, 5.e+09, 6.e+09, 7.e+09, 8.e+09, 9.e+09])\n",
      "ticklocs array([2.e+06, 3.e+06, 4.e+06, 5.e+06, 6.e+06, 7.e+06, 8.e+06, 9.e+06,\n",
      "       2.e+07, 3.e+07, 4.e+07, 5.e+07, 6.e+07, 7.e+07, 8.e+07, 9.e+07,\n",
      "       2.e+08, 3.e+08, 4.e+08, 5.e+08, 6.e+08, 7.e+08, 8.e+08, 9.e+08,\n",
      "       2.e+09, 3.e+09, 4.e+09, 5.e+09, 6.e+09, 7.e+09, 8.e+09, 9.e+09])\n",
      "ticklocs array([2.e+06, 3.e+06, 4.e+06, 5.e+06, 6.e+06, 7.e+06, 8.e+06, 9.e+06,\n",
      "       2.e+07, 3.e+07, 4.e+07, 5.e+07, 6.e+07, 7.e+07, 8.e+07, 9.e+07,\n",
      "       2.e+08, 3.e+08, 4.e+08, 5.e+08, 6.e+08, 7.e+08, 8.e+08, 9.e+08,\n",
      "       2.e+09, 3.e+09, 4.e+09, 5.e+09, 6.e+09, 7.e+09, 8.e+09, 9.e+09])\n"
     ]
    },
    {
     "name": "stderr",
     "output_type": "stream",
     "text": [
      " 10168247 vmin 13182220.447612671 vmax 17366117.695582192\n"
     ]
    },
    {
     "name": "stdout",
     "output_type": "stream",
     "text": [
      "vmin 13182220.447612671 vmax 17366117.695582192\n",
      "vmin 13182220.447612671 vmax 17366117.695582192\n",
      "vmin 13182220.447612671 vmax 17366117.695582192\n",
      "vmin 13182220.447612671 vmax 17366117.695582192\n",
      "vmin 13182220.447612671 vmax 17366117.695582192\n",
      "vmin 13182220.447612671 vmax 17366117.695582192\n"
     ]
    },
    {
     "name": "stderr",
     "output_type": "stream",
     "text": [
      " 10168250 ticklocs array([1.e+06, 1.e+07, 1.e+08, 1.e+09])\n"
     ]
    },
    {
     "name": "stdout",
     "output_type": "stream",
     "text": [
      "ticklocs array([1.e+06, 1.e+07, 1.e+08, 1.e+09])\n",
      "ticklocs array([1.e+06, 1.e+07, 1.e+08, 1.e+09])\n",
      "ticklocs array([1.e+06, 1.e+07, 1.e+08, 1.e+09])\n",
      "ticklocs array([1.e+06, 1.e+07, 1.e+08, 1.e+09])\n",
      "ticklocs array([1.e+06, 1.e+07, 1.e+08, 1.e+09])\n",
      "ticklocs array([1.e+06, 1.e+07, 1.e+08, 1.e+09])\n"
     ]
    },
    {
     "name": "stderr",
     "output_type": "stream",
     "text": [
      " 10168256 vmin 13182220.447612671 vmax 17366117.695582192\n"
     ]
    },
    {
     "name": "stdout",
     "output_type": "stream",
     "text": [
      "vmin 13182220.447612671 vmax 17366117.695582192\n",
      "vmin 13182220.447612671 vmax 17366117.695582192\n",
      "vmin 13182220.447612671 vmax 17366117.695582192\n",
      "vmin 13182220.447612671 vmax 17366117.695582192\n",
      "vmin 13182220.447612671 vmax 17366117.695582192\n",
      "vmin 13182220.447612671 vmax 17366117.695582192\n"
     ]
    },
    {
     "name": "stderr",
     "output_type": "stream",
     "text": [
      " 10168260 ticklocs array([1.e+06, 1.e+07, 1.e+08, 1.e+09])\n"
     ]
    },
    {
     "name": "stdout",
     "output_type": "stream",
     "text": [
      "ticklocs array([1.e+06, 1.e+07, 1.e+08, 1.e+09])\n",
      "ticklocs array([1.e+06, 1.e+07, 1.e+08, 1.e+09])\n",
      "ticklocs array([1.e+06, 1.e+07, 1.e+08, 1.e+09])\n",
      "ticklocs array([1.e+06, 1.e+07, 1.e+08, 1.e+09])\n",
      "ticklocs array([1.e+06, 1.e+07, 1.e+08, 1.e+09])\n",
      "ticklocs array([1.e+06, 1.e+07, 1.e+08, 1.e+09])\n"
     ]
    },
    {
     "name": "stderr",
     "output_type": "stream",
     "text": [
      " 10168266 vmin 13182220.447612671 vmax 17366117.695582192\n"
     ]
    },
    {
     "name": "stdout",
     "output_type": "stream",
     "text": [
      "vmin 13182220.447612671 vmax 17366117.695582192\n",
      "vmin 13182220.447612671 vmax 17366117.695582192\n",
      "vmin 13182220.447612671 vmax 17366117.695582192\n",
      "vmin 13182220.447612671 vmax 17366117.695582192\n",
      "vmin 13182220.447612671 vmax 17366117.695582192\n",
      "vmin 13182220.447612671 vmax 17366117.695582192\n"
     ]
    },
    {
     "name": "stderr",
     "output_type": "stream",
     "text": [
      " 10168273 ticklocs array([2.e+06, 3.e+06, 4.e+06, 5.e+06, 6.e+06, 7.e+06, 8.e+06, 9.e+06,\n",
      "       2.e+07, 3.e+07, 4.e+07, 5.e+07, 6.e+07, 7.e+07, 8.e+07, 9.e+07,\n",
      "       2.e+08, 3.e+08, 4.e+08, 5.e+08, 6.e+08, 7.e+08, 8.e+08, 9.e+08,\n",
      "       2.e+09, 3.e+09, 4.e+09, 5.e+09, 6.e+09, 7.e+09, 8.e+09, 9.e+09])\n"
     ]
    },
    {
     "name": "stdout",
     "output_type": "stream",
     "text": [
      "ticklocs array([2.e+06, 3.e+06, 4.e+06, 5.e+06, 6.e+06, 7.e+06, 8.e+06, 9.e+06,\n",
      "       2.e+07, 3.e+07, 4.e+07, 5.e+07, 6.e+07, 7.e+07, 8.e+07, 9.e+07,\n",
      "       2.e+08, 3.e+08, 4.e+08, 5.e+08, 6.e+08, 7.e+08, 8.e+08, 9.e+08,\n",
      "       2.e+09, 3.e+09, 4.e+09, 5.e+09, 6.e+09, 7.e+09, 8.e+09, 9.e+09])\n",
      "ticklocs array([2.e+06, 3.e+06, 4.e+06, 5.e+06, 6.e+06, 7.e+06, 8.e+06, 9.e+06,\n",
      "       2.e+07, 3.e+07, 4.e+07, 5.e+07, 6.e+07, 7.e+07, 8.e+07, 9.e+07,\n",
      "       2.e+08, 3.e+08, 4.e+08, 5.e+08, 6.e+08, 7.e+08, 8.e+08, 9.e+08,\n",
      "       2.e+09, 3.e+09, 4.e+09, 5.e+09, 6.e+09, 7.e+09, 8.e+09, 9.e+09])\n",
      "ticklocs array([2.e+06, 3.e+06, 4.e+06, 5.e+06, 6.e+06, 7.e+06, 8.e+06, 9.e+06,\n",
      "       2.e+07, 3.e+07, 4.e+07, 5.e+07, 6.e+07, 7.e+07, 8.e+07, 9.e+07,\n",
      "       2.e+08, 3.e+08, 4.e+08, 5.e+08, 6.e+08, 7.e+08, 8.e+08, 9.e+08,\n",
      "       2.e+09, 3.e+09, 4.e+09, 5.e+09, 6.e+09, 7.e+09, 8.e+09, 9.e+09])\n",
      "ticklocs array([2.e+06, 3.e+06, 4.e+06, 5.e+06, 6.e+06, 7.e+06, 8.e+06, 9.e+06,\n",
      "       2.e+07, 3.e+07, 4.e+07, 5.e+07, 6.e+07, 7.e+07, 8.e+07, 9.e+07,\n",
      "       2.e+08, 3.e+08, 4.e+08, 5.e+08, 6.e+08, 7.e+08, 8.e+08, 9.e+08,\n",
      "       2.e+09, 3.e+09, 4.e+09, 5.e+09, 6.e+09, 7.e+09, 8.e+09, 9.e+09])\n",
      "ticklocs array([2.e+06, 3.e+06, 4.e+06, 5.e+06, 6.e+06, 7.e+06, 8.e+06, 9.e+06,\n",
      "       2.e+07, 3.e+07, 4.e+07, 5.e+07, 6.e+07, 7.e+07, 8.e+07, 9.e+07,\n",
      "       2.e+08, 3.e+08, 4.e+08, 5.e+08, 6.e+08, 7.e+08, 8.e+08, 9.e+08,\n",
      "       2.e+09, 3.e+09, 4.e+09, 5.e+09, 6.e+09, 7.e+09, 8.e+09, 9.e+09])\n",
      "ticklocs array([2.e+06, 3.e+06, 4.e+06, 5.e+06, 6.e+06, 7.e+06, 8.e+06, 9.e+06,\n",
      "       2.e+07, 3.e+07, 4.e+07, 5.e+07, 6.e+07, 7.e+07, 8.e+07, 9.e+07,\n",
      "       2.e+08, 3.e+08, 4.e+08, 5.e+08, 6.e+08, 7.e+08, 8.e+08, 9.e+08,\n",
      "       2.e+09, 3.e+09, 4.e+09, 5.e+09, 6.e+09, 7.e+09, 8.e+09, 9.e+09])\n"
     ]
    },
    {
     "name": "stderr",
     "output_type": "stream",
     "text": [
      " 10168297 vmin 13182220.447612671 vmax 17366117.695582192\n"
     ]
    },
    {
     "name": "stdout",
     "output_type": "stream",
     "text": [
      "vmin 13182220.447612671 vmax 17366117.695582192\n",
      "vmin 13182220.447612671 vmax 17366117.695582192\n",
      "vmin 13182220.447612671 vmax 17366117.695582192\n",
      "vmin 13182220.447612671 vmax 17366117.695582192\n",
      "vmin 13182220.447612671 vmax 17366117.695582192\n",
      "vmin 13182220.447612671 vmax 17366117.695582192\n"
     ]
    },
    {
     "name": "stderr",
     "output_type": "stream",
     "text": [
      " 10168302 ticklocs array([1.e+06, 1.e+07, 1.e+08, 1.e+09])\n"
     ]
    },
    {
     "name": "stdout",
     "output_type": "stream",
     "text": [
      "ticklocs array([1.e+06, 1.e+07, 1.e+08, 1.e+09])\n",
      "ticklocs array([1.e+06, 1.e+07, 1.e+08, 1.e+09])\n",
      "ticklocs array([1.e+06, 1.e+07, 1.e+08, 1.e+09])\n",
      "ticklocs array([1.e+06, 1.e+07, 1.e+08, 1.e+09])\n",
      "ticklocs array([1.e+06, 1.e+07, 1.e+08, 1.e+09])\n",
      "ticklocs array([1.e+06, 1.e+07, 1.e+08, 1.e+09])\n"
     ]
    },
    {
     "name": "stderr",
     "output_type": "stream",
     "text": [
      " 10168309 vmin 13182220.447612671 vmax 17366117.695582192\n"
     ]
    },
    {
     "name": "stdout",
     "output_type": "stream",
     "text": [
      "vmin 13182220.447612671 vmax 17366117.695582192\n",
      "vmin 13182220.447612671 vmax 17366117.695582192\n",
      "vmin 13182220.447612671 vmax 17366117.695582192\n",
      "vmin 13182220.447612671 vmax 17366117.695582192\n",
      "vmin 13182220.447612671 vmax 17366117.695582192\n",
      "vmin 13182220.447612671 vmax 17366117.695582192\n"
     ]
    },
    {
     "name": "stderr",
     "output_type": "stream",
     "text": [
      " 10168314 ticklocs array([1.e+06, 1.e+07, 1.e+08, 1.e+09])\n"
     ]
    },
    {
     "name": "stdout",
     "output_type": "stream",
     "text": [
      "ticklocs array([1.e+06, 1.e+07, 1.e+08, 1.e+09])\n",
      "ticklocs array([1.e+06, 1.e+07, 1.e+08, 1.e+09])\n",
      "ticklocs array([1.e+06, 1.e+07, 1.e+08, 1.e+09])\n",
      "ticklocs array([1.e+06, 1.e+07, 1.e+08, 1.e+09])\n",
      "ticklocs array([1.e+06, 1.e+07, 1.e+08, 1.e+09])\n",
      "ticklocs array([1.e+06, 1.e+07, 1.e+08, 1.e+09])\n"
     ]
    },
    {
     "name": "stderr",
     "output_type": "stream",
     "text": [
      " 10168323 vmin 13182220.447612671 vmax 17366117.695582192\n"
     ]
    },
    {
     "name": "stdout",
     "output_type": "stream",
     "text": [
      "vmin 13182220.447612671 vmax 17366117.695582192\n",
      "vmin 13182220.447612671 vmax 17366117.695582192\n",
      "vmin 13182220.447612671 vmax 17366117.695582192\n",
      "vmin 13182220.447612671 vmax 17366117.695582192\n",
      "vmin 13182220.447612671 vmax 17366117.695582192\n",
      "vmin 13182220.447612671 vmax 17366117.695582192\n"
     ]
    },
    {
     "name": "stderr",
     "output_type": "stream",
     "text": [
      " 10168328 ticklocs array([2.e+06, 3.e+06, 4.e+06, 5.e+06, 6.e+06, 7.e+06, 8.e+06, 9.e+06,\n",
      "       2.e+07, 3.e+07, 4.e+07, 5.e+07, 6.e+07, 7.e+07, 8.e+07, 9.e+07,\n",
      "       2.e+08, 3.e+08, 4.e+08, 5.e+08, 6.e+08, 7.e+08, 8.e+08, 9.e+08,\n",
      "       2.e+09, 3.e+09, 4.e+09, 5.e+09, 6.e+09, 7.e+09, 8.e+09, 9.e+09])\n"
     ]
    },
    {
     "name": "stdout",
     "output_type": "stream",
     "text": [
      "ticklocs array([2.e+06, 3.e+06, 4.e+06, 5.e+06, 6.e+06, 7.e+06, 8.e+06, 9.e+06,\n",
      "       2.e+07, 3.e+07, 4.e+07, 5.e+07, 6.e+07, 7.e+07, 8.e+07, 9.e+07,\n",
      "       2.e+08, 3.e+08, 4.e+08, 5.e+08, 6.e+08, 7.e+08, 8.e+08, 9.e+08,\n",
      "       2.e+09, 3.e+09, 4.e+09, 5.e+09, 6.e+09, 7.e+09, 8.e+09, 9.e+09])\n",
      "ticklocs array([2.e+06, 3.e+06, 4.e+06, 5.e+06, 6.e+06, 7.e+06, 8.e+06, 9.e+06,\n",
      "       2.e+07, 3.e+07, 4.e+07, 5.e+07, 6.e+07, 7.e+07, 8.e+07, 9.e+07,\n",
      "       2.e+08, 3.e+08, 4.e+08, 5.e+08, 6.e+08, 7.e+08, 8.e+08, 9.e+08,\n",
      "       2.e+09, 3.e+09, 4.e+09, 5.e+09, 6.e+09, 7.e+09, 8.e+09, 9.e+09])\n",
      "ticklocs array([2.e+06, 3.e+06, 4.e+06, 5.e+06, 6.e+06, 7.e+06, 8.e+06, 9.e+06,\n",
      "       2.e+07, 3.e+07, 4.e+07, 5.e+07, 6.e+07, 7.e+07, 8.e+07, 9.e+07,\n",
      "       2.e+08, 3.e+08, 4.e+08, 5.e+08, 6.e+08, 7.e+08, 8.e+08, 9.e+08,\n",
      "       2.e+09, 3.e+09, 4.e+09, 5.e+09, 6.e+09, 7.e+09, 8.e+09, 9.e+09])\n",
      "ticklocs array([2.e+06, 3.e+06, 4.e+06, 5.e+06, 6.e+06, 7.e+06, 8.e+06, 9.e+06,\n",
      "       2.e+07, 3.e+07, 4.e+07, 5.e+07, 6.e+07, 7.e+07, 8.e+07, 9.e+07,\n",
      "       2.e+08, 3.e+08, 4.e+08, 5.e+08, 6.e+08, 7.e+08, 8.e+08, 9.e+08,\n",
      "       2.e+09, 3.e+09, 4.e+09, 5.e+09, 6.e+09, 7.e+09, 8.e+09, 9.e+09])\n",
      "ticklocs array([2.e+06, 3.e+06, 4.e+06, 5.e+06, 6.e+06, 7.e+06, 8.e+06, 9.e+06,\n",
      "       2.e+07, 3.e+07, 4.e+07, 5.e+07, 6.e+07, 7.e+07, 8.e+07, 9.e+07,\n",
      "       2.e+08, 3.e+08, 4.e+08, 5.e+08, 6.e+08, 7.e+08, 8.e+08, 9.e+08,\n",
      "       2.e+09, 3.e+09, 4.e+09, 5.e+09, 6.e+09, 7.e+09, 8.e+09, 9.e+09])\n",
      "ticklocs array([2.e+06, 3.e+06, 4.e+06, 5.e+06, 6.e+06, 7.e+06, 8.e+06, 9.e+06,\n",
      "       2.e+07, 3.e+07, 4.e+07, 5.e+07, 6.e+07, 7.e+07, 8.e+07, 9.e+07,\n",
      "       2.e+08, 3.e+08, 4.e+08, 5.e+08, 6.e+08, 7.e+08, 8.e+08, 9.e+08,\n",
      "       2.e+09, 3.e+09, 4.e+09, 5.e+09, 6.e+09, 7.e+09, 8.e+09, 9.e+09])\n"
     ]
    },
    {
     "name": "stderr",
     "output_type": "stream",
     "text": [
      " 10168339 vmin 13182220.447612671 vmax 17366117.695582192\n"
     ]
    },
    {
     "name": "stdout",
     "output_type": "stream",
     "text": [
      "vmin 13182220.447612671 vmax 17366117.695582192\n",
      "vmin 13182220.447612671 vmax 17366117.695582192\n",
      "vmin 13182220.447612671 vmax 17366117.695582192\n",
      "vmin 13182220.447612671 vmax 17366117.695582192\n",
      "vmin 13182220.447612671 vmax 17366117.695582192\n",
      "vmin 13182220.447612671 vmax 17366117.695582192\n"
     ]
    },
    {
     "name": "stderr",
     "output_type": "stream",
     "text": [
      " 10168345 ticklocs array([1.e+06, 1.e+07, 1.e+08, 1.e+09])\n"
     ]
    },
    {
     "name": "stdout",
     "output_type": "stream",
     "text": [
      "ticklocs array([1.e+06, 1.e+07, 1.e+08, 1.e+09])\n",
      "ticklocs array([1.e+06, 1.e+07, 1.e+08, 1.e+09])\n",
      "ticklocs array([1.e+06, 1.e+07, 1.e+08, 1.e+09])\n",
      "ticklocs array([1.e+06, 1.e+07, 1.e+08, 1.e+09])\n",
      "ticklocs array([1.e+06, 1.e+07, 1.e+08, 1.e+09])\n",
      "ticklocs array([1.e+06, 1.e+07, 1.e+08, 1.e+09])\n"
     ]
    },
    {
     "name": "stderr",
     "output_type": "stream",
     "text": [
      " 10168354 vmin 13182220.447612671 vmax 17366117.695582192\n"
     ]
    },
    {
     "name": "stdout",
     "output_type": "stream",
     "text": [
      "vmin 13182220.447612671 vmax 17366117.695582192\n",
      "vmin 13182220.447612671 vmax 17366117.695582192\n",
      "vmin 13182220.447612671 vmax 17366117.695582192\n",
      "vmin 13182220.447612671 vmax 17366117.695582192\n",
      "vmin 13182220.447612671 vmax 17366117.695582192\n",
      "vmin 13182220.447612671 vmax 17366117.695582192\n"
     ]
    },
    {
     "name": "stderr",
     "output_type": "stream",
     "text": [
      " 10168360 ticklocs array([1.e+06, 1.e+07, 1.e+08, 1.e+09])\n"
     ]
    },
    {
     "name": "stdout",
     "output_type": "stream",
     "text": [
      "ticklocs array([1.e+06, 1.e+07, 1.e+08, 1.e+09])\n",
      "ticklocs array([1.e+06, 1.e+07, 1.e+08, 1.e+09])\n",
      "ticklocs array([1.e+06, 1.e+07, 1.e+08, 1.e+09])\n",
      "ticklocs array([1.e+06, 1.e+07, 1.e+08, 1.e+09])\n",
      "ticklocs array([1.e+06, 1.e+07, 1.e+08, 1.e+09])\n",
      "ticklocs array([1.e+06, 1.e+07, 1.e+08, 1.e+09])\n"
     ]
    },
    {
     "name": "stderr",
     "output_type": "stream",
     "text": [
      " 10168368 vmin 13182220.447612671 vmax 17366117.695582192\n"
     ]
    },
    {
     "name": "stdout",
     "output_type": "stream",
     "text": [
      "vmin 13182220.447612671 vmax 17366117.695582192\n",
      "vmin 13182220.447612671 vmax 17366117.695582192\n",
      "vmin 13182220.447612671 vmax 17366117.695582192\n",
      "vmin 13182220.447612671 vmax 17366117.695582192\n",
      "vmin 13182220.447612671 vmax 17366117.695582192\n",
      "vmin 13182220.447612671 vmax 17366117.695582192\n"
     ]
    },
    {
     "name": "stderr",
     "output_type": "stream",
     "text": [
      " 10168374 ticklocs array([2.e+06, 3.e+06, 4.e+06, 5.e+06, 6.e+06, 7.e+06, 8.e+06, 9.e+06,\n",
      "       2.e+07, 3.e+07, 4.e+07, 5.e+07, 6.e+07, 7.e+07, 8.e+07, 9.e+07,\n",
      "       2.e+08, 3.e+08, 4.e+08, 5.e+08, 6.e+08, 7.e+08, 8.e+08, 9.e+08,\n",
      "       2.e+09, 3.e+09, 4.e+09, 5.e+09, 6.e+09, 7.e+09, 8.e+09, 9.e+09])\n"
     ]
    },
    {
     "name": "stdout",
     "output_type": "stream",
     "text": [
      "ticklocs array([2.e+06, 3.e+06, 4.e+06, 5.e+06, 6.e+06, 7.e+06, 8.e+06, 9.e+06,\n",
      "       2.e+07, 3.e+07, 4.e+07, 5.e+07, 6.e+07, 7.e+07, 8.e+07, 9.e+07,\n",
      "       2.e+08, 3.e+08, 4.e+08, 5.e+08, 6.e+08, 7.e+08, 8.e+08, 9.e+08,\n",
      "       2.e+09, 3.e+09, 4.e+09, 5.e+09, 6.e+09, 7.e+09, 8.e+09, 9.e+09])\n",
      "ticklocs array([2.e+06, 3.e+06, 4.e+06, 5.e+06, 6.e+06, 7.e+06, 8.e+06, 9.e+06,\n",
      "       2.e+07, 3.e+07, 4.e+07, 5.e+07, 6.e+07, 7.e+07, 8.e+07, 9.e+07,\n",
      "       2.e+08, 3.e+08, 4.e+08, 5.e+08, 6.e+08, 7.e+08, 8.e+08, 9.e+08,\n",
      "       2.e+09, 3.e+09, 4.e+09, 5.e+09, 6.e+09, 7.e+09, 8.e+09, 9.e+09])\n",
      "ticklocs array([2.e+06, 3.e+06, 4.e+06, 5.e+06, 6.e+06, 7.e+06, 8.e+06, 9.e+06,\n",
      "       2.e+07, 3.e+07, 4.e+07, 5.e+07, 6.e+07, 7.e+07, 8.e+07, 9.e+07,\n",
      "       2.e+08, 3.e+08, 4.e+08, 5.e+08, 6.e+08, 7.e+08, 8.e+08, 9.e+08,\n",
      "       2.e+09, 3.e+09, 4.e+09, 5.e+09, 6.e+09, 7.e+09, 8.e+09, 9.e+09])\n",
      "ticklocs array([2.e+06, 3.e+06, 4.e+06, 5.e+06, 6.e+06, 7.e+06, 8.e+06, 9.e+06,\n",
      "       2.e+07, 3.e+07, 4.e+07, 5.e+07, 6.e+07, 7.e+07, 8.e+07, 9.e+07,\n",
      "       2.e+08, 3.e+08, 4.e+08, 5.e+08, 6.e+08, 7.e+08, 8.e+08, 9.e+08,\n",
      "       2.e+09, 3.e+09, 4.e+09, 5.e+09, 6.e+09, 7.e+09, 8.e+09, 9.e+09])\n",
      "ticklocs array([2.e+06, 3.e+06, 4.e+06, 5.e+06, 6.e+06, 7.e+06, 8.e+06, 9.e+06,\n",
      "       2.e+07, 3.e+07, 4.e+07, 5.e+07, 6.e+07, 7.e+07, 8.e+07, 9.e+07,\n",
      "       2.e+08, 3.e+08, 4.e+08, 5.e+08, 6.e+08, 7.e+08, 8.e+08, 9.e+08,\n",
      "       2.e+09, 3.e+09, 4.e+09, 5.e+09, 6.e+09, 7.e+09, 8.e+09, 9.e+09])\n",
      "ticklocs array([2.e+06, 3.e+06, 4.e+06, 5.e+06, 6.e+06, 7.e+06, 8.e+06, 9.e+06,\n",
      "       2.e+07, 3.e+07, 4.e+07, 5.e+07, 6.e+07, 7.e+07, 8.e+07, 9.e+07,\n",
      "       2.e+08, 3.e+08, 4.e+08, 5.e+08, 6.e+08, 7.e+08, 8.e+08, 9.e+08,\n",
      "       2.e+09, 3.e+09, 4.e+09, 5.e+09, 6.e+09, 7.e+09, 8.e+09, 9.e+09])\n"
     ]
    },
    {
     "name": "stderr",
     "output_type": "stream",
     "text": [
      " 10168400 vmin 13182220.447612671 vmax 17366117.695582192\n"
     ]
    },
    {
     "name": "stdout",
     "output_type": "stream",
     "text": [
      "vmin 13182220.447612671 vmax 17366117.695582192\n",
      "vmin 13182220.447612671 vmax 17366117.695582192\n",
      "vmin 13182220.447612671 vmax 17366117.695582192\n",
      "vmin 13182220.447612671 vmax 17366117.695582192\n",
      "vmin 13182220.447612671 vmax 17366117.695582192\n",
      "vmin 13182220.447612671 vmax 17366117.695582192\n"
     ]
    },
    {
     "name": "stderr",
     "output_type": "stream",
     "text": [
      " 10168405 ticklocs array([1.e+06, 1.e+07, 1.e+08, 1.e+09])\n"
     ]
    },
    {
     "name": "stdout",
     "output_type": "stream",
     "text": [
      "ticklocs array([1.e+06, 1.e+07, 1.e+08, 1.e+09])\n",
      "ticklocs array([1.e+06, 1.e+07, 1.e+08, 1.e+09])\n",
      "ticklocs array([1.e+06, 1.e+07, 1.e+08, 1.e+09])\n",
      "ticklocs array([1.e+06, 1.e+07, 1.e+08, 1.e+09])\n",
      "ticklocs array([1.e+06, 1.e+07, 1.e+08, 1.e+09])\n",
      "ticklocs array([1.e+06, 1.e+07, 1.e+08, 1.e+09])\n"
     ]
    },
    {
     "name": "stderr",
     "output_type": "stream",
     "text": [
      " 10168413 vmin 13182220.447612671 vmax 17366117.695582192\n"
     ]
    },
    {
     "name": "stdout",
     "output_type": "stream",
     "text": [
      "vmin 13182220.447612671 vmax 17366117.695582192\n",
      "vmin 13182220.447612671 vmax 17366117.695582192\n",
      "vmin 13182220.447612671 vmax 17366117.695582192\n",
      "vmin 13182220.447612671 vmax 17366117.695582192\n",
      "vmin 13182220.447612671 vmax 17366117.695582192\n",
      "vmin 13182220.447612671 vmax 17366117.695582192\n"
     ]
    },
    {
     "name": "stderr",
     "output_type": "stream",
     "text": [
      " 10168418 ticklocs array([1.e+06, 1.e+07, 1.e+08, 1.e+09])\n"
     ]
    },
    {
     "name": "stdout",
     "output_type": "stream",
     "text": [
      "ticklocs array([1.e+06, 1.e+07, 1.e+08, 1.e+09])\n",
      "ticklocs array([1.e+06, 1.e+07, 1.e+08, 1.e+09])\n",
      "ticklocs array([1.e+06, 1.e+07, 1.e+08, 1.e+09])\n",
      "ticklocs array([1.e+06, 1.e+07, 1.e+08, 1.e+09])\n",
      "ticklocs array([1.e+06, 1.e+07, 1.e+08, 1.e+09])\n",
      "ticklocs array([1.e+06, 1.e+07, 1.e+08, 1.e+09])\n"
     ]
    },
    {
     "name": "stderr",
     "output_type": "stream",
     "text": [
      " 10168426 vmin 13182220.447612671 vmax 17366117.695582192\n"
     ]
    },
    {
     "name": "stdout",
     "output_type": "stream",
     "text": [
      "vmin 13182220.447612671 vmax 17366117.695582192\n",
      "vmin 13182220.447612671 vmax 17366117.695582192\n",
      "vmin 13182220.447612671 vmax 17366117.695582192\n",
      "vmin 13182220.447612671 vmax 17366117.695582192\n",
      "vmin 13182220.447612671 vmax 17366117.695582192\n",
      "vmin 13182220.447612671 vmax 17366117.695582192\n"
     ]
    },
    {
     "name": "stderr",
     "output_type": "stream",
     "text": [
      " 10168432 ticklocs array([2.e+06, 3.e+06, 4.e+06, 5.e+06, 6.e+06, 7.e+06, 8.e+06, 9.e+06,\n",
      "       2.e+07, 3.e+07, 4.e+07, 5.e+07, 6.e+07, 7.e+07, 8.e+07, 9.e+07,\n",
      "       2.e+08, 3.e+08, 4.e+08, 5.e+08, 6.e+08, 7.e+08, 8.e+08, 9.e+08,\n",
      "       2.e+09, 3.e+09, 4.e+09, 5.e+09, 6.e+09, 7.e+09, 8.e+09, 9.e+09])\n"
     ]
    },
    {
     "name": "stdout",
     "output_type": "stream",
     "text": [
      "ticklocs array([2.e+06, 3.e+06, 4.e+06, 5.e+06, 6.e+06, 7.e+06, 8.e+06, 9.e+06,\n",
      "       2.e+07, 3.e+07, 4.e+07, 5.e+07, 6.e+07, 7.e+07, 8.e+07, 9.e+07,\n",
      "       2.e+08, 3.e+08, 4.e+08, 5.e+08, 6.e+08, 7.e+08, 8.e+08, 9.e+08,\n",
      "       2.e+09, 3.e+09, 4.e+09, 5.e+09, 6.e+09, 7.e+09, 8.e+09, 9.e+09])\n",
      "ticklocs array([2.e+06, 3.e+06, 4.e+06, 5.e+06, 6.e+06, 7.e+06, 8.e+06, 9.e+06,\n",
      "       2.e+07, 3.e+07, 4.e+07, 5.e+07, 6.e+07, 7.e+07, 8.e+07, 9.e+07,\n",
      "       2.e+08, 3.e+08, 4.e+08, 5.e+08, 6.e+08, 7.e+08, 8.e+08, 9.e+08,\n",
      "       2.e+09, 3.e+09, 4.e+09, 5.e+09, 6.e+09, 7.e+09, 8.e+09, 9.e+09])\n",
      "ticklocs array([2.e+06, 3.e+06, 4.e+06, 5.e+06, 6.e+06, 7.e+06, 8.e+06, 9.e+06,\n",
      "       2.e+07, 3.e+07, 4.e+07, 5.e+07, 6.e+07, 7.e+07, 8.e+07, 9.e+07,\n",
      "       2.e+08, 3.e+08, 4.e+08, 5.e+08, 6.e+08, 7.e+08, 8.e+08, 9.e+08,\n",
      "       2.e+09, 3.e+09, 4.e+09, 5.e+09, 6.e+09, 7.e+09, 8.e+09, 9.e+09])\n",
      "ticklocs array([2.e+06, 3.e+06, 4.e+06, 5.e+06, 6.e+06, 7.e+06, 8.e+06, 9.e+06,\n",
      "       2.e+07, 3.e+07, 4.e+07, 5.e+07, 6.e+07, 7.e+07, 8.e+07, 9.e+07,\n",
      "       2.e+08, 3.e+08, 4.e+08, 5.e+08, 6.e+08, 7.e+08, 8.e+08, 9.e+08,\n",
      "       2.e+09, 3.e+09, 4.e+09, 5.e+09, 6.e+09, 7.e+09, 8.e+09, 9.e+09])\n",
      "ticklocs array([2.e+06, 3.e+06, 4.e+06, 5.e+06, 6.e+06, 7.e+06, 8.e+06, 9.e+06,\n",
      "       2.e+07, 3.e+07, 4.e+07, 5.e+07, 6.e+07, 7.e+07, 8.e+07, 9.e+07,\n",
      "       2.e+08, 3.e+08, 4.e+08, 5.e+08, 6.e+08, 7.e+08, 8.e+08, 9.e+08,\n",
      "       2.e+09, 3.e+09, 4.e+09, 5.e+09, 6.e+09, 7.e+09, 8.e+09, 9.e+09])\n",
      "ticklocs array([2.e+06, 3.e+06, 4.e+06, 5.e+06, 6.e+06, 7.e+06, 8.e+06, 9.e+06,\n",
      "       2.e+07, 3.e+07, 4.e+07, 5.e+07, 6.e+07, 7.e+07, 8.e+07, 9.e+07,\n",
      "       2.e+08, 3.e+08, 4.e+08, 5.e+08, 6.e+08, 7.e+08, 8.e+08, 9.e+08,\n",
      "       2.e+09, 3.e+09, 4.e+09, 5.e+09, 6.e+09, 7.e+09, 8.e+09, 9.e+09])\n"
     ]
    },
    {
     "name": "stderr",
     "output_type": "stream",
     "text": [
      " 10168445 vmin 13182220.447612671 vmax 17366117.695582192\n"
     ]
    },
    {
     "name": "stdout",
     "output_type": "stream",
     "text": [
      "vmin 13182220.447612671 vmax 17366117.695582192\n",
      "vmin 13182220.447612671 vmax 17366117.695582192\n",
      "vmin 13182220.447612671 vmax 17366117.695582192\n",
      "vmin 13182220.447612671 vmax 17366117.695582192\n",
      "vmin 13182220.447612671 vmax 17366117.695582192\n",
      "vmin 13182220.447612671 vmax 17366117.695582192\n"
     ]
    },
    {
     "name": "stderr",
     "output_type": "stream",
     "text": [
      " 10168451 ticklocs array([1.e+06, 1.e+07, 1.e+08, 1.e+09])\n"
     ]
    },
    {
     "name": "stdout",
     "output_type": "stream",
     "text": [
      "ticklocs array([1.e+06, 1.e+07, 1.e+08, 1.e+09])\n",
      "ticklocs array([1.e+06, 1.e+07, 1.e+08, 1.e+09])\n",
      "ticklocs array([1.e+06, 1.e+07, 1.e+08, 1.e+09])\n",
      "ticklocs array([1.e+06, 1.e+07, 1.e+08, 1.e+09])\n",
      "ticklocs array([1.e+06, 1.e+07, 1.e+08, 1.e+09])\n",
      "ticklocs array([1.e+06, 1.e+07, 1.e+08, 1.e+09])\n"
     ]
    },
    {
     "name": "stderr",
     "output_type": "stream",
     "text": [
      " 10168458 vmin 13182220.447612671 vmax 17366117.695582192\n"
     ]
    },
    {
     "name": "stdout",
     "output_type": "stream",
     "text": [
      "vmin 13182220.447612671 vmax 17366117.695582192\n",
      "vmin 13182220.447612671 vmax 17366117.695582192\n",
      "vmin 13182220.447612671 vmax 17366117.695582192\n",
      "vmin 13182220.447612671 vmax 17366117.695582192\n",
      "vmin 13182220.447612671 vmax 17366117.695582192\n",
      "vmin 13182220.447612671 vmax 17366117.695582192\n"
     ]
    },
    {
     "name": "stderr",
     "output_type": "stream",
     "text": [
      " 10168464 ticklocs array([1.e+06, 1.e+07, 1.e+08, 1.e+09])\n"
     ]
    },
    {
     "name": "stdout",
     "output_type": "stream",
     "text": [
      "ticklocs array([1.e+06, 1.e+07, 1.e+08, 1.e+09])\n",
      "ticklocs array([1.e+06, 1.e+07, 1.e+08, 1.e+09])\n",
      "ticklocs array([1.e+06, 1.e+07, 1.e+08, 1.e+09])\n",
      "ticklocs array([1.e+06, 1.e+07, 1.e+08, 1.e+09])\n",
      "ticklocs array([1.e+06, 1.e+07, 1.e+08, 1.e+09])\n",
      "ticklocs array([1.e+06, 1.e+07, 1.e+08, 1.e+09])\n"
     ]
    },
    {
     "name": "stderr",
     "output_type": "stream",
     "text": [
      " 10168472 vmin 13182220.447612671 vmax 17366117.695582192\n"
     ]
    },
    {
     "name": "stdout",
     "output_type": "stream",
     "text": [
      "vmin 13182220.447612671 vmax 17366117.695582192\n",
      "vmin 13182220.447612671 vmax 17366117.695582192\n",
      "vmin 13182220.447612671 vmax 17366117.695582192\n",
      "vmin 13182220.447612671 vmax 17366117.695582192\n",
      "vmin 13182220.447612671 vmax 17366117.695582192\n",
      "vmin 13182220.447612671 vmax 17366117.695582192\n"
     ]
    },
    {
     "name": "stderr",
     "output_type": "stream",
     "text": [
      " 10168476 ticklocs array([2.e+06, 3.e+06, 4.e+06, 5.e+06, 6.e+06, 7.e+06, 8.e+06, 9.e+06,\n",
      "       2.e+07, 3.e+07, 4.e+07, 5.e+07, 6.e+07, 7.e+07, 8.e+07, 9.e+07,\n",
      "       2.e+08, 3.e+08, 4.e+08, 5.e+08, 6.e+08, 7.e+08, 8.e+08, 9.e+08,\n",
      "       2.e+09, 3.e+09, 4.e+09, 5.e+09, 6.e+09, 7.e+09, 8.e+09, 9.e+09])\n"
     ]
    },
    {
     "name": "stdout",
     "output_type": "stream",
     "text": [
      "ticklocs array([2.e+06, 3.e+06, 4.e+06, 5.e+06, 6.e+06, 7.e+06, 8.e+06, 9.e+06,\n",
      "       2.e+07, 3.e+07, 4.e+07, 5.e+07, 6.e+07, 7.e+07, 8.e+07, 9.e+07,\n",
      "       2.e+08, 3.e+08, 4.e+08, 5.e+08, 6.e+08, 7.e+08, 8.e+08, 9.e+08,\n",
      "       2.e+09, 3.e+09, 4.e+09, 5.e+09, 6.e+09, 7.e+09, 8.e+09, 9.e+09])\n",
      "ticklocs array([2.e+06, 3.e+06, 4.e+06, 5.e+06, 6.e+06, 7.e+06, 8.e+06, 9.e+06,\n",
      "       2.e+07, 3.e+07, 4.e+07, 5.e+07, 6.e+07, 7.e+07, 8.e+07, 9.e+07,\n",
      "       2.e+08, 3.e+08, 4.e+08, 5.e+08, 6.e+08, 7.e+08, 8.e+08, 9.e+08,\n",
      "       2.e+09, 3.e+09, 4.e+09, 5.e+09, 6.e+09, 7.e+09, 8.e+09, 9.e+09])\n",
      "ticklocs array([2.e+06, 3.e+06, 4.e+06, 5.e+06, 6.e+06, 7.e+06, 8.e+06, 9.e+06,\n",
      "       2.e+07, 3.e+07, 4.e+07, 5.e+07, 6.e+07, 7.e+07, 8.e+07, 9.e+07,\n",
      "       2.e+08, 3.e+08, 4.e+08, 5.e+08, 6.e+08, 7.e+08, 8.e+08, 9.e+08,\n",
      "       2.e+09, 3.e+09, 4.e+09, 5.e+09, 6.e+09, 7.e+09, 8.e+09, 9.e+09])\n",
      "ticklocs array([2.e+06, 3.e+06, 4.e+06, 5.e+06, 6.e+06, 7.e+06, 8.e+06, 9.e+06,\n",
      "       2.e+07, 3.e+07, 4.e+07, 5.e+07, 6.e+07, 7.e+07, 8.e+07, 9.e+07,\n",
      "       2.e+08, 3.e+08, 4.e+08, 5.e+08, 6.e+08, 7.e+08, 8.e+08, 9.e+08,\n",
      "       2.e+09, 3.e+09, 4.e+09, 5.e+09, 6.e+09, 7.e+09, 8.e+09, 9.e+09])\n",
      "ticklocs array([2.e+06, 3.e+06, 4.e+06, 5.e+06, 6.e+06, 7.e+06, 8.e+06, 9.e+06,\n",
      "       2.e+07, 3.e+07, 4.e+07, 5.e+07, 6.e+07, 7.e+07, 8.e+07, 9.e+07,\n",
      "       2.e+08, 3.e+08, 4.e+08, 5.e+08, 6.e+08, 7.e+08, 8.e+08, 9.e+08,\n",
      "       2.e+09, 3.e+09, 4.e+09, 5.e+09, 6.e+09, 7.e+09, 8.e+09, 9.e+09])\n",
      "ticklocs array([2.e+06, 3.e+06, 4.e+06, 5.e+06, 6.e+06, 7.e+06, 8.e+06, 9.e+06,\n",
      "       2.e+07, 3.e+07, 4.e+07, 5.e+07, 6.e+07, 7.e+07, 8.e+07, 9.e+07,\n",
      "       2.e+08, 3.e+08, 4.e+08, 5.e+08, 6.e+08, 7.e+08, 8.e+08, 9.e+08,\n",
      "       2.e+09, 3.e+09, 4.e+09, 5.e+09, 6.e+09, 7.e+09, 8.e+09, 9.e+09])\n"
     ]
    },
    {
     "name": "stderr",
     "output_type": "stream",
     "text": [
      " 10168497 vmin 13182220.447612671 vmax 17366117.695582192\n"
     ]
    },
    {
     "name": "stdout",
     "output_type": "stream",
     "text": [
      "vmin 13182220.447612671 vmax 17366117.695582192\n",
      "vmin 13182220.447612671 vmax 17366117.695582192\n",
      "vmin 13182220.447612671 vmax 17366117.695582192\n",
      "vmin 13182220.447612671 vmax 17366117.695582192\n",
      "vmin 13182220.447612671 vmax 17366117.695582192\n",
      "vmin 13182220.447612671 vmax 17366117.695582192\n"
     ]
    },
    {
     "name": "stderr",
     "output_type": "stream",
     "text": [
      " 10168503 ticklocs array([1.e+06, 1.e+07, 1.e+08, 1.e+09])\n"
     ]
    },
    {
     "name": "stdout",
     "output_type": "stream",
     "text": [
      "ticklocs array([1.e+06, 1.e+07, 1.e+08, 1.e+09])\n",
      "ticklocs array([1.e+06, 1.e+07, 1.e+08, 1.e+09])\n",
      "ticklocs array([1.e+06, 1.e+07, 1.e+08, 1.e+09])\n",
      "ticklocs array([1.e+06, 1.e+07, 1.e+08, 1.e+09])\n",
      "ticklocs array([1.e+06, 1.e+07, 1.e+08, 1.e+09])\n",
      "ticklocs array([1.e+06, 1.e+07, 1.e+08, 1.e+09])\n"
     ]
    },
    {
     "name": "stderr",
     "output_type": "stream",
     "text": [
      " 10168511 vmin 13182220.447612671 vmax 17366117.695582192\n"
     ]
    },
    {
     "name": "stdout",
     "output_type": "stream",
     "text": [
      "vmin 13182220.447612671 vmax 17366117.695582192\n",
      "vmin 13182220.447612671 vmax 17366117.695582192\n",
      "vmin 13182220.447612671 vmax 17366117.695582192\n",
      "vmin 13182220.447612671 vmax 17366117.695582192\n",
      "vmin 13182220.447612671 vmax 17366117.695582192\n",
      "vmin 13182220.447612671 vmax 17366117.695582192\n"
     ]
    },
    {
     "name": "stderr",
     "output_type": "stream",
     "text": [
      " 10168516 ticklocs array([1.e+06, 1.e+07, 1.e+08, 1.e+09])\n"
     ]
    },
    {
     "name": "stdout",
     "output_type": "stream",
     "text": [
      "ticklocs array([1.e+06, 1.e+07, 1.e+08, 1.e+09])\n",
      "ticklocs array([1.e+06, 1.e+07, 1.e+08, 1.e+09])\n",
      "ticklocs array([1.e+06, 1.e+07, 1.e+08, 1.e+09])\n",
      "ticklocs array([1.e+06, 1.e+07, 1.e+08, 1.e+09])\n",
      "ticklocs array([1.e+06, 1.e+07, 1.e+08, 1.e+09])\n",
      "ticklocs array([1.e+06, 1.e+07, 1.e+08, 1.e+09])\n"
     ]
    },
    {
     "name": "stderr",
     "output_type": "stream",
     "text": [
      " 10168524 vmin 13182220.447612671 vmax 17366117.695582192\n"
     ]
    },
    {
     "name": "stdout",
     "output_type": "stream",
     "text": [
      "vmin 13182220.447612671 vmax 17366117.695582192\n",
      "vmin 13182220.447612671 vmax 17366117.695582192\n",
      "vmin 13182220.447612671 vmax 17366117.695582192\n",
      "vmin 13182220.447612671 vmax 17366117.695582192\n",
      "vmin 13182220.447612671 vmax 17366117.695582192\n",
      "vmin 13182220.447612671 vmax 17366117.695582192\n"
     ]
    },
    {
     "name": "stderr",
     "output_type": "stream",
     "text": [
      " 10168529 ticklocs array([2.e+06, 3.e+06, 4.e+06, 5.e+06, 6.e+06, 7.e+06, 8.e+06, 9.e+06,\n",
      "       2.e+07, 3.e+07, 4.e+07, 5.e+07, 6.e+07, 7.e+07, 8.e+07, 9.e+07,\n",
      "       2.e+08, 3.e+08, 4.e+08, 5.e+08, 6.e+08, 7.e+08, 8.e+08, 9.e+08,\n",
      "       2.e+09, 3.e+09, 4.e+09, 5.e+09, 6.e+09, 7.e+09, 8.e+09, 9.e+09])\n"
     ]
    },
    {
     "name": "stdout",
     "output_type": "stream",
     "text": [
      "ticklocs array([2.e+06, 3.e+06, 4.e+06, 5.e+06, 6.e+06, 7.e+06, 8.e+06, 9.e+06,\n",
      "       2.e+07, 3.e+07, 4.e+07, 5.e+07, 6.e+07, 7.e+07, 8.e+07, 9.e+07,\n",
      "       2.e+08, 3.e+08, 4.e+08, 5.e+08, 6.e+08, 7.e+08, 8.e+08, 9.e+08,\n",
      "       2.e+09, 3.e+09, 4.e+09, 5.e+09, 6.e+09, 7.e+09, 8.e+09, 9.e+09])\n",
      "ticklocs array([2.e+06, 3.e+06, 4.e+06, 5.e+06, 6.e+06, 7.e+06, 8.e+06, 9.e+06,\n",
      "       2.e+07, 3.e+07, 4.e+07, 5.e+07, 6.e+07, 7.e+07, 8.e+07, 9.e+07,\n",
      "       2.e+08, 3.e+08, 4.e+08, 5.e+08, 6.e+08, 7.e+08, 8.e+08, 9.e+08,\n",
      "       2.e+09, 3.e+09, 4.e+09, 5.e+09, 6.e+09, 7.e+09, 8.e+09, 9.e+09])\n",
      "ticklocs array([2.e+06, 3.e+06, 4.e+06, 5.e+06, 6.e+06, 7.e+06, 8.e+06, 9.e+06,\n",
      "       2.e+07, 3.e+07, 4.e+07, 5.e+07, 6.e+07, 7.e+07, 8.e+07, 9.e+07,\n",
      "       2.e+08, 3.e+08, 4.e+08, 5.e+08, 6.e+08, 7.e+08, 8.e+08, 9.e+08,\n",
      "       2.e+09, 3.e+09, 4.e+09, 5.e+09, 6.e+09, 7.e+09, 8.e+09, 9.e+09])\n",
      "ticklocs array([2.e+06, 3.e+06, 4.e+06, 5.e+06, 6.e+06, 7.e+06, 8.e+06, 9.e+06,\n",
      "       2.e+07, 3.e+07, 4.e+07, 5.e+07, 6.e+07, 7.e+07, 8.e+07, 9.e+07,\n",
      "       2.e+08, 3.e+08, 4.e+08, 5.e+08, 6.e+08, 7.e+08, 8.e+08, 9.e+08,\n",
      "       2.e+09, 3.e+09, 4.e+09, 5.e+09, 6.e+09, 7.e+09, 8.e+09, 9.e+09])\n",
      "ticklocs array([2.e+06, 3.e+06, 4.e+06, 5.e+06, 6.e+06, 7.e+06, 8.e+06, 9.e+06,\n",
      "       2.e+07, 3.e+07, 4.e+07, 5.e+07, 6.e+07, 7.e+07, 8.e+07, 9.e+07,\n",
      "       2.e+08, 3.e+08, 4.e+08, 5.e+08, 6.e+08, 7.e+08, 8.e+08, 9.e+08,\n",
      "       2.e+09, 3.e+09, 4.e+09, 5.e+09, 6.e+09, 7.e+09, 8.e+09, 9.e+09])\n",
      "ticklocs array([2.e+06, 3.e+06, 4.e+06, 5.e+06, 6.e+06, 7.e+06, 8.e+06, 9.e+06,\n",
      "       2.e+07, 3.e+07, 4.e+07, 5.e+07, 6.e+07, 7.e+07, 8.e+07, 9.e+07,\n",
      "       2.e+08, 3.e+08, 4.e+08, 5.e+08, 6.e+08, 7.e+08, 8.e+08, 9.e+08,\n",
      "       2.e+09, 3.e+09, 4.e+09, 5.e+09, 6.e+09, 7.e+09, 8.e+09, 9.e+09])\n"
     ]
    },
    {
     "name": "stderr",
     "output_type": "stream",
     "text": [
      " 10168542 vmin 13182220.447612671 vmax 17366117.695582192\n"
     ]
    },
    {
     "name": "stdout",
     "output_type": "stream",
     "text": [
      "vmin 13182220.447612671 vmax 17366117.695582192\n",
      "vmin 13182220.447612671 vmax 17366117.695582192\n",
      "vmin 13182220.447612671 vmax 17366117.695582192\n",
      "vmin 13182220.447612671 vmax 17366117.695582192\n",
      "vmin 13182220.447612671 vmax 17366117.695582192\n",
      "vmin 13182220.447612671 vmax 17366117.695582192\n"
     ]
    },
    {
     "name": "stderr",
     "output_type": "stream",
     "text": [
      " 10168547 ticklocs array([1.e+06, 1.e+07, 1.e+08, 1.e+09])\n"
     ]
    },
    {
     "name": "stdout",
     "output_type": "stream",
     "text": [
      "ticklocs array([1.e+06, 1.e+07, 1.e+08, 1.e+09])\n",
      "ticklocs array([1.e+06, 1.e+07, 1.e+08, 1.e+09])\n",
      "ticklocs array([1.e+06, 1.e+07, 1.e+08, 1.e+09])\n",
      "ticklocs array([1.e+06, 1.e+07, 1.e+08, 1.e+09])\n",
      "ticklocs array([1.e+06, 1.e+07, 1.e+08, 1.e+09])\n",
      "ticklocs array([1.e+06, 1.e+07, 1.e+08, 1.e+09])\n"
     ]
    },
    {
     "name": "stderr",
     "output_type": "stream",
     "text": [
      " 10168556 vmin 13182220.447612671 vmax 17366117.695582192\n"
     ]
    },
    {
     "name": "stdout",
     "output_type": "stream",
     "text": [
      "vmin 13182220.447612671 vmax 17366117.695582192\n",
      "vmin 13182220.447612671 vmax 17366117.695582192\n",
      "vmin 13182220.447612671 vmax 17366117.695582192\n",
      "vmin 13182220.447612671 vmax 17366117.695582192\n",
      "vmin 13182220.447612671 vmax 17366117.695582192\n",
      "vmin 13182220.447612671 vmax 17366117.695582192\n"
     ]
    },
    {
     "name": "stderr",
     "output_type": "stream",
     "text": [
      " 10168561 ticklocs array([1.e+06, 1.e+07, 1.e+08, 1.e+09])\n"
     ]
    },
    {
     "name": "stdout",
     "output_type": "stream",
     "text": [
      "ticklocs array([1.e+06, 1.e+07, 1.e+08, 1.e+09])\n",
      "ticklocs array([1.e+06, 1.e+07, 1.e+08, 1.e+09])\n",
      "ticklocs array([1.e+06, 1.e+07, 1.e+08, 1.e+09])\n",
      "ticklocs array([1.e+06, 1.e+07, 1.e+08, 1.e+09])\n",
      "ticklocs array([1.e+06, 1.e+07, 1.e+08, 1.e+09])\n",
      "ticklocs array([1.e+06, 1.e+07, 1.e+08, 1.e+09])\n"
     ]
    },
    {
     "name": "stderr",
     "output_type": "stream",
     "text": [
      " 10168569 vmin 13182220.447612671 vmax 17366117.695582192\n"
     ]
    },
    {
     "name": "stdout",
     "output_type": "stream",
     "text": [
      "vmin 13182220.447612671 vmax 17366117.695582192\n",
      "vmin 13182220.447612671 vmax 17366117.695582192\n",
      "vmin 13182220.447612671 vmax 17366117.695582192\n",
      "vmin 13182220.447612671 vmax 17366117.695582192\n",
      "vmin 13182220.447612671 vmax 17366117.695582192\n",
      "vmin 13182220.447612671 vmax 17366117.695582192\n"
     ]
    },
    {
     "name": "stderr",
     "output_type": "stream",
     "text": [
      " 10168574 ticklocs array([2.e+06, 3.e+06, 4.e+06, 5.e+06, 6.e+06, 7.e+06, 8.e+06, 9.e+06,\n",
      "       2.e+07, 3.e+07, 4.e+07, 5.e+07, 6.e+07, 7.e+07, 8.e+07, 9.e+07,\n",
      "       2.e+08, 3.e+08, 4.e+08, 5.e+08, 6.e+08, 7.e+08, 8.e+08, 9.e+08,\n",
      "       2.e+09, 3.e+09, 4.e+09, 5.e+09, 6.e+09, 7.e+09, 8.e+09, 9.e+09])\n"
     ]
    },
    {
     "name": "stdout",
     "output_type": "stream",
     "text": [
      "ticklocs array([2.e+06, 3.e+06, 4.e+06, 5.e+06, 6.e+06, 7.e+06, 8.e+06, 9.e+06,\n",
      "       2.e+07, 3.e+07, 4.e+07, 5.e+07, 6.e+07, 7.e+07, 8.e+07, 9.e+07,\n",
      "       2.e+08, 3.e+08, 4.e+08, 5.e+08, 6.e+08, 7.e+08, 8.e+08, 9.e+08,\n",
      "       2.e+09, 3.e+09, 4.e+09, 5.e+09, 6.e+09, 7.e+09, 8.e+09, 9.e+09])\n",
      "ticklocs array([2.e+06, 3.e+06, 4.e+06, 5.e+06, 6.e+06, 7.e+06, 8.e+06, 9.e+06,\n",
      "       2.e+07, 3.e+07, 4.e+07, 5.e+07, 6.e+07, 7.e+07, 8.e+07, 9.e+07,\n",
      "       2.e+08, 3.e+08, 4.e+08, 5.e+08, 6.e+08, 7.e+08, 8.e+08, 9.e+08,\n",
      "       2.e+09, 3.e+09, 4.e+09, 5.e+09, 6.e+09, 7.e+09, 8.e+09, 9.e+09])\n",
      "ticklocs array([2.e+06, 3.e+06, 4.e+06, 5.e+06, 6.e+06, 7.e+06, 8.e+06, 9.e+06,\n",
      "       2.e+07, 3.e+07, 4.e+07, 5.e+07, 6.e+07, 7.e+07, 8.e+07, 9.e+07,\n",
      "       2.e+08, 3.e+08, 4.e+08, 5.e+08, 6.e+08, 7.e+08, 8.e+08, 9.e+08,\n",
      "       2.e+09, 3.e+09, 4.e+09, 5.e+09, 6.e+09, 7.e+09, 8.e+09, 9.e+09])\n",
      "ticklocs array([2.e+06, 3.e+06, 4.e+06, 5.e+06, 6.e+06, 7.e+06, 8.e+06, 9.e+06,\n",
      "       2.e+07, 3.e+07, 4.e+07, 5.e+07, 6.e+07, 7.e+07, 8.e+07, 9.e+07,\n",
      "       2.e+08, 3.e+08, 4.e+08, 5.e+08, 6.e+08, 7.e+08, 8.e+08, 9.e+08,\n",
      "       2.e+09, 3.e+09, 4.e+09, 5.e+09, 6.e+09, 7.e+09, 8.e+09, 9.e+09])\n",
      "ticklocs array([2.e+06, 3.e+06, 4.e+06, 5.e+06, 6.e+06, 7.e+06, 8.e+06, 9.e+06,\n",
      "       2.e+07, 3.e+07, 4.e+07, 5.e+07, 6.e+07, 7.e+07, 8.e+07, 9.e+07,\n",
      "       2.e+08, 3.e+08, 4.e+08, 5.e+08, 6.e+08, 7.e+08, 8.e+08, 9.e+08,\n",
      "       2.e+09, 3.e+09, 4.e+09, 5.e+09, 6.e+09, 7.e+09, 8.e+09, 9.e+09])\n",
      "ticklocs array([2.e+06, 3.e+06, 4.e+06, 5.e+06, 6.e+06, 7.e+06, 8.e+06, 9.e+06,\n",
      "       2.e+07, 3.e+07, 4.e+07, 5.e+07, 6.e+07, 7.e+07, 8.e+07, 9.e+07,\n",
      "       2.e+08, 3.e+08, 4.e+08, 5.e+08, 6.e+08, 7.e+08, 8.e+08, 9.e+08,\n",
      "       2.e+09, 3.e+09, 4.e+09, 5.e+09, 6.e+09, 7.e+09, 8.e+09, 9.e+09])\n"
     ]
    },
    {
     "name": "stderr",
     "output_type": "stream",
     "text": [
      " 10168620 vmin 13182220.447612671 vmax 17366117.695582192\n"
     ]
    },
    {
     "name": "stdout",
     "output_type": "stream",
     "text": [
      "vmin 13182220.447612671 vmax 17366117.695582192\n",
      "vmin 13182220.447612671 vmax 17366117.695582192\n",
      "vmin 13182220.447612671 vmax 17366117.695582192\n",
      "vmin 13182220.447612671 vmax 17366117.695582192\n",
      "vmin 13182220.447612671 vmax 17366117.695582192\n",
      "vmin 13182220.447612671 vmax 17366117.695582192\n"
     ]
    },
    {
     "name": "stderr",
     "output_type": "stream",
     "text": [
      " 10168625 ticklocs array([1.e+06, 1.e+07, 1.e+08, 1.e+09])\n"
     ]
    },
    {
     "name": "stdout",
     "output_type": "stream",
     "text": [
      "ticklocs array([1.e+06, 1.e+07, 1.e+08, 1.e+09])\n",
      "ticklocs array([1.e+06, 1.e+07, 1.e+08, 1.e+09])\n",
      "ticklocs array([1.e+06, 1.e+07, 1.e+08, 1.e+09])\n",
      "ticklocs array([1.e+06, 1.e+07, 1.e+08, 1.e+09])\n",
      "ticklocs array([1.e+06, 1.e+07, 1.e+08, 1.e+09])\n",
      "ticklocs array([1.e+06, 1.e+07, 1.e+08, 1.e+09])\n"
     ]
    },
    {
     "name": "stderr",
     "output_type": "stream",
     "text": [
      " 10168632 vmin 13182220.447612671 vmax 17366117.695582192\n"
     ]
    },
    {
     "name": "stdout",
     "output_type": "stream",
     "text": [
      "vmin 13182220.447612671 vmax 17366117.695582192\n",
      "vmin 13182220.447612671 vmax 17366117.695582192\n",
      "vmin 13182220.447612671 vmax 17366117.695582192\n",
      "vmin 13182220.447612671 vmax 17366117.695582192\n",
      "vmin 13182220.447612671 vmax 17366117.695582192\n",
      "vmin 13182220.447612671 vmax 17366117.695582192\n"
     ]
    },
    {
     "name": "stderr",
     "output_type": "stream",
     "text": [
      " 10168637 ticklocs array([1.e+06, 1.e+07, 1.e+08, 1.e+09])\n"
     ]
    },
    {
     "name": "stdout",
     "output_type": "stream",
     "text": [
      "ticklocs array([1.e+06, 1.e+07, 1.e+08, 1.e+09])\n",
      "ticklocs array([1.e+06, 1.e+07, 1.e+08, 1.e+09])\n",
      "ticklocs array([1.e+06, 1.e+07, 1.e+08, 1.e+09])\n",
      "ticklocs array([1.e+06, 1.e+07, 1.e+08, 1.e+09])\n",
      "ticklocs array([1.e+06, 1.e+07, 1.e+08, 1.e+09])\n",
      "ticklocs array([1.e+06, 1.e+07, 1.e+08, 1.e+09])\n"
     ]
    },
    {
     "name": "stderr",
     "output_type": "stream",
     "text": [
      " 10168643 vmin 13182220.447612671 vmax 17366117.695582192\n"
     ]
    },
    {
     "name": "stdout",
     "output_type": "stream",
     "text": [
      "vmin 13182220.447612671 vmax 17366117.695582192\n",
      "vmin 13182220.447612671 vmax 17366117.695582192\n",
      "vmin 13182220.447612671 vmax 17366117.695582192\n",
      "vmin 13182220.447612671 vmax 17366117.695582192\n",
      "vmin 13182220.447612671 vmax 17366117.695582192\n",
      "vmin 13182220.447612671 vmax 17366117.695582192\n"
     ]
    },
    {
     "name": "stderr",
     "output_type": "stream",
     "text": [
      " 10168647 ticklocs array([2.e+06, 3.e+06, 4.e+06, 5.e+06, 6.e+06, 7.e+06, 8.e+06, 9.e+06,\n",
      "       2.e+07, 3.e+07, 4.e+07, 5.e+07, 6.e+07, 7.e+07, 8.e+07, 9.e+07,\n",
      "       2.e+08, 3.e+08, 4.e+08, 5.e+08, 6.e+08, 7.e+08, 8.e+08, 9.e+08,\n",
      "       2.e+09, 3.e+09, 4.e+09, 5.e+09, 6.e+09, 7.e+09, 8.e+09, 9.e+09])\n"
     ]
    },
    {
     "name": "stdout",
     "output_type": "stream",
     "text": [
      "ticklocs array([2.e+06, 3.e+06, 4.e+06, 5.e+06, 6.e+06, 7.e+06, 8.e+06, 9.e+06,\n",
      "       2.e+07, 3.e+07, 4.e+07, 5.e+07, 6.e+07, 7.e+07, 8.e+07, 9.e+07,\n",
      "       2.e+08, 3.e+08, 4.e+08, 5.e+08, 6.e+08, 7.e+08, 8.e+08, 9.e+08,\n",
      "       2.e+09, 3.e+09, 4.e+09, 5.e+09, 6.e+09, 7.e+09, 8.e+09, 9.e+09])\n",
      "ticklocs array([2.e+06, 3.e+06, 4.e+06, 5.e+06, 6.e+06, 7.e+06, 8.e+06, 9.e+06,\n",
      "       2.e+07, 3.e+07, 4.e+07, 5.e+07, 6.e+07, 7.e+07, 8.e+07, 9.e+07,\n",
      "       2.e+08, 3.e+08, 4.e+08, 5.e+08, 6.e+08, 7.e+08, 8.e+08, 9.e+08,\n",
      "       2.e+09, 3.e+09, 4.e+09, 5.e+09, 6.e+09, 7.e+09, 8.e+09, 9.e+09])\n",
      "ticklocs array([2.e+06, 3.e+06, 4.e+06, 5.e+06, 6.e+06, 7.e+06, 8.e+06, 9.e+06,\n",
      "       2.e+07, 3.e+07, 4.e+07, 5.e+07, 6.e+07, 7.e+07, 8.e+07, 9.e+07,\n",
      "       2.e+08, 3.e+08, 4.e+08, 5.e+08, 6.e+08, 7.e+08, 8.e+08, 9.e+08,\n",
      "       2.e+09, 3.e+09, 4.e+09, 5.e+09, 6.e+09, 7.e+09, 8.e+09, 9.e+09])\n",
      "ticklocs array([2.e+06, 3.e+06, 4.e+06, 5.e+06, 6.e+06, 7.e+06, 8.e+06, 9.e+06,\n",
      "       2.e+07, 3.e+07, 4.e+07, 5.e+07, 6.e+07, 7.e+07, 8.e+07, 9.e+07,\n",
      "       2.e+08, 3.e+08, 4.e+08, 5.e+08, 6.e+08, 7.e+08, 8.e+08, 9.e+08,\n",
      "       2.e+09, 3.e+09, 4.e+09, 5.e+09, 6.e+09, 7.e+09, 8.e+09, 9.e+09])\n",
      "ticklocs array([2.e+06, 3.e+06, 4.e+06, 5.e+06, 6.e+06, 7.e+06, 8.e+06, 9.e+06,\n",
      "       2.e+07, 3.e+07, 4.e+07, 5.e+07, 6.e+07, 7.e+07, 8.e+07, 9.e+07,\n",
      "       2.e+08, 3.e+08, 4.e+08, 5.e+08, 6.e+08, 7.e+08, 8.e+08, 9.e+08,\n",
      "       2.e+09, 3.e+09, 4.e+09, 5.e+09, 6.e+09, 7.e+09, 8.e+09, 9.e+09])\n",
      "ticklocs array([2.e+06, 3.e+06, 4.e+06, 5.e+06, 6.e+06, 7.e+06, 8.e+06, 9.e+06,\n",
      "       2.e+07, 3.e+07, 4.e+07, 5.e+07, 6.e+07, 7.e+07, 8.e+07, 9.e+07,\n",
      "       2.e+08, 3.e+08, 4.e+08, 5.e+08, 6.e+08, 7.e+08, 8.e+08, 9.e+08,\n",
      "       2.e+09, 3.e+09, 4.e+09, 5.e+09, 6.e+09, 7.e+09, 8.e+09, 9.e+09])\n"
     ]
    },
    {
     "name": "stderr",
     "output_type": "stream",
     "text": [
      " 10168783 vmin 13182220.447612671 vmax 17366117.695582192\n"
     ]
    },
    {
     "name": "stdout",
     "output_type": "stream",
     "text": [
      "vmin 13182220.447612671 vmax 17366117.695582192\n",
      "vmin 13182220.447612671 vmax 17366117.695582192\n",
      "vmin 13182220.447612671 vmax 17366117.695582192\n",
      "vmin 13182220.447612671 vmax 17366117.695582192\n",
      "vmin 13182220.447612671 vmax 17366117.695582192\n",
      "vmin 13182220.447612671 vmax 17366117.695582192\n"
     ]
    },
    {
     "name": "stderr",
     "output_type": "stream",
     "text": [
      " 10168787 ticklocs array([1.e+06, 1.e+07, 1.e+08, 1.e+09])\n"
     ]
    },
    {
     "name": "stdout",
     "output_type": "stream",
     "text": [
      "ticklocs array([1.e+06, 1.e+07, 1.e+08, 1.e+09])\n",
      "ticklocs array([1.e+06, 1.e+07, 1.e+08, 1.e+09])\n",
      "ticklocs array([1.e+06, 1.e+07, 1.e+08, 1.e+09])\n",
      "ticklocs array([1.e+06, 1.e+07, 1.e+08, 1.e+09])\n",
      "ticklocs array([1.e+06, 1.e+07, 1.e+08, 1.e+09])\n",
      "ticklocs array([1.e+06, 1.e+07, 1.e+08, 1.e+09])\n"
     ]
    },
    {
     "name": "stderr",
     "output_type": "stream",
     "text": [
      " 10168792 vmin 13182220.447612671 vmax 17366117.695582192\n"
     ]
    },
    {
     "name": "stdout",
     "output_type": "stream",
     "text": [
      "vmin 13182220.447612671 vmax 17366117.695582192\n",
      "vmin 13182220.447612671 vmax 17366117.695582192\n",
      "vmin 13182220.447612671 vmax 17366117.695582192\n",
      "vmin 13182220.447612671 vmax 17366117.695582192\n",
      "vmin 13182220.447612671 vmax 17366117.695582192\n",
      "vmin 13182220.447612671 vmax 17366117.695582192\n"
     ]
    },
    {
     "name": "stderr",
     "output_type": "stream",
     "text": [
      " 10168796 ticklocs array([1.e+06, 1.e+07, 1.e+08, 1.e+09])\n"
     ]
    },
    {
     "name": "stdout",
     "output_type": "stream",
     "text": [
      "ticklocs array([1.e+06, 1.e+07, 1.e+08, 1.e+09])\n",
      "ticklocs array([1.e+06, 1.e+07, 1.e+08, 1.e+09])\n",
      "ticklocs array([1.e+06, 1.e+07, 1.e+08, 1.e+09])\n",
      "ticklocs array([1.e+06, 1.e+07, 1.e+08, 1.e+09])\n",
      "ticklocs array([1.e+06, 1.e+07, 1.e+08, 1.e+09])\n",
      "ticklocs array([1.e+06, 1.e+07, 1.e+08, 1.e+09])\n"
     ]
    },
    {
     "name": "stderr",
     "output_type": "stream",
     "text": [
      " 10168801 vmin 13182220.447612671 vmax 17366117.695582192\n"
     ]
    },
    {
     "name": "stdout",
     "output_type": "stream",
     "text": [
      "vmin 13182220.447612671 vmax 17366117.695582192\n",
      "vmin 13182220.447612671 vmax 17366117.695582192\n",
      "vmin 13182220.447612671 vmax 17366117.695582192\n",
      "vmin 13182220.447612671 vmax 17366117.695582192\n",
      "vmin 13182220.447612671 vmax 17366117.695582192\n",
      "vmin 13182220.447612671 vmax 17366117.695582192\n"
     ]
    },
    {
     "name": "stderr",
     "output_type": "stream",
     "text": [
      " 10168805 ticklocs array([2.e+06, 3.e+06, 4.e+06, 5.e+06, 6.e+06, 7.e+06, 8.e+06, 9.e+06,\n",
      "       2.e+07, 3.e+07, 4.e+07, 5.e+07, 6.e+07, 7.e+07, 8.e+07, 9.e+07,\n",
      "       2.e+08, 3.e+08, 4.e+08, 5.e+08, 6.e+08, 7.e+08, 8.e+08, 9.e+08,\n",
      "       2.e+09, 3.e+09, 4.e+09, 5.e+09, 6.e+09, 7.e+09, 8.e+09, 9.e+09])\n"
     ]
    },
    {
     "name": "stdout",
     "output_type": "stream",
     "text": [
      "ticklocs array([2.e+06, 3.e+06, 4.e+06, 5.e+06, 6.e+06, 7.e+06, 8.e+06, 9.e+06,\n",
      "       2.e+07, 3.e+07, 4.e+07, 5.e+07, 6.e+07, 7.e+07, 8.e+07, 9.e+07,\n",
      "       2.e+08, 3.e+08, 4.e+08, 5.e+08, 6.e+08, 7.e+08, 8.e+08, 9.e+08,\n",
      "       2.e+09, 3.e+09, 4.e+09, 5.e+09, 6.e+09, 7.e+09, 8.e+09, 9.e+09])\n",
      "ticklocs array([2.e+06, 3.e+06, 4.e+06, 5.e+06, 6.e+06, 7.e+06, 8.e+06, 9.e+06,\n",
      "       2.e+07, 3.e+07, 4.e+07, 5.e+07, 6.e+07, 7.e+07, 8.e+07, 9.e+07,\n",
      "       2.e+08, 3.e+08, 4.e+08, 5.e+08, 6.e+08, 7.e+08, 8.e+08, 9.e+08,\n",
      "       2.e+09, 3.e+09, 4.e+09, 5.e+09, 6.e+09, 7.e+09, 8.e+09, 9.e+09])\n",
      "ticklocs array([2.e+06, 3.e+06, 4.e+06, 5.e+06, 6.e+06, 7.e+06, 8.e+06, 9.e+06,\n",
      "       2.e+07, 3.e+07, 4.e+07, 5.e+07, 6.e+07, 7.e+07, 8.e+07, 9.e+07,\n",
      "       2.e+08, 3.e+08, 4.e+08, 5.e+08, 6.e+08, 7.e+08, 8.e+08, 9.e+08,\n",
      "       2.e+09, 3.e+09, 4.e+09, 5.e+09, 6.e+09, 7.e+09, 8.e+09, 9.e+09])\n",
      "ticklocs array([2.e+06, 3.e+06, 4.e+06, 5.e+06, 6.e+06, 7.e+06, 8.e+06, 9.e+06,\n",
      "       2.e+07, 3.e+07, 4.e+07, 5.e+07, 6.e+07, 7.e+07, 8.e+07, 9.e+07,\n",
      "       2.e+08, 3.e+08, 4.e+08, 5.e+08, 6.e+08, 7.e+08, 8.e+08, 9.e+08,\n",
      "       2.e+09, 3.e+09, 4.e+09, 5.e+09, 6.e+09, 7.e+09, 8.e+09, 9.e+09])\n",
      "ticklocs array([2.e+06, 3.e+06, 4.e+06, 5.e+06, 6.e+06, 7.e+06, 8.e+06, 9.e+06,\n",
      "       2.e+07, 3.e+07, 4.e+07, 5.e+07, 6.e+07, 7.e+07, 8.e+07, 9.e+07,\n",
      "       2.e+08, 3.e+08, 4.e+08, 5.e+08, 6.e+08, 7.e+08, 8.e+08, 9.e+08,\n",
      "       2.e+09, 3.e+09, 4.e+09, 5.e+09, 6.e+09, 7.e+09, 8.e+09, 9.e+09])\n",
      "ticklocs array([2.e+06, 3.e+06, 4.e+06, 5.e+06, 6.e+06, 7.e+06, 8.e+06, 9.e+06,\n",
      "       2.e+07, 3.e+07, 4.e+07, 5.e+07, 6.e+07, 7.e+07, 8.e+07, 9.e+07,\n",
      "       2.e+08, 3.e+08, 4.e+08, 5.e+08, 6.e+08, 7.e+08, 8.e+08, 9.e+08,\n",
      "       2.e+09, 3.e+09, 4.e+09, 5.e+09, 6.e+09, 7.e+09, 8.e+09, 9.e+09])\n"
     ]
    },
    {
     "data": {
      "image/png": "[encoded data removed]",
      "text/plain": [
       "<Figure size 1000x300 with 1 Axes>"
      ]
     },
     "metadata": {},
     "output_type": "display_data"
    }
   ],
   "source": [
    "pyplot.figure(figsize=(10,3), dpi=100).set_facecolor('white')\n",
    "_ = pyplot.plot(losses)\n",
    "pyplot.xlabel('iters')\n",
    "pyplot.ylabel('loss')\n",
    "pyplot.yscale('log')\n",
    "pyplot.title('Convergence of SVI');"
   ]
  },
  {
   "cell_type": "code",
   "execution_count": 120,
   "metadata": {},
   "outputs": [],
   "source": [
    "map_estimates = global_guide(cnv, expr)\n",
    "\n",
    "clone_assign_prob = map_estimates['expose_clone_assign_prob']\n",
    "# gene_type_score = map_estimates['expose_gene_type_score']\n",
    "\n",
    "per_copy_expr = map_estimates['expose_per_copy_expr']\n",
    "psi = map_estimates['expose_psi']\n",
    "chi = map_estimates['expose_chi']\n",
    "w = map_estimates['expose_w']\n",
    "\n",
    "gene_fold_change = map_estimates['expose_gene_fold_change']\n",
    "\n",
    "clone_assign_prob_dataframe = pd.DataFrame(clone_assign_prob.data.numpy())\n",
    "# gene_type_score_dataframe = pd.DataFrame(gene_type_score.data.numpy())\n",
    "\n",
    "gene_fold_change_dataframe = pd.DataFrame(gene_fold_change.data.numpy())"
   ]
  },
  {
   "cell_type": "code",
   "execution_count": 121,
   "metadata": {},
   "outputs": [
    {
     "data": {
      "text/html": [
       "<div>\n",
       "<style scoped>\n",
       "    .dataframe tbody tr th:only-of-type {\n",
       "        vertical-align: middle;\n",
       "    }\n",
       "\n",
       "    .dataframe tbody tr th {\n",
       "        vertical-align: top;\n",
       "    }\n",
       "\n",
       "    .dataframe thead th {\n",
       "        text-align: right;\n",
       "    }\n",
       "</style>\n",
       "<table border=\"1\" class=\"dataframe\">\n",
       "  <thead>\n",
       "    <tr style=\"text-align: right;\">\n",
       "      <th></th>\n",
       "      <th>0</th>\n",
       "    </tr>\n",
       "  </thead>\n",
       "  <tbody>\n",
       "    <tr>\n",
       "      <th>0</th>\n",
       "      <td>1.101121</td>\n",
       "    </tr>\n",
       "    <tr>\n",
       "      <th>1</th>\n",
       "      <td>1.977654</td>\n",
       "    </tr>\n",
       "    <tr>\n",
       "      <th>2</th>\n",
       "      <td>0.692466</td>\n",
       "    </tr>\n",
       "    <tr>\n",
       "      <th>3</th>\n",
       "      <td>1.949358</td>\n",
       "    </tr>\n",
       "    <tr>\n",
       "      <th>4</th>\n",
       "      <td>0.015586</td>\n",
       "    </tr>\n",
       "    <tr>\n",
       "      <th>...</th>\n",
       "      <td>...</td>\n",
       "    </tr>\n",
       "    <tr>\n",
       "      <th>4054</th>\n",
       "      <td>0.599476</td>\n",
       "    </tr>\n",
       "    <tr>\n",
       "      <th>4055</th>\n",
       "      <td>1.111664</td>\n",
       "    </tr>\n",
       "    <tr>\n",
       "      <th>4056</th>\n",
       "      <td>0.398420</td>\n",
       "    </tr>\n",
       "    <tr>\n",
       "      <th>4057</th>\n",
       "      <td>1.129989</td>\n",
       "    </tr>\n",
       "    <tr>\n",
       "      <th>4058</th>\n",
       "      <td>1.058780</td>\n",
       "    </tr>\n",
       "  </tbody>\n",
       "</table>\n",
       "<p>4059 rows × 1 columns</p>\n",
       "</div>"
      ],
      "text/plain": [
       "             0\n",
       "0     1.101121\n",
       "1     1.977654\n",
       "2     0.692466\n",
       "3     1.949358\n",
       "4     0.015586\n",
       "...        ...\n",
       "4054  0.599476\n",
       "4055  1.111664\n",
       "4056  0.398420\n",
       "4057  1.129989\n",
       "4058  1.058780\n",
       "\n",
       "[4059 rows x 1 columns]"
      ]
     },
     "execution_count": 121,
     "metadata": {},
     "output_type": "execute_result"
    }
   ],
   "source": [
    "gene_fold_change_dataframe"
   ]
  },
  {
   "cell_type": "code",
   "execution_count": 122,
   "metadata": {},
   "outputs": [
    {
     "data": {
      "text/html": [
       "<div>\n",
       "<style scoped>\n",
       "    .dataframe tbody tr th:only-of-type {\n",
       "        vertical-align: middle;\n",
       "    }\n",
       "\n",
       "    .dataframe tbody tr th {\n",
       "        vertical-align: top;\n",
       "    }\n",
       "\n",
       "    .dataframe thead th {\n",
       "        text-align: right;\n",
       "    }\n",
       "</style>\n",
       "<table border=\"1\" class=\"dataframe\">\n",
       "  <thead>\n",
       "    <tr style=\"text-align: right;\">\n",
       "      <th></th>\n",
       "      <th>0</th>\n",
       "      <th>1</th>\n",
       "      <th>2</th>\n",
       "    </tr>\n",
       "  </thead>\n",
       "  <tbody>\n",
       "    <tr>\n",
       "      <th>0</th>\n",
       "      <td>7.441318e-18</td>\n",
       "      <td>7.441318e-18</td>\n",
       "      <td>1.000000e+00</td>\n",
       "    </tr>\n",
       "    <tr>\n",
       "      <th>1</th>\n",
       "      <td>1.000000e+00</td>\n",
       "      <td>7.441318e-18</td>\n",
       "      <td>7.441318e-18</td>\n",
       "    </tr>\n",
       "    <tr>\n",
       "      <th>2</th>\n",
       "      <td>1.000000e+00</td>\n",
       "      <td>7.441318e-18</td>\n",
       "      <td>7.441318e-18</td>\n",
       "    </tr>\n",
       "    <tr>\n",
       "      <th>3</th>\n",
       "      <td>1.000000e+00</td>\n",
       "      <td>7.441318e-18</td>\n",
       "      <td>7.441318e-18</td>\n",
       "    </tr>\n",
       "    <tr>\n",
       "      <th>4</th>\n",
       "      <td>1.000000e+00</td>\n",
       "      <td>7.441318e-18</td>\n",
       "      <td>7.441318e-18</td>\n",
       "    </tr>\n",
       "    <tr>\n",
       "      <th>...</th>\n",
       "      <td>...</td>\n",
       "      <td>...</td>\n",
       "      <td>...</td>\n",
       "    </tr>\n",
       "    <tr>\n",
       "      <th>5134</th>\n",
       "      <td>7.441318e-18</td>\n",
       "      <td>7.441318e-18</td>\n",
       "      <td>1.000000e+00</td>\n",
       "    </tr>\n",
       "    <tr>\n",
       "      <th>5135</th>\n",
       "      <td>7.441318e-18</td>\n",
       "      <td>7.441318e-18</td>\n",
       "      <td>1.000000e+00</td>\n",
       "    </tr>\n",
       "    <tr>\n",
       "      <th>5136</th>\n",
       "      <td>9.492831e-17</td>\n",
       "      <td>1.366643e-18</td>\n",
       "      <td>1.000000e+00</td>\n",
       "    </tr>\n",
       "    <tr>\n",
       "      <th>5137</th>\n",
       "      <td>7.441318e-18</td>\n",
       "      <td>1.000000e+00</td>\n",
       "      <td>7.441318e-18</td>\n",
       "    </tr>\n",
       "    <tr>\n",
       "      <th>5138</th>\n",
       "      <td>1.000000e+00</td>\n",
       "      <td>7.441318e-18</td>\n",
       "      <td>7.441318e-18</td>\n",
       "    </tr>\n",
       "  </tbody>\n",
       "</table>\n",
       "<p>5139 rows × 3 columns</p>\n",
       "</div>"
      ],
      "text/plain": [
       "                 0             1             2\n",
       "0     7.441318e-18  7.441318e-18  1.000000e+00\n",
       "1     1.000000e+00  7.441318e-18  7.441318e-18\n",
       "2     1.000000e+00  7.441318e-18  7.441318e-18\n",
       "3     1.000000e+00  7.441318e-18  7.441318e-18\n",
       "4     1.000000e+00  7.441318e-18  7.441318e-18\n",
       "...            ...           ...           ...\n",
       "5134  7.441318e-18  7.441318e-18  1.000000e+00\n",
       "5135  7.441318e-18  7.441318e-18  1.000000e+00\n",
       "5136  9.492831e-17  1.366643e-18  1.000000e+00\n",
       "5137  7.441318e-18  1.000000e+00  7.441318e-18\n",
       "5138  1.000000e+00  7.441318e-18  7.441318e-18\n",
       "\n",
       "[5139 rows x 3 columns]"
      ]
     },
     "execution_count": 122,
     "metadata": {},
     "output_type": "execute_result"
    }
   ],
   "source": [
    "clone_assign_prob_dataframe"
   ]
  },
  {
   "cell_type": "code",
   "execution_count": 123,
   "metadata": {},
   "outputs": [],
   "source": [
    "rowname_dict = {i:c for i, c in enumerate(expr_csv.columns)}\n",
    "colname_dict = {i:c for i, c in enumerate(cnv_csv.columns)}\n",
    "\n",
    "genename_dict = {i:c for i, c in enumerate(expr_csv.index)}\n",
    "\n",
    "clone_assign_prob_dataframe.rename(index = rowname_dict, inplace = True)\n",
    "clone_assign_prob_dataframe.rename(columns = colname_dict, inplace = True)\n",
    "\n",
    "# gene_type_score_dataframe.rename(index = genename_dict, inplace = True)\n",
    "gene_fold_change_dataframe.rename(index = genename_dict, inplace = True)"
   ]
  },
  {
   "cell_type": "code",
   "execution_count": 124,
   "metadata": {},
   "outputs": [],
   "source": [
    "clone_assign_prob_dataframe.to_csv(clone_assign_prob_output)"
   ]
  },
  {
   "cell_type": "code",
   "execution_count": 125,
   "metadata": {},
   "outputs": [],
   "source": [
    "gene_type_score_dataframe.to_csv(gene_type_score_output)"
   ]
  },
  {
   "cell_type": "code",
   "execution_count": 126,
   "metadata": {},
   "outputs": [],
   "source": [
    "gene_fold_change_dataframe.to_csv(gene_fold_change_output)"
   ]
  },
  {
   "cell_type": "code",
   "execution_count": 127,
   "metadata": {},
   "outputs": [
    {
     "data": {
      "text/html": [
       "<div>\n",
       "<style scoped>\n",
       "    .dataframe tbody tr th:only-of-type {\n",
       "        vertical-align: middle;\n",
       "    }\n",
       "\n",
       "    .dataframe tbody tr th {\n",
       "        vertical-align: top;\n",
       "    }\n",
       "\n",
       "    .dataframe thead th {\n",
       "        text-align: right;\n",
       "    }\n",
       "</style>\n",
       "<table border=\"1\" class=\"dataframe\">\n",
       "  <thead>\n",
       "    <tr style=\"text-align: right;\">\n",
       "      <th></th>\n",
       "      <th>cluster_1</th>\n",
       "      <th>cluster_2</th>\n",
       "      <th>cluster_3</th>\n",
       "    </tr>\n",
       "  </thead>\n",
       "  <tbody>\n",
       "    <tr>\n",
       "      <th>SPECTRUM-OV-022_S1_CD45N_RIGHT_ADNEXA_AAACCCACAAGCGCAA</th>\n",
       "      <td>7.441318e-18</td>\n",
       "      <td>7.441318e-18</td>\n",
       "      <td>1.000000e+00</td>\n",
       "    </tr>\n",
       "    <tr>\n",
       "      <th>SPECTRUM-OV-022_S1_CD45N_RIGHT_ADNEXA_AAACCCATCGCGGACT</th>\n",
       "      <td>1.000000e+00</td>\n",
       "      <td>7.441318e-18</td>\n",
       "      <td>7.441318e-18</td>\n",
       "    </tr>\n",
       "    <tr>\n",
       "      <th>SPECTRUM-OV-022_S1_CD45N_RIGHT_ADNEXA_AAACGAATCCTTGGAA</th>\n",
       "      <td>1.000000e+00</td>\n",
       "      <td>7.441318e-18</td>\n",
       "      <td>7.441318e-18</td>\n",
       "    </tr>\n",
       "    <tr>\n",
       "      <th>SPECTRUM-OV-022_S1_CD45N_RIGHT_ADNEXA_AAACGCTCACTATCGA</th>\n",
       "      <td>1.000000e+00</td>\n",
       "      <td>7.441318e-18</td>\n",
       "      <td>7.441318e-18</td>\n",
       "    </tr>\n",
       "    <tr>\n",
       "      <th>SPECTRUM-OV-022_S1_CD45N_RIGHT_ADNEXA_AAACGCTGTCGACTTA</th>\n",
       "      <td>1.000000e+00</td>\n",
       "      <td>7.441318e-18</td>\n",
       "      <td>7.441318e-18</td>\n",
       "    </tr>\n",
       "    <tr>\n",
       "      <th>...</th>\n",
       "      <td>...</td>\n",
       "      <td>...</td>\n",
       "      <td>...</td>\n",
       "    </tr>\n",
       "    <tr>\n",
       "      <th>SPECTRUM-OV-022_S1_CD45N_LEFT_ADNEXA_TTTGATCCATGACTGT</th>\n",
       "      <td>7.441318e-18</td>\n",
       "      <td>7.441318e-18</td>\n",
       "      <td>1.000000e+00</td>\n",
       "    </tr>\n",
       "    <tr>\n",
       "      <th>SPECTRUM-OV-022_S1_CD45N_LEFT_ADNEXA_TTTGATCGTTCAAGTC</th>\n",
       "      <td>7.441318e-18</td>\n",
       "      <td>7.441318e-18</td>\n",
       "      <td>1.000000e+00</td>\n",
       "    </tr>\n",
       "    <tr>\n",
       "      <th>SPECTRUM-OV-022_S1_CD45N_LEFT_ADNEXA_TTTGGAGTCCATTGCC</th>\n",
       "      <td>9.492831e-17</td>\n",
       "      <td>1.366643e-18</td>\n",
       "      <td>1.000000e+00</td>\n",
       "    </tr>\n",
       "    <tr>\n",
       "      <th>SPECTRUM-OV-022_S1_CD45N_LEFT_ADNEXA_TTTGTTGGTGTCTAAC</th>\n",
       "      <td>7.441318e-18</td>\n",
       "      <td>1.000000e+00</td>\n",
       "      <td>7.441318e-18</td>\n",
       "    </tr>\n",
       "    <tr>\n",
       "      <th>SPECTRUM-OV-022_S1_CD45N_LEFT_ADNEXA_TTTGTTGTCCCAGTGG</th>\n",
       "      <td>1.000000e+00</td>\n",
       "      <td>7.441318e-18</td>\n",
       "      <td>7.441318e-18</td>\n",
       "    </tr>\n",
       "  </tbody>\n",
       "</table>\n",
       "<p>5139 rows × 3 columns</p>\n",
       "</div>"
      ],
      "text/plain": [
       "                                                       cluster_1  \\\n",
       "SPECTRUM-OV-022_S1_CD45N_RIGHT_ADNEXA_AAACCCACA...  7.441318e-18   \n",
       "SPECTRUM-OV-022_S1_CD45N_RIGHT_ADNEXA_AAACCCATC...  1.000000e+00   \n",
       "SPECTRUM-OV-022_S1_CD45N_RIGHT_ADNEXA_AAACGAATC...  1.000000e+00   \n",
       "SPECTRUM-OV-022_S1_CD45N_RIGHT_ADNEXA_AAACGCTCA...  1.000000e+00   \n",
       "SPECTRUM-OV-022_S1_CD45N_RIGHT_ADNEXA_AAACGCTGT...  1.000000e+00   \n",
       "...                                                          ...   \n",
       "SPECTRUM-OV-022_S1_CD45N_LEFT_ADNEXA_TTTGATCCAT...  7.441318e-18   \n",
       "SPECTRUM-OV-022_S1_CD45N_LEFT_ADNEXA_TTTGATCGTT...  7.441318e-18   \n",
       "SPECTRUM-OV-022_S1_CD45N_LEFT_ADNEXA_TTTGGAGTCC...  9.492831e-17   \n",
       "SPECTRUM-OV-022_S1_CD45N_LEFT_ADNEXA_TTTGTTGGTG...  7.441318e-18   \n",
       "SPECTRUM-OV-022_S1_CD45N_LEFT_ADNEXA_TTTGTTGTCC...  1.000000e+00   \n",
       "\n",
       "                                                       cluster_2     cluster_3  \n",
       "SPECTRUM-OV-022_S1_CD45N_RIGHT_ADNEXA_AAACCCACA...  7.441318e-18  1.000000e+00  \n",
       "SPECTRUM-OV-022_S1_CD45N_RIGHT_ADNEXA_AAACCCATC...  7.441318e-18  7.441318e-18  \n",
       "SPECTRUM-OV-022_S1_CD45N_RIGHT_ADNEXA_AAACGAATC...  7.441318e-18  7.441318e-18  \n",
       "SPECTRUM-OV-022_S1_CD45N_RIGHT_ADNEXA_AAACGCTCA...  7.441318e-18  7.441318e-18  \n",
       "SPECTRUM-OV-022_S1_CD45N_RIGHT_ADNEXA_AAACGCTGT...  7.441318e-18  7.441318e-18  \n",
       "...                                                          ...           ...  \n",
       "SPECTRUM-OV-022_S1_CD45N_LEFT_ADNEXA_TTTGATCCAT...  7.441318e-18  1.000000e+00  \n",
       "SPECTRUM-OV-022_S1_CD45N_LEFT_ADNEXA_TTTGATCGTT...  7.441318e-18  1.000000e+00  \n",
       "SPECTRUM-OV-022_S1_CD45N_LEFT_ADNEXA_TTTGGAGTCC...  1.366643e-18  1.000000e+00  \n",
       "SPECTRUM-OV-022_S1_CD45N_LEFT_ADNEXA_TTTGTTGGTG...  1.000000e+00  7.441318e-18  \n",
       "SPECTRUM-OV-022_S1_CD45N_LEFT_ADNEXA_TTTGTTGTCC...  7.441318e-18  7.441318e-18  \n",
       "\n",
       "[5139 rows x 3 columns]"
      ]
     },
     "execution_count": 127,
     "metadata": {},
     "output_type": "execute_result"
    }
   ],
   "source": [
    "clone_assign_prob_dataframe"
   ]
  },
  {
   "cell_type": "code",
   "execution_count": 59,
   "metadata": {},
   "outputs": [
    {
     "data": {
      "text/html": [
       "<div>\n",
       "<style scoped>\n",
       "    .dataframe tbody tr th:only-of-type {\n",
       "        vertical-align: middle;\n",
       "    }\n",
       "\n",
       "    .dataframe tbody tr th {\n",
       "        vertical-align: top;\n",
       "    }\n",
       "\n",
       "    .dataframe thead th {\n",
       "        text-align: right;\n",
       "    }\n",
       "</style>\n",
       "<table border=\"1\" class=\"dataframe\">\n",
       "  <thead>\n",
       "    <tr style=\"text-align: right;\">\n",
       "      <th></th>\n",
       "      <th>cluster_1</th>\n",
       "      <th>cluster_2</th>\n",
       "      <th>cluster_3</th>\n",
       "    </tr>\n",
       "  </thead>\n",
       "  <tbody>\n",
       "    <tr>\n",
       "      <th>SPECTRUM-OV-022_S1_CD45N_RIGHT_ADNEXA_AAACCCACAAGCGCAA</th>\n",
       "      <td>1.254433e-16</td>\n",
       "      <td>1.254433e-16</td>\n",
       "      <td>1.0</td>\n",
       "    </tr>\n",
       "    <tr>\n",
       "      <th>SPECTRUM-OV-022_S1_CD45N_RIGHT_ADNEXA_AAACCCATCGCGGACT</th>\n",
       "      <td>1.254433e-16</td>\n",
       "      <td>1.254433e-16</td>\n",
       "      <td>1.0</td>\n",
       "    </tr>\n",
       "    <tr>\n",
       "      <th>SPECTRUM-OV-022_S1_CD45N_RIGHT_ADNEXA_AAACGAATCCTTGGAA</th>\n",
       "      <td>1.254433e-16</td>\n",
       "      <td>1.254433e-16</td>\n",
       "      <td>1.0</td>\n",
       "    </tr>\n",
       "    <tr>\n",
       "      <th>SPECTRUM-OV-022_S1_CD45N_RIGHT_ADNEXA_AAACGCTCACTATCGA</th>\n",
       "      <td>1.254433e-16</td>\n",
       "      <td>1.254433e-16</td>\n",
       "      <td>1.0</td>\n",
       "    </tr>\n",
       "    <tr>\n",
       "      <th>SPECTRUM-OV-022_S1_CD45N_RIGHT_ADNEXA_AAACGCTGTCGACTTA</th>\n",
       "      <td>1.254433e-16</td>\n",
       "      <td>1.254433e-16</td>\n",
       "      <td>1.0</td>\n",
       "    </tr>\n",
       "    <tr>\n",
       "      <th>...</th>\n",
       "      <td>...</td>\n",
       "      <td>...</td>\n",
       "      <td>...</td>\n",
       "    </tr>\n",
       "    <tr>\n",
       "      <th>SPECTRUM-OV-022_S1_CD45N_LEFT_ADNEXA_TTTGATCCATGACTGT</th>\n",
       "      <td>1.254433e-16</td>\n",
       "      <td>1.254433e-16</td>\n",
       "      <td>1.0</td>\n",
       "    </tr>\n",
       "    <tr>\n",
       "      <th>SPECTRUM-OV-022_S1_CD45N_LEFT_ADNEXA_TTTGATCGTTCAAGTC</th>\n",
       "      <td>1.254433e-16</td>\n",
       "      <td>1.254433e-16</td>\n",
       "      <td>1.0</td>\n",
       "    </tr>\n",
       "    <tr>\n",
       "      <th>SPECTRUM-OV-022_S1_CD45N_LEFT_ADNEXA_TTTGGAGTCCATTGCC</th>\n",
       "      <td>1.254429e-16</td>\n",
       "      <td>1.254429e-16</td>\n",
       "      <td>1.0</td>\n",
       "    </tr>\n",
       "    <tr>\n",
       "      <th>SPECTRUM-OV-022_S1_CD45N_LEFT_ADNEXA_TTTGTTGGTGTCTAAC</th>\n",
       "      <td>1.254429e-16</td>\n",
       "      <td>1.254429e-16</td>\n",
       "      <td>1.0</td>\n",
       "    </tr>\n",
       "    <tr>\n",
       "      <th>SPECTRUM-OV-022_S1_CD45N_LEFT_ADNEXA_TTTGTTGTCCCAGTGG</th>\n",
       "      <td>1.254429e-16</td>\n",
       "      <td>1.254429e-16</td>\n",
       "      <td>1.0</td>\n",
       "    </tr>\n",
       "  </tbody>\n",
       "</table>\n",
       "<p>5139 rows × 3 columns</p>\n",
       "</div>"
      ],
      "text/plain": [
       "                                                       cluster_1  \\\n",
       "SPECTRUM-OV-022_S1_CD45N_RIGHT_ADNEXA_AAACCCACA...  1.254433e-16   \n",
       "SPECTRUM-OV-022_S1_CD45N_RIGHT_ADNEXA_AAACCCATC...  1.254433e-16   \n",
       "SPECTRUM-OV-022_S1_CD45N_RIGHT_ADNEXA_AAACGAATC...  1.254433e-16   \n",
       "SPECTRUM-OV-022_S1_CD45N_RIGHT_ADNEXA_AAACGCTCA...  1.254433e-16   \n",
       "SPECTRUM-OV-022_S1_CD45N_RIGHT_ADNEXA_AAACGCTGT...  1.254433e-16   \n",
       "...                                                          ...   \n",
       "SPECTRUM-OV-022_S1_CD45N_LEFT_ADNEXA_TTTGATCCAT...  1.254433e-16   \n",
       "SPECTRUM-OV-022_S1_CD45N_LEFT_ADNEXA_TTTGATCGTT...  1.254433e-16   \n",
       "SPECTRUM-OV-022_S1_CD45N_LEFT_ADNEXA_TTTGGAGTCC...  1.254429e-16   \n",
       "SPECTRUM-OV-022_S1_CD45N_LEFT_ADNEXA_TTTGTTGGTG...  1.254429e-16   \n",
       "SPECTRUM-OV-022_S1_CD45N_LEFT_ADNEXA_TTTGTTGTCC...  1.254429e-16   \n",
       "\n",
       "                                                       cluster_2  cluster_3  \n",
       "SPECTRUM-OV-022_S1_CD45N_RIGHT_ADNEXA_AAACCCACA...  1.254433e-16        1.0  \n",
       "SPECTRUM-OV-022_S1_CD45N_RIGHT_ADNEXA_AAACCCATC...  1.254433e-16        1.0  \n",
       "SPECTRUM-OV-022_S1_CD45N_RIGHT_ADNEXA_AAACGAATC...  1.254433e-16        1.0  \n",
       "SPECTRUM-OV-022_S1_CD45N_RIGHT_ADNEXA_AAACGCTCA...  1.254433e-16        1.0  \n",
       "SPECTRUM-OV-022_S1_CD45N_RIGHT_ADNEXA_AAACGCTGT...  1.254433e-16        1.0  \n",
       "...                                                          ...        ...  \n",
       "SPECTRUM-OV-022_S1_CD45N_LEFT_ADNEXA_TTTGATCCAT...  1.254433e-16        1.0  \n",
       "SPECTRUM-OV-022_S1_CD45N_LEFT_ADNEXA_TTTGATCGTT...  1.254433e-16        1.0  \n",
       "SPECTRUM-OV-022_S1_CD45N_LEFT_ADNEXA_TTTGGAGTCC...  1.254429e-16        1.0  \n",
       "SPECTRUM-OV-022_S1_CD45N_LEFT_ADNEXA_TTTGTTGGTG...  1.254429e-16        1.0  \n",
       "SPECTRUM-OV-022_S1_CD45N_LEFT_ADNEXA_TTTGTTGTCC...  1.254429e-16        1.0  \n",
       "\n",
       "[5139 rows x 3 columns]"
      ]
     },
     "execution_count": 59,
     "metadata": {},
     "output_type": "execute_result"
    }
   ],
   "source": [
    "clone_assign_prob_dataframe"
   ]
  },
  {
   "cell_type": "code",
   "execution_count": null,
   "metadata": {},
   "outputs": [],
   "source": []
  }
 ],
 "metadata": {
  "kernelspec": {
   "display_name": "Python 3",
   "language": "python",
   "name": "python3"
  },
  "language_info": {
   "codemirror_mode": {
    "name": "ipython",
    "version": 3
   },
   "file_extension": ".py",
   "mimetype": "text/x-python",
   "name": "python",
   "nbconvert_exporter": "python",
   "pygments_lexer": "ipython3",
   "version": "3.7.4"
  }
 },
 "nbformat": 4,
 "nbformat_minor": 2
}
