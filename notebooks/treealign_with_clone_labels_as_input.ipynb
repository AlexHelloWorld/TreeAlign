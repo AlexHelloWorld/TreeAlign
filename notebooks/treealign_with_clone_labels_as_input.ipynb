{
 "cells": [
  {
   "cell_type": "markdown",
   "metadata": {},
   "source": [
    "# TreeAlign with clone labels as input\n",
    "## Introduction\n",
    "TreeAlign is a model for scRNA and scDNA integration. TreeAlign can take in either total copy number information or allele specific copy number information or both to assign cells from scRNA to a clones identified with scDNA"
   ]
  },
  {
   "cell_type": "markdown",
   "metadata": {},
   "source": [
    "## Loading data"
   ]
  },
  {
   "cell_type": "code",
   "execution_count": 1,
   "metadata": {},
   "outputs": [],
   "source": [
    "from treealign import CloneAlignClone\n",
    "from treealign import CloneAlignTree\n",
    "\n",
    "import pandas as pd\n",
    "from Bio import Phylo"
   ]
  },
  {
   "cell_type": "code",
   "execution_count": 2,
   "metadata": {},
   "outputs": [],
   "source": [
    "# load total copy number input\n",
    "\n",
    "# scRNA read count matrix where each row represents a gene, \n",
    "# each column represents a cell\n",
    "expr = pd.read_csv(\"../data/example_expr.csv\", index_col=0)\n",
    "\n",
    "# scDNA copy number matrix where each row represents a gene,\n",
    "# each column represents a cell\n",
    "# the numbers of the matrix reprents the copy number at given cells and genes\n",
    "cnv = pd.read_csv(\"../data/example_gene_cnv.csv\", index_col=0)"
   ]
  },
  {
   "cell_type": "code",
   "execution_count": 3,
   "metadata": {},
   "outputs": [],
   "source": [
    "# load allele specific input\n",
    "\n",
    "# b allele frequency matrix\n",
    "# each row represents a snp\n",
    "# each column represents a cell\n",
    "# The number in the matrix is the b allele frequency at the given snp and cell\n",
    "hscn = pd.read_csv(\"../data/example_snp_baf.csv\", index_col=0)\n",
    "\n",
    "# reference allele count matrix from scRNA\n",
    "# each row represents a snp\n",
    "# each column represents a cell\n",
    "snv_allele = pd.read_csv(\"../data/example_snp_allele.csv\", index_col=0)\n",
    "\n",
    "# total count matrix at SNPs from scRNA\n",
    "# each row represents a snp\n",
    "# each column represents a cell\n",
    "snv_total = pd.read_csv(\"../data/example_snp_total.csv\", index_col=0)"
   ]
  },
  {
   "cell_type": "code",
   "execution_count": 4,
   "metadata": {},
   "outputs": [],
   "source": [
    "# clone labels for each cell in scDNA\n",
    "clone = pd.read_csv(\"../data/example_cell_clone.csv\")"
   ]
  },
  {
   "cell_type": "code",
   "execution_count": 5,
   "metadata": {},
   "outputs": [
    {
     "data": {
      "text/html": [
       "<div>\n",
       "<style scoped>\n",
       "    .dataframe tbody tr th:only-of-type {\n",
       "        vertical-align: middle;\n",
       "    }\n",
       "\n",
       "    .dataframe tbody tr th {\n",
       "        vertical-align: top;\n",
       "    }\n",
       "\n",
       "    .dataframe thead th {\n",
       "        text-align: right;\n",
       "    }\n",
       "</style>\n",
       "<table border=\"1\" class=\"dataframe\">\n",
       "  <thead>\n",
       "    <tr style=\"text-align: right;\">\n",
       "      <th></th>\n",
       "      <th>cell_id</th>\n",
       "      <th>clone_id</th>\n",
       "    </tr>\n",
       "  </thead>\n",
       "  <tbody>\n",
       "    <tr>\n",
       "      <th>0</th>\n",
       "      <td>SPECTRUM-OV-022_S1_LEFT_ADNEXA-A108833A-R03-C08</td>\n",
       "      <td>C</td>\n",
       "    </tr>\n",
       "    <tr>\n",
       "      <th>1</th>\n",
       "      <td>SPECTRUM-OV-022_S1_LEFT_ADNEXA-A108833A-R03-C09</td>\n",
       "      <td>A</td>\n",
       "    </tr>\n",
       "    <tr>\n",
       "      <th>2</th>\n",
       "      <td>SPECTRUM-OV-022_S1_LEFT_ADNEXA-A108833A-R03-C10</td>\n",
       "      <td>B</td>\n",
       "    </tr>\n",
       "    <tr>\n",
       "      <th>3</th>\n",
       "      <td>SPECTRUM-OV-022_S1_LEFT_ADNEXA-A108833A-R03-C13</td>\n",
       "      <td>A</td>\n",
       "    </tr>\n",
       "    <tr>\n",
       "      <th>4</th>\n",
       "      <td>SPECTRUM-OV-022_S1_LEFT_ADNEXA-A108833A-R03-C14</td>\n",
       "      <td>C</td>\n",
       "    </tr>\n",
       "    <tr>\n",
       "      <th>...</th>\n",
       "      <td>...</td>\n",
       "      <td>...</td>\n",
       "    </tr>\n",
       "    <tr>\n",
       "      <th>1057</th>\n",
       "      <td>SPECTRUM-OV-022_S1_RIGHT_ADNEXA-A98179A-R30-C61</td>\n",
       "      <td>B</td>\n",
       "    </tr>\n",
       "    <tr>\n",
       "      <th>1058</th>\n",
       "      <td>SPECTRUM-OV-022_S1_RIGHT_ADNEXA-A98179A-R30-C64</td>\n",
       "      <td>C</td>\n",
       "    </tr>\n",
       "    <tr>\n",
       "      <th>1059</th>\n",
       "      <td>SPECTRUM-OV-022_S1_RIGHT_ADNEXA-A98179A-R30-C65</td>\n",
       "      <td>B</td>\n",
       "    </tr>\n",
       "    <tr>\n",
       "      <th>1060</th>\n",
       "      <td>SPECTRUM-OV-022_S1_RIGHT_ADNEXA-A98179A-R30-C67</td>\n",
       "      <td>B</td>\n",
       "    </tr>\n",
       "    <tr>\n",
       "      <th>1061</th>\n",
       "      <td>SPECTRUM-OV-022_S1_RIGHT_ADNEXA-A98179A-R30-C69</td>\n",
       "      <td>C</td>\n",
       "    </tr>\n",
       "  </tbody>\n",
       "</table>\n",
       "<p>1062 rows × 2 columns</p>\n",
       "</div>"
      ],
      "text/plain": [
       "                                              cell_id clone_id\n",
       "0     SPECTRUM-OV-022_S1_LEFT_ADNEXA-A108833A-R03-C08        C\n",
       "1     SPECTRUM-OV-022_S1_LEFT_ADNEXA-A108833A-R03-C09        A\n",
       "2     SPECTRUM-OV-022_S1_LEFT_ADNEXA-A108833A-R03-C10        B\n",
       "3     SPECTRUM-OV-022_S1_LEFT_ADNEXA-A108833A-R03-C13        A\n",
       "4     SPECTRUM-OV-022_S1_LEFT_ADNEXA-A108833A-R03-C14        C\n",
       "...                                               ...      ...\n",
       "1057  SPECTRUM-OV-022_S1_RIGHT_ADNEXA-A98179A-R30-C61        B\n",
       "1058  SPECTRUM-OV-022_S1_RIGHT_ADNEXA-A98179A-R30-C64        C\n",
       "1059  SPECTRUM-OV-022_S1_RIGHT_ADNEXA-A98179A-R30-C65        B\n",
       "1060  SPECTRUM-OV-022_S1_RIGHT_ADNEXA-A98179A-R30-C67        B\n",
       "1061  SPECTRUM-OV-022_S1_RIGHT_ADNEXA-A98179A-R30-C69        C\n",
       "\n",
       "[1062 rows x 2 columns]"
      ]
     },
     "execution_count": 5,
     "metadata": {},
     "output_type": "execute_result"
    }
   ],
   "source": [
    "# there are four clones in the example datasets: clone A, B, C, None\n",
    "clone"
   ]
  },
  {
   "cell_type": "markdown",
   "metadata": {},
   "source": [
    "## Running TreeAlign with clone labels"
   ]
  },
  {
   "cell_type": "code",
   "execution_count": null,
   "metadata": {},
   "outputs": [
    {
     "name": "stdout",
     "output_type": "stream",
     "text": [
      "gene count: 1675\n",
      "cell count: 1000\n"
     ]
    },
    {
     "name": "stderr",
     "output_type": "stream",
     "text": [
      "/home/shih/miniconda3/envs/pyro/lib/python3.8/site-packages/pyro/util.py:303: UserWarning: Found vars in model but not guide: {'gene_type'}\n",
      "  warnings.warn(f\"Found vars in model but not guide: {bad_sites}\")\n"
     ]
    },
    {
     "name": "stdout",
     "output_type": "stream",
     "text": [
      "seed = 19, initial_loss = 7799439.516691416\n",
      "Start Inference.\n"
     ]
    }
   ],
   "source": [
    "# construct CloneAlignTree object for data preprocessing\n",
    "\n",
    "# `repeat` is set to 1 here for demonstration purposes. it would be better to set `repeat` larger than 5. \n",
    "# obj = CloneAlignClone(clone=clone, expr=expr, cnv=cnv, hscn=hscn, snv_allele=snv_allele, snv=snv_total, repeat=1)\n",
    "\n",
    "# it is possible to run TreeAlign with total copy number data only\n",
    "obj = CloneAlignClone(clone=clone, expr=expr, cnv=cnv, repeat=1)\n",
    "\n",
    "# it is also possible to run TreeAlign with allele specific data only\n",
    "# obj = CloneAlignClone(clone=clone, hscn=hscn, snv_allele=snv_allele, snv=snv_total, repeat=1)\n",
    "\n",
    "# running TreeAlign to assign cells to phylogenetic subclades\n",
    "obj.assign_cells_to_clones()"
   ]
  },
  {
   "cell_type": "code",
   "execution_count": null,
   "metadata": {},
   "outputs": [],
   "source": [
    "# to view more details about parameters you can customize when you run TreeAlign\n",
    "help(CloneAlignClone)"
   ]
  },
  {
   "cell_type": "markdown",
   "metadata": {},
   "source": [
    "## Getting results\n",
    "The output of TreeAlign includes: 1. a table indicating the clone to which the cells in scRNA data are assigned. 2. for each gene, a score ranging between 0 and 1 reflecting dosage effects."
   ]
  },
  {
   "cell_type": "code",
   "execution_count": null,
   "metadata": {},
   "outputs": [],
   "source": [
    "clone_assign_df, gene_type_score_df, allele_assign_prob_df = obj.generate_output()"
   ]
  },
  {
   "cell_type": "code",
   "execution_count": null,
   "metadata": {},
   "outputs": [],
   "source": [
    "# subclade assignment for each cell in scRNA data\n",
    "clone_assign_df\n",
    "\n",
    "# save clone assignment results to csv file\n",
    "# clone_assign_df.to_csv(\"test.csv\")"
   ]
  },
  {
   "cell_type": "code",
   "execution_count": null,
   "metadata": {},
   "outputs": [],
   "source": [
    "# the probability of having dosage effects for each gene\n",
    "gene_type_score_df"
   ]
  },
  {
   "cell_type": "code",
   "execution_count": null,
   "metadata": {},
   "outputs": [],
   "source": [
    "allele_assign_prob_df"
   ]
  },
  {
   "cell_type": "code",
   "execution_count": null,
   "metadata": {},
   "outputs": [],
   "source": []
  }
 ],
 "metadata": {
  "kernelspec": {
   "display_name": "Python 3",
   "language": "python",
   "name": "python3"
  },
  "language_info": {
   "codemirror_mode": {
    "name": "ipython",
    "version": 3
   },
   "file_extension": ".py",
   "mimetype": "text/x-python",
   "name": "python",
   "nbconvert_exporter": "python",
   "pygments_lexer": "ipython3",
   "version": "3.8.5"
  }
 },
 "nbformat": 4,
 "nbformat_minor": 5
}
