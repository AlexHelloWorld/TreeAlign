{
 "cells": [
  {
   "cell_type": "markdown",
   "id": "013c78a6",
   "metadata": {},
   "source": [
    "# TreeAlign with phylogenetic tree as input\n",
    "## Introduction\n",
    "TreeAlign is a model for scRNA and scDNA integration. TreeAlign takes in 1. a cell by gene `scRNA count matrix`, 2. cell by gene `scDNA copy number matrix` and 3. a `phylogenetic tree` constructed with scDNA data as input. TreeAlign assigns cells from the scRNA count matrix to a subclade of the phylogenetic tree. "
   ]
  },
  {
   "cell_type": "markdown",
   "id": "2e91bcde",
   "metadata": {},
   "source": [
    "## Loading data"
   ]
  },
  {
   "cell_type": "code",
   "execution_count": 2,
   "id": "65c9a536",
   "metadata": {},
   "outputs": [
    {
     "name": "stderr",
     "output_type": "stream",
     "text": [
      "/home/shih/miniconda3/envs/test/lib/python3.6/site-packages/tqdm/auto.py:22: TqdmWarning: IProgress not found. Please update jupyter and ipywidgets. See https://ipywidgets.readthedocs.io/en/stable/user_install.html\n",
      "  from .autonotebook import tqdm as notebook_tqdm\n"
     ]
    }
   ],
   "source": [
    "from treealign import CloneAlignClone\n",
    "from treealign import CloneAlignTree\n",
    "\n",
    "import pandas as pd\n",
    "from Bio import Phylo\n",
    "\n",
    "# scRNA read count matrix where each row represents a gene, \n",
    "# each column represents a cell\n",
    "expr = pd.read_csv(\"../data/example_expr.csv\", index_col=0)\n",
    "\n",
    "# scDNA copy number matrix where each row represents a gene,\n",
    "# each column represents a cell\n",
    "cnv = pd.read_csv(\"../data/example_gene_cnv.csv\", index_col=0)\n",
    "\n",
    "# phylogenetic tree constructed with scDNA data in newick format\n",
    "tree = Phylo.read(\"../data/example_phylogeny.newick\", \"newick\")"
   ]
  },
  {
   "cell_type": "markdown",
   "id": "6213fb77",
   "metadata": {},
   "source": [
    "## Running TreeAlign with tree"
   ]
  },
  {
   "cell_type": "code",
   "execution_count": null,
   "id": "b0baa500",
   "metadata": {},
   "outputs": [],
   "source": [
    "# construct CloneAlignTree object for data preprocessing\n",
    "obj = CloneAlignTree(expr, cnv, tree, repeat=1, min_gene_diff=50)\n",
    "\n",
    "# running TreeAlign to assign cells to phylogenetic subclades\n",
    "obj.assign_cells_to_tree()"
   ]
  },
  {
   "cell_type": "code",
   "execution_count": 11,
   "id": "f24fced5",
   "metadata": {},
   "outputs": [
    {
     "name": "stdout",
     "output_type": "stream",
     "text": [
      "Help on function __init__ in module treealign.clonealign_tree:\n",
      "\n",
      "__init__(self, expr, cnv, tree, normalize_cnv=True, cnv_cutoff=10, model_select='gene', repeat=10, min_cell_count_expr=20, min_cell_count_cnv=20, min_gene_diff=300, level_cutoff=10, min_proceed_freq=0.7, min_clone_assign_prob=0.8, min_clone_assign_freq=0.7, min_consensus_gene_freq=0.8, max_temp=1.0, min_temp=0.5, anneal_rate=0.01, learning_rate=0.1, max_iter=400, rel_tol=5e-05)\n",
      "    initialize CloneAlignTree object\n",
      "    :param expr: expr read count matrix. row is gene, column is cell. (pandas.DataFrame)\n",
      "    :param cnv: cnv matrix. row is gene, column is cell. (pandas.DataFrame)\n",
      "    :param tree: phylogenetic tree of cells (Bio.Phylo.BaseTree.Tree)\n",
      "    :param normalize_cnv: whether to normalized cnv matrix by min or not. (bool)\n",
      "    :param cnv_cutoff: set cnv higher than cnv_cutoff to cnv_cutoff. (int)\n",
      "    :param model_select: \"gene\" for the extended clonealign model or \"default\" for the original clonelign model (str)\n",
      "    :param repeat: num of times to run clonealign to generate consensus results. (int)\n",
      "    :param min_cell_count_expr: min cells in scRNA to keep assigning cells to subtrees\n",
      "    :param min_cell_count_cnv: min cells in the current subtree to proceed to the next level\n",
      "    :param min_gene_diff: min number of genes that are different between subtrees to keep assigning\n",
      "    :param level_cutoff: stop clonealign when get to subtrees of certain level\n",
      "    :param min_proceed_freq: proceed clonealign to the next level if a certain frequency of cells have consistent assignments between runs\n",
      "    :param min_clone_assign_prob: assign cells to a clone if clone assignment prob reaches min_clone_assign_prob (float)\n",
      "    :param min_clone_assign_freq: assign cells to a clone if a min proportion of runs generate the same results (float)\n",
      "    :param max_temp: starting temperature in Gumbel-Softmax reparameterization. (float)\n",
      "    :param min_temp: min temperature in Gumbel-Softmax reparameterization. (float)\n",
      "    :param anneal_rate: annealing rate in Gumbel-Softmax reparameterization. (float)\n",
      "    :param learning_rate: learning rate of Adam optimizer. (float)\n",
      "    :param max_iter: max number of iterations of elbo optimization during inference. (int)\n",
      "    :param rel_tol: when the relative change in elbo drops to rel_tol, stop inference. (float)\n",
      "\n"
     ]
    }
   ],
   "source": [
    "# to view more details about parameters you can customize when you run TreeAlign\n",
    "help(CloneAlignTree)"
   ]
  },
  {
   "cell_type": "markdown",
   "id": "10a620a1",
   "metadata": {},
   "source": [
    "## Getting results\n",
    "The output of TreeAlign includes: 1. a table indicating the subclades to which the cells in scRNA data are assigned. 2. for each gene, a score ranging between 0 and 1 reflecting dosage effects."
   ]
  },
  {
   "cell_type": "code",
   "execution_count": null,
   "id": "39e38a45",
   "metadata": {},
   "outputs": [],
   "source": [
    "clone_assign, s_score = obj.generate_output()"
   ]
  },
  {
   "cell_type": "code",
   "execution_count": 8,
   "id": "978d4d89",
   "metadata": {},
   "outputs": [
    {
     "data": {
      "text/html": [
       "<div>\n",
       "<style scoped>\n",
       "    .dataframe tbody tr th:only-of-type {\n",
       "        vertical-align: middle;\n",
       "    }\n",
       "\n",
       "    .dataframe tbody tr th {\n",
       "        vertical-align: top;\n",
       "    }\n",
       "\n",
       "    .dataframe thead th {\n",
       "        text-align: right;\n",
       "    }\n",
       "</style>\n",
       "<table border=\"1\" class=\"dataframe\">\n",
       "  <thead>\n",
       "    <tr style=\"text-align: right;\">\n",
       "      <th></th>\n",
       "      <th>cell_id</th>\n",
       "      <th>clone_id</th>\n",
       "    </tr>\n",
       "  </thead>\n",
       "  <tbody>\n",
       "    <tr>\n",
       "      <th>0</th>\n",
       "      <td>0</td>\n",
       "      <td>node_37</td>\n",
       "    </tr>\n",
       "    <tr>\n",
       "      <th>1</th>\n",
       "      <td>1</td>\n",
       "      <td>node_37</td>\n",
       "    </tr>\n",
       "    <tr>\n",
       "      <th>2</th>\n",
       "      <td>2</td>\n",
       "      <td>node_89</td>\n",
       "    </tr>\n",
       "    <tr>\n",
       "      <th>3</th>\n",
       "      <td>3</td>\n",
       "      <td>node_37</td>\n",
       "    </tr>\n",
       "    <tr>\n",
       "      <th>4</th>\n",
       "      <td>4</td>\n",
       "      <td>node_9</td>\n",
       "    </tr>\n",
       "    <tr>\n",
       "      <th>...</th>\n",
       "      <td>...</td>\n",
       "      <td>...</td>\n",
       "    </tr>\n",
       "    <tr>\n",
       "      <th>993</th>\n",
       "      <td>995</td>\n",
       "      <td>node_89</td>\n",
       "    </tr>\n",
       "    <tr>\n",
       "      <th>994</th>\n",
       "      <td>996</td>\n",
       "      <td>node_9</td>\n",
       "    </tr>\n",
       "    <tr>\n",
       "      <th>995</th>\n",
       "      <td>997</td>\n",
       "      <td>node_9</td>\n",
       "    </tr>\n",
       "    <tr>\n",
       "      <th>996</th>\n",
       "      <td>998</td>\n",
       "      <td>node_89</td>\n",
       "    </tr>\n",
       "    <tr>\n",
       "      <th>997</th>\n",
       "      <td>999</td>\n",
       "      <td>node_9</td>\n",
       "    </tr>\n",
       "  </tbody>\n",
       "</table>\n",
       "<p>998 rows × 2 columns</p>\n",
       "</div>"
      ],
      "text/plain": [
       "    cell_id clone_id\n",
       "0         0  node_37\n",
       "1         1  node_37\n",
       "2         2  node_89\n",
       "3         3  node_37\n",
       "4         4   node_9\n",
       "..      ...      ...\n",
       "993     995  node_89\n",
       "994     996   node_9\n",
       "995     997   node_9\n",
       "996     998  node_89\n",
       "997     999   node_9\n",
       "\n",
       "[998 rows x 2 columns]"
      ]
     },
     "execution_count": 8,
     "metadata": {},
     "output_type": "execute_result"
    }
   ],
   "source": [
    "# subclade assignment for each cell in scRNA data\n",
    "clone_assign"
   ]
  },
  {
   "cell_type": "code",
   "execution_count": 9,
   "id": "c3b887e6",
   "metadata": {},
   "outputs": [
    {
     "data": {
      "text/html": [
       "<div>\n",
       "<style scoped>\n",
       "    .dataframe tbody tr th:only-of-type {\n",
       "        vertical-align: middle;\n",
       "    }\n",
       "\n",
       "    .dataframe tbody tr th {\n",
       "        vertical-align: top;\n",
       "    }\n",
       "\n",
       "    .dataframe thead th {\n",
       "        text-align: right;\n",
       "    }\n",
       "</style>\n",
       "<table border=\"1\" class=\"dataframe\">\n",
       "  <thead>\n",
       "    <tr style=\"text-align: right;\">\n",
       "      <th></th>\n",
       "      <th>gene</th>\n",
       "      <th>gene_type_score</th>\n",
       "    </tr>\n",
       "  </thead>\n",
       "  <tbody>\n",
       "    <tr>\n",
       "      <th>0</th>\n",
       "      <td>C1orf127</td>\n",
       "      <td>1.403111e-09</td>\n",
       "    </tr>\n",
       "    <tr>\n",
       "      <th>1</th>\n",
       "      <td>MAD2L2</td>\n",
       "      <td>9.875857e-01</td>\n",
       "    </tr>\n",
       "    <tr>\n",
       "      <th>2</th>\n",
       "      <td>KIAA2013</td>\n",
       "      <td>9.988436e-01</td>\n",
       "    </tr>\n",
       "    <tr>\n",
       "      <th>3</th>\n",
       "      <td>PLOD1</td>\n",
       "      <td>9.949160e-01</td>\n",
       "    </tr>\n",
       "    <tr>\n",
       "      <th>4</th>\n",
       "      <td>RAB4A</td>\n",
       "      <td>9.985823e-01</td>\n",
       "    </tr>\n",
       "    <tr>\n",
       "      <th>...</th>\n",
       "      <td>...</td>\n",
       "      <td>...</td>\n",
       "    </tr>\n",
       "    <tr>\n",
       "      <th>339</th>\n",
       "      <td>NFIL3</td>\n",
       "      <td>9.893179e-01</td>\n",
       "    </tr>\n",
       "    <tr>\n",
       "      <th>340</th>\n",
       "      <td>NOL8</td>\n",
       "      <td>9.928191e-01</td>\n",
       "    </tr>\n",
       "    <tr>\n",
       "      <th>341</th>\n",
       "      <td>ASPN</td>\n",
       "      <td>1.000000e+00</td>\n",
       "    </tr>\n",
       "    <tr>\n",
       "      <th>342</th>\n",
       "      <td>CENPP</td>\n",
       "      <td>9.209363e-01</td>\n",
       "    </tr>\n",
       "    <tr>\n",
       "      <th>343</th>\n",
       "      <td>ECM2</td>\n",
       "      <td>9.999968e-01</td>\n",
       "    </tr>\n",
       "  </tbody>\n",
       "</table>\n",
       "<p>344 rows × 2 columns</p>\n",
       "</div>"
      ],
      "text/plain": [
       "         gene  gene_type_score\n",
       "0    C1orf127     1.403111e-09\n",
       "1      MAD2L2     9.875857e-01\n",
       "2    KIAA2013     9.988436e-01\n",
       "3       PLOD1     9.949160e-01\n",
       "4       RAB4A     9.985823e-01\n",
       "..        ...              ...\n",
       "339     NFIL3     9.893179e-01\n",
       "340      NOL8     9.928191e-01\n",
       "341      ASPN     1.000000e+00\n",
       "342     CENPP     9.209363e-01\n",
       "343      ECM2     9.999968e-01\n",
       "\n",
       "[344 rows x 2 columns]"
      ]
     },
     "execution_count": 9,
     "metadata": {},
     "output_type": "execute_result"
    }
   ],
   "source": [
    "# the probability of having dosage effects for each gene\n",
    "s_score"
   ]
  }
 ],
 "metadata": {
  "kernelspec": {
   "display_name": "Python 3",
   "language": "python",
   "name": "python3"
  },
  "language_info": {
   "codemirror_mode": {
    "name": "ipython",
    "version": 3
   },
   "file_extension": ".py",
   "mimetype": "text/x-python",
   "name": "python",
   "nbconvert_exporter": "python",
   "pygments_lexer": "ipython3",
   "version": "3.6.13"
  }
 },
 "nbformat": 4,
 "nbformat_minor": 5
}
