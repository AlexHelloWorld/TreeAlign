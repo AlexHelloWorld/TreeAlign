{
 "cells": [
  {
   "cell_type": "code",
   "execution_count": 1,
   "metadata": {},
   "outputs": [],
   "source": [
    "# based on clonealign framework, re-write with pyro\n",
    "import os\n",
    "from collections import defaultdict\n",
    "import torch\n",
    "import numpy as np\n",
    "import pandas as pd\n",
    "import scipy.stats\n",
    "from torch.distributions import constraints\n",
    "from torch.nn import Softplus\n",
    "from matplotlib import pyplot\n",
    "%matplotlib inline\n",
    "\n",
    "import pyro\n",
    "import pyro.distributions as dist\n",
    "from pyro import poutine\n",
    "from pyro.infer.autoguide import AutoDelta\n",
    "from pyro.optim import Adam\n",
    "from pyro.infer import SVI, TraceEnum_ELBO, config_enumerate, infer_discrete\n",
    "from pyro.ops.indexing import Vindex\n",
    "\n",
    "smoke_test = ('CI' in os.environ)\n",
    "assert pyro.__version__.startswith('1.5.1')\n",
    "pyro.enable_validation(True)"
   ]
  },
  {
   "cell_type": "code",
   "execution_count": 2,
   "metadata": {},
   "outputs": [],
   "source": [
    "# input data\n",
    "patient_id = 'SPECTRUM-OV-022'\n",
    "expr_csv = pd.read_csv('data/' + patient_id + '_expr_example.csv', header = 0, index_col=0)\n",
    "cnv_csv = pd.read_csv('data/' + patient_id + '_cnv_example.csv', header = 0, index_col=0)\n",
    "\n",
    "# cast cnv greater than 6\n",
    "cnv = torch.tensor(cnv_csv.values, dtype=torch.float)\n",
    "cnv = torch.transpose(cnv, 0, 1)\n",
    "\n",
    "cnv[cnv > 6] = 6\n",
    "\n",
    "expr = torch.tensor(expr_csv.values, dtype = torch.float)\n",
    "expr = torch.transpose(expr, 0, 1)"
   ]
  },
  {
   "cell_type": "code",
   "execution_count": 3,
   "metadata": {},
   "outputs": [],
   "source": [
    "# input data: cnv, expr\n",
    "# cnv: clone_count * gene_count\n",
    "# expr: cell_count * gene_count\n",
    "def inverse_softplus(x):\n",
    "    return x + torch.log(-torch.expm1(-x))\n",
    "\n",
    "@config_enumerate\n",
    "def clonealign_pyro(cnv, expr):\n",
    "    num_of_clones = len(cnv)\n",
    "    num_of_cells = len(expr)\n",
    "    num_of_genes = len(expr[0])\n",
    "    \n",
    "    softplus = Softplus()\n",
    "\n",
    "    # initialize per_copy_expr using the data (This typically speeds up convergence)\n",
    "    per_copy_expr_guess = torch.mean(expr/torch.reshape(torch.sum(expr, 1), (num_of_cells, 1)), 0)\n",
    "    \n",
    "    # draw chi from gamma\n",
    "    chi = pyro.sample('chi', dist.Gamma(torch.ones(6) * 2, torch.ones(6)).to_event(1))\n",
    "    \n",
    "    with pyro.plate('gene', num_of_genes):\n",
    "        # draw per_copy_expr from softplus-transformed Normal distribution\n",
    "        per_copy_expr = pyro.sample('per_copy_expr', dist.Normal(inverse_softplus(per_copy_expr_guess), torch.ones(num_of_genes)))\n",
    "        per_copy_expr = softplus(per_copy_expr) \n",
    "        \n",
    "        # draw w from Normal\n",
    "        w = pyro.sample('w', dist.Normal(torch.zeros(6), torch.sqrt(chi)).to_event(1))\n",
    "        \n",
    "    \n",
    "    with pyro.plate('cell', num_of_cells):\n",
    "        # draw clone_assign_prob from Dir\n",
    "        clone_assign_prob = pyro.sample('clone_assign_prob', dist.Dirichlet(torch.ones(num_of_clones)))\n",
    "        # draw clone_assign from Cat\n",
    "        clone_assign = pyro.sample('clone_assign', dist.Categorical(clone_assign_prob))\n",
    "        \n",
    "        # draw psi from Normal\n",
    "        psi = pyro.sample('psi', dist.Normal(torch.zeros(6), torch.ones(6)).to_event(1))\n",
    "        \n",
    "        # construct expected_expr\n",
    "        expected_expr = per_copy_expr * Vindex(cnv)[clone_assign] * torch.exp(torch.matmul(psi, torch.transpose(w, 0, 1)))\n",
    "        \n",
    "        # draw expr from Multinomial\n",
    "        pyro.sample('obs', dist.Multinomial(probs = expected_expr, validate_args=False), obs = expr)"
   ]
  },
  {
   "cell_type": "code",
   "execution_count": 4,
   "metadata": {},
   "outputs": [],
   "source": [
    "# initialize Adam optimizer\n",
    "optim = pyro.optim.Adam({'lr': 0.1, 'betas': [0.8, 0.99]})\n",
    "\n",
    "# TraceEnum_ELBO will marginalize out the assignments of datapoints to clusters\n",
    "elbo = TraceEnum_ELBO(max_plate_nesting=1)\n",
    "\n",
    "pyro.clear_param_store()\n",
    "\n",
    "# AutoGuide\n",
    "global_guide = AutoDelta(poutine.block(clonealign_pyro, \\\n",
    "                                       expose = ['chi', 'per_copy_expr', 'w', \\\n",
    "                                                 'clone_assign_prob', 'psi']))\n",
    "# put together SVI object\n",
    "svi = SVI(clonealign_pyro, global_guide, optim, loss=elbo)"
   ]
  },
  {
   "cell_type": "code",
   "execution_count": 5,
   "metadata": {},
   "outputs": [
    {
     "data": {
      "text/plain": [
       "13729072.0"
      ]
     },
     "execution_count": 5,
     "metadata": {},
     "output_type": "execute_result"
    }
   ],
   "source": [
    "gradient_norms = defaultdict(list)\n",
    "svi.loss(clonealign_pyro, global_guide, cnv, expr)  # Initializes param store."
   ]
  },
  {
   "cell_type": "code",
   "execution_count": 6,
   "metadata": {},
   "outputs": [
    {
     "name": "stdout",
     "output_type": "stream",
     "text": [
      "Start Inference.\n",
      "\n",
      ".................................................................ELBO converged at iteration 66\n"
     ]
    }
   ],
   "source": [
    "losses = []\n",
    "max_iter = 200\n",
    "rel_tol = 1e-5\n",
    "print('Start Inference.')\n",
    "for i in range(max_iter if not smoke_test else 2):\n",
    "    loss = svi.step(cnv, expr)\n",
    "    \n",
    "    if i >= 1:\n",
    "        loss_diff = abs((losses[-1] - loss)/losses[-1])\n",
    "        if loss_diff < rel_tol:\n",
    "            print('ELBO converged at iteration ' + str(i))\n",
    "            break\n",
    "    \n",
    "    losses.append(loss)\n",
    "    \n",
    "    print('.' if i % 200 else '\\n', end='')"
   ]
  },
  {
   "cell_type": "code",
   "execution_count": 61,
   "metadata": {},
   "outputs": [
    {
     "data": {
      "image/png": "[encoded data removed]",
      "text/plain": [
       "<Figure size 1000x300 with 1 Axes>"
      ]
     },
     "metadata": {},
     "output_type": "display_data"
    }
   ],
   "source": [
    "pyplot.figure(figsize=(10,3), dpi=100).set_facecolor('white')\n",
    "pyplot.plot(losses)\n",
    "pyplot.xlabel('iters')\n",
    "pyplot.ylabel('loss')\n",
    "pyplot.yscale('log')\n",
    "pyplot.title('Convergence of SVI');"
   ]
  },
  {
   "cell_type": "code",
   "execution_count": 62,
   "metadata": {},
   "outputs": [
    {
     "name": "stdout",
     "output_type": "stream",
     "text": [
      "clone_assign_prob = [[4.9937473e-19 4.9937473e-19 4.9937473e-19 1.0000000e+00]\n",
      " [1.0000000e+00 4.9937664e-19 4.9937664e-19 4.9937664e-19]\n",
      " [1.0000000e+00 4.9496337e-19 4.9508047e-19 4.8865602e-19]\n",
      " ...\n",
      " [4.9937473e-19 4.9937473e-19 4.9937473e-19 1.0000000e+00]\n",
      " [4.9908526e-19 4.9930235e-19 1.0000000e+00 4.9930235e-19]\n",
      " [1.0000000e+00 4.9937664e-19 4.9937664e-19 4.9937664e-19]]\n"
     ]
    }
   ],
   "source": [
    "map_estimates = global_guide(cnv, expr)\n",
    "\n",
    "clone_assign_prob = map_estimates['clone_assign_prob']\n",
    "\n",
    "print('clone_assign_prob = {}'.format(clone_assign_prob.data.numpy()))"
   ]
  },
  {
   "cell_type": "code",
   "execution_count": 43,
   "metadata": {},
   "outputs": [],
   "source": [
    "pd.DataFrame(clone_assign_prob.data.numpy()).to_csv(\"data/\" + patient_id + \"_clonealign_improve_clone_freq.csv\")"
   ]
  },
  {
   "cell_type": "code",
   "execution_count": null,
   "metadata": {},
   "outputs": [],
   "source": []
  }
 ],
 "metadata": {
  "kernelspec": {
   "display_name": "Python 3",
   "language": "python",
   "name": "python3"
  },
  "language_info": {
   "codemirror_mode": {
    "name": "ipython",
    "version": 3
   },
   "file_extension": ".py",
   "mimetype": "text/x-python",
   "name": "python",
   "nbconvert_exporter": "python",
   "pygments_lexer": "ipython3",
   "version": "3.7.4"
  }
 },
 "nbformat": 4,
 "nbformat_minor": 2
}
