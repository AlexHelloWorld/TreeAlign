{
 "cells": [
  {
   "cell_type": "code",
   "execution_count": 63,
   "metadata": {},
   "outputs": [
    {
     "name": "stderr",
     "output_type": "stream",
     "text": [
      "  8429951 Loaded backend module://ipykernel.pylab.backend_inline version unknown.\n"
     ]
    },
    {
     "name": "stdout",
     "output_type": "stream",
     "text": [
      "Loaded backend module://ipykernel.pylab.backend_inline version unknown.\n"
     ]
    }
   ],
   "source": [
    "# based on clonealign framework, re-write with pyro\n",
    "import logging\n",
    "import sys\n",
    "\n",
    "import os\n",
    "from collections import defaultdict\n",
    "import torch\n",
    "import numpy as np\n",
    "import pandas as pd\n",
    "import scipy.stats\n",
    "from torch.distributions import constraints\n",
    "from torch.nn import Softplus\n",
    "from matplotlib import pyplot\n",
    "%matplotlib inline\n",
    "\n",
    "import pyro\n",
    "import pyro.distributions as dist\n",
    "from pyro import poutine\n",
    "from pyro.infer.autoguide import AutoDelta\n",
    "from pyro.optim import Adam\n",
    "from pyro.infer import SVI, TraceEnum_ELBO, config_enumerate, infer_discrete\n",
    "from pyro.ops.indexing import Vindex\n",
    "\n",
    "smoke_test = ('CI' in os.environ)\n",
    "assert pyro.__version__.startswith('1.5.1')\n",
    "pyro.enable_validation(True)"
   ]
  },
  {
   "cell_type": "code",
   "execution_count": 64,
   "metadata": {},
   "outputs": [],
   "source": [
    "logging.basicConfig(format='%(relativeCreated) 9d %(message)s', level=logging.DEBUG)\n",
    "\n",
    "# Add another handler for logging debugging events (e.g. for profiling)\n",
    "# in a separate stream that can be captured.\n",
    "log = logging.getLogger()\n",
    "debug_handler = logging.StreamHandler(sys.stdout)\n",
    "debug_handler.setLevel(logging.DEBUG)\n",
    "debug_handler.addFilter(filter=lambda record: record.levelno <= logging.DEBUG)\n",
    "log.addHandler(debug_handler)"
   ]
  },
  {
   "cell_type": "code",
   "execution_count": 65,
   "metadata": {},
   "outputs": [],
   "source": [
    "# input data\n",
    "\n",
    "expr_input = \"data/SPECTRUM-OV-022_expr_clonealign_input.csv\"\n",
    "cnv_input = \"data/SPECTRUM-OV-022_cnv_clonealign_input.csv\"\n",
    "\n",
    "clone_assign_prob_output = \"data/SPECTRUM-OV-022_clone_assign_prob_0.csv\"\n",
    "gene_type_score_output = \"data/SPECTRUM-OV-022_gene_type_score_0.csv\"\n",
    "\n"
   ]
  },
  {
   "cell_type": "code",
   "execution_count": 66,
   "metadata": {},
   "outputs": [],
   "source": [
    "\n",
    "expr_csv = pd.read_csv(expr_input, header = 0, index_col=0)\n",
    "cnv_csv = pd.read_csv(cnv_input, header = 0, index_col=0)\n",
    "\n",
    "expr_csv = expr_csv[expr_csv.mean(1) > 0]\n",
    "cnv_csv = cnv_csv.loc[expr_csv.index, ]\n",
    "\n",
    "# cast cnv greater than 6\n",
    "cnv = torch.tensor(cnv_csv.values, dtype=torch.float)\n",
    "cnv = torch.transpose(cnv, 0, 1)\n",
    "\n",
    "cnv[cnv > 6] = 6\n",
    "\n",
    "expr = torch.tensor(expr_csv.values, dtype = torch.float)\n",
    "expr = torch.transpose(expr, 0, 1)\n",
    "\n"
   ]
  },
  {
   "cell_type": "code",
   "execution_count": 67,
   "metadata": {},
   "outputs": [],
   "source": [
    "# input data: cnv, expr\n",
    "# cnv: clone_count * gene_count\n",
    "# expr: cell_count * gene_count\n",
    "def inverse_softplus(x):\n",
    "    return x + torch.log(-torch.expm1(-x))\n",
    "\n",
    "@config_enumerate\n",
    "def clonealign_pyro(cnv, expr, temperature):\n",
    "    num_of_clones = len(cnv)\n",
    "    num_of_cells = len(expr)\n",
    "    num_of_genes = len(expr[0])\n",
    "\n",
    "    softplus = Softplus()\n",
    "\n",
    "    # initialize per_copy_expr using the data (This typically speeds up convergence)\n",
    "    expr = expr * 2000 / torch.reshape(torch.sum(expr, 1), (num_of_cells, 1))\n",
    "    per_copy_expr_guess = torch.mean(expr, 0)\n",
    "\n",
    "    # calculate copy number mean\n",
    "    copy_number_mean = torch.mean(cnv, 0)\n",
    "\n",
    "    # draw chi from gamma\n",
    "    chi = pyro.sample('expose_chi', dist.Gamma(torch.ones(6) * 2, torch.ones(6)).to_event(1))\n",
    "\n",
    "    with pyro.plate('gene', num_of_genes):\n",
    "        # draw per_copy_expr from softplus-transformed Normal distribution\n",
    "        per_copy_expr = pyro.sample('expose_per_copy_expr',\n",
    "                                    dist.Normal(inverse_softplus(per_copy_expr_guess), torch.ones(num_of_genes)))\n",
    "        \n",
    "\n",
    "        per_copy_expr = softplus(per_copy_expr)\n",
    "        \n",
    "        # instead of softplus-transformed normal, use negative binomial instead for per_copy_expr\n",
    "        # per_copy_expr = pyro.sample('per_copy_expr', dist.NegativeBinomial())\n",
    "\n",
    "        # draw w from Normal\n",
    "        w = pyro.sample('expose_w', dist.Normal(torch.zeros(6), torch.sqrt(chi)).to_event(1))\n",
    "\n",
    "        # sample the gene_type_score from uniform distribution.\n",
    "        # the score reflects how much the copy number influence expression.\n",
    "        gene_type_score = pyro.sample('expose_gene_type_score', dist.Dirichlet(torch.ones(2)))\n",
    "        gene_type = pyro.sample('expose_gene_type', dist.RelaxedOneHotCategorical(temperature = torch.tensor([0.5]), probs = gene_type_score))\n",
    "\n",
    "    with pyro.plate('cell', num_of_cells):\n",
    "        # draw clone_assign_prob from Dir\n",
    "        clone_assign_prob = pyro.sample('expose_clone_assign_prob', dist.Dirichlet(torch.ones(num_of_clones) * 0.1))\n",
    "        # draw clone_assign from Cat\n",
    "        clone_assign = pyro.sample('clone_assign', dist.Categorical(clone_assign_prob))\n",
    "\n",
    "        # draw psi from Normal\n",
    "        psi = pyro.sample('expose_psi', dist.Normal(torch.zeros(6), torch.ones(6)).to_event(1))        \n",
    "\n",
    "        expected_expr = per_copy_expr * (\n",
    "                    Vindex(cnv)[clone_assign] * gene_type[:, 0] + copy_number_mean * gene_type[:, 1]) * torch.exp(\n",
    "            torch.matmul(psi, torch.transpose(w, 0, 1)))\n",
    "\n",
    "        # draw expr from Multinomial\n",
    "        pyro.sample('obs', dist.Multinomial(total_count = 2000, probs=expected_expr, validate_args=False), obs=expr)\n",
    "        \n"
   ]
  },
  {
   "cell_type": "code",
   "execution_count": 68,
   "metadata": {},
   "outputs": [],
   "source": [
    "# initialize Adam optimizer\n",
    "optim = pyro.optim.Adam({'lr': 0.1, 'betas': [0.8, 0.99]})\n",
    "\n",
    "# TraceEnum_ELBO will marginalize out the assignments of datapoints to clusters\n",
    "elbo = TraceEnum_ELBO(max_plate_nesting=2)\n",
    "\n",
    "pyro.clear_param_store()\n",
    "\n",
    "# AutoGuide\n",
    "global_guide = AutoDelta(poutine.block(clonealign_pyro, expose_fn=lambda msg: msg[\"name\"].startswith(\"expose_\")))\n",
    "# put together SVI object\n",
    "svi = SVI(clonealign_pyro, global_guide, optim, loss=elbo)"
   ]
  },
  {
   "cell_type": "code",
   "execution_count": 70,
   "metadata": {},
   "outputs": [
    {
     "data": {
      "text/plain": [
       "12573142.0"
      ]
     },
     "execution_count": 70,
     "metadata": {},
     "output_type": "execute_result"
    }
   ],
   "source": [
    "tau0 = 1.0\n",
    "ANNEAL_RATE=0.0003\n",
    "MIN_TEMP=0.5\n",
    "np_temp=tau0\n",
    "\n",
    "\n",
    "gradient_norms = defaultdict(list)\n",
    "svi.loss(clonealign_pyro, global_guide, cnv, expr, np_temp)  # Initializes param store."
   ]
  },
  {
   "cell_type": "code",
   "execution_count": 72,
   "metadata": {},
   "outputs": [
    {
     "name": "stdout",
     "output_type": "stream",
     "text": [
      "Start Inference.\n",
      "\n",
      "................................................................................................................................................................................................................ELBO converged at iteration 209\n"
     ]
    }
   ],
   "source": [
    "losses = []\n",
    "max_iter = 500\n",
    "rel_tol = 1e-5\n",
    "print('Start Inference.')\n",
    "for i in range(max_iter if not smoke_test else 2):\n",
    "    loss = svi.step(cnv, expr, np_temp)\n",
    "    if i % 100 == 1:\n",
    "        np_temp=np.maximum(tau0*np.exp(-ANNEAL_RATE*i),MIN_TEMP)\n",
    "    \n",
    "    if i >= 1:\n",
    "        loss_diff = abs((losses[-1] - loss)/losses[-1])\n",
    "        if loss_diff < rel_tol:\n",
    "            print('ELBO converged at iteration ' + str(i))\n",
    "            break\n",
    "    \n",
    "    losses.append(loss)\n",
    "    \n",
    "    print('.' if i % 500 else '\\n', end='')"
   ]
  },
  {
   "cell_type": "code",
   "execution_count": 40,
   "metadata": {},
   "outputs": [
    {
     "data": {
      "text/plain": [
       "[]"
      ]
     },
     "execution_count": 40,
     "metadata": {},
     "output_type": "execute_result"
    }
   ],
   "source": [
    "losses"
   ]
  },
  {
   "cell_type": "code",
   "execution_count": 73,
   "metadata": {},
   "outputs": [
    {
     "name": "stderr",
     "output_type": "stream",
     "text": [
      " 10376878 vmin 9596972.360151106 vmax 12735910.27474622\n"
     ]
    },
    {
     "name": "stdout",
     "output_type": "stream",
     "text": [
      "vmin 9596972.360151106 vmax 12735910.27474622\n",
      "vmin 9596972.360151106 vmax 12735910.27474622\n"
     ]
    },
    {
     "name": "stderr",
     "output_type": "stream",
     "text": [
      " 10376881 ticklocs array([1.e+05, 1.e+06, 1.e+07, 1.e+08, 1.e+09])\n"
     ]
    },
    {
     "name": "stdout",
     "output_type": "stream",
     "text": [
      "ticklocs array([1.e+05, 1.e+06, 1.e+07, 1.e+08, 1.e+09])\n",
      "ticklocs array([1.e+05, 1.e+06, 1.e+07, 1.e+08, 1.e+09])\n"
     ]
    },
    {
     "name": "stderr",
     "output_type": "stream",
     "text": [
      " 10376895 vmin 9596972.360151106 vmax 12735910.27474622\n"
     ]
    },
    {
     "name": "stdout",
     "output_type": "stream",
     "text": [
      "vmin 9596972.360151106 vmax 12735910.27474622\n",
      "vmin 9596972.360151106 vmax 12735910.27474622\n"
     ]
    },
    {
     "name": "stderr",
     "output_type": "stream",
     "text": [
      " 10376898 ticklocs array([1.e+05, 1.e+06, 1.e+07, 1.e+08, 1.e+09])\n"
     ]
    },
    {
     "name": "stdout",
     "output_type": "stream",
     "text": [
      "ticklocs array([1.e+05, 1.e+06, 1.e+07, 1.e+08, 1.e+09])\n",
      "ticklocs array([1.e+05, 1.e+06, 1.e+07, 1.e+08, 1.e+09])\n"
     ]
    },
    {
     "name": "stderr",
     "output_type": "stream",
     "text": [
      " 10376904 vmin 9596972.360151106 vmax 12735910.27474622\n"
     ]
    },
    {
     "name": "stdout",
     "output_type": "stream",
     "text": [
      "vmin 9596972.360151106 vmax 12735910.27474622\n",
      "vmin 9596972.360151106 vmax 12735910.27474622\n"
     ]
    },
    {
     "name": "stderr",
     "output_type": "stream",
     "text": [
      " 10376908 ticklocs array([2.e+05, 3.e+05, 4.e+05, 5.e+05, 6.e+05, 7.e+05, 8.e+05, 9.e+05,\n",
      "       2.e+06, 3.e+06, 4.e+06, 5.e+06, 6.e+06, 7.e+06, 8.e+06, 9.e+06,\n",
      "       2.e+07, 3.e+07, 4.e+07, 5.e+07, 6.e+07, 7.e+07, 8.e+07, 9.e+07,\n",
      "       2.e+08, 3.e+08, 4.e+08, 5.e+08, 6.e+08, 7.e+08, 8.e+08, 9.e+08,\n",
      "       2.e+09, 3.e+09, 4.e+09, 5.e+09, 6.e+09, 7.e+09, 8.e+09, 9.e+09])\n"
     ]
    },
    {
     "name": "stdout",
     "output_type": "stream",
     "text": [
      "ticklocs array([2.e+05, 3.e+05, 4.e+05, 5.e+05, 6.e+05, 7.e+05, 8.e+05, 9.e+05,\n",
      "       2.e+06, 3.e+06, 4.e+06, 5.e+06, 6.e+06, 7.e+06, 8.e+06, 9.e+06,\n",
      "       2.e+07, 3.e+07, 4.e+07, 5.e+07, 6.e+07, 7.e+07, 8.e+07, 9.e+07,\n",
      "       2.e+08, 3.e+08, 4.e+08, 5.e+08, 6.e+08, 7.e+08, 8.e+08, 9.e+08,\n",
      "       2.e+09, 3.e+09, 4.e+09, 5.e+09, 6.e+09, 7.e+09, 8.e+09, 9.e+09])\n",
      "ticklocs array([2.e+05, 3.e+05, 4.e+05, 5.e+05, 6.e+05, 7.e+05, 8.e+05, 9.e+05,\n",
      "       2.e+06, 3.e+06, 4.e+06, 5.e+06, 6.e+06, 7.e+06, 8.e+06, 9.e+06,\n",
      "       2.e+07, 3.e+07, 4.e+07, 5.e+07, 6.e+07, 7.e+07, 8.e+07, 9.e+07,\n",
      "       2.e+08, 3.e+08, 4.e+08, 5.e+08, 6.e+08, 7.e+08, 8.e+08, 9.e+08,\n",
      "       2.e+09, 3.e+09, 4.e+09, 5.e+09, 6.e+09, 7.e+09, 8.e+09, 9.e+09])\n"
     ]
    },
    {
     "name": "stderr",
     "output_type": "stream",
     "text": [
      " 10377024 vmin 9596972.360151106 vmax 12735910.27474622\n"
     ]
    },
    {
     "name": "stdout",
     "output_type": "stream",
     "text": [
      "vmin 9596972.360151106 vmax 12735910.27474622\n",
      "vmin 9596972.360151106 vmax 12735910.27474622\n"
     ]
    },
    {
     "name": "stderr",
     "output_type": "stream",
     "text": [
      " 10377025 ticklocs array([1.e+05, 1.e+06, 1.e+07, 1.e+08, 1.e+09])\n"
     ]
    },
    {
     "name": "stdout",
     "output_type": "stream",
     "text": [
      "ticklocs array([1.e+05, 1.e+06, 1.e+07, 1.e+08, 1.e+09])\n",
      "ticklocs array([1.e+05, 1.e+06, 1.e+07, 1.e+08, 1.e+09])\n"
     ]
    },
    {
     "name": "stderr",
     "output_type": "stream",
     "text": [
      " 10377029 vmin 9596972.360151106 vmax 12735910.27474622\n"
     ]
    },
    {
     "name": "stdout",
     "output_type": "stream",
     "text": [
      "vmin 9596972.360151106 vmax 12735910.27474622\n",
      "vmin 9596972.360151106 vmax 12735910.27474622\n"
     ]
    },
    {
     "name": "stderr",
     "output_type": "stream",
     "text": [
      " 10377032 ticklocs array([1.e+05, 1.e+06, 1.e+07, 1.e+08, 1.e+09])\n"
     ]
    },
    {
     "name": "stdout",
     "output_type": "stream",
     "text": [
      "ticklocs array([1.e+05, 1.e+06, 1.e+07, 1.e+08, 1.e+09])\n",
      "ticklocs array([1.e+05, 1.e+06, 1.e+07, 1.e+08, 1.e+09])\n"
     ]
    },
    {
     "name": "stderr",
     "output_type": "stream",
     "text": [
      " 10377034 vmin 9596972.360151106 vmax 12735910.27474622\n"
     ]
    },
    {
     "name": "stdout",
     "output_type": "stream",
     "text": [
      "vmin 9596972.360151106 vmax 12735910.27474622\n",
      "vmin 9596972.360151106 vmax 12735910.27474622\n"
     ]
    },
    {
     "name": "stderr",
     "output_type": "stream",
     "text": [
      " 10377037 ticklocs array([2.e+05, 3.e+05, 4.e+05, 5.e+05, 6.e+05, 7.e+05, 8.e+05, 9.e+05,\n",
      "       2.e+06, 3.e+06, 4.e+06, 5.e+06, 6.e+06, 7.e+06, 8.e+06, 9.e+06,\n",
      "       2.e+07, 3.e+07, 4.e+07, 5.e+07, 6.e+07, 7.e+07, 8.e+07, 9.e+07,\n",
      "       2.e+08, 3.e+08, 4.e+08, 5.e+08, 6.e+08, 7.e+08, 8.e+08, 9.e+08,\n",
      "       2.e+09, 3.e+09, 4.e+09, 5.e+09, 6.e+09, 7.e+09, 8.e+09, 9.e+09])\n"
     ]
    },
    {
     "name": "stdout",
     "output_type": "stream",
     "text": [
      "ticklocs array([2.e+05, 3.e+05, 4.e+05, 5.e+05, 6.e+05, 7.e+05, 8.e+05, 9.e+05,\n",
      "       2.e+06, 3.e+06, 4.e+06, 5.e+06, 6.e+06, 7.e+06, 8.e+06, 9.e+06,\n",
      "       2.e+07, 3.e+07, 4.e+07, 5.e+07, 6.e+07, 7.e+07, 8.e+07, 9.e+07,\n",
      "       2.e+08, 3.e+08, 4.e+08, 5.e+08, 6.e+08, 7.e+08, 8.e+08, 9.e+08,\n",
      "       2.e+09, 3.e+09, 4.e+09, 5.e+09, 6.e+09, 7.e+09, 8.e+09, 9.e+09])\n",
      "ticklocs array([2.e+05, 3.e+05, 4.e+05, 5.e+05, 6.e+05, 7.e+05, 8.e+05, 9.e+05,\n",
      "       2.e+06, 3.e+06, 4.e+06, 5.e+06, 6.e+06, 7.e+06, 8.e+06, 9.e+06,\n",
      "       2.e+07, 3.e+07, 4.e+07, 5.e+07, 6.e+07, 7.e+07, 8.e+07, 9.e+07,\n",
      "       2.e+08, 3.e+08, 4.e+08, 5.e+08, 6.e+08, 7.e+08, 8.e+08, 9.e+08,\n",
      "       2.e+09, 3.e+09, 4.e+09, 5.e+09, 6.e+09, 7.e+09, 8.e+09, 9.e+09])\n"
     ]
    },
    {
     "name": "stderr",
     "output_type": "stream",
     "text": [
      " 10377053 vmin 9596972.360151106 vmax 12735910.27474622\n"
     ]
    },
    {
     "name": "stdout",
     "output_type": "stream",
     "text": [
      "vmin 9596972.360151106 vmax 12735910.27474622\n",
      "vmin 9596972.360151106 vmax 12735910.27474622\n"
     ]
    },
    {
     "name": "stderr",
     "output_type": "stream",
     "text": [
      " 10377055 ticklocs array([1.e+05, 1.e+06, 1.e+07, 1.e+08, 1.e+09])\n"
     ]
    },
    {
     "name": "stdout",
     "output_type": "stream",
     "text": [
      "ticklocs array([1.e+05, 1.e+06, 1.e+07, 1.e+08, 1.e+09])\n",
      "ticklocs array([1.e+05, 1.e+06, 1.e+07, 1.e+08, 1.e+09])\n"
     ]
    },
    {
     "name": "stderr",
     "output_type": "stream",
     "text": [
      " 10377058 vmin 9596972.360151106 vmax 12735910.27474622\n"
     ]
    },
    {
     "name": "stdout",
     "output_type": "stream",
     "text": [
      "vmin 9596972.360151106 vmax 12735910.27474622\n",
      "vmin 9596972.360151106 vmax 12735910.27474622\n"
     ]
    },
    {
     "name": "stderr",
     "output_type": "stream",
     "text": [
      " 10377060 ticklocs array([1.e+05, 1.e+06, 1.e+07, 1.e+08, 1.e+09])\n"
     ]
    },
    {
     "name": "stdout",
     "output_type": "stream",
     "text": [
      "ticklocs array([1.e+05, 1.e+06, 1.e+07, 1.e+08, 1.e+09])\n",
      "ticklocs array([1.e+05, 1.e+06, 1.e+07, 1.e+08, 1.e+09])\n"
     ]
    },
    {
     "name": "stderr",
     "output_type": "stream",
     "text": [
      " 10377064 vmin 9596972.360151106 vmax 12735910.27474622\n"
     ]
    },
    {
     "name": "stdout",
     "output_type": "stream",
     "text": [
      "vmin 9596972.360151106 vmax 12735910.27474622\n",
      "vmin 9596972.360151106 vmax 12735910.27474622\n"
     ]
    },
    {
     "name": "stderr",
     "output_type": "stream",
     "text": [
      " 10377066 ticklocs array([2.e+05, 3.e+05, 4.e+05, 5.e+05, 6.e+05, 7.e+05, 8.e+05, 9.e+05,\n",
      "       2.e+06, 3.e+06, 4.e+06, 5.e+06, 6.e+06, 7.e+06, 8.e+06, 9.e+06,\n",
      "       2.e+07, 3.e+07, 4.e+07, 5.e+07, 6.e+07, 7.e+07, 8.e+07, 9.e+07,\n",
      "       2.e+08, 3.e+08, 4.e+08, 5.e+08, 6.e+08, 7.e+08, 8.e+08, 9.e+08,\n",
      "       2.e+09, 3.e+09, 4.e+09, 5.e+09, 6.e+09, 7.e+09, 8.e+09, 9.e+09])\n"
     ]
    },
    {
     "name": "stdout",
     "output_type": "stream",
     "text": [
      "ticklocs array([2.e+05, 3.e+05, 4.e+05, 5.e+05, 6.e+05, 7.e+05, 8.e+05, 9.e+05,\n",
      "       2.e+06, 3.e+06, 4.e+06, 5.e+06, 6.e+06, 7.e+06, 8.e+06, 9.e+06,\n",
      "       2.e+07, 3.e+07, 4.e+07, 5.e+07, 6.e+07, 7.e+07, 8.e+07, 9.e+07,\n",
      "       2.e+08, 3.e+08, 4.e+08, 5.e+08, 6.e+08, 7.e+08, 8.e+08, 9.e+08,\n",
      "       2.e+09, 3.e+09, 4.e+09, 5.e+09, 6.e+09, 7.e+09, 8.e+09, 9.e+09])\n",
      "ticklocs array([2.e+05, 3.e+05, 4.e+05, 5.e+05, 6.e+05, 7.e+05, 8.e+05, 9.e+05,\n",
      "       2.e+06, 3.e+06, 4.e+06, 5.e+06, 6.e+06, 7.e+06, 8.e+06, 9.e+06,\n",
      "       2.e+07, 3.e+07, 4.e+07, 5.e+07, 6.e+07, 7.e+07, 8.e+07, 9.e+07,\n",
      "       2.e+08, 3.e+08, 4.e+08, 5.e+08, 6.e+08, 7.e+08, 8.e+08, 9.e+08,\n",
      "       2.e+09, 3.e+09, 4.e+09, 5.e+09, 6.e+09, 7.e+09, 8.e+09, 9.e+09])\n"
     ]
    },
    {
     "name": "stderr",
     "output_type": "stream",
     "text": [
      " 10377075 vmin 9596972.360151106 vmax 12735910.27474622\n"
     ]
    },
    {
     "name": "stdout",
     "output_type": "stream",
     "text": [
      "vmin 9596972.360151106 vmax 12735910.27474622\n",
      "vmin 9596972.360151106 vmax 12735910.27474622\n"
     ]
    },
    {
     "name": "stderr",
     "output_type": "stream",
     "text": [
      " 10377078 ticklocs array([1.e+05, 1.e+06, 1.e+07, 1.e+08, 1.e+09])\n"
     ]
    },
    {
     "name": "stdout",
     "output_type": "stream",
     "text": [
      "ticklocs array([1.e+05, 1.e+06, 1.e+07, 1.e+08, 1.e+09])\n",
      "ticklocs array([1.e+05, 1.e+06, 1.e+07, 1.e+08, 1.e+09])\n"
     ]
    },
    {
     "name": "stderr",
     "output_type": "stream",
     "text": [
      " 10377081 vmin 9596972.360151106 vmax 12735910.27474622\n"
     ]
    },
    {
     "name": "stdout",
     "output_type": "stream",
     "text": [
      "vmin 9596972.360151106 vmax 12735910.27474622\n",
      "vmin 9596972.360151106 vmax 12735910.27474622\n"
     ]
    },
    {
     "name": "stderr",
     "output_type": "stream",
     "text": [
      " 10377083 ticklocs array([1.e+05, 1.e+06, 1.e+07, 1.e+08, 1.e+09])\n"
     ]
    },
    {
     "name": "stdout",
     "output_type": "stream",
     "text": [
      "ticklocs array([1.e+05, 1.e+06, 1.e+07, 1.e+08, 1.e+09])\n",
      "ticklocs array([1.e+05, 1.e+06, 1.e+07, 1.e+08, 1.e+09])\n"
     ]
    },
    {
     "name": "stderr",
     "output_type": "stream",
     "text": [
      " 10377086 vmin 9596972.360151106 vmax 12735910.27474622\n"
     ]
    },
    {
     "name": "stdout",
     "output_type": "stream",
     "text": [
      "vmin 9596972.360151106 vmax 12735910.27474622\n",
      "vmin 9596972.360151106 vmax 12735910.27474622\n"
     ]
    },
    {
     "name": "stderr",
     "output_type": "stream",
     "text": [
      " 10377088 ticklocs array([2.e+05, 3.e+05, 4.e+05, 5.e+05, 6.e+05, 7.e+05, 8.e+05, 9.e+05,\n",
      "       2.e+06, 3.e+06, 4.e+06, 5.e+06, 6.e+06, 7.e+06, 8.e+06, 9.e+06,\n",
      "       2.e+07, 3.e+07, 4.e+07, 5.e+07, 6.e+07, 7.e+07, 8.e+07, 9.e+07,\n",
      "       2.e+08, 3.e+08, 4.e+08, 5.e+08, 6.e+08, 7.e+08, 8.e+08, 9.e+08,\n",
      "       2.e+09, 3.e+09, 4.e+09, 5.e+09, 6.e+09, 7.e+09, 8.e+09, 9.e+09])\n"
     ]
    },
    {
     "name": "stdout",
     "output_type": "stream",
     "text": [
      "ticklocs array([2.e+05, 3.e+05, 4.e+05, 5.e+05, 6.e+05, 7.e+05, 8.e+05, 9.e+05,\n",
      "       2.e+06, 3.e+06, 4.e+06, 5.e+06, 6.e+06, 7.e+06, 8.e+06, 9.e+06,\n",
      "       2.e+07, 3.e+07, 4.e+07, 5.e+07, 6.e+07, 7.e+07, 8.e+07, 9.e+07,\n",
      "       2.e+08, 3.e+08, 4.e+08, 5.e+08, 6.e+08, 7.e+08, 8.e+08, 9.e+08,\n",
      "       2.e+09, 3.e+09, 4.e+09, 5.e+09, 6.e+09, 7.e+09, 8.e+09, 9.e+09])\n",
      "ticklocs array([2.e+05, 3.e+05, 4.e+05, 5.e+05, 6.e+05, 7.e+05, 8.e+05, 9.e+05,\n",
      "       2.e+06, 3.e+06, 4.e+06, 5.e+06, 6.e+06, 7.e+06, 8.e+06, 9.e+06,\n",
      "       2.e+07, 3.e+07, 4.e+07, 5.e+07, 6.e+07, 7.e+07, 8.e+07, 9.e+07,\n",
      "       2.e+08, 3.e+08, 4.e+08, 5.e+08, 6.e+08, 7.e+08, 8.e+08, 9.e+08,\n",
      "       2.e+09, 3.e+09, 4.e+09, 5.e+09, 6.e+09, 7.e+09, 8.e+09, 9.e+09])\n"
     ]
    },
    {
     "name": "stderr",
     "output_type": "stream",
     "text": [
      " 10377109 vmin 9596972.360151106 vmax 12735910.27474622\n"
     ]
    },
    {
     "name": "stdout",
     "output_type": "stream",
     "text": [
      "vmin 9596972.360151106 vmax 12735910.27474622\n",
      "vmin 9596972.360151106 vmax 12735910.27474622\n"
     ]
    },
    {
     "name": "stderr",
     "output_type": "stream",
     "text": [
      " 10377111 ticklocs array([1.e+05, 1.e+06, 1.e+07, 1.e+08, 1.e+09])\n"
     ]
    },
    {
     "name": "stdout",
     "output_type": "stream",
     "text": [
      "ticklocs array([1.e+05, 1.e+06, 1.e+07, 1.e+08, 1.e+09])\n",
      "ticklocs array([1.e+05, 1.e+06, 1.e+07, 1.e+08, 1.e+09])\n"
     ]
    },
    {
     "name": "stderr",
     "output_type": "stream",
     "text": [
      " 10377114 vmin 9596972.360151106 vmax 12735910.27474622\n"
     ]
    },
    {
     "name": "stdout",
     "output_type": "stream",
     "text": [
      "vmin 9596972.360151106 vmax 12735910.27474622\n",
      "vmin 9596972.360151106 vmax 12735910.27474622\n"
     ]
    },
    {
     "name": "stderr",
     "output_type": "stream",
     "text": [
      " 10377118 ticklocs array([1.e+05, 1.e+06, 1.e+07, 1.e+08, 1.e+09])\n"
     ]
    },
    {
     "name": "stdout",
     "output_type": "stream",
     "text": [
      "ticklocs array([1.e+05, 1.e+06, 1.e+07, 1.e+08, 1.e+09])\n",
      "ticklocs array([1.e+05, 1.e+06, 1.e+07, 1.e+08, 1.e+09])\n"
     ]
    },
    {
     "name": "stderr",
     "output_type": "stream",
     "text": [
      " 10377120 vmin 9596972.360151106 vmax 12735910.27474622\n"
     ]
    },
    {
     "name": "stdout",
     "output_type": "stream",
     "text": [
      "vmin 9596972.360151106 vmax 12735910.27474622\n",
      "vmin 9596972.360151106 vmax 12735910.27474622\n"
     ]
    },
    {
     "name": "stderr",
     "output_type": "stream",
     "text": [
      " 10377123 ticklocs array([2.e+05, 3.e+05, 4.e+05, 5.e+05, 6.e+05, 7.e+05, 8.e+05, 9.e+05,\n",
      "       2.e+06, 3.e+06, 4.e+06, 5.e+06, 6.e+06, 7.e+06, 8.e+06, 9.e+06,\n",
      "       2.e+07, 3.e+07, 4.e+07, 5.e+07, 6.e+07, 7.e+07, 8.e+07, 9.e+07,\n",
      "       2.e+08, 3.e+08, 4.e+08, 5.e+08, 6.e+08, 7.e+08, 8.e+08, 9.e+08,\n",
      "       2.e+09, 3.e+09, 4.e+09, 5.e+09, 6.e+09, 7.e+09, 8.e+09, 9.e+09])\n"
     ]
    },
    {
     "name": "stdout",
     "output_type": "stream",
     "text": [
      "ticklocs array([2.e+05, 3.e+05, 4.e+05, 5.e+05, 6.e+05, 7.e+05, 8.e+05, 9.e+05,\n",
      "       2.e+06, 3.e+06, 4.e+06, 5.e+06, 6.e+06, 7.e+06, 8.e+06, 9.e+06,\n",
      "       2.e+07, 3.e+07, 4.e+07, 5.e+07, 6.e+07, 7.e+07, 8.e+07, 9.e+07,\n",
      "       2.e+08, 3.e+08, 4.e+08, 5.e+08, 6.e+08, 7.e+08, 8.e+08, 9.e+08,\n",
      "       2.e+09, 3.e+09, 4.e+09, 5.e+09, 6.e+09, 7.e+09, 8.e+09, 9.e+09])\n",
      "ticklocs array([2.e+05, 3.e+05, 4.e+05, 5.e+05, 6.e+05, 7.e+05, 8.e+05, 9.e+05,\n",
      "       2.e+06, 3.e+06, 4.e+06, 5.e+06, 6.e+06, 7.e+06, 8.e+06, 9.e+06,\n",
      "       2.e+07, 3.e+07, 4.e+07, 5.e+07, 6.e+07, 7.e+07, 8.e+07, 9.e+07,\n",
      "       2.e+08, 3.e+08, 4.e+08, 5.e+08, 6.e+08, 7.e+08, 8.e+08, 9.e+08,\n",
      "       2.e+09, 3.e+09, 4.e+09, 5.e+09, 6.e+09, 7.e+09, 8.e+09, 9.e+09])\n"
     ]
    },
    {
     "name": "stderr",
     "output_type": "stream",
     "text": [
      " 10377129 vmin 9596972.360151106 vmax 12735910.27474622\n"
     ]
    },
    {
     "name": "stdout",
     "output_type": "stream",
     "text": [
      "vmin 9596972.360151106 vmax 12735910.27474622\n",
      "vmin 9596972.360151106 vmax 12735910.27474622\n"
     ]
    },
    {
     "name": "stderr",
     "output_type": "stream",
     "text": [
      " 10377131 ticklocs array([1.e+05, 1.e+06, 1.e+07, 1.e+08, 1.e+09])\n"
     ]
    },
    {
     "name": "stdout",
     "output_type": "stream",
     "text": [
      "ticklocs array([1.e+05, 1.e+06, 1.e+07, 1.e+08, 1.e+09])\n",
      "ticklocs array([1.e+05, 1.e+06, 1.e+07, 1.e+08, 1.e+09])\n"
     ]
    },
    {
     "name": "stderr",
     "output_type": "stream",
     "text": [
      " 10377133 vmin 9596972.360151106 vmax 12735910.27474622\n"
     ]
    },
    {
     "name": "stdout",
     "output_type": "stream",
     "text": [
      "vmin 9596972.360151106 vmax 12735910.27474622\n",
      "vmin 9596972.360151106 vmax 12735910.27474622\n"
     ]
    },
    {
     "name": "stderr",
     "output_type": "stream",
     "text": [
      " 10377134 ticklocs array([1.e+05, 1.e+06, 1.e+07, 1.e+08, 1.e+09])\n"
     ]
    },
    {
     "name": "stdout",
     "output_type": "stream",
     "text": [
      "ticklocs array([1.e+05, 1.e+06, 1.e+07, 1.e+08, 1.e+09])\n",
      "ticklocs array([1.e+05, 1.e+06, 1.e+07, 1.e+08, 1.e+09])\n"
     ]
    },
    {
     "name": "stderr",
     "output_type": "stream",
     "text": [
      " 10377138 vmin 9596972.360151106 vmax 12735910.27474622\n"
     ]
    },
    {
     "name": "stdout",
     "output_type": "stream",
     "text": [
      "vmin 9596972.360151106 vmax 12735910.27474622\n",
      "vmin 9596972.360151106 vmax 12735910.27474622\n"
     ]
    },
    {
     "name": "stderr",
     "output_type": "stream",
     "text": [
      " 10377140 ticklocs array([2.e+05, 3.e+05, 4.e+05, 5.e+05, 6.e+05, 7.e+05, 8.e+05, 9.e+05,\n",
      "       2.e+06, 3.e+06, 4.e+06, 5.e+06, 6.e+06, 7.e+06, 8.e+06, 9.e+06,\n",
      "       2.e+07, 3.e+07, 4.e+07, 5.e+07, 6.e+07, 7.e+07, 8.e+07, 9.e+07,\n",
      "       2.e+08, 3.e+08, 4.e+08, 5.e+08, 6.e+08, 7.e+08, 8.e+08, 9.e+08,\n",
      "       2.e+09, 3.e+09, 4.e+09, 5.e+09, 6.e+09, 7.e+09, 8.e+09, 9.e+09])\n"
     ]
    },
    {
     "name": "stdout",
     "output_type": "stream",
     "text": [
      "ticklocs array([2.e+05, 3.e+05, 4.e+05, 5.e+05, 6.e+05, 7.e+05, 8.e+05, 9.e+05,\n",
      "       2.e+06, 3.e+06, 4.e+06, 5.e+06, 6.e+06, 7.e+06, 8.e+06, 9.e+06,\n",
      "       2.e+07, 3.e+07, 4.e+07, 5.e+07, 6.e+07, 7.e+07, 8.e+07, 9.e+07,\n",
      "       2.e+08, 3.e+08, 4.e+08, 5.e+08, 6.e+08, 7.e+08, 8.e+08, 9.e+08,\n",
      "       2.e+09, 3.e+09, 4.e+09, 5.e+09, 6.e+09, 7.e+09, 8.e+09, 9.e+09])\n",
      "ticklocs array([2.e+05, 3.e+05, 4.e+05, 5.e+05, 6.e+05, 7.e+05, 8.e+05, 9.e+05,\n",
      "       2.e+06, 3.e+06, 4.e+06, 5.e+06, 6.e+06, 7.e+06, 8.e+06, 9.e+06,\n",
      "       2.e+07, 3.e+07, 4.e+07, 5.e+07, 6.e+07, 7.e+07, 8.e+07, 9.e+07,\n",
      "       2.e+08, 3.e+08, 4.e+08, 5.e+08, 6.e+08, 7.e+08, 8.e+08, 9.e+08,\n",
      "       2.e+09, 3.e+09, 4.e+09, 5.e+09, 6.e+09, 7.e+09, 8.e+09, 9.e+09])\n"
     ]
    },
    {
     "name": "stderr",
     "output_type": "stream",
     "text": [
      " 10377156 vmin 9596972.360151106 vmax 12735910.27474622\n"
     ]
    },
    {
     "name": "stdout",
     "output_type": "stream",
     "text": [
      "vmin 9596972.360151106 vmax 12735910.27474622\n",
      "vmin 9596972.360151106 vmax 12735910.27474622\n"
     ]
    },
    {
     "name": "stderr",
     "output_type": "stream",
     "text": [
      " 10377158 ticklocs array([1.e+05, 1.e+06, 1.e+07, 1.e+08, 1.e+09])\n"
     ]
    },
    {
     "name": "stdout",
     "output_type": "stream",
     "text": [
      "ticklocs array([1.e+05, 1.e+06, 1.e+07, 1.e+08, 1.e+09])\n",
      "ticklocs array([1.e+05, 1.e+06, 1.e+07, 1.e+08, 1.e+09])\n"
     ]
    },
    {
     "name": "stderr",
     "output_type": "stream",
     "text": [
      " 10377162 vmin 9596972.360151106 vmax 12735910.27474622\n"
     ]
    },
    {
     "name": "stdout",
     "output_type": "stream",
     "text": [
      "vmin 9596972.360151106 vmax 12735910.27474622\n",
      "vmin 9596972.360151106 vmax 12735910.27474622\n"
     ]
    },
    {
     "name": "stderr",
     "output_type": "stream",
     "text": [
      " 10377165 ticklocs array([1.e+05, 1.e+06, 1.e+07, 1.e+08, 1.e+09])\n"
     ]
    },
    {
     "name": "stdout",
     "output_type": "stream",
     "text": [
      "ticklocs array([1.e+05, 1.e+06, 1.e+07, 1.e+08, 1.e+09])\n",
      "ticklocs array([1.e+05, 1.e+06, 1.e+07, 1.e+08, 1.e+09])\n"
     ]
    },
    {
     "name": "stderr",
     "output_type": "stream",
     "text": [
      " 10377168 vmin 9596972.360151106 vmax 12735910.27474622\n"
     ]
    },
    {
     "name": "stdout",
     "output_type": "stream",
     "text": [
      "vmin 9596972.360151106 vmax 12735910.27474622\n",
      "vmin 9596972.360151106 vmax 12735910.27474622\n"
     ]
    },
    {
     "name": "stderr",
     "output_type": "stream",
     "text": [
      " 10377170 ticklocs array([2.e+05, 3.e+05, 4.e+05, 5.e+05, 6.e+05, 7.e+05, 8.e+05, 9.e+05,\n",
      "       2.e+06, 3.e+06, 4.e+06, 5.e+06, 6.e+06, 7.e+06, 8.e+06, 9.e+06,\n",
      "       2.e+07, 3.e+07, 4.e+07, 5.e+07, 6.e+07, 7.e+07, 8.e+07, 9.e+07,\n",
      "       2.e+08, 3.e+08, 4.e+08, 5.e+08, 6.e+08, 7.e+08, 8.e+08, 9.e+08,\n",
      "       2.e+09, 3.e+09, 4.e+09, 5.e+09, 6.e+09, 7.e+09, 8.e+09, 9.e+09])\n"
     ]
    },
    {
     "name": "stdout",
     "output_type": "stream",
     "text": [
      "ticklocs array([2.e+05, 3.e+05, 4.e+05, 5.e+05, 6.e+05, 7.e+05, 8.e+05, 9.e+05,\n",
      "       2.e+06, 3.e+06, 4.e+06, 5.e+06, 6.e+06, 7.e+06, 8.e+06, 9.e+06,\n",
      "       2.e+07, 3.e+07, 4.e+07, 5.e+07, 6.e+07, 7.e+07, 8.e+07, 9.e+07,\n",
      "       2.e+08, 3.e+08, 4.e+08, 5.e+08, 6.e+08, 7.e+08, 8.e+08, 9.e+08,\n",
      "       2.e+09, 3.e+09, 4.e+09, 5.e+09, 6.e+09, 7.e+09, 8.e+09, 9.e+09])\n",
      "ticklocs array([2.e+05, 3.e+05, 4.e+05, 5.e+05, 6.e+05, 7.e+05, 8.e+05, 9.e+05,\n",
      "       2.e+06, 3.e+06, 4.e+06, 5.e+06, 6.e+06, 7.e+06, 8.e+06, 9.e+06,\n",
      "       2.e+07, 3.e+07, 4.e+07, 5.e+07, 6.e+07, 7.e+07, 8.e+07, 9.e+07,\n",
      "       2.e+08, 3.e+08, 4.e+08, 5.e+08, 6.e+08, 7.e+08, 8.e+08, 9.e+08,\n",
      "       2.e+09, 3.e+09, 4.e+09, 5.e+09, 6.e+09, 7.e+09, 8.e+09, 9.e+09])\n"
     ]
    },
    {
     "name": "stderr",
     "output_type": "stream",
     "text": [
      " 10377177 vmin 9596972.360151106 vmax 12735910.27474622\n"
     ]
    },
    {
     "name": "stdout",
     "output_type": "stream",
     "text": [
      "vmin 9596972.360151106 vmax 12735910.27474622\n",
      "vmin 9596972.360151106 vmax 12735910.27474622\n"
     ]
    },
    {
     "name": "stderr",
     "output_type": "stream",
     "text": [
      " 10377179 ticklocs array([1.e+05, 1.e+06, 1.e+07, 1.e+08, 1.e+09])\n"
     ]
    },
    {
     "name": "stdout",
     "output_type": "stream",
     "text": [
      "ticklocs array([1.e+05, 1.e+06, 1.e+07, 1.e+08, 1.e+09])\n",
      "ticklocs array([1.e+05, 1.e+06, 1.e+07, 1.e+08, 1.e+09])\n"
     ]
    },
    {
     "name": "stderr",
     "output_type": "stream",
     "text": [
      " 10377183 vmin 9596972.360151106 vmax 12735910.27474622\n"
     ]
    },
    {
     "name": "stdout",
     "output_type": "stream",
     "text": [
      "vmin 9596972.360151106 vmax 12735910.27474622\n",
      "vmin 9596972.360151106 vmax 12735910.27474622\n"
     ]
    },
    {
     "name": "stderr",
     "output_type": "stream",
     "text": [
      " 10377184 ticklocs array([1.e+05, 1.e+06, 1.e+07, 1.e+08, 1.e+09])\n"
     ]
    },
    {
     "name": "stdout",
     "output_type": "stream",
     "text": [
      "ticklocs array([1.e+05, 1.e+06, 1.e+07, 1.e+08, 1.e+09])\n",
      "ticklocs array([1.e+05, 1.e+06, 1.e+07, 1.e+08, 1.e+09])\n"
     ]
    },
    {
     "name": "stderr",
     "output_type": "stream",
     "text": [
      " 10377187 vmin 9596972.360151106 vmax 12735910.27474622\n"
     ]
    },
    {
     "name": "stdout",
     "output_type": "stream",
     "text": [
      "vmin 9596972.360151106 vmax 12735910.27474622\n",
      "vmin 9596972.360151106 vmax 12735910.27474622\n"
     ]
    },
    {
     "name": "stderr",
     "output_type": "stream",
     "text": [
      " 10377188 ticklocs array([2.e+05, 3.e+05, 4.e+05, 5.e+05, 6.e+05, 7.e+05, 8.e+05, 9.e+05,\n",
      "       2.e+06, 3.e+06, 4.e+06, 5.e+06, 6.e+06, 7.e+06, 8.e+06, 9.e+06,\n",
      "       2.e+07, 3.e+07, 4.e+07, 5.e+07, 6.e+07, 7.e+07, 8.e+07, 9.e+07,\n",
      "       2.e+08, 3.e+08, 4.e+08, 5.e+08, 6.e+08, 7.e+08, 8.e+08, 9.e+08,\n",
      "       2.e+09, 3.e+09, 4.e+09, 5.e+09, 6.e+09, 7.e+09, 8.e+09, 9.e+09])\n"
     ]
    },
    {
     "name": "stdout",
     "output_type": "stream",
     "text": [
      "ticklocs array([2.e+05, 3.e+05, 4.e+05, 5.e+05, 6.e+05, 7.e+05, 8.e+05, 9.e+05,\n",
      "       2.e+06, 3.e+06, 4.e+06, 5.e+06, 6.e+06, 7.e+06, 8.e+06, 9.e+06,\n",
      "       2.e+07, 3.e+07, 4.e+07, 5.e+07, 6.e+07, 7.e+07, 8.e+07, 9.e+07,\n",
      "       2.e+08, 3.e+08, 4.e+08, 5.e+08, 6.e+08, 7.e+08, 8.e+08, 9.e+08,\n",
      "       2.e+09, 3.e+09, 4.e+09, 5.e+09, 6.e+09, 7.e+09, 8.e+09, 9.e+09])\n",
      "ticklocs array([2.e+05, 3.e+05, 4.e+05, 5.e+05, 6.e+05, 7.e+05, 8.e+05, 9.e+05,\n",
      "       2.e+06, 3.e+06, 4.e+06, 5.e+06, 6.e+06, 7.e+06, 8.e+06, 9.e+06,\n",
      "       2.e+07, 3.e+07, 4.e+07, 5.e+07, 6.e+07, 7.e+07, 8.e+07, 9.e+07,\n",
      "       2.e+08, 3.e+08, 4.e+08, 5.e+08, 6.e+08, 7.e+08, 8.e+08, 9.e+08,\n",
      "       2.e+09, 3.e+09, 4.e+09, 5.e+09, 6.e+09, 7.e+09, 8.e+09, 9.e+09])\n"
     ]
    },
    {
     "name": "stderr",
     "output_type": "stream",
     "text": [
      " 10377216 vmin 9596972.360151106 vmax 12735910.27474622\n"
     ]
    },
    {
     "name": "stdout",
     "output_type": "stream",
     "text": [
      "vmin 9596972.360151106 vmax 12735910.27474622\n",
      "vmin 9596972.360151106 vmax 12735910.27474622\n"
     ]
    },
    {
     "name": "stderr",
     "output_type": "stream",
     "text": [
      " 10377218 ticklocs array([1.e+05, 1.e+06, 1.e+07, 1.e+08, 1.e+09])\n"
     ]
    },
    {
     "name": "stdout",
     "output_type": "stream",
     "text": [
      "ticklocs array([1.e+05, 1.e+06, 1.e+07, 1.e+08, 1.e+09])\n",
      "ticklocs array([1.e+05, 1.e+06, 1.e+07, 1.e+08, 1.e+09])\n"
     ]
    },
    {
     "name": "stderr",
     "output_type": "stream",
     "text": [
      " 10377221 vmin 9596972.360151106 vmax 12735910.27474622\n"
     ]
    },
    {
     "name": "stdout",
     "output_type": "stream",
     "text": [
      "vmin 9596972.360151106 vmax 12735910.27474622\n",
      "vmin 9596972.360151106 vmax 12735910.27474622\n"
     ]
    },
    {
     "name": "stderr",
     "output_type": "stream",
     "text": [
      " 10377224 ticklocs array([1.e+05, 1.e+06, 1.e+07, 1.e+08, 1.e+09])\n"
     ]
    },
    {
     "name": "stdout",
     "output_type": "stream",
     "text": [
      "ticklocs array([1.e+05, 1.e+06, 1.e+07, 1.e+08, 1.e+09])\n",
      "ticklocs array([1.e+05, 1.e+06, 1.e+07, 1.e+08, 1.e+09])\n"
     ]
    },
    {
     "name": "stderr",
     "output_type": "stream",
     "text": [
      " 10377228 vmin 9596972.360151106 vmax 12735910.27474622\n"
     ]
    },
    {
     "name": "stdout",
     "output_type": "stream",
     "text": [
      "vmin 9596972.360151106 vmax 12735910.27474622\n",
      "vmin 9596972.360151106 vmax 12735910.27474622\n"
     ]
    },
    {
     "name": "stderr",
     "output_type": "stream",
     "text": [
      " 10377231 ticklocs array([2.e+05, 3.e+05, 4.e+05, 5.e+05, 6.e+05, 7.e+05, 8.e+05, 9.e+05,\n",
      "       2.e+06, 3.e+06, 4.e+06, 5.e+06, 6.e+06, 7.e+06, 8.e+06, 9.e+06,\n",
      "       2.e+07, 3.e+07, 4.e+07, 5.e+07, 6.e+07, 7.e+07, 8.e+07, 9.e+07,\n",
      "       2.e+08, 3.e+08, 4.e+08, 5.e+08, 6.e+08, 7.e+08, 8.e+08, 9.e+08,\n",
      "       2.e+09, 3.e+09, 4.e+09, 5.e+09, 6.e+09, 7.e+09, 8.e+09, 9.e+09])\n"
     ]
    },
    {
     "name": "stdout",
     "output_type": "stream",
     "text": [
      "ticklocs array([2.e+05, 3.e+05, 4.e+05, 5.e+05, 6.e+05, 7.e+05, 8.e+05, 9.e+05,\n",
      "       2.e+06, 3.e+06, 4.e+06, 5.e+06, 6.e+06, 7.e+06, 8.e+06, 9.e+06,\n",
      "       2.e+07, 3.e+07, 4.e+07, 5.e+07, 6.e+07, 7.e+07, 8.e+07, 9.e+07,\n",
      "       2.e+08, 3.e+08, 4.e+08, 5.e+08, 6.e+08, 7.e+08, 8.e+08, 9.e+08,\n",
      "       2.e+09, 3.e+09, 4.e+09, 5.e+09, 6.e+09, 7.e+09, 8.e+09, 9.e+09])\n",
      "ticklocs array([2.e+05, 3.e+05, 4.e+05, 5.e+05, 6.e+05, 7.e+05, 8.e+05, 9.e+05,\n",
      "       2.e+06, 3.e+06, 4.e+06, 5.e+06, 6.e+06, 7.e+06, 8.e+06, 9.e+06,\n",
      "       2.e+07, 3.e+07, 4.e+07, 5.e+07, 6.e+07, 7.e+07, 8.e+07, 9.e+07,\n",
      "       2.e+08, 3.e+08, 4.e+08, 5.e+08, 6.e+08, 7.e+08, 8.e+08, 9.e+08,\n",
      "       2.e+09, 3.e+09, 4.e+09, 5.e+09, 6.e+09, 7.e+09, 8.e+09, 9.e+09])\n"
     ]
    },
    {
     "name": "stderr",
     "output_type": "stream",
     "text": [
      " 10377315 vmin 9596972.360151106 vmax 12735910.27474622\n"
     ]
    },
    {
     "name": "stdout",
     "output_type": "stream",
     "text": [
      "vmin 9596972.360151106 vmax 12735910.27474622\n",
      "vmin 9596972.360151106 vmax 12735910.27474622\n"
     ]
    },
    {
     "name": "stderr",
     "output_type": "stream",
     "text": [
      " 10377318 ticklocs array([1.e+05, 1.e+06, 1.e+07, 1.e+08, 1.e+09])\n"
     ]
    },
    {
     "name": "stdout",
     "output_type": "stream",
     "text": [
      "ticklocs array([1.e+05, 1.e+06, 1.e+07, 1.e+08, 1.e+09])\n",
      "ticklocs array([1.e+05, 1.e+06, 1.e+07, 1.e+08, 1.e+09])\n"
     ]
    },
    {
     "name": "stderr",
     "output_type": "stream",
     "text": [
      " 10377323 vmin 9596972.360151106 vmax 12735910.27474622\n"
     ]
    },
    {
     "name": "stdout",
     "output_type": "stream",
     "text": [
      "vmin 9596972.360151106 vmax 12735910.27474622\n",
      "vmin 9596972.360151106 vmax 12735910.27474622\n"
     ]
    },
    {
     "name": "stderr",
     "output_type": "stream",
     "text": [
      " 10377326 ticklocs array([1.e+05, 1.e+06, 1.e+07, 1.e+08, 1.e+09])\n"
     ]
    },
    {
     "name": "stdout",
     "output_type": "stream",
     "text": [
      "ticklocs array([1.e+05, 1.e+06, 1.e+07, 1.e+08, 1.e+09])\n",
      "ticklocs array([1.e+05, 1.e+06, 1.e+07, 1.e+08, 1.e+09])\n"
     ]
    },
    {
     "name": "stderr",
     "output_type": "stream",
     "text": [
      " 10377327 vmin 9596972.360151106 vmax 12735910.27474622\n"
     ]
    },
    {
     "name": "stdout",
     "output_type": "stream",
     "text": [
      "vmin 9596972.360151106 vmax 12735910.27474622\n",
      "vmin 9596972.360151106 vmax 12735910.27474622\n"
     ]
    },
    {
     "name": "stderr",
     "output_type": "stream",
     "text": [
      " 10377329 ticklocs array([2.e+05, 3.e+05, 4.e+05, 5.e+05, 6.e+05, 7.e+05, 8.e+05, 9.e+05,\n",
      "       2.e+06, 3.e+06, 4.e+06, 5.e+06, 6.e+06, 7.e+06, 8.e+06, 9.e+06,\n",
      "       2.e+07, 3.e+07, 4.e+07, 5.e+07, 6.e+07, 7.e+07, 8.e+07, 9.e+07,\n",
      "       2.e+08, 3.e+08, 4.e+08, 5.e+08, 6.e+08, 7.e+08, 8.e+08, 9.e+08,\n",
      "       2.e+09, 3.e+09, 4.e+09, 5.e+09, 6.e+09, 7.e+09, 8.e+09, 9.e+09])\n"
     ]
    },
    {
     "name": "stdout",
     "output_type": "stream",
     "text": [
      "ticklocs array([2.e+05, 3.e+05, 4.e+05, 5.e+05, 6.e+05, 7.e+05, 8.e+05, 9.e+05,\n",
      "       2.e+06, 3.e+06, 4.e+06, 5.e+06, 6.e+06, 7.e+06, 8.e+06, 9.e+06,\n",
      "       2.e+07, 3.e+07, 4.e+07, 5.e+07, 6.e+07, 7.e+07, 8.e+07, 9.e+07,\n",
      "       2.e+08, 3.e+08, 4.e+08, 5.e+08, 6.e+08, 7.e+08, 8.e+08, 9.e+08,\n",
      "       2.e+09, 3.e+09, 4.e+09, 5.e+09, 6.e+09, 7.e+09, 8.e+09, 9.e+09])\n",
      "ticklocs array([2.e+05, 3.e+05, 4.e+05, 5.e+05, 6.e+05, 7.e+05, 8.e+05, 9.e+05,\n",
      "       2.e+06, 3.e+06, 4.e+06, 5.e+06, 6.e+06, 7.e+06, 8.e+06, 9.e+06,\n",
      "       2.e+07, 3.e+07, 4.e+07, 5.e+07, 6.e+07, 7.e+07, 8.e+07, 9.e+07,\n",
      "       2.e+08, 3.e+08, 4.e+08, 5.e+08, 6.e+08, 7.e+08, 8.e+08, 9.e+08,\n",
      "       2.e+09, 3.e+09, 4.e+09, 5.e+09, 6.e+09, 7.e+09, 8.e+09, 9.e+09])\n"
     ]
    },
    {
     "data": {
      "image/png": "[encoded data removed]",
      "text/plain": [
       "<Figure size 1000x300 with 1 Axes>"
      ]
     },
     "metadata": {},
     "output_type": "display_data"
    }
   ],
   "source": [
    "pyplot.figure(figsize=(10,3), dpi=100).set_facecolor('white')\n",
    "_ = pyplot.plot(losses)\n",
    "pyplot.xlabel('iters')\n",
    "pyplot.ylabel('loss')\n",
    "pyplot.yscale('log')\n",
    "pyplot.title('Convergence of SVI');"
   ]
  },
  {
   "cell_type": "code",
   "execution_count": 74,
   "metadata": {},
   "outputs": [],
   "source": [
    "map_estimates = global_guide(cnv, expr)\n",
    "\n",
    "clone_assign_prob = map_estimates['expose_clone_assign_prob']\n",
    "gene_type_score = map_estimates['expose_gene_type_score']\n",
    "\n",
    "per_copy_expr = map_estimates['expose_per_copy_expr']\n",
    "psi = map_estimates['expose_psi']\n",
    "chi = map_estimates['expose_chi']\n",
    "w = map_estimates['expose_w']\n",
    "\n",
    "clone_assign_prob_dataframe = pd.DataFrame(clone_assign_prob.data.numpy())\n",
    "gene_type_score_dataframe = pd.DataFrame(gene_type_score.data.numpy())"
   ]
  },
  {
   "cell_type": "code",
   "execution_count": 75,
   "metadata": {},
   "outputs": [],
   "source": [
    "rowname_dict = {i:c for i, c in enumerate(expr_csv.columns)}\n",
    "colname_dict = {i:c for i, c in enumerate(cnv_csv.columns)}\n",
    "\n",
    "genename_dict = {i:c for i, c in enumerate(expr_csv.index)}\n",
    "\n",
    "clone_assign_prob_dataframe.rename(index = rowname_dict, inplace = True)\n",
    "clone_assign_prob_dataframe.rename(columns = colname_dict, inplace = True)\n",
    "\n",
    "gene_type_score_dataframe.rename(index = genename_dict, inplace = True)"
   ]
  },
  {
   "cell_type": "code",
   "execution_count": 76,
   "metadata": {},
   "outputs": [],
   "source": [
    "clone_assign_prob_dataframe.to_csv(clone_assign_prob_output)"
   ]
  },
  {
   "cell_type": "code",
   "execution_count": 77,
   "metadata": {},
   "outputs": [],
   "source": [
    "gene_type_score_dataframe.to_csv(gene_type_score_output)"
   ]
  },
  {
   "cell_type": "code",
   "execution_count": null,
   "metadata": {},
   "outputs": [],
   "source": []
  },
  {
   "cell_type": "code",
   "execution_count": 78,
   "metadata": {},
   "outputs": [
    {
     "data": {
      "text/html": [
       "<div>\n",
       "<style scoped>\n",
       "    .dataframe tbody tr th:only-of-type {\n",
       "        vertical-align: middle;\n",
       "    }\n",
       "\n",
       "    .dataframe tbody tr th {\n",
       "        vertical-align: top;\n",
       "    }\n",
       "\n",
       "    .dataframe thead th {\n",
       "        text-align: right;\n",
       "    }\n",
       "</style>\n",
       "<table border=\"1\" class=\"dataframe\">\n",
       "  <thead>\n",
       "    <tr style=\"text-align: right;\">\n",
       "      <th></th>\n",
       "      <th>cluster_1</th>\n",
       "      <th>cluster_2</th>\n",
       "      <th>cluster_3</th>\n",
       "    </tr>\n",
       "  </thead>\n",
       "  <tbody>\n",
       "    <tr>\n",
       "      <th>SPECTRUM-OV-022_S1_CD45N_RIGHT_ADNEXA_AAACCCACAAGCGCAA</th>\n",
       "      <td>8.852903e-20</td>\n",
       "      <td>8.852903e-20</td>\n",
       "      <td>1.000000e+00</td>\n",
       "    </tr>\n",
       "    <tr>\n",
       "      <th>SPECTRUM-OV-022_S1_CD45N_RIGHT_ADNEXA_AAACCCATCGCGGACT</th>\n",
       "      <td>1.000000e+00</td>\n",
       "      <td>8.852903e-20</td>\n",
       "      <td>8.852903e-20</td>\n",
       "    </tr>\n",
       "    <tr>\n",
       "      <th>SPECTRUM-OV-022_S1_CD45N_RIGHT_ADNEXA_AAACGAATCCTTGGAA</th>\n",
       "      <td>1.000000e+00</td>\n",
       "      <td>8.852869e-20</td>\n",
       "      <td>8.852869e-20</td>\n",
       "    </tr>\n",
       "    <tr>\n",
       "      <th>SPECTRUM-OV-022_S1_CD45N_RIGHT_ADNEXA_AAACGCTCACTATCGA</th>\n",
       "      <td>1.000000e+00</td>\n",
       "      <td>8.852903e-20</td>\n",
       "      <td>8.852903e-20</td>\n",
       "    </tr>\n",
       "    <tr>\n",
       "      <th>SPECTRUM-OV-022_S1_CD45N_RIGHT_ADNEXA_AAACGCTGTCGACTTA</th>\n",
       "      <td>1.000000e+00</td>\n",
       "      <td>8.852903e-20</td>\n",
       "      <td>8.852903e-20</td>\n",
       "    </tr>\n",
       "    <tr>\n",
       "      <th>...</th>\n",
       "      <td>...</td>\n",
       "      <td>...</td>\n",
       "      <td>...</td>\n",
       "    </tr>\n",
       "    <tr>\n",
       "      <th>SPECTRUM-OV-022_S1_CD45N_LEFT_ADNEXA_TTTGATCCATGACTGT</th>\n",
       "      <td>8.852903e-20</td>\n",
       "      <td>8.852903e-20</td>\n",
       "      <td>1.000000e+00</td>\n",
       "    </tr>\n",
       "    <tr>\n",
       "      <th>SPECTRUM-OV-022_S1_CD45N_LEFT_ADNEXA_TTTGATCGTTCAAGTC</th>\n",
       "      <td>8.852903e-20</td>\n",
       "      <td>8.852903e-20</td>\n",
       "      <td>1.000000e+00</td>\n",
       "    </tr>\n",
       "    <tr>\n",
       "      <th>SPECTRUM-OV-022_S1_CD45N_LEFT_ADNEXA_TTTGGAGTCCATTGCC</th>\n",
       "      <td>8.852869e-20</td>\n",
       "      <td>8.852869e-20</td>\n",
       "      <td>1.000000e+00</td>\n",
       "    </tr>\n",
       "    <tr>\n",
       "      <th>SPECTRUM-OV-022_S1_CD45N_LEFT_ADNEXA_TTTGTTGGTGTCTAAC</th>\n",
       "      <td>8.852869e-20</td>\n",
       "      <td>1.000000e+00</td>\n",
       "      <td>8.852869e-20</td>\n",
       "    </tr>\n",
       "    <tr>\n",
       "      <th>SPECTRUM-OV-022_S1_CD45N_LEFT_ADNEXA_TTTGTTGTCCCAGTGG</th>\n",
       "      <td>1.000000e+00</td>\n",
       "      <td>8.852869e-20</td>\n",
       "      <td>8.852869e-20</td>\n",
       "    </tr>\n",
       "  </tbody>\n",
       "</table>\n",
       "<p>5139 rows × 3 columns</p>\n",
       "</div>"
      ],
      "text/plain": [
       "                                                       cluster_1  \\\n",
       "SPECTRUM-OV-022_S1_CD45N_RIGHT_ADNEXA_AAACCCACA...  8.852903e-20   \n",
       "SPECTRUM-OV-022_S1_CD45N_RIGHT_ADNEXA_AAACCCATC...  1.000000e+00   \n",
       "SPECTRUM-OV-022_S1_CD45N_RIGHT_ADNEXA_AAACGAATC...  1.000000e+00   \n",
       "SPECTRUM-OV-022_S1_CD45N_RIGHT_ADNEXA_AAACGCTCA...  1.000000e+00   \n",
       "SPECTRUM-OV-022_S1_CD45N_RIGHT_ADNEXA_AAACGCTGT...  1.000000e+00   \n",
       "...                                                          ...   \n",
       "SPECTRUM-OV-022_S1_CD45N_LEFT_ADNEXA_TTTGATCCAT...  8.852903e-20   \n",
       "SPECTRUM-OV-022_S1_CD45N_LEFT_ADNEXA_TTTGATCGTT...  8.852903e-20   \n",
       "SPECTRUM-OV-022_S1_CD45N_LEFT_ADNEXA_TTTGGAGTCC...  8.852869e-20   \n",
       "SPECTRUM-OV-022_S1_CD45N_LEFT_ADNEXA_TTTGTTGGTG...  8.852869e-20   \n",
       "SPECTRUM-OV-022_S1_CD45N_LEFT_ADNEXA_TTTGTTGTCC...  1.000000e+00   \n",
       "\n",
       "                                                       cluster_2     cluster_3  \n",
       "SPECTRUM-OV-022_S1_CD45N_RIGHT_ADNEXA_AAACCCACA...  8.852903e-20  1.000000e+00  \n",
       "SPECTRUM-OV-022_S1_CD45N_RIGHT_ADNEXA_AAACCCATC...  8.852903e-20  8.852903e-20  \n",
       "SPECTRUM-OV-022_S1_CD45N_RIGHT_ADNEXA_AAACGAATC...  8.852869e-20  8.852869e-20  \n",
       "SPECTRUM-OV-022_S1_CD45N_RIGHT_ADNEXA_AAACGCTCA...  8.852903e-20  8.852903e-20  \n",
       "SPECTRUM-OV-022_S1_CD45N_RIGHT_ADNEXA_AAACGCTGT...  8.852903e-20  8.852903e-20  \n",
       "...                                                          ...           ...  \n",
       "SPECTRUM-OV-022_S1_CD45N_LEFT_ADNEXA_TTTGATCCAT...  8.852903e-20  1.000000e+00  \n",
       "SPECTRUM-OV-022_S1_CD45N_LEFT_ADNEXA_TTTGATCGTT...  8.852903e-20  1.000000e+00  \n",
       "SPECTRUM-OV-022_S1_CD45N_LEFT_ADNEXA_TTTGGAGTCC...  8.852869e-20  1.000000e+00  \n",
       "SPECTRUM-OV-022_S1_CD45N_LEFT_ADNEXA_TTTGTTGGTG...  1.000000e+00  8.852869e-20  \n",
       "SPECTRUM-OV-022_S1_CD45N_LEFT_ADNEXA_TTTGTTGTCC...  8.852869e-20  8.852869e-20  \n",
       "\n",
       "[5139 rows x 3 columns]"
      ]
     },
     "execution_count": 78,
     "metadata": {},
     "output_type": "execute_result"
    }
   ],
   "source": [
    "clone_assign_prob_dataframe"
   ]
  },
  {
   "cell_type": "code",
   "execution_count": 76,
   "metadata": {},
   "outputs": [
    {
     "data": {
      "text/html": [
       "<div>\n",
       "<style scoped>\n",
       "    .dataframe tbody tr th:only-of-type {\n",
       "        vertical-align: middle;\n",
       "    }\n",
       "\n",
       "    .dataframe tbody tr th {\n",
       "        vertical-align: top;\n",
       "    }\n",
       "\n",
       "    .dataframe thead th {\n",
       "        text-align: right;\n",
       "    }\n",
       "</style>\n",
       "<table border=\"1\" class=\"dataframe\">\n",
       "  <thead>\n",
       "    <tr style=\"text-align: right;\">\n",
       "      <th></th>\n",
       "      <th>clone1</th>\n",
       "      <th>clone2</th>\n",
       "      <th>clone3</th>\n",
       "      <th>clone4</th>\n",
       "    </tr>\n",
       "  </thead>\n",
       "  <tbody>\n",
       "    <tr>\n",
       "      <th>SPECTRUM.OV.022_S1_CD45N_RIGHT_ADNEXA_AAACCCACAAGCGCAA</th>\n",
       "      <td>0.001993</td>\n",
       "      <td>0.001993</td>\n",
       "      <td>0.001993</td>\n",
       "      <td>0.994020</td>\n",
       "    </tr>\n",
       "    <tr>\n",
       "      <th>SPECTRUM.OV.022_S1_CD45N_RIGHT_ADNEXA_AAACCCATCGCGGACT</th>\n",
       "      <td>0.994020</td>\n",
       "      <td>0.001993</td>\n",
       "      <td>0.001993</td>\n",
       "      <td>0.001993</td>\n",
       "    </tr>\n",
       "    <tr>\n",
       "      <th>SPECTRUM.OV.022_S1_CD45N_RIGHT_ADNEXA_AAACGAATCCTTGGAA</th>\n",
       "      <td>0.984887</td>\n",
       "      <td>0.008323</td>\n",
       "      <td>0.001852</td>\n",
       "      <td>0.004938</td>\n",
       "    </tr>\n",
       "    <tr>\n",
       "      <th>SPECTRUM.OV.022_S1_CD45N_RIGHT_ADNEXA_AAACGCTCACTATCGA</th>\n",
       "      <td>0.994020</td>\n",
       "      <td>0.001993</td>\n",
       "      <td>0.001993</td>\n",
       "      <td>0.001993</td>\n",
       "    </tr>\n",
       "    <tr>\n",
       "      <th>SPECTRUM.OV.022_S1_CD45N_RIGHT_ADNEXA_AAACGCTGTCGACTTA</th>\n",
       "      <td>0.994020</td>\n",
       "      <td>0.001993</td>\n",
       "      <td>0.001993</td>\n",
       "      <td>0.001993</td>\n",
       "    </tr>\n",
       "    <tr>\n",
       "      <th>...</th>\n",
       "      <td>...</td>\n",
       "      <td>...</td>\n",
       "      <td>...</td>\n",
       "      <td>...</td>\n",
       "    </tr>\n",
       "    <tr>\n",
       "      <th>SPECTRUM.OV.022_S1_CD45N_LEFT_ADNEXA_TTTGATCGTTCAAGTC</th>\n",
       "      <td>0.001993</td>\n",
       "      <td>0.001993</td>\n",
       "      <td>0.001993</td>\n",
       "      <td>0.994020</td>\n",
       "    </tr>\n",
       "    <tr>\n",
       "      <th>SPECTRUM.OV.022_S1_CD45N_LEFT_ADNEXA_TTTGGAGGTGTGTGTT</th>\n",
       "      <td>0.002184</td>\n",
       "      <td>0.001989</td>\n",
       "      <td>0.993905</td>\n",
       "      <td>0.001921</td>\n",
       "    </tr>\n",
       "    <tr>\n",
       "      <th>SPECTRUM.OV.022_S1_CD45N_LEFT_ADNEXA_TTTGGAGTCCATTGCC</th>\n",
       "      <td>0.001996</td>\n",
       "      <td>0.002081</td>\n",
       "      <td>0.002011</td>\n",
       "      <td>0.993913</td>\n",
       "    </tr>\n",
       "    <tr>\n",
       "      <th>SPECTRUM.OV.022_S1_CD45N_LEFT_ADNEXA_TTTGTTGGTGTCTAAC</th>\n",
       "      <td>0.001983</td>\n",
       "      <td>0.001992</td>\n",
       "      <td>0.994061</td>\n",
       "      <td>0.001964</td>\n",
       "    </tr>\n",
       "    <tr>\n",
       "      <th>SPECTRUM.OV.022_S1_CD45N_LEFT_ADNEXA_TTTGTTGTCCCAGTGG</th>\n",
       "      <td>0.992936</td>\n",
       "      <td>0.001677</td>\n",
       "      <td>0.001677</td>\n",
       "      <td>0.003709</td>\n",
       "    </tr>\n",
       "  </tbody>\n",
       "</table>\n",
       "<p>5708 rows × 4 columns</p>\n",
       "</div>"
      ],
      "text/plain": [
       "                                                      clone1    clone2  \\\n",
       "SPECTRUM.OV.022_S1_CD45N_RIGHT_ADNEXA_AAACCCACA...  0.001993  0.001993   \n",
       "SPECTRUM.OV.022_S1_CD45N_RIGHT_ADNEXA_AAACCCATC...  0.994020  0.001993   \n",
       "SPECTRUM.OV.022_S1_CD45N_RIGHT_ADNEXA_AAACGAATC...  0.984887  0.008323   \n",
       "SPECTRUM.OV.022_S1_CD45N_RIGHT_ADNEXA_AAACGCTCA...  0.994020  0.001993   \n",
       "SPECTRUM.OV.022_S1_CD45N_RIGHT_ADNEXA_AAACGCTGT...  0.994020  0.001993   \n",
       "...                                                      ...       ...   \n",
       "SPECTRUM.OV.022_S1_CD45N_LEFT_ADNEXA_TTTGATCGTT...  0.001993  0.001993   \n",
       "SPECTRUM.OV.022_S1_CD45N_LEFT_ADNEXA_TTTGGAGGTG...  0.002184  0.001989   \n",
       "SPECTRUM.OV.022_S1_CD45N_LEFT_ADNEXA_TTTGGAGTCC...  0.001996  0.002081   \n",
       "SPECTRUM.OV.022_S1_CD45N_LEFT_ADNEXA_TTTGTTGGTG...  0.001983  0.001992   \n",
       "SPECTRUM.OV.022_S1_CD45N_LEFT_ADNEXA_TTTGTTGTCC...  0.992936  0.001677   \n",
       "\n",
       "                                                      clone3    clone4  \n",
       "SPECTRUM.OV.022_S1_CD45N_RIGHT_ADNEXA_AAACCCACA...  0.001993  0.994020  \n",
       "SPECTRUM.OV.022_S1_CD45N_RIGHT_ADNEXA_AAACCCATC...  0.001993  0.001993  \n",
       "SPECTRUM.OV.022_S1_CD45N_RIGHT_ADNEXA_AAACGAATC...  0.001852  0.004938  \n",
       "SPECTRUM.OV.022_S1_CD45N_RIGHT_ADNEXA_AAACGCTCA...  0.001993  0.001993  \n",
       "SPECTRUM.OV.022_S1_CD45N_RIGHT_ADNEXA_AAACGCTGT...  0.001993  0.001993  \n",
       "...                                                      ...       ...  \n",
       "SPECTRUM.OV.022_S1_CD45N_LEFT_ADNEXA_TTTGATCGTT...  0.001993  0.994020  \n",
       "SPECTRUM.OV.022_S1_CD45N_LEFT_ADNEXA_TTTGGAGGTG...  0.993905  0.001921  \n",
       "SPECTRUM.OV.022_S1_CD45N_LEFT_ADNEXA_TTTGGAGTCC...  0.002011  0.993913  \n",
       "SPECTRUM.OV.022_S1_CD45N_LEFT_ADNEXA_TTTGTTGGTG...  0.994061  0.001964  \n",
       "SPECTRUM.OV.022_S1_CD45N_LEFT_ADNEXA_TTTGTTGTCC...  0.001677  0.003709  \n",
       "\n",
       "[5708 rows x 4 columns]"
      ]
     },
     "execution_count": 76,
     "metadata": {},
     "output_type": "execute_result"
    }
   ],
   "source": [
    "clone_assign_prob_dataframe"
   ]
  },
  {
   "cell_type": "code",
   "execution_count": null,
   "metadata": {},
   "outputs": [],
   "source": []
  }
 ],
 "metadata": {
  "kernelspec": {
   "display_name": "Python 3",
   "language": "python",
   "name": "python3"
  },
  "language_info": {
   "codemirror_mode": {
    "name": "ipython",
    "version": 3
   },
   "file_extension": ".py",
   "mimetype": "text/x-python",
   "name": "python",
   "nbconvert_exporter": "python",
   "pygments_lexer": "ipython3",
   "version": "3.7.4"
  }
 },
 "nbformat": 4,
 "nbformat_minor": 2
}
