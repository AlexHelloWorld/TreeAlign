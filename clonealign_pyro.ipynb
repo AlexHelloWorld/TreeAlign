{
 "cells": [
  {
   "cell_type": "code",
   "execution_count": 1,
   "metadata": {},
   "outputs": [],
   "source": [
    "# based on clonealign framework, re-write with pyro\n",
    "import os\n",
    "from collections import defaultdict\n",
    "import torch\n",
    "import numpy as np\n",
    "import pandas as pd\n",
    "import scipy.stats\n",
    "from torch.distributions import constraints\n",
    "from torch.nn import Softplus\n",
    "from matplotlib import pyplot\n",
    "%matplotlib inline\n",
    "\n",
    "import pyro\n",
    "import pyro.distributions as dist\n",
    "from pyro import poutine\n",
    "from pyro.infer.autoguide import AutoDelta\n",
    "from pyro.optim import Adam\n",
    "from pyro.infer import SVI, TraceEnum_ELBO, config_enumerate, infer_discrete\n",
    "from pyro.ops.indexing import Vindex\n",
    "\n",
    "smoke_test = ('CI' in os.environ)\n",
    "assert pyro.__version__.startswith('1.5.1')\n",
    "pyro.enable_validation(True)"
   ]
  },
  {
   "cell_type": "code",
   "execution_count": 2,
   "metadata": {},
   "outputs": [],
   "source": [
    "# input data\n",
    "patient_id = 'SPECTRUM-OV-022'\n",
    "expr_csv = pd.read_csv('data/' + patient_id + '_expr_example.csv', header = 0, index_col=0)\n",
    "cnv_csv = pd.read_csv('data/' + patient_id + '_cnv_example.csv', header = 0, index_col=0)\n",
    "\n",
    "# cast cnv greater than 6\n",
    "cnv = torch.tensor(cnv_csv.values, dtype=torch.float)\n",
    "cnv = torch.transpose(cnv, 0, 1)\n",
    "\n",
    "cnv[cnv > 6] = 6\n",
    "\n",
    "expr = torch.tensor(expr_csv.values, dtype = torch.float)\n",
    "expr = torch.transpose(expr, 0, 1)"
   ]
  },
  {
   "cell_type": "code",
   "execution_count": 3,
   "metadata": {},
   "outputs": [],
   "source": [
    "# input data: cnv, expr\n",
    "# cnv: clone_count * gene_count\n",
    "# expr: cell_count * gene_count\n",
    "def inverse_softplus(x):\n",
    "    return x + torch.log(-torch.expm1(-x))\n",
    "\n",
    "@config_enumerate\n",
    "def clonealign_pyro(cnv, expr):\n",
    "    num_of_clones = len(cnv)\n",
    "    num_of_cells = len(expr)\n",
    "    num_of_genes = len(expr[0])\n",
    "    \n",
    "    softplus = Softplus()\n",
    "\n",
    "    # initialize per_copy_expr using the data (This typically speeds up convergence)\n",
    "    per_copy_expr_guess = torch.mean(expr/torch.reshape(torch.sum(expr, 1), (num_of_cells, 1)), 0)\n",
    "    \n",
    "    # draw chi from gamma\n",
    "    chi = pyro.sample('chi', dist.Gamma(torch.ones(6) * 2, torch.ones(6)).to_event(1))\n",
    "    \n",
    "    with pyro.plate('gene', num_of_genes):\n",
    "        # draw per_copy_expr from softplus-transformed Normal distribution\n",
    "        per_copy_expr = pyro.sample('per_copy_expr', dist.Normal(inverse_softplus(per_copy_expr_guess), torch.ones(num_of_genes)))\n",
    "        per_copy_expr = softplus(per_copy_expr) \n",
    "        \n",
    "        # draw w from Normal\n",
    "        w = pyro.sample('w', dist.Normal(torch.zeros(6), torch.sqrt(chi)).to_event(1))\n",
    "        \n",
    "    \n",
    "    with pyro.plate('cell', num_of_cells):\n",
    "        # draw clone_assign_prob from Dir\n",
    "        clone_assign_prob = pyro.sample('clone_assign_prob', dist.Dirichlet(torch.ones(num_of_clones)))\n",
    "        # draw clone_assign from Cat\n",
    "        clone_assign = pyro.sample('clone_assign', dist.Categorical(clone_assign_prob))\n",
    "        \n",
    "        # draw psi from Normal\n",
    "        psi = pyro.sample('psi', dist.Normal(torch.zeros(6), torch.ones(6)).to_event(1))\n",
    "        \n",
    "        # construct expected_expr\n",
    "        expected_expr = per_copy_expr * Vindex(cnv)[clone_assign] * torch.exp(torch.matmul(psi, torch.transpose(w, 0, 1)))\n",
    "        \n",
    "        # draw expr from Multinomial\n",
    "        pyro.sample('obs', dist.Multinomial(probs = expected_expr, validate_args=False), obs = expr)"
   ]
  },
  {
   "cell_type": "code",
   "execution_count": 4,
   "metadata": {},
   "outputs": [],
   "source": [
    "# initialize Adam optimizer\n",
    "optim = pyro.optim.Adam({'lr': 0.1, 'betas': [0.8, 0.99]})\n",
    "\n",
    "# TraceEnum_ELBO will marginalize out the assignments of datapoints to clusters\n",
    "elbo = TraceEnum_ELBO(max_plate_nesting=1)\n",
    "\n",
    "pyro.clear_param_store()\n",
    "\n",
    "# AutoGuide\n",
    "global_guide = AutoDelta(poutine.block(clonealign_pyro, \\\n",
    "                                       expose = ['chi', 'per_copy_expr', 'w', \\\n",
    "                                                 'clone_assign_prob', 'psi']))\n",
    "# put together SVI object\n",
    "svi = SVI(clonealign_pyro, global_guide, optim, loss=elbo)"
   ]
  },
  {
   "cell_type": "code",
   "execution_count": 5,
   "metadata": {},
   "outputs": [
    {
     "data": {
      "text/plain": [
       "13678895.0"
      ]
     },
     "execution_count": 5,
     "metadata": {},
     "output_type": "execute_result"
    }
   ],
   "source": [
    "gradient_norms = defaultdict(list)\n",
    "svi.loss(clonealign_pyro, global_guide, cnv, expr)  # Initializes param store."
   ]
  },
  {
   "cell_type": "code",
   "execution_count": 6,
   "metadata": {},
   "outputs": [
    {
     "name": "stdout",
     "output_type": "stream",
     "text": [
      "Start Inference.\n",
      "\n",
      ".................................................................ELBO converged at iteration 66\n"
     ]
    }
   ],
   "source": [
    "losses = []\n",
    "max_iter = 200\n",
    "rel_tol = 1e-5\n",
    "print('Start Inference.')\n",
    "for i in range(max_iter if not smoke_test else 2):\n",
    "    loss = svi.step(cnv, expr)\n",
    "    \n",
    "    if i >= 1:\n",
    "        loss_diff = abs((losses[-1] - loss)/losses[-1])\n",
    "        if loss_diff < rel_tol:\n",
    "            print('ELBO converged at iteration ' + str(i))\n",
    "            break\n",
    "    \n",
    "    losses.append(loss)\n",
    "    \n",
    "    print('.' if i % 200 else '\\n', end='')"
   ]
  },
  {
   "cell_type": "code",
   "execution_count": 7,
   "metadata": {},
   "outputs": [
    {
     "data": {
      "image/png": "[encoded data removed]",
      "text/plain": [
       "<Figure size 1000x300 with 1 Axes>"
      ]
     },
     "metadata": {},
     "output_type": "display_data"
    }
   ],
   "source": [
    "pyplot.figure(figsize=(10,3), dpi=100).set_facecolor('white')\n",
    "pyplot.plot(losses)\n",
    "pyplot.xlabel('iters')\n",
    "pyplot.ylabel('loss')\n",
    "pyplot.yscale('log')\n",
    "pyplot.title('Convergence of SVI');"
   ]
  },
  {
   "cell_type": "code",
   "execution_count": 8,
   "metadata": {},
   "outputs": [
    {
     "name": "stdout",
     "output_type": "stream",
     "text": [
      "clone_assign_prob = [[0.0065985  0.0065985  0.0065985  0.9802045 ]\n",
      " [0.9802045  0.0065985  0.0065985  0.0065985 ]\n",
      " [0.98020715 0.00659622 0.00659831 0.00659834]\n",
      " ...\n",
      " [0.0065985  0.0065985  0.0065985  0.9802045 ]\n",
      " [0.00659482 0.00659687 0.9802114  0.00659687]\n",
      " [0.9802045  0.0065985  0.0065985  0.0065985 ]]\n"
     ]
    }
   ],
   "source": [
    "map_estimates = global_guide(cnv, expr)\n",
    "\n",
    "clone_assign_prob = map_estimates['clone_assign_prob']\n",
    "\n",
    "print('clone_assign_prob = {}'.format(clone_assign_prob.data.numpy()))"
   ]
  },
  {
   "cell_type": "code",
   "execution_count": 21,
   "metadata": {},
   "outputs": [],
   "source": [
    "clone_assign_prob_dataframe = pd.DataFrame(clone_assign_prob.data.numpy())"
   ]
  },
  {
   "cell_type": "code",
   "execution_count": 23,
   "metadata": {},
   "outputs": [
    {
     "data": {
      "text/plain": [
       "{0: 'clone1', 1: 'clone2', 2: 'clone3', 3: 'clone4'}"
      ]
     },
     "execution_count": 23,
     "metadata": {},
     "output_type": "execute_result"
    }
   ],
   "source": [
    "cnv_csv\n",
    "colname_dict = {i:c for i, c in enumerate(cnv_csv.columns)}\n",
    "colname_dict"
   ]
  },
  {
   "cell_type": "code",
   "execution_count": 24,
   "metadata": {},
   "outputs": [
    {
     "data": {
      "text/html": [
       "<div>\n",
       "<style scoped>\n",
       "    .dataframe tbody tr th:only-of-type {\n",
       "        vertical-align: middle;\n",
       "    }\n",
       "\n",
       "    .dataframe tbody tr th {\n",
       "        vertical-align: top;\n",
       "    }\n",
       "\n",
       "    .dataframe thead th {\n",
       "        text-align: right;\n",
       "    }\n",
       "</style>\n",
       "<table border=\"1\" class=\"dataframe\">\n",
       "  <thead>\n",
       "    <tr style=\"text-align: right;\">\n",
       "      <th></th>\n",
       "      <th>clone1</th>\n",
       "      <th>clone2</th>\n",
       "      <th>clone3</th>\n",
       "      <th>clone4</th>\n",
       "    </tr>\n",
       "  </thead>\n",
       "  <tbody>\n",
       "    <tr>\n",
       "      <th>SPECTRUM.OV.022_S1_CD45N_RIGHT_ADNEXA_AAACCCACAAGCGCAA</th>\n",
       "      <td>0.006599</td>\n",
       "      <td>0.006599</td>\n",
       "      <td>0.006599</td>\n",
       "      <td>0.980205</td>\n",
       "    </tr>\n",
       "    <tr>\n",
       "      <th>SPECTRUM.OV.022_S1_CD45N_RIGHT_ADNEXA_AAACCCATCGCGGACT</th>\n",
       "      <td>0.980205</td>\n",
       "      <td>0.006599</td>\n",
       "      <td>0.006599</td>\n",
       "      <td>0.006599</td>\n",
       "    </tr>\n",
       "    <tr>\n",
       "      <th>SPECTRUM.OV.022_S1_CD45N_RIGHT_ADNEXA_AAACGAATCCTTGGAA</th>\n",
       "      <td>0.980207</td>\n",
       "      <td>0.006596</td>\n",
       "      <td>0.006598</td>\n",
       "      <td>0.006598</td>\n",
       "    </tr>\n",
       "    <tr>\n",
       "      <th>SPECTRUM.OV.022_S1_CD45N_RIGHT_ADNEXA_AAACGCTCACTATCGA</th>\n",
       "      <td>0.980205</td>\n",
       "      <td>0.006599</td>\n",
       "      <td>0.006599</td>\n",
       "      <td>0.006599</td>\n",
       "    </tr>\n",
       "    <tr>\n",
       "      <th>SPECTRUM.OV.022_S1_CD45N_RIGHT_ADNEXA_AAACGCTGTCGACTTA</th>\n",
       "      <td>0.980205</td>\n",
       "      <td>0.006599</td>\n",
       "      <td>0.006599</td>\n",
       "      <td>0.006599</td>\n",
       "    </tr>\n",
       "    <tr>\n",
       "      <th>...</th>\n",
       "      <td>...</td>\n",
       "      <td>...</td>\n",
       "      <td>...</td>\n",
       "      <td>...</td>\n",
       "    </tr>\n",
       "    <tr>\n",
       "      <th>SPECTRUM.OV.022_S1_CD45N_LEFT_ADNEXA_TTTGATCGTTCAAGTC</th>\n",
       "      <td>0.006599</td>\n",
       "      <td>0.006599</td>\n",
       "      <td>0.006599</td>\n",
       "      <td>0.980205</td>\n",
       "    </tr>\n",
       "    <tr>\n",
       "      <th>SPECTRUM.OV.022_S1_CD45N_LEFT_ADNEXA_TTTGGAGGTGTGTGTT</th>\n",
       "      <td>0.008661</td>\n",
       "      <td>0.006813</td>\n",
       "      <td>0.977715</td>\n",
       "      <td>0.006811</td>\n",
       "    </tr>\n",
       "    <tr>\n",
       "      <th>SPECTRUM.OV.022_S1_CD45N_LEFT_ADNEXA_TTTGGAGTCCATTGCC</th>\n",
       "      <td>0.006599</td>\n",
       "      <td>0.006599</td>\n",
       "      <td>0.006599</td>\n",
       "      <td>0.980205</td>\n",
       "    </tr>\n",
       "    <tr>\n",
       "      <th>SPECTRUM.OV.022_S1_CD45N_LEFT_ADNEXA_TTTGTTGGTGTCTAAC</th>\n",
       "      <td>0.006595</td>\n",
       "      <td>0.006597</td>\n",
       "      <td>0.980211</td>\n",
       "      <td>0.006597</td>\n",
       "    </tr>\n",
       "    <tr>\n",
       "      <th>SPECTRUM.OV.022_S1_CD45N_LEFT_ADNEXA_TTTGTTGTCCCAGTGG</th>\n",
       "      <td>0.980205</td>\n",
       "      <td>0.006599</td>\n",
       "      <td>0.006599</td>\n",
       "      <td>0.006599</td>\n",
       "    </tr>\n",
       "  </tbody>\n",
       "</table>\n",
       "<p>5708 rows × 4 columns</p>\n",
       "</div>"
      ],
      "text/plain": [
       "                                                      clone1    clone2  \\\n",
       "SPECTRUM.OV.022_S1_CD45N_RIGHT_ADNEXA_AAACCCACA...  0.006599  0.006599   \n",
       "SPECTRUM.OV.022_S1_CD45N_RIGHT_ADNEXA_AAACCCATC...  0.980205  0.006599   \n",
       "SPECTRUM.OV.022_S1_CD45N_RIGHT_ADNEXA_AAACGAATC...  0.980207  0.006596   \n",
       "SPECTRUM.OV.022_S1_CD45N_RIGHT_ADNEXA_AAACGCTCA...  0.980205  0.006599   \n",
       "SPECTRUM.OV.022_S1_CD45N_RIGHT_ADNEXA_AAACGCTGT...  0.980205  0.006599   \n",
       "...                                                      ...       ...   \n",
       "SPECTRUM.OV.022_S1_CD45N_LEFT_ADNEXA_TTTGATCGTT...  0.006599  0.006599   \n",
       "SPECTRUM.OV.022_S1_CD45N_LEFT_ADNEXA_TTTGGAGGTG...  0.008661  0.006813   \n",
       "SPECTRUM.OV.022_S1_CD45N_LEFT_ADNEXA_TTTGGAGTCC...  0.006599  0.006599   \n",
       "SPECTRUM.OV.022_S1_CD45N_LEFT_ADNEXA_TTTGTTGGTG...  0.006595  0.006597   \n",
       "SPECTRUM.OV.022_S1_CD45N_LEFT_ADNEXA_TTTGTTGTCC...  0.980205  0.006599   \n",
       "\n",
       "                                                      clone3    clone4  \n",
       "SPECTRUM.OV.022_S1_CD45N_RIGHT_ADNEXA_AAACCCACA...  0.006599  0.980205  \n",
       "SPECTRUM.OV.022_S1_CD45N_RIGHT_ADNEXA_AAACCCATC...  0.006599  0.006599  \n",
       "SPECTRUM.OV.022_S1_CD45N_RIGHT_ADNEXA_AAACGAATC...  0.006598  0.006598  \n",
       "SPECTRUM.OV.022_S1_CD45N_RIGHT_ADNEXA_AAACGCTCA...  0.006599  0.006599  \n",
       "SPECTRUM.OV.022_S1_CD45N_RIGHT_ADNEXA_AAACGCTGT...  0.006599  0.006599  \n",
       "...                                                      ...       ...  \n",
       "SPECTRUM.OV.022_S1_CD45N_LEFT_ADNEXA_TTTGATCGTT...  0.006599  0.980205  \n",
       "SPECTRUM.OV.022_S1_CD45N_LEFT_ADNEXA_TTTGGAGGTG...  0.977715  0.006811  \n",
       "SPECTRUM.OV.022_S1_CD45N_LEFT_ADNEXA_TTTGGAGTCC...  0.006599  0.980205  \n",
       "SPECTRUM.OV.022_S1_CD45N_LEFT_ADNEXA_TTTGTTGGTG...  0.980211  0.006597  \n",
       "SPECTRUM.OV.022_S1_CD45N_LEFT_ADNEXA_TTTGTTGTCC...  0.006599  0.006599  \n",
       "\n",
       "[5708 rows x 4 columns]"
      ]
     },
     "execution_count": 24,
     "metadata": {},
     "output_type": "execute_result"
    }
   ],
   "source": [
    "rowname_dict = {i:c for i, c in enumerate(expr_csv.columns)}\n",
    "colname_dict = {i:c for i, c in enumerate(cnv_csv.columns)}\n",
    "\n",
    "clone_assign_prob_dataframe.rename(index = rowname_dict, inplace = True)\n",
    "clone_assign_prob_dataframe.rename(columns = colname_dict, inplace = True)\n",
    "clone_assign_prob_dataframe"
   ]
  },
  {
   "cell_type": "code",
   "execution_count": null,
   "metadata": {},
   "outputs": [],
   "source": [
    "clone_assign_prob_dataframe.to_csv(\"data/\" + patient_id + \"_clonealign_improve_clone_freq.csv\")"
   ]
  },
  {
   "cell_type": "code",
   "execution_count": null,
   "metadata": {},
   "outputs": [],
   "source": []
  }
 ],
 "metadata": {
  "kernelspec": {
   "display_name": "Python 3",
   "language": "python",
   "name": "python3"
  },
  "language_info": {
   "codemirror_mode": {
    "name": "ipython",
    "version": 3
   },
   "file_extension": ".py",
   "mimetype": "text/x-python",
   "name": "python",
   "nbconvert_exporter": "python",
   "pygments_lexer": "ipython3",
   "version": "3.7.4"
  }
 },
 "nbformat": 4,
 "nbformat_minor": 2
}
