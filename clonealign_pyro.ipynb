{
 "cells": [
  {
   "cell_type": "code",
   "execution_count": 1,
   "metadata": {},
   "outputs": [],
   "source": [
    "# based on clonealign framework, re-write with pyro\n",
    "import logging\n",
    "import sys\n",
    "\n",
    "import os\n",
    "from collections import defaultdict\n",
    "import torch\n",
    "import numpy as np\n",
    "import pandas as pd\n",
    "import scipy.stats\n",
    "from torch.distributions import constraints\n",
    "from torch.nn import Softplus\n",
    "from matplotlib import pyplot\n",
    "%matplotlib inline\n",
    "\n",
    "import pyro\n",
    "import pyro.distributions as dist\n",
    "from pyro import poutine\n",
    "from pyro.infer.autoguide import AutoDelta\n",
    "from pyro.optim import Adam\n",
    "from pyro.infer import SVI, TraceEnum_ELBO, config_enumerate, infer_discrete\n",
    "from pyro.ops.indexing import Vindex\n",
    "\n",
    "smoke_test = ('CI' in os.environ)\n",
    "assert pyro.__version__.startswith('1.5.1')\n",
    "pyro.enable_validation(True)"
   ]
  },
  {
   "cell_type": "code",
   "execution_count": 129,
   "metadata": {},
   "outputs": [],
   "source": [
    "logging.basicConfig(format='%(relativeCreated) 9d %(message)s', level=logging.DEBUG)\n",
    "\n",
    "# Add another handler for logging debugging events (e.g. for profiling)\n",
    "# in a separate stream that can be captured.\n",
    "log = logging.getLogger()\n",
    "debug_handler = logging.StreamHandler(sys.stdout)\n",
    "debug_handler.setLevel(logging.DEBUG)\n",
    "debug_handler.addFilter(filter=lambda record: record.levelno <= logging.DEBUG)\n",
    "log.addHandler(debug_handler)"
   ]
  },
  {
   "cell_type": "code",
   "execution_count": 130,
   "metadata": {},
   "outputs": [],
   "source": [
    "# input data\n",
    "\n",
    "expr_input = \"data/SPECTRUM-OV-022_expr_clonealign_input.csv\"\n",
    "cnv_input = \"data/SPECTRUM-OV-022_cnv_clonealign_input.csv\"\n",
    "\n",
    "clone_assign_prob_output = \"data/SPECTRUM-OV-022_clone_assign_prob_0.csv\"\n",
    "gene_type_score_output = \"data/SPECTRUM-OV-022_gene_type_score_0.csv\"\n",
    "gene_fold_change_output = \"data/SPECTRUM-OV-022_gene_fold_change_0.csv\"\n"
   ]
  },
  {
   "cell_type": "code",
   "execution_count": 131,
   "metadata": {},
   "outputs": [],
   "source": [
    "\n",
    "expr_csv = pd.read_csv(expr_input, header = 0, index_col=0)\n",
    "cnv_csv = pd.read_csv(cnv_input, header = 0, index_col=0)\n",
    "\n",
    "expr_csv = expr_csv[expr_csv.mean(1) > 0]\n",
    "cnv_csv = cnv_csv.loc[expr_csv.index, ]\n",
    "\n",
    "# cast cnv greater than 6\n",
    "cnv = torch.tensor(cnv_csv.values, dtype=torch.float)\n",
    "cnv = torch.transpose(cnv, 0, 1)\n",
    "\n",
    "cnv[cnv > 6] = 6\n",
    "\n",
    "expr = torch.tensor(expr_csv.values, dtype = torch.float)\n",
    "expr = torch.transpose(expr, 0, 1)\n",
    "\n"
   ]
  },
  {
   "cell_type": "code",
   "execution_count": 132,
   "metadata": {},
   "outputs": [
    {
     "data": {
      "text/plain": [
       "tensor([2., 2., 2.,  ..., 2., 2., 2.])"
      ]
     },
     "execution_count": 132,
     "metadata": {},
     "output_type": "execute_result"
    }
   ],
   "source": [
    "torch.min(cnv, 0)[0]"
   ]
  },
  {
   "cell_type": "code",
   "execution_count": 133,
   "metadata": {},
   "outputs": [],
   "source": [
    "# input data: cnv, expr\n",
    "# cnv: clone_count * gene_count\n",
    "# expr: cell_count * gene_count\n",
    "def inverse_softplus(x):\n",
    "    return x + torch.log(-torch.expm1(-x))\n",
    "\n",
    "@config_enumerate\n",
    "def clonealign_pyro(cnv, expr, temperature):\n",
    "    num_of_clones = len(cnv)\n",
    "    num_of_cells = len(expr)\n",
    "    num_of_genes = len(expr[0])\n",
    "\n",
    "    softplus = Softplus()\n",
    "\n",
    "    # initialize per_copy_expr using the data (This typically speeds up convergence)\n",
    "    expr = expr * 3000 / torch.reshape(torch.sum(expr, 1), (num_of_cells, 1))\n",
    "    per_copy_expr_guess = torch.mean(expr, 0)\n",
    "\n",
    "    # calculate copy number mean\n",
    "    # copy_number_mean = torch.mean(cnv, 0)\n",
    "    \n",
    "    cnv_min = torch.min(cnv, 0)[0]\n",
    "    cnv_rel = cnv / cnv_min\n",
    "\n",
    "    # draw chi from gamma\n",
    "    chi = pyro.sample('expose_chi', dist.Gamma(torch.ones(6) * 2, torch.ones(6)).to_event(1))\n",
    "\n",
    "    with pyro.plate('gene', num_of_genes):\n",
    "        # draw per_copy_expr from softplus-transformed Normal distribution\n",
    "        per_copy_expr = pyro.sample('expose_per_copy_expr',\n",
    "                                    dist.Normal(inverse_softplus(per_copy_expr_guess), torch.ones(num_of_genes)))\n",
    "        \n",
    "\n",
    "        per_copy_expr = softplus(per_copy_expr)\n",
    "        \n",
    "        # instead of softplus-transformed normal, use negative binomial instead for per_copy_expr\n",
    "        # per_copy_expr = pyro.sample('per_copy_expr', dist.NegativeBinomial())\n",
    "\n",
    "        # draw w from Normal\n",
    "        w = pyro.sample('expose_w', dist.Normal(torch.zeros(6), torch.sqrt(chi)).to_event(1))\n",
    "\n",
    "        # sample the gene_type_score from uniform distribution.\n",
    "        # the score reflects how much the copy number influence expression.\n",
    "        # gene_type_score = pyro.sample('expose_gene_type_score', dist.Dirichlet(torch.ones(2)))\n",
    "        # gene_type = pyro.sample('expose_gene_type', dist.RelaxedOneHotCategorical(temperature = torch.tensor([0.5]), probs = gene_type_score))\n",
    "        \n",
    "        # draw gene fold change \n",
    "        gene_fold_change = pyro.sample('expose_gene_fold_change', dist.Uniform(low = -1, high = 10))\n",
    "        \n",
    "\n",
    "    with pyro.plate('cell', num_of_cells):\n",
    "        # draw clone_assign_prob from Dir\n",
    "        clone_assign_prob = pyro.sample('expose_clone_assign_prob', dist.Dirichlet(torch.ones(num_of_clones) * 0.1))\n",
    "        # draw clone_assign from Cat\n",
    "        clone_assign = pyro.sample('clone_assign', dist.Categorical(clone_assign_prob))\n",
    "\n",
    "        # draw psi from Normal\n",
    "        psi = pyro.sample('expose_psi', dist.Normal(torch.zeros(6), torch.ones(6)).to_event(1))        \n",
    "\n",
    "        # expected_expr = (per_copy_expr * torch.pow(Vindex(cnv)[clone_assign], gene_fold_change) + copy_number_mean * gene_type[:, 1]) * torch.exp(\n",
    "        #    torch.matmul(psi, torch.transpose(w, 0, 1)))\n",
    "\n",
    "        expected_expr = (per_copy_expr * torch.pow(Vindex(cnv_rel)[clone_assign], gene_fold_change) * cnv_min) * torch.exp(\n",
    "            torch.matmul(psi, torch.transpose(w, 0, 1)))\n",
    "        \n",
    "        # draw expr from Multinomial\n",
    "        pyro.sample('obs', dist.Multinomial(total_count = 3000, probs=expected_expr, validate_args=False), obs=expr)\n",
    "        \n"
   ]
  },
  {
   "cell_type": "code",
   "execution_count": 134,
   "metadata": {},
   "outputs": [],
   "source": [
    "# initialize Adam optimizer\n",
    "optim = pyro.optim.Adam({'lr': 0.1, 'betas': [0.8, 0.99]})\n",
    "\n",
    "# TraceEnum_ELBO will marginalize out the assignments of datapoints to clusters\n",
    "elbo = TraceEnum_ELBO(max_plate_nesting=2)\n",
    "\n",
    "pyro.clear_param_store()\n",
    "\n",
    "# AutoGuide\n",
    "global_guide = AutoDelta(poutine.block(clonealign_pyro, expose_fn=lambda msg: msg[\"name\"].startswith(\"expose_\")))\n",
    "# put together SVI object\n",
    "svi = SVI(clonealign_pyro, global_guide, optim, loss=elbo)"
   ]
  },
  {
   "cell_type": "code",
   "execution_count": 135,
   "metadata": {},
   "outputs": [
    {
     "data": {
      "text/plain": [
       "27190126.0"
      ]
     },
     "execution_count": 135,
     "metadata": {},
     "output_type": "execute_result"
    }
   ],
   "source": [
    "tau0 = 1.0\n",
    "ANNEAL_RATE=0.0003\n",
    "MIN_TEMP=0.5\n",
    "np_temp=tau0\n",
    "\n",
    "\n",
    "gradient_norms = defaultdict(list)\n",
    "svi.loss(clonealign_pyro, global_guide, cnv, expr, np_temp)  # Initializes param store."
   ]
  },
  {
   "cell_type": "code",
   "execution_count": 136,
   "metadata": {},
   "outputs": [
    {
     "name": "stdout",
     "output_type": "stream",
     "text": [
      "Start Inference.\n",
      "\n",
      ".........................................................................................................................................................................................................................................................ELBO converged at iteration 250\n"
     ]
    }
   ],
   "source": [
    "losses = []\n",
    "max_iter = 500\n",
    "rel_tol = 1e-5\n",
    "print('Start Inference.')\n",
    "for i in range(max_iter if not smoke_test else 2):\n",
    "    loss = svi.step(cnv, expr, np_temp)\n",
    "    if i % 100 == 1:\n",
    "        np_temp=np.maximum(tau0*np.exp(-ANNEAL_RATE*i),MIN_TEMP)\n",
    "    \n",
    "    if i >= 1:\n",
    "        loss_diff = abs((losses[-1] - loss)/losses[-1])\n",
    "        if loss_diff < rel_tol:\n",
    "            print('ELBO converged at iteration ' + str(i))\n",
    "            break\n",
    "    \n",
    "    losses.append(loss)\n",
    "    \n",
    "    print('.' if i % 500 else '\\n', end='')"
   ]
  },
  {
   "cell_type": "code",
   "execution_count": 137,
   "metadata": {},
   "outputs": [
    {
     "data": {
      "text/plain": [
       "[27190126.0,\n",
       " 24757712.0,\n",
       " 22618438.0,\n",
       " 20552006.0,\n",
       " 18672514.0,\n",
       " 17349504.0,\n",
       " 16685700.0,\n",
       " 16244817.0,\n",
       " 15776851.0,\n",
       " 15421738.0,\n",
       " 15240682.0,\n",
       " 15108831.0,\n",
       " 14948823.0,\n",
       " 14792893.0,\n",
       " 14679831.0,\n",
       " 14604555.0,\n",
       " 14539506.0,\n",
       " 14472601.0,\n",
       " 14411282.0,\n",
       " 14362701.0,\n",
       " 14325078.0,\n",
       " 14292008.0,\n",
       " 14259801.0,\n",
       " 14229143.0,\n",
       " 14200570.0,\n",
       " 14172881.0,\n",
       " 14145768.0,\n",
       " 14120043.0,\n",
       " 14095745.0,\n",
       " 14072087.0,\n",
       " 14048909.0,\n",
       " 14026980.0,\n",
       " 14006603.0,\n",
       " 13987464.0,\n",
       " 13969576.0,\n",
       " 13952906.0,\n",
       " 13937443.0,\n",
       " 13922993.0,\n",
       " 13909634.0,\n",
       " 13897238.0,\n",
       " 13885603.0,\n",
       " 13874632.0,\n",
       " 13864184.0,\n",
       " 13854322.0,\n",
       " 13844865.0,\n",
       " 13835801.0,\n",
       " 13827129.0,\n",
       " 13818746.0,\n",
       " 13810608.0,\n",
       " 13802812.0,\n",
       " 13795177.0,\n",
       " 13787784.0,\n",
       " 13780635.0,\n",
       " 13773713.0,\n",
       " 13767011.0,\n",
       " 13760580.0,\n",
       " 13754425.0,\n",
       " 13748570.0,\n",
       " 13743037.0,\n",
       " 13737818.0,\n",
       " 13732947.0,\n",
       " 13728366.0,\n",
       " 13724051.0,\n",
       " 13720026.0,\n",
       " 13716154.0,\n",
       " 13712446.0,\n",
       " 13708964.0,\n",
       " 13705613.0,\n",
       " 13702397.0,\n",
       " 13699314.0,\n",
       " 13696346.0,\n",
       " 13693490.0,\n",
       " 13690708.0,\n",
       " 13688005.0,\n",
       " 13685349.0,\n",
       " 13682761.0,\n",
       " 13680266.0,\n",
       " 13677778.0,\n",
       " 13675366.0,\n",
       " 13672967.0,\n",
       " 13670609.0,\n",
       " 13668296.0,\n",
       " 13665933.0,\n",
       " 13663683.0,\n",
       " 13661437.0,\n",
       " 13659188.0,\n",
       " 13656989.0,\n",
       " 13654788.0,\n",
       " 13652603.0,\n",
       " 13650449.0,\n",
       " 13648299.0,\n",
       " 13646149.0,\n",
       " 13644019.0,\n",
       " 13641902.0,\n",
       " 13639777.0,\n",
       " 13637700.0,\n",
       " 13635556.0,\n",
       " 13633454.0,\n",
       " 13631349.0,\n",
       " 13629265.0,\n",
       " 13627162.0,\n",
       " 13625072.0,\n",
       " 13623001.0,\n",
       " 13620930.0,\n",
       " 13618868.0,\n",
       " 13616768.0,\n",
       " 13614721.0,\n",
       " 13612642.0,\n",
       " 13610573.0,\n",
       " 13608558.0,\n",
       " 13606475.0,\n",
       " 13604446.0,\n",
       " 13602382.0,\n",
       " 13600323.0,\n",
       " 13598251.0,\n",
       " 13596195.0,\n",
       " 13594143.0,\n",
       " 13592107.0,\n",
       " 13590050.0,\n",
       " 13588016.0,\n",
       " 13585993.0,\n",
       " 13583942.0,\n",
       " 13581906.0,\n",
       " 13579868.0,\n",
       " 13577796.0,\n",
       " 13575776.0,\n",
       " 13573714.0,\n",
       " 13571700.0,\n",
       " 13569641.0,\n",
       " 13567640.0,\n",
       " 13565576.0,\n",
       " 13563563.0,\n",
       " 13561520.0,\n",
       " 13559474.0,\n",
       " 13557455.0,\n",
       " 13555393.0,\n",
       " 13553394.0,\n",
       " 13551330.0,\n",
       " 13549318.0,\n",
       " 13547283.0,\n",
       " 13545232.0,\n",
       " 13543250.0,\n",
       " 13541199.0,\n",
       " 13539183.0,\n",
       " 13537155.0,\n",
       " 13535087.0,\n",
       " 13533082.0,\n",
       " 13531059.0,\n",
       " 13528988.0,\n",
       " 13527004.0,\n",
       " 13524967.0,\n",
       " 13522919.0,\n",
       " 13520900.0,\n",
       " 13518870.0,\n",
       " 13516856.0,\n",
       " 13514837.0,\n",
       " 13512811.0,\n",
       " 13510790.0,\n",
       " 13508748.0,\n",
       " 13506761.0,\n",
       " 13504691.0,\n",
       " 13502709.0,\n",
       " 13500739.0,\n",
       " 13498682.0,\n",
       " 13496715.0,\n",
       " 13494820.0,\n",
       " 13492958.0,\n",
       " 13490954.0,\n",
       " 13488876.0,\n",
       " 13486863.0,\n",
       " 13484681.0,\n",
       " 13482598.0,\n",
       " 13480593.0,\n",
       " 13478567.0,\n",
       " 13476478.0,\n",
       " 13474486.0,\n",
       " 13472490.0,\n",
       " 13470413.0,\n",
       " 13468394.0,\n",
       " 13466399.0,\n",
       " 13464360.0,\n",
       " 13462390.0,\n",
       " 13460372.0,\n",
       " 13458382.0,\n",
       " 13456349.0,\n",
       " 13454330.0,\n",
       " 13452307.0,\n",
       " 13450319.0,\n",
       " 13448297.0,\n",
       " 13446318.0,\n",
       " 13444325.0,\n",
       " 13442300.0,\n",
       " 13440343.0,\n",
       " 13438393.0,\n",
       " 13436465.0,\n",
       " 13434572.0,\n",
       " 13432724.0,\n",
       " 13431069.0,\n",
       " 13429659.0,\n",
       " 13428326.0,\n",
       " 13426375.0,\n",
       " 13424086.0,\n",
       " 13421721.0,\n",
       " 13419538.0,\n",
       " 13417322.0,\n",
       " 13414954.0,\n",
       " 13412688.0,\n",
       " 13410466.0,\n",
       " 13408455.0,\n",
       " 13406586.0,\n",
       " 13404593.0,\n",
       " 13402622.0,\n",
       " 13400604.0,\n",
       " 13398579.0,\n",
       " 13396617.0,\n",
       " 13394655.0,\n",
       " 13392721.0,\n",
       " 13390789.0,\n",
       " 13388989.0,\n",
       " 13387182.0,\n",
       " 13385573.0,\n",
       " 13384190.0,\n",
       " 13383095.0,\n",
       " 13382157.0,\n",
       " 13381446.0,\n",
       " 13379765.0,\n",
       " 13377411.0,\n",
       " 13373606.0,\n",
       " 13369888.0,\n",
       " 13366766.0,\n",
       " 13364676.0,\n",
       " 13363120.0,\n",
       " 13361580.0,\n",
       " 13359915.0,\n",
       " 13357785.0,\n",
       " 13355606.0,\n",
       " 13353257.0,\n",
       " 13351066.0,\n",
       " 13348866.0,\n",
       " 13346767.0,\n",
       " 13344823.0,\n",
       " 13342796.0,\n",
       " 13340882.0,\n",
       " 13338932.0,\n",
       " 13337075.0,\n",
       " 13335184.0,\n",
       " 13333368.0,\n",
       " 13331682.0,\n",
       " 13330213.0,\n",
       " 13329237.0]"
      ]
     },
     "execution_count": 137,
     "metadata": {},
     "output_type": "execute_result"
    }
   ],
   "source": [
    "losses"
   ]
  },
  {
   "cell_type": "code",
   "execution_count": 147,
   "metadata": {},
   "outputs": [
    {
     "name": "stderr",
     "output_type": "stream",
     "text": [
      " 14158856 vmin 12862488.32227021 vmax 28176790.09172422\n"
     ]
    },
    {
     "name": "stdout",
     "output_type": "stream",
     "text": [
      "vmin 12862488.32227021 vmax 28176790.09172422\n",
      "vmin 12862488.32227021 vmax 28176790.09172422\n",
      "vmin 12862488.32227021 vmax 28176790.09172422\n",
      "vmin 12862488.32227021 vmax 28176790.09172422\n",
      "vmin 12862488.32227021 vmax 28176790.09172422\n",
      "vmin 12862488.32227021 vmax 28176790.09172422\n",
      "vmin 12862488.32227021 vmax 28176790.09172422\n"
     ]
    },
    {
     "name": "stderr",
     "output_type": "stream",
     "text": [
      " 14158861 ticklocs array([1.e+06, 1.e+07, 1.e+08, 1.e+09])\n"
     ]
    },
    {
     "name": "stdout",
     "output_type": "stream",
     "text": [
      "ticklocs array([1.e+06, 1.e+07, 1.e+08, 1.e+09])\n",
      "ticklocs array([1.e+06, 1.e+07, 1.e+08, 1.e+09])\n",
      "ticklocs array([1.e+06, 1.e+07, 1.e+08, 1.e+09])\n",
      "ticklocs array([1.e+06, 1.e+07, 1.e+08, 1.e+09])\n",
      "ticklocs array([1.e+06, 1.e+07, 1.e+08, 1.e+09])\n",
      "ticklocs array([1.e+06, 1.e+07, 1.e+08, 1.e+09])\n",
      "ticklocs array([1.e+06, 1.e+07, 1.e+08, 1.e+09])\n"
     ]
    },
    {
     "name": "stderr",
     "output_type": "stream",
     "text": [
      " 14158872 vmin 12862488.32227021 vmax 28176790.09172422\n"
     ]
    },
    {
     "name": "stdout",
     "output_type": "stream",
     "text": [
      "vmin 12862488.32227021 vmax 28176790.09172422\n",
      "vmin 12862488.32227021 vmax 28176790.09172422\n",
      "vmin 12862488.32227021 vmax 28176790.09172422\n",
      "vmin 12862488.32227021 vmax 28176790.09172422\n",
      "vmin 12862488.32227021 vmax 28176790.09172422\n",
      "vmin 12862488.32227021 vmax 28176790.09172422\n",
      "vmin 12862488.32227021 vmax 28176790.09172422\n"
     ]
    },
    {
     "name": "stderr",
     "output_type": "stream",
     "text": [
      " 14158880 ticklocs array([1.e+06, 1.e+07, 1.e+08, 1.e+09])\n"
     ]
    },
    {
     "name": "stdout",
     "output_type": "stream",
     "text": [
      "ticklocs array([1.e+06, 1.e+07, 1.e+08, 1.e+09])\n",
      "ticklocs array([1.e+06, 1.e+07, 1.e+08, 1.e+09])\n",
      "ticklocs array([1.e+06, 1.e+07, 1.e+08, 1.e+09])\n",
      "ticklocs array([1.e+06, 1.e+07, 1.e+08, 1.e+09])\n",
      "ticklocs array([1.e+06, 1.e+07, 1.e+08, 1.e+09])\n",
      "ticklocs array([1.e+06, 1.e+07, 1.e+08, 1.e+09])\n",
      "ticklocs array([1.e+06, 1.e+07, 1.e+08, 1.e+09])\n"
     ]
    },
    {
     "name": "stderr",
     "output_type": "stream",
     "text": [
      " 14158888 vmin 12862488.32227021 vmax 28176790.09172422\n"
     ]
    },
    {
     "name": "stdout",
     "output_type": "stream",
     "text": [
      "vmin 12862488.32227021 vmax 28176790.09172422\n",
      "vmin 12862488.32227021 vmax 28176790.09172422\n",
      "vmin 12862488.32227021 vmax 28176790.09172422\n",
      "vmin 12862488.32227021 vmax 28176790.09172422\n",
      "vmin 12862488.32227021 vmax 28176790.09172422\n",
      "vmin 12862488.32227021 vmax 28176790.09172422\n",
      "vmin 12862488.32227021 vmax 28176790.09172422\n"
     ]
    },
    {
     "name": "stderr",
     "output_type": "stream",
     "text": [
      " 14158896 ticklocs array([2.e+06, 3.e+06, 4.e+06, 5.e+06, 6.e+06, 7.e+06, 8.e+06, 9.e+06,\n",
      "       2.e+07, 3.e+07, 4.e+07, 5.e+07, 6.e+07, 7.e+07, 8.e+07, 9.e+07,\n",
      "       2.e+08, 3.e+08, 4.e+08, 5.e+08, 6.e+08, 7.e+08, 8.e+08, 9.e+08,\n",
      "       2.e+09, 3.e+09, 4.e+09, 5.e+09, 6.e+09, 7.e+09, 8.e+09, 9.e+09])\n"
     ]
    },
    {
     "name": "stdout",
     "output_type": "stream",
     "text": [
      "ticklocs array([2.e+06, 3.e+06, 4.e+06, 5.e+06, 6.e+06, 7.e+06, 8.e+06, 9.e+06,\n",
      "       2.e+07, 3.e+07, 4.e+07, 5.e+07, 6.e+07, 7.e+07, 8.e+07, 9.e+07,\n",
      "       2.e+08, 3.e+08, 4.e+08, 5.e+08, 6.e+08, 7.e+08, 8.e+08, 9.e+08,\n",
      "       2.e+09, 3.e+09, 4.e+09, 5.e+09, 6.e+09, 7.e+09, 8.e+09, 9.e+09])\n",
      "ticklocs array([2.e+06, 3.e+06, 4.e+06, 5.e+06, 6.e+06, 7.e+06, 8.e+06, 9.e+06,\n",
      "       2.e+07, 3.e+07, 4.e+07, 5.e+07, 6.e+07, 7.e+07, 8.e+07, 9.e+07,\n",
      "       2.e+08, 3.e+08, 4.e+08, 5.e+08, 6.e+08, 7.e+08, 8.e+08, 9.e+08,\n",
      "       2.e+09, 3.e+09, 4.e+09, 5.e+09, 6.e+09, 7.e+09, 8.e+09, 9.e+09])\n",
      "ticklocs array([2.e+06, 3.e+06, 4.e+06, 5.e+06, 6.e+06, 7.e+06, 8.e+06, 9.e+06,\n",
      "       2.e+07, 3.e+07, 4.e+07, 5.e+07, 6.e+07, 7.e+07, 8.e+07, 9.e+07,\n",
      "       2.e+08, 3.e+08, 4.e+08, 5.e+08, 6.e+08, 7.e+08, 8.e+08, 9.e+08,\n",
      "       2.e+09, 3.e+09, 4.e+09, 5.e+09, 6.e+09, 7.e+09, 8.e+09, 9.e+09])\n",
      "ticklocs array([2.e+06, 3.e+06, 4.e+06, 5.e+06, 6.e+06, 7.e+06, 8.e+06, 9.e+06,\n",
      "       2.e+07, 3.e+07, 4.e+07, 5.e+07, 6.e+07, 7.e+07, 8.e+07, 9.e+07,\n",
      "       2.e+08, 3.e+08, 4.e+08, 5.e+08, 6.e+08, 7.e+08, 8.e+08, 9.e+08,\n",
      "       2.e+09, 3.e+09, 4.e+09, 5.e+09, 6.e+09, 7.e+09, 8.e+09, 9.e+09])\n",
      "ticklocs array([2.e+06, 3.e+06, 4.e+06, 5.e+06, 6.e+06, 7.e+06, 8.e+06, 9.e+06,\n",
      "       2.e+07, 3.e+07, 4.e+07, 5.e+07, 6.e+07, 7.e+07, 8.e+07, 9.e+07,\n",
      "       2.e+08, 3.e+08, 4.e+08, 5.e+08, 6.e+08, 7.e+08, 8.e+08, 9.e+08,\n",
      "       2.e+09, 3.e+09, 4.e+09, 5.e+09, 6.e+09, 7.e+09, 8.e+09, 9.e+09])\n",
      "ticklocs array([2.e+06, 3.e+06, 4.e+06, 5.e+06, 6.e+06, 7.e+06, 8.e+06, 9.e+06,\n",
      "       2.e+07, 3.e+07, 4.e+07, 5.e+07, 6.e+07, 7.e+07, 8.e+07, 9.e+07,\n",
      "       2.e+08, 3.e+08, 4.e+08, 5.e+08, 6.e+08, 7.e+08, 8.e+08, 9.e+08,\n",
      "       2.e+09, 3.e+09, 4.e+09, 5.e+09, 6.e+09, 7.e+09, 8.e+09, 9.e+09])\n",
      "ticklocs array([2.e+06, 3.e+06, 4.e+06, 5.e+06, 6.e+06, 7.e+06, 8.e+06, 9.e+06,\n",
      "       2.e+07, 3.e+07, 4.e+07, 5.e+07, 6.e+07, 7.e+07, 8.e+07, 9.e+07,\n",
      "       2.e+08, 3.e+08, 4.e+08, 5.e+08, 6.e+08, 7.e+08, 8.e+08, 9.e+08,\n",
      "       2.e+09, 3.e+09, 4.e+09, 5.e+09, 6.e+09, 7.e+09, 8.e+09, 9.e+09])\n"
     ]
    },
    {
     "name": "stderr",
     "output_type": "stream",
     "text": [
      " 14159132 vmin 12862488.32227021 vmax 28176790.09172422\n"
     ]
    },
    {
     "name": "stdout",
     "output_type": "stream",
     "text": [
      "vmin 12862488.32227021 vmax 28176790.09172422\n",
      "vmin 12862488.32227021 vmax 28176790.09172422\n",
      "vmin 12862488.32227021 vmax 28176790.09172422\n",
      "vmin 12862488.32227021 vmax 28176790.09172422\n",
      "vmin 12862488.32227021 vmax 28176790.09172422\n",
      "vmin 12862488.32227021 vmax 28176790.09172422\n",
      "vmin 12862488.32227021 vmax 28176790.09172422\n"
     ]
    },
    {
     "name": "stderr",
     "output_type": "stream",
     "text": [
      " 14159136 ticklocs array([1.e+06, 1.e+07, 1.e+08, 1.e+09])\n"
     ]
    },
    {
     "name": "stdout",
     "output_type": "stream",
     "text": [
      "ticklocs array([1.e+06, 1.e+07, 1.e+08, 1.e+09])\n",
      "ticklocs array([1.e+06, 1.e+07, 1.e+08, 1.e+09])\n",
      "ticklocs array([1.e+06, 1.e+07, 1.e+08, 1.e+09])\n",
      "ticklocs array([1.e+06, 1.e+07, 1.e+08, 1.e+09])\n",
      "ticklocs array([1.e+06, 1.e+07, 1.e+08, 1.e+09])\n",
      "ticklocs array([1.e+06, 1.e+07, 1.e+08, 1.e+09])\n",
      "ticklocs array([1.e+06, 1.e+07, 1.e+08, 1.e+09])\n"
     ]
    },
    {
     "name": "stderr",
     "output_type": "stream",
     "text": [
      " 14159141 vmin 12862488.32227021 vmax 28176790.09172422\n"
     ]
    },
    {
     "name": "stdout",
     "output_type": "stream",
     "text": [
      "vmin 12862488.32227021 vmax 28176790.09172422\n",
      "vmin 12862488.32227021 vmax 28176790.09172422\n",
      "vmin 12862488.32227021 vmax 28176790.09172422\n",
      "vmin 12862488.32227021 vmax 28176790.09172422\n",
      "vmin 12862488.32227021 vmax 28176790.09172422\n",
      "vmin 12862488.32227021 vmax 28176790.09172422\n",
      "vmin 12862488.32227021 vmax 28176790.09172422\n"
     ]
    },
    {
     "name": "stderr",
     "output_type": "stream",
     "text": [
      " 14159144 ticklocs array([1.e+06, 1.e+07, 1.e+08, 1.e+09])\n"
     ]
    },
    {
     "name": "stdout",
     "output_type": "stream",
     "text": [
      "ticklocs array([1.e+06, 1.e+07, 1.e+08, 1.e+09])\n",
      "ticklocs array([1.e+06, 1.e+07, 1.e+08, 1.e+09])\n",
      "ticklocs array([1.e+06, 1.e+07, 1.e+08, 1.e+09])\n",
      "ticklocs array([1.e+06, 1.e+07, 1.e+08, 1.e+09])\n",
      "ticklocs array([1.e+06, 1.e+07, 1.e+08, 1.e+09])\n",
      "ticklocs array([1.e+06, 1.e+07, 1.e+08, 1.e+09])\n",
      "ticklocs array([1.e+06, 1.e+07, 1.e+08, 1.e+09])\n"
     ]
    },
    {
     "name": "stderr",
     "output_type": "stream",
     "text": [
      " 14159151 vmin 12862488.32227021 vmax 28176790.09172422\n"
     ]
    },
    {
     "name": "stdout",
     "output_type": "stream",
     "text": [
      "vmin 12862488.32227021 vmax 28176790.09172422\n",
      "vmin 12862488.32227021 vmax 28176790.09172422\n",
      "vmin 12862488.32227021 vmax 28176790.09172422\n",
      "vmin 12862488.32227021 vmax 28176790.09172422\n",
      "vmin 12862488.32227021 vmax 28176790.09172422\n",
      "vmin 12862488.32227021 vmax 28176790.09172422\n",
      "vmin 12862488.32227021 vmax 28176790.09172422\n"
     ]
    },
    {
     "name": "stderr",
     "output_type": "stream",
     "text": [
      " 14159156 ticklocs array([2.e+06, 3.e+06, 4.e+06, 5.e+06, 6.e+06, 7.e+06, 8.e+06, 9.e+06,\n",
      "       2.e+07, 3.e+07, 4.e+07, 5.e+07, 6.e+07, 7.e+07, 8.e+07, 9.e+07,\n",
      "       2.e+08, 3.e+08, 4.e+08, 5.e+08, 6.e+08, 7.e+08, 8.e+08, 9.e+08,\n",
      "       2.e+09, 3.e+09, 4.e+09, 5.e+09, 6.e+09, 7.e+09, 8.e+09, 9.e+09])\n"
     ]
    },
    {
     "name": "stdout",
     "output_type": "stream",
     "text": [
      "ticklocs array([2.e+06, 3.e+06, 4.e+06, 5.e+06, 6.e+06, 7.e+06, 8.e+06, 9.e+06,\n",
      "       2.e+07, 3.e+07, 4.e+07, 5.e+07, 6.e+07, 7.e+07, 8.e+07, 9.e+07,\n",
      "       2.e+08, 3.e+08, 4.e+08, 5.e+08, 6.e+08, 7.e+08, 8.e+08, 9.e+08,\n",
      "       2.e+09, 3.e+09, 4.e+09, 5.e+09, 6.e+09, 7.e+09, 8.e+09, 9.e+09])\n",
      "ticklocs array([2.e+06, 3.e+06, 4.e+06, 5.e+06, 6.e+06, 7.e+06, 8.e+06, 9.e+06,\n",
      "       2.e+07, 3.e+07, 4.e+07, 5.e+07, 6.e+07, 7.e+07, 8.e+07, 9.e+07,\n",
      "       2.e+08, 3.e+08, 4.e+08, 5.e+08, 6.e+08, 7.e+08, 8.e+08, 9.e+08,\n",
      "       2.e+09, 3.e+09, 4.e+09, 5.e+09, 6.e+09, 7.e+09, 8.e+09, 9.e+09])\n",
      "ticklocs array([2.e+06, 3.e+06, 4.e+06, 5.e+06, 6.e+06, 7.e+06, 8.e+06, 9.e+06,\n",
      "       2.e+07, 3.e+07, 4.e+07, 5.e+07, 6.e+07, 7.e+07, 8.e+07, 9.e+07,\n",
      "       2.e+08, 3.e+08, 4.e+08, 5.e+08, 6.e+08, 7.e+08, 8.e+08, 9.e+08,\n",
      "       2.e+09, 3.e+09, 4.e+09, 5.e+09, 6.e+09, 7.e+09, 8.e+09, 9.e+09])\n",
      "ticklocs array([2.e+06, 3.e+06, 4.e+06, 5.e+06, 6.e+06, 7.e+06, 8.e+06, 9.e+06,\n",
      "       2.e+07, 3.e+07, 4.e+07, 5.e+07, 6.e+07, 7.e+07, 8.e+07, 9.e+07,\n",
      "       2.e+08, 3.e+08, 4.e+08, 5.e+08, 6.e+08, 7.e+08, 8.e+08, 9.e+08,\n",
      "       2.e+09, 3.e+09, 4.e+09, 5.e+09, 6.e+09, 7.e+09, 8.e+09, 9.e+09])\n",
      "ticklocs array([2.e+06, 3.e+06, 4.e+06, 5.e+06, 6.e+06, 7.e+06, 8.e+06, 9.e+06,\n",
      "       2.e+07, 3.e+07, 4.e+07, 5.e+07, 6.e+07, 7.e+07, 8.e+07, 9.e+07,\n",
      "       2.e+08, 3.e+08, 4.e+08, 5.e+08, 6.e+08, 7.e+08, 8.e+08, 9.e+08,\n",
      "       2.e+09, 3.e+09, 4.e+09, 5.e+09, 6.e+09, 7.e+09, 8.e+09, 9.e+09])\n",
      "ticklocs array([2.e+06, 3.e+06, 4.e+06, 5.e+06, 6.e+06, 7.e+06, 8.e+06, 9.e+06,\n",
      "       2.e+07, 3.e+07, 4.e+07, 5.e+07, 6.e+07, 7.e+07, 8.e+07, 9.e+07,\n",
      "       2.e+08, 3.e+08, 4.e+08, 5.e+08, 6.e+08, 7.e+08, 8.e+08, 9.e+08,\n",
      "       2.e+09, 3.e+09, 4.e+09, 5.e+09, 6.e+09, 7.e+09, 8.e+09, 9.e+09])\n",
      "ticklocs array([2.e+06, 3.e+06, 4.e+06, 5.e+06, 6.e+06, 7.e+06, 8.e+06, 9.e+06,\n",
      "       2.e+07, 3.e+07, 4.e+07, 5.e+07, 6.e+07, 7.e+07, 8.e+07, 9.e+07,\n",
      "       2.e+08, 3.e+08, 4.e+08, 5.e+08, 6.e+08, 7.e+08, 8.e+08, 9.e+08,\n",
      "       2.e+09, 3.e+09, 4.e+09, 5.e+09, 6.e+09, 7.e+09, 8.e+09, 9.e+09])\n"
     ]
    },
    {
     "name": "stderr",
     "output_type": "stream",
     "text": [
      " 14159176 vmin 12862488.32227021 vmax 28176790.09172422\n"
     ]
    },
    {
     "name": "stdout",
     "output_type": "stream",
     "text": [
      "vmin 12862488.32227021 vmax 28176790.09172422\n",
      "vmin 12862488.32227021 vmax 28176790.09172422\n",
      "vmin 12862488.32227021 vmax 28176790.09172422\n",
      "vmin 12862488.32227021 vmax 28176790.09172422\n",
      "vmin 12862488.32227021 vmax 28176790.09172422\n",
      "vmin 12862488.32227021 vmax 28176790.09172422\n",
      "vmin 12862488.32227021 vmax 28176790.09172422\n"
     ]
    },
    {
     "name": "stderr",
     "output_type": "stream",
     "text": [
      " 14159180 ticklocs array([1.e+06, 1.e+07, 1.e+08, 1.e+09])\n"
     ]
    },
    {
     "name": "stdout",
     "output_type": "stream",
     "text": [
      "ticklocs array([1.e+06, 1.e+07, 1.e+08, 1.e+09])\n",
      "ticklocs array([1.e+06, 1.e+07, 1.e+08, 1.e+09])\n",
      "ticklocs array([1.e+06, 1.e+07, 1.e+08, 1.e+09])\n",
      "ticklocs array([1.e+06, 1.e+07, 1.e+08, 1.e+09])\n",
      "ticklocs array([1.e+06, 1.e+07, 1.e+08, 1.e+09])\n",
      "ticklocs array([1.e+06, 1.e+07, 1.e+08, 1.e+09])\n",
      "ticklocs array([1.e+06, 1.e+07, 1.e+08, 1.e+09])\n"
     ]
    },
    {
     "name": "stderr",
     "output_type": "stream",
     "text": [
      " 14159188 vmin 12862488.32227021 vmax 28176790.09172422\n"
     ]
    },
    {
     "name": "stdout",
     "output_type": "stream",
     "text": [
      "vmin 12862488.32227021 vmax 28176790.09172422\n",
      "vmin 12862488.32227021 vmax 28176790.09172422\n",
      "vmin 12862488.32227021 vmax 28176790.09172422\n",
      "vmin 12862488.32227021 vmax 28176790.09172422\n",
      "vmin 12862488.32227021 vmax 28176790.09172422\n",
      "vmin 12862488.32227021 vmax 28176790.09172422\n",
      "vmin 12862488.32227021 vmax 28176790.09172422\n"
     ]
    },
    {
     "name": "stderr",
     "output_type": "stream",
     "text": [
      " 14159193 ticklocs array([1.e+06, 1.e+07, 1.e+08, 1.e+09])\n"
     ]
    },
    {
     "name": "stdout",
     "output_type": "stream",
     "text": [
      "ticklocs array([1.e+06, 1.e+07, 1.e+08, 1.e+09])\n",
      "ticklocs array([1.e+06, 1.e+07, 1.e+08, 1.e+09])\n",
      "ticklocs array([1.e+06, 1.e+07, 1.e+08, 1.e+09])\n",
      "ticklocs array([1.e+06, 1.e+07, 1.e+08, 1.e+09])\n",
      "ticklocs array([1.e+06, 1.e+07, 1.e+08, 1.e+09])\n",
      "ticklocs array([1.e+06, 1.e+07, 1.e+08, 1.e+09])\n",
      "ticklocs array([1.e+06, 1.e+07, 1.e+08, 1.e+09])\n"
     ]
    },
    {
     "name": "stderr",
     "output_type": "stream",
     "text": [
      " 14159200 vmin 12862488.32227021 vmax 28176790.09172422\n"
     ]
    },
    {
     "name": "stdout",
     "output_type": "stream",
     "text": [
      "vmin 12862488.32227021 vmax 28176790.09172422\n",
      "vmin 12862488.32227021 vmax 28176790.09172422\n",
      "vmin 12862488.32227021 vmax 28176790.09172422\n",
      "vmin 12862488.32227021 vmax 28176790.09172422\n",
      "vmin 12862488.32227021 vmax 28176790.09172422\n",
      "vmin 12862488.32227021 vmax 28176790.09172422\n",
      "vmin 12862488.32227021 vmax 28176790.09172422\n"
     ]
    },
    {
     "name": "stderr",
     "output_type": "stream",
     "text": [
      " 14159207 ticklocs array([2.e+06, 3.e+06, 4.e+06, 5.e+06, 6.e+06, 7.e+06, 8.e+06, 9.e+06,\n",
      "       2.e+07, 3.e+07, 4.e+07, 5.e+07, 6.e+07, 7.e+07, 8.e+07, 9.e+07,\n",
      "       2.e+08, 3.e+08, 4.e+08, 5.e+08, 6.e+08, 7.e+08, 8.e+08, 9.e+08,\n",
      "       2.e+09, 3.e+09, 4.e+09, 5.e+09, 6.e+09, 7.e+09, 8.e+09, 9.e+09])\n"
     ]
    },
    {
     "name": "stdout",
     "output_type": "stream",
     "text": [
      "ticklocs array([2.e+06, 3.e+06, 4.e+06, 5.e+06, 6.e+06, 7.e+06, 8.e+06, 9.e+06,\n",
      "       2.e+07, 3.e+07, 4.e+07, 5.e+07, 6.e+07, 7.e+07, 8.e+07, 9.e+07,\n",
      "       2.e+08, 3.e+08, 4.e+08, 5.e+08, 6.e+08, 7.e+08, 8.e+08, 9.e+08,\n",
      "       2.e+09, 3.e+09, 4.e+09, 5.e+09, 6.e+09, 7.e+09, 8.e+09, 9.e+09])\n",
      "ticklocs array([2.e+06, 3.e+06, 4.e+06, 5.e+06, 6.e+06, 7.e+06, 8.e+06, 9.e+06,\n",
      "       2.e+07, 3.e+07, 4.e+07, 5.e+07, 6.e+07, 7.e+07, 8.e+07, 9.e+07,\n",
      "       2.e+08, 3.e+08, 4.e+08, 5.e+08, 6.e+08, 7.e+08, 8.e+08, 9.e+08,\n",
      "       2.e+09, 3.e+09, 4.e+09, 5.e+09, 6.e+09, 7.e+09, 8.e+09, 9.e+09])\n",
      "ticklocs array([2.e+06, 3.e+06, 4.e+06, 5.e+06, 6.e+06, 7.e+06, 8.e+06, 9.e+06,\n",
      "       2.e+07, 3.e+07, 4.e+07, 5.e+07, 6.e+07, 7.e+07, 8.e+07, 9.e+07,\n",
      "       2.e+08, 3.e+08, 4.e+08, 5.e+08, 6.e+08, 7.e+08, 8.e+08, 9.e+08,\n",
      "       2.e+09, 3.e+09, 4.e+09, 5.e+09, 6.e+09, 7.e+09, 8.e+09, 9.e+09])\n",
      "ticklocs array([2.e+06, 3.e+06, 4.e+06, 5.e+06, 6.e+06, 7.e+06, 8.e+06, 9.e+06,\n",
      "       2.e+07, 3.e+07, 4.e+07, 5.e+07, 6.e+07, 7.e+07, 8.e+07, 9.e+07,\n",
      "       2.e+08, 3.e+08, 4.e+08, 5.e+08, 6.e+08, 7.e+08, 8.e+08, 9.e+08,\n",
      "       2.e+09, 3.e+09, 4.e+09, 5.e+09, 6.e+09, 7.e+09, 8.e+09, 9.e+09])\n",
      "ticklocs array([2.e+06, 3.e+06, 4.e+06, 5.e+06, 6.e+06, 7.e+06, 8.e+06, 9.e+06,\n",
      "       2.e+07, 3.e+07, 4.e+07, 5.e+07, 6.e+07, 7.e+07, 8.e+07, 9.e+07,\n",
      "       2.e+08, 3.e+08, 4.e+08, 5.e+08, 6.e+08, 7.e+08, 8.e+08, 9.e+08,\n",
      "       2.e+09, 3.e+09, 4.e+09, 5.e+09, 6.e+09, 7.e+09, 8.e+09, 9.e+09])\n",
      "ticklocs array([2.e+06, 3.e+06, 4.e+06, 5.e+06, 6.e+06, 7.e+06, 8.e+06, 9.e+06,\n",
      "       2.e+07, 3.e+07, 4.e+07, 5.e+07, 6.e+07, 7.e+07, 8.e+07, 9.e+07,\n",
      "       2.e+08, 3.e+08, 4.e+08, 5.e+08, 6.e+08, 7.e+08, 8.e+08, 9.e+08,\n",
      "       2.e+09, 3.e+09, 4.e+09, 5.e+09, 6.e+09, 7.e+09, 8.e+09, 9.e+09])\n",
      "ticklocs array([2.e+06, 3.e+06, 4.e+06, 5.e+06, 6.e+06, 7.e+06, 8.e+06, 9.e+06,\n",
      "       2.e+07, 3.e+07, 4.e+07, 5.e+07, 6.e+07, 7.e+07, 8.e+07, 9.e+07,\n",
      "       2.e+08, 3.e+08, 4.e+08, 5.e+08, 6.e+08, 7.e+08, 8.e+08, 9.e+08,\n",
      "       2.e+09, 3.e+09, 4.e+09, 5.e+09, 6.e+09, 7.e+09, 8.e+09, 9.e+09])\n"
     ]
    },
    {
     "name": "stderr",
     "output_type": "stream",
     "text": [
      " 14159219 vmin 12862488.32227021 vmax 28176790.09172422\n"
     ]
    },
    {
     "name": "stdout",
     "output_type": "stream",
     "text": [
      "vmin 12862488.32227021 vmax 28176790.09172422\n",
      "vmin 12862488.32227021 vmax 28176790.09172422\n",
      "vmin 12862488.32227021 vmax 28176790.09172422\n",
      "vmin 12862488.32227021 vmax 28176790.09172422\n",
      "vmin 12862488.32227021 vmax 28176790.09172422\n",
      "vmin 12862488.32227021 vmax 28176790.09172422\n",
      "vmin 12862488.32227021 vmax 28176790.09172422\n"
     ]
    },
    {
     "name": "stderr",
     "output_type": "stream",
     "text": [
      " 14159225 ticklocs array([1.e+06, 1.e+07, 1.e+08, 1.e+09])\n"
     ]
    },
    {
     "name": "stdout",
     "output_type": "stream",
     "text": [
      "ticklocs array([1.e+06, 1.e+07, 1.e+08, 1.e+09])\n",
      "ticklocs array([1.e+06, 1.e+07, 1.e+08, 1.e+09])\n",
      "ticklocs array([1.e+06, 1.e+07, 1.e+08, 1.e+09])\n",
      "ticklocs array([1.e+06, 1.e+07, 1.e+08, 1.e+09])\n",
      "ticklocs array([1.e+06, 1.e+07, 1.e+08, 1.e+09])\n",
      "ticklocs array([1.e+06, 1.e+07, 1.e+08, 1.e+09])\n",
      "ticklocs array([1.e+06, 1.e+07, 1.e+08, 1.e+09])\n"
     ]
    },
    {
     "name": "stderr",
     "output_type": "stream",
     "text": [
      " 14159234 vmin 12862488.32227021 vmax 28176790.09172422\n"
     ]
    },
    {
     "name": "stdout",
     "output_type": "stream",
     "text": [
      "vmin 12862488.32227021 vmax 28176790.09172422\n",
      "vmin 12862488.32227021 vmax 28176790.09172422\n",
      "vmin 12862488.32227021 vmax 28176790.09172422\n",
      "vmin 12862488.32227021 vmax 28176790.09172422\n",
      "vmin 12862488.32227021 vmax 28176790.09172422\n",
      "vmin 12862488.32227021 vmax 28176790.09172422\n",
      "vmin 12862488.32227021 vmax 28176790.09172422\n"
     ]
    },
    {
     "name": "stderr",
     "output_type": "stream",
     "text": [
      " 14159242 ticklocs array([1.e+06, 1.e+07, 1.e+08, 1.e+09])\n"
     ]
    },
    {
     "name": "stdout",
     "output_type": "stream",
     "text": [
      "ticklocs array([1.e+06, 1.e+07, 1.e+08, 1.e+09])\n",
      "ticklocs array([1.e+06, 1.e+07, 1.e+08, 1.e+09])\n",
      "ticklocs array([1.e+06, 1.e+07, 1.e+08, 1.e+09])\n",
      "ticklocs array([1.e+06, 1.e+07, 1.e+08, 1.e+09])\n",
      "ticklocs array([1.e+06, 1.e+07, 1.e+08, 1.e+09])\n",
      "ticklocs array([1.e+06, 1.e+07, 1.e+08, 1.e+09])\n",
      "ticklocs array([1.e+06, 1.e+07, 1.e+08, 1.e+09])\n"
     ]
    },
    {
     "name": "stderr",
     "output_type": "stream",
     "text": [
      " 14159249 vmin 12862488.32227021 vmax 28176790.09172422\n"
     ]
    },
    {
     "name": "stdout",
     "output_type": "stream",
     "text": [
      "vmin 12862488.32227021 vmax 28176790.09172422\n",
      "vmin 12862488.32227021 vmax 28176790.09172422\n",
      "vmin 12862488.32227021 vmax 28176790.09172422\n",
      "vmin 12862488.32227021 vmax 28176790.09172422\n",
      "vmin 12862488.32227021 vmax 28176790.09172422\n",
      "vmin 12862488.32227021 vmax 28176790.09172422\n",
      "vmin 12862488.32227021 vmax 28176790.09172422\n"
     ]
    },
    {
     "name": "stderr",
     "output_type": "stream",
     "text": [
      " 14159257 ticklocs array([2.e+06, 3.e+06, 4.e+06, 5.e+06, 6.e+06, 7.e+06, 8.e+06, 9.e+06,\n",
      "       2.e+07, 3.e+07, 4.e+07, 5.e+07, 6.e+07, 7.e+07, 8.e+07, 9.e+07,\n",
      "       2.e+08, 3.e+08, 4.e+08, 5.e+08, 6.e+08, 7.e+08, 8.e+08, 9.e+08,\n",
      "       2.e+09, 3.e+09, 4.e+09, 5.e+09, 6.e+09, 7.e+09, 8.e+09, 9.e+09])\n"
     ]
    },
    {
     "name": "stdout",
     "output_type": "stream",
     "text": [
      "ticklocs array([2.e+06, 3.e+06, 4.e+06, 5.e+06, 6.e+06, 7.e+06, 8.e+06, 9.e+06,\n",
      "       2.e+07, 3.e+07, 4.e+07, 5.e+07, 6.e+07, 7.e+07, 8.e+07, 9.e+07,\n",
      "       2.e+08, 3.e+08, 4.e+08, 5.e+08, 6.e+08, 7.e+08, 8.e+08, 9.e+08,\n",
      "       2.e+09, 3.e+09, 4.e+09, 5.e+09, 6.e+09, 7.e+09, 8.e+09, 9.e+09])\n",
      "ticklocs array([2.e+06, 3.e+06, 4.e+06, 5.e+06, 6.e+06, 7.e+06, 8.e+06, 9.e+06,\n",
      "       2.e+07, 3.e+07, 4.e+07, 5.e+07, 6.e+07, 7.e+07, 8.e+07, 9.e+07,\n",
      "       2.e+08, 3.e+08, 4.e+08, 5.e+08, 6.e+08, 7.e+08, 8.e+08, 9.e+08,\n",
      "       2.e+09, 3.e+09, 4.e+09, 5.e+09, 6.e+09, 7.e+09, 8.e+09, 9.e+09])\n",
      "ticklocs array([2.e+06, 3.e+06, 4.e+06, 5.e+06, 6.e+06, 7.e+06, 8.e+06, 9.e+06,\n",
      "       2.e+07, 3.e+07, 4.e+07, 5.e+07, 6.e+07, 7.e+07, 8.e+07, 9.e+07,\n",
      "       2.e+08, 3.e+08, 4.e+08, 5.e+08, 6.e+08, 7.e+08, 8.e+08, 9.e+08,\n",
      "       2.e+09, 3.e+09, 4.e+09, 5.e+09, 6.e+09, 7.e+09, 8.e+09, 9.e+09])\n",
      "ticklocs array([2.e+06, 3.e+06, 4.e+06, 5.e+06, 6.e+06, 7.e+06, 8.e+06, 9.e+06,\n",
      "       2.e+07, 3.e+07, 4.e+07, 5.e+07, 6.e+07, 7.e+07, 8.e+07, 9.e+07,\n",
      "       2.e+08, 3.e+08, 4.e+08, 5.e+08, 6.e+08, 7.e+08, 8.e+08, 9.e+08,\n",
      "       2.e+09, 3.e+09, 4.e+09, 5.e+09, 6.e+09, 7.e+09, 8.e+09, 9.e+09])\n",
      "ticklocs array([2.e+06, 3.e+06, 4.e+06, 5.e+06, 6.e+06, 7.e+06, 8.e+06, 9.e+06,\n",
      "       2.e+07, 3.e+07, 4.e+07, 5.e+07, 6.e+07, 7.e+07, 8.e+07, 9.e+07,\n",
      "       2.e+08, 3.e+08, 4.e+08, 5.e+08, 6.e+08, 7.e+08, 8.e+08, 9.e+08,\n",
      "       2.e+09, 3.e+09, 4.e+09, 5.e+09, 6.e+09, 7.e+09, 8.e+09, 9.e+09])\n",
      "ticklocs array([2.e+06, 3.e+06, 4.e+06, 5.e+06, 6.e+06, 7.e+06, 8.e+06, 9.e+06,\n",
      "       2.e+07, 3.e+07, 4.e+07, 5.e+07, 6.e+07, 7.e+07, 8.e+07, 9.e+07,\n",
      "       2.e+08, 3.e+08, 4.e+08, 5.e+08, 6.e+08, 7.e+08, 8.e+08, 9.e+08,\n",
      "       2.e+09, 3.e+09, 4.e+09, 5.e+09, 6.e+09, 7.e+09, 8.e+09, 9.e+09])\n",
      "ticklocs array([2.e+06, 3.e+06, 4.e+06, 5.e+06, 6.e+06, 7.e+06, 8.e+06, 9.e+06,\n",
      "       2.e+07, 3.e+07, 4.e+07, 5.e+07, 6.e+07, 7.e+07, 8.e+07, 9.e+07,\n",
      "       2.e+08, 3.e+08, 4.e+08, 5.e+08, 6.e+08, 7.e+08, 8.e+08, 9.e+08,\n",
      "       2.e+09, 3.e+09, 4.e+09, 5.e+09, 6.e+09, 7.e+09, 8.e+09, 9.e+09])\n"
     ]
    },
    {
     "name": "stderr",
     "output_type": "stream",
     "text": [
      " 14159281 vmin 12862488.32227021 vmax 28176790.09172422\n"
     ]
    },
    {
     "name": "stdout",
     "output_type": "stream",
     "text": [
      "vmin 12862488.32227021 vmax 28176790.09172422\n",
      "vmin 12862488.32227021 vmax 28176790.09172422\n",
      "vmin 12862488.32227021 vmax 28176790.09172422\n",
      "vmin 12862488.32227021 vmax 28176790.09172422\n",
      "vmin 12862488.32227021 vmax 28176790.09172422\n",
      "vmin 12862488.32227021 vmax 28176790.09172422\n",
      "vmin 12862488.32227021 vmax 28176790.09172422\n"
     ]
    },
    {
     "name": "stderr",
     "output_type": "stream",
     "text": [
      " 14159288 ticklocs array([1.e+06, 1.e+07, 1.e+08, 1.e+09])\n"
     ]
    },
    {
     "name": "stdout",
     "output_type": "stream",
     "text": [
      "ticklocs array([1.e+06, 1.e+07, 1.e+08, 1.e+09])\n",
      "ticklocs array([1.e+06, 1.e+07, 1.e+08, 1.e+09])\n",
      "ticklocs array([1.e+06, 1.e+07, 1.e+08, 1.e+09])\n",
      "ticklocs array([1.e+06, 1.e+07, 1.e+08, 1.e+09])\n",
      "ticklocs array([1.e+06, 1.e+07, 1.e+08, 1.e+09])\n",
      "ticklocs array([1.e+06, 1.e+07, 1.e+08, 1.e+09])\n",
      "ticklocs array([1.e+06, 1.e+07, 1.e+08, 1.e+09])\n"
     ]
    },
    {
     "name": "stderr",
     "output_type": "stream",
     "text": [
      " 14159298 vmin 12862488.32227021 vmax 28176790.09172422\n"
     ]
    },
    {
     "name": "stdout",
     "output_type": "stream",
     "text": [
      "vmin 12862488.32227021 vmax 28176790.09172422\n",
      "vmin 12862488.32227021 vmax 28176790.09172422\n",
      "vmin 12862488.32227021 vmax 28176790.09172422\n",
      "vmin 12862488.32227021 vmax 28176790.09172422\n",
      "vmin 12862488.32227021 vmax 28176790.09172422\n",
      "vmin 12862488.32227021 vmax 28176790.09172422\n",
      "vmin 12862488.32227021 vmax 28176790.09172422\n"
     ]
    },
    {
     "name": "stderr",
     "output_type": "stream",
     "text": [
      " 14159303 ticklocs array([1.e+06, 1.e+07, 1.e+08, 1.e+09])\n"
     ]
    },
    {
     "name": "stdout",
     "output_type": "stream",
     "text": [
      "ticklocs array([1.e+06, 1.e+07, 1.e+08, 1.e+09])\n",
      "ticklocs array([1.e+06, 1.e+07, 1.e+08, 1.e+09])\n",
      "ticklocs array([1.e+06, 1.e+07, 1.e+08, 1.e+09])\n",
      "ticklocs array([1.e+06, 1.e+07, 1.e+08, 1.e+09])\n",
      "ticklocs array([1.e+06, 1.e+07, 1.e+08, 1.e+09])\n",
      "ticklocs array([1.e+06, 1.e+07, 1.e+08, 1.e+09])\n",
      "ticklocs array([1.e+06, 1.e+07, 1.e+08, 1.e+09])\n"
     ]
    },
    {
     "name": "stderr",
     "output_type": "stream",
     "text": [
      " 14159314 vmin 12862488.32227021 vmax 28176790.09172422\n"
     ]
    },
    {
     "name": "stdout",
     "output_type": "stream",
     "text": [
      "vmin 12862488.32227021 vmax 28176790.09172422\n",
      "vmin 12862488.32227021 vmax 28176790.09172422\n",
      "vmin 12862488.32227021 vmax 28176790.09172422\n",
      "vmin 12862488.32227021 vmax 28176790.09172422\n",
      "vmin 12862488.32227021 vmax 28176790.09172422\n",
      "vmin 12862488.32227021 vmax 28176790.09172422\n",
      "vmin 12862488.32227021 vmax 28176790.09172422\n"
     ]
    },
    {
     "name": "stderr",
     "output_type": "stream",
     "text": [
      " 14159319 ticklocs array([2.e+06, 3.e+06, 4.e+06, 5.e+06, 6.e+06, 7.e+06, 8.e+06, 9.e+06,\n",
      "       2.e+07, 3.e+07, 4.e+07, 5.e+07, 6.e+07, 7.e+07, 8.e+07, 9.e+07,\n",
      "       2.e+08, 3.e+08, 4.e+08, 5.e+08, 6.e+08, 7.e+08, 8.e+08, 9.e+08,\n",
      "       2.e+09, 3.e+09, 4.e+09, 5.e+09, 6.e+09, 7.e+09, 8.e+09, 9.e+09])\n"
     ]
    },
    {
     "name": "stdout",
     "output_type": "stream",
     "text": [
      "ticklocs array([2.e+06, 3.e+06, 4.e+06, 5.e+06, 6.e+06, 7.e+06, 8.e+06, 9.e+06,\n",
      "       2.e+07, 3.e+07, 4.e+07, 5.e+07, 6.e+07, 7.e+07, 8.e+07, 9.e+07,\n",
      "       2.e+08, 3.e+08, 4.e+08, 5.e+08, 6.e+08, 7.e+08, 8.e+08, 9.e+08,\n",
      "       2.e+09, 3.e+09, 4.e+09, 5.e+09, 6.e+09, 7.e+09, 8.e+09, 9.e+09])\n",
      "ticklocs array([2.e+06, 3.e+06, 4.e+06, 5.e+06, 6.e+06, 7.e+06, 8.e+06, 9.e+06,\n",
      "       2.e+07, 3.e+07, 4.e+07, 5.e+07, 6.e+07, 7.e+07, 8.e+07, 9.e+07,\n",
      "       2.e+08, 3.e+08, 4.e+08, 5.e+08, 6.e+08, 7.e+08, 8.e+08, 9.e+08,\n",
      "       2.e+09, 3.e+09, 4.e+09, 5.e+09, 6.e+09, 7.e+09, 8.e+09, 9.e+09])\n",
      "ticklocs array([2.e+06, 3.e+06, 4.e+06, 5.e+06, 6.e+06, 7.e+06, 8.e+06, 9.e+06,\n",
      "       2.e+07, 3.e+07, 4.e+07, 5.e+07, 6.e+07, 7.e+07, 8.e+07, 9.e+07,\n",
      "       2.e+08, 3.e+08, 4.e+08, 5.e+08, 6.e+08, 7.e+08, 8.e+08, 9.e+08,\n",
      "       2.e+09, 3.e+09, 4.e+09, 5.e+09, 6.e+09, 7.e+09, 8.e+09, 9.e+09])\n",
      "ticklocs array([2.e+06, 3.e+06, 4.e+06, 5.e+06, 6.e+06, 7.e+06, 8.e+06, 9.e+06,\n",
      "       2.e+07, 3.e+07, 4.e+07, 5.e+07, 6.e+07, 7.e+07, 8.e+07, 9.e+07,\n",
      "       2.e+08, 3.e+08, 4.e+08, 5.e+08, 6.e+08, 7.e+08, 8.e+08, 9.e+08,\n",
      "       2.e+09, 3.e+09, 4.e+09, 5.e+09, 6.e+09, 7.e+09, 8.e+09, 9.e+09])\n",
      "ticklocs array([2.e+06, 3.e+06, 4.e+06, 5.e+06, 6.e+06, 7.e+06, 8.e+06, 9.e+06,\n",
      "       2.e+07, 3.e+07, 4.e+07, 5.e+07, 6.e+07, 7.e+07, 8.e+07, 9.e+07,\n",
      "       2.e+08, 3.e+08, 4.e+08, 5.e+08, 6.e+08, 7.e+08, 8.e+08, 9.e+08,\n",
      "       2.e+09, 3.e+09, 4.e+09, 5.e+09, 6.e+09, 7.e+09, 8.e+09, 9.e+09])\n",
      "ticklocs array([2.e+06, 3.e+06, 4.e+06, 5.e+06, 6.e+06, 7.e+06, 8.e+06, 9.e+06,\n",
      "       2.e+07, 3.e+07, 4.e+07, 5.e+07, 6.e+07, 7.e+07, 8.e+07, 9.e+07,\n",
      "       2.e+08, 3.e+08, 4.e+08, 5.e+08, 6.e+08, 7.e+08, 8.e+08, 9.e+08,\n",
      "       2.e+09, 3.e+09, 4.e+09, 5.e+09, 6.e+09, 7.e+09, 8.e+09, 9.e+09])\n",
      "ticklocs array([2.e+06, 3.e+06, 4.e+06, 5.e+06, 6.e+06, 7.e+06, 8.e+06, 9.e+06,\n",
      "       2.e+07, 3.e+07, 4.e+07, 5.e+07, 6.e+07, 7.e+07, 8.e+07, 9.e+07,\n",
      "       2.e+08, 3.e+08, 4.e+08, 5.e+08, 6.e+08, 7.e+08, 8.e+08, 9.e+08,\n",
      "       2.e+09, 3.e+09, 4.e+09, 5.e+09, 6.e+09, 7.e+09, 8.e+09, 9.e+09])\n"
     ]
    },
    {
     "name": "stderr",
     "output_type": "stream",
     "text": [
      " 14159332 vmin 12862488.32227021 vmax 28176790.09172422\n"
     ]
    },
    {
     "name": "stdout",
     "output_type": "stream",
     "text": [
      "vmin 12862488.32227021 vmax 28176790.09172422\n",
      "vmin 12862488.32227021 vmax 28176790.09172422\n",
      "vmin 12862488.32227021 vmax 28176790.09172422\n",
      "vmin 12862488.32227021 vmax 28176790.09172422\n",
      "vmin 12862488.32227021 vmax 28176790.09172422\n",
      "vmin 12862488.32227021 vmax 28176790.09172422\n",
      "vmin 12862488.32227021 vmax 28176790.09172422\n"
     ]
    },
    {
     "name": "stderr",
     "output_type": "stream",
     "text": [
      " 14159338 ticklocs array([1.e+06, 1.e+07, 1.e+08, 1.e+09])\n"
     ]
    },
    {
     "name": "stdout",
     "output_type": "stream",
     "text": [
      "ticklocs array([1.e+06, 1.e+07, 1.e+08, 1.e+09])\n",
      "ticklocs array([1.e+06, 1.e+07, 1.e+08, 1.e+09])\n",
      "ticklocs array([1.e+06, 1.e+07, 1.e+08, 1.e+09])\n",
      "ticklocs array([1.e+06, 1.e+07, 1.e+08, 1.e+09])\n",
      "ticklocs array([1.e+06, 1.e+07, 1.e+08, 1.e+09])\n",
      "ticklocs array([1.e+06, 1.e+07, 1.e+08, 1.e+09])\n",
      "ticklocs array([1.e+06, 1.e+07, 1.e+08, 1.e+09])\n"
     ]
    },
    {
     "name": "stderr",
     "output_type": "stream",
     "text": [
      " 14159347 vmin 12862488.32227021 vmax 28176790.09172422\n"
     ]
    },
    {
     "name": "stdout",
     "output_type": "stream",
     "text": [
      "vmin 12862488.32227021 vmax 28176790.09172422\n",
      "vmin 12862488.32227021 vmax 28176790.09172422\n",
      "vmin 12862488.32227021 vmax 28176790.09172422\n",
      "vmin 12862488.32227021 vmax 28176790.09172422\n",
      "vmin 12862488.32227021 vmax 28176790.09172422\n",
      "vmin 12862488.32227021 vmax 28176790.09172422\n",
      "vmin 12862488.32227021 vmax 28176790.09172422\n"
     ]
    },
    {
     "name": "stderr",
     "output_type": "stream",
     "text": [
      " 14159353 ticklocs array([1.e+06, 1.e+07, 1.e+08, 1.e+09])\n"
     ]
    },
    {
     "name": "stdout",
     "output_type": "stream",
     "text": [
      "ticklocs array([1.e+06, 1.e+07, 1.e+08, 1.e+09])\n",
      "ticklocs array([1.e+06, 1.e+07, 1.e+08, 1.e+09])\n",
      "ticklocs array([1.e+06, 1.e+07, 1.e+08, 1.e+09])\n",
      "ticklocs array([1.e+06, 1.e+07, 1.e+08, 1.e+09])\n",
      "ticklocs array([1.e+06, 1.e+07, 1.e+08, 1.e+09])\n",
      "ticklocs array([1.e+06, 1.e+07, 1.e+08, 1.e+09])\n",
      "ticklocs array([1.e+06, 1.e+07, 1.e+08, 1.e+09])\n"
     ]
    },
    {
     "name": "stderr",
     "output_type": "stream",
     "text": [
      " 14159362 vmin 12862488.32227021 vmax 28176790.09172422\n"
     ]
    },
    {
     "name": "stdout",
     "output_type": "stream",
     "text": [
      "vmin 12862488.32227021 vmax 28176790.09172422\n",
      "vmin 12862488.32227021 vmax 28176790.09172422\n",
      "vmin 12862488.32227021 vmax 28176790.09172422\n",
      "vmin 12862488.32227021 vmax 28176790.09172422\n",
      "vmin 12862488.32227021 vmax 28176790.09172422\n",
      "vmin 12862488.32227021 vmax 28176790.09172422\n",
      "vmin 12862488.32227021 vmax 28176790.09172422\n"
     ]
    },
    {
     "name": "stderr",
     "output_type": "stream",
     "text": [
      " 14159367 ticklocs array([2.e+06, 3.e+06, 4.e+06, 5.e+06, 6.e+06, 7.e+06, 8.e+06, 9.e+06,\n",
      "       2.e+07, 3.e+07, 4.e+07, 5.e+07, 6.e+07, 7.e+07, 8.e+07, 9.e+07,\n",
      "       2.e+08, 3.e+08, 4.e+08, 5.e+08, 6.e+08, 7.e+08, 8.e+08, 9.e+08,\n",
      "       2.e+09, 3.e+09, 4.e+09, 5.e+09, 6.e+09, 7.e+09, 8.e+09, 9.e+09])\n"
     ]
    },
    {
     "name": "stdout",
     "output_type": "stream",
     "text": [
      "ticklocs array([2.e+06, 3.e+06, 4.e+06, 5.e+06, 6.e+06, 7.e+06, 8.e+06, 9.e+06,\n",
      "       2.e+07, 3.e+07, 4.e+07, 5.e+07, 6.e+07, 7.e+07, 8.e+07, 9.e+07,\n",
      "       2.e+08, 3.e+08, 4.e+08, 5.e+08, 6.e+08, 7.e+08, 8.e+08, 9.e+08,\n",
      "       2.e+09, 3.e+09, 4.e+09, 5.e+09, 6.e+09, 7.e+09, 8.e+09, 9.e+09])\n",
      "ticklocs array([2.e+06, 3.e+06, 4.e+06, 5.e+06, 6.e+06, 7.e+06, 8.e+06, 9.e+06,\n",
      "       2.e+07, 3.e+07, 4.e+07, 5.e+07, 6.e+07, 7.e+07, 8.e+07, 9.e+07,\n",
      "       2.e+08, 3.e+08, 4.e+08, 5.e+08, 6.e+08, 7.e+08, 8.e+08, 9.e+08,\n",
      "       2.e+09, 3.e+09, 4.e+09, 5.e+09, 6.e+09, 7.e+09, 8.e+09, 9.e+09])\n",
      "ticklocs array([2.e+06, 3.e+06, 4.e+06, 5.e+06, 6.e+06, 7.e+06, 8.e+06, 9.e+06,\n",
      "       2.e+07, 3.e+07, 4.e+07, 5.e+07, 6.e+07, 7.e+07, 8.e+07, 9.e+07,\n",
      "       2.e+08, 3.e+08, 4.e+08, 5.e+08, 6.e+08, 7.e+08, 8.e+08, 9.e+08,\n",
      "       2.e+09, 3.e+09, 4.e+09, 5.e+09, 6.e+09, 7.e+09, 8.e+09, 9.e+09])\n",
      "ticklocs array([2.e+06, 3.e+06, 4.e+06, 5.e+06, 6.e+06, 7.e+06, 8.e+06, 9.e+06,\n",
      "       2.e+07, 3.e+07, 4.e+07, 5.e+07, 6.e+07, 7.e+07, 8.e+07, 9.e+07,\n",
      "       2.e+08, 3.e+08, 4.e+08, 5.e+08, 6.e+08, 7.e+08, 8.e+08, 9.e+08,\n",
      "       2.e+09, 3.e+09, 4.e+09, 5.e+09, 6.e+09, 7.e+09, 8.e+09, 9.e+09])\n",
      "ticklocs array([2.e+06, 3.e+06, 4.e+06, 5.e+06, 6.e+06, 7.e+06, 8.e+06, 9.e+06,\n",
      "       2.e+07, 3.e+07, 4.e+07, 5.e+07, 6.e+07, 7.e+07, 8.e+07, 9.e+07,\n",
      "       2.e+08, 3.e+08, 4.e+08, 5.e+08, 6.e+08, 7.e+08, 8.e+08, 9.e+08,\n",
      "       2.e+09, 3.e+09, 4.e+09, 5.e+09, 6.e+09, 7.e+09, 8.e+09, 9.e+09])\n",
      "ticklocs array([2.e+06, 3.e+06, 4.e+06, 5.e+06, 6.e+06, 7.e+06, 8.e+06, 9.e+06,\n",
      "       2.e+07, 3.e+07, 4.e+07, 5.e+07, 6.e+07, 7.e+07, 8.e+07, 9.e+07,\n",
      "       2.e+08, 3.e+08, 4.e+08, 5.e+08, 6.e+08, 7.e+08, 8.e+08, 9.e+08,\n",
      "       2.e+09, 3.e+09, 4.e+09, 5.e+09, 6.e+09, 7.e+09, 8.e+09, 9.e+09])\n",
      "ticklocs array([2.e+06, 3.e+06, 4.e+06, 5.e+06, 6.e+06, 7.e+06, 8.e+06, 9.e+06,\n",
      "       2.e+07, 3.e+07, 4.e+07, 5.e+07, 6.e+07, 7.e+07, 8.e+07, 9.e+07,\n",
      "       2.e+08, 3.e+08, 4.e+08, 5.e+08, 6.e+08, 7.e+08, 8.e+08, 9.e+08,\n",
      "       2.e+09, 3.e+09, 4.e+09, 5.e+09, 6.e+09, 7.e+09, 8.e+09, 9.e+09])\n"
     ]
    },
    {
     "name": "stderr",
     "output_type": "stream",
     "text": [
      " 14159392 vmin 12862488.32227021 vmax 28176790.09172422\n"
     ]
    },
    {
     "name": "stdout",
     "output_type": "stream",
     "text": [
      "vmin 12862488.32227021 vmax 28176790.09172422\n",
      "vmin 12862488.32227021 vmax 28176790.09172422\n",
      "vmin 12862488.32227021 vmax 28176790.09172422\n",
      "vmin 12862488.32227021 vmax 28176790.09172422\n",
      "vmin 12862488.32227021 vmax 28176790.09172422\n",
      "vmin 12862488.32227021 vmax 28176790.09172422\n",
      "vmin 12862488.32227021 vmax 28176790.09172422\n"
     ]
    },
    {
     "name": "stderr",
     "output_type": "stream",
     "text": [
      " 14159397 ticklocs array([1.e+06, 1.e+07, 1.e+08, 1.e+09])\n"
     ]
    },
    {
     "name": "stdout",
     "output_type": "stream",
     "text": [
      "ticklocs array([1.e+06, 1.e+07, 1.e+08, 1.e+09])\n",
      "ticklocs array([1.e+06, 1.e+07, 1.e+08, 1.e+09])\n",
      "ticklocs array([1.e+06, 1.e+07, 1.e+08, 1.e+09])\n",
      "ticklocs array([1.e+06, 1.e+07, 1.e+08, 1.e+09])\n",
      "ticklocs array([1.e+06, 1.e+07, 1.e+08, 1.e+09])\n",
      "ticklocs array([1.e+06, 1.e+07, 1.e+08, 1.e+09])\n",
      "ticklocs array([1.e+06, 1.e+07, 1.e+08, 1.e+09])\n"
     ]
    },
    {
     "name": "stderr",
     "output_type": "stream",
     "text": [
      " 14159404 vmin 12862488.32227021 vmax 28176790.09172422\n"
     ]
    },
    {
     "name": "stdout",
     "output_type": "stream",
     "text": [
      "vmin 12862488.32227021 vmax 28176790.09172422\n",
      "vmin 12862488.32227021 vmax 28176790.09172422\n",
      "vmin 12862488.32227021 vmax 28176790.09172422\n",
      "vmin 12862488.32227021 vmax 28176790.09172422\n",
      "vmin 12862488.32227021 vmax 28176790.09172422\n",
      "vmin 12862488.32227021 vmax 28176790.09172422\n",
      "vmin 12862488.32227021 vmax 28176790.09172422\n"
     ]
    },
    {
     "name": "stderr",
     "output_type": "stream",
     "text": [
      " 14159410 ticklocs array([1.e+06, 1.e+07, 1.e+08, 1.e+09])\n"
     ]
    },
    {
     "name": "stdout",
     "output_type": "stream",
     "text": [
      "ticklocs array([1.e+06, 1.e+07, 1.e+08, 1.e+09])\n",
      "ticklocs array([1.e+06, 1.e+07, 1.e+08, 1.e+09])\n",
      "ticklocs array([1.e+06, 1.e+07, 1.e+08, 1.e+09])\n",
      "ticklocs array([1.e+06, 1.e+07, 1.e+08, 1.e+09])\n",
      "ticklocs array([1.e+06, 1.e+07, 1.e+08, 1.e+09])\n",
      "ticklocs array([1.e+06, 1.e+07, 1.e+08, 1.e+09])\n",
      "ticklocs array([1.e+06, 1.e+07, 1.e+08, 1.e+09])\n"
     ]
    },
    {
     "name": "stderr",
     "output_type": "stream",
     "text": [
      " 14159417 vmin 12862488.32227021 vmax 28176790.09172422\n"
     ]
    },
    {
     "name": "stdout",
     "output_type": "stream",
     "text": [
      "vmin 12862488.32227021 vmax 28176790.09172422\n",
      "vmin 12862488.32227021 vmax 28176790.09172422\n",
      "vmin 12862488.32227021 vmax 28176790.09172422\n",
      "vmin 12862488.32227021 vmax 28176790.09172422\n",
      "vmin 12862488.32227021 vmax 28176790.09172422\n",
      "vmin 12862488.32227021 vmax 28176790.09172422\n",
      "vmin 12862488.32227021 vmax 28176790.09172422\n"
     ]
    },
    {
     "name": "stderr",
     "output_type": "stream",
     "text": [
      " 14159422 ticklocs array([2.e+06, 3.e+06, 4.e+06, 5.e+06, 6.e+06, 7.e+06, 8.e+06, 9.e+06,\n",
      "       2.e+07, 3.e+07, 4.e+07, 5.e+07, 6.e+07, 7.e+07, 8.e+07, 9.e+07,\n",
      "       2.e+08, 3.e+08, 4.e+08, 5.e+08, 6.e+08, 7.e+08, 8.e+08, 9.e+08,\n",
      "       2.e+09, 3.e+09, 4.e+09, 5.e+09, 6.e+09, 7.e+09, 8.e+09, 9.e+09])\n"
     ]
    },
    {
     "name": "stdout",
     "output_type": "stream",
     "text": [
      "ticklocs array([2.e+06, 3.e+06, 4.e+06, 5.e+06, 6.e+06, 7.e+06, 8.e+06, 9.e+06,\n",
      "       2.e+07, 3.e+07, 4.e+07, 5.e+07, 6.e+07, 7.e+07, 8.e+07, 9.e+07,\n",
      "       2.e+08, 3.e+08, 4.e+08, 5.e+08, 6.e+08, 7.e+08, 8.e+08, 9.e+08,\n",
      "       2.e+09, 3.e+09, 4.e+09, 5.e+09, 6.e+09, 7.e+09, 8.e+09, 9.e+09])\n",
      "ticklocs array([2.e+06, 3.e+06, 4.e+06, 5.e+06, 6.e+06, 7.e+06, 8.e+06, 9.e+06,\n",
      "       2.e+07, 3.e+07, 4.e+07, 5.e+07, 6.e+07, 7.e+07, 8.e+07, 9.e+07,\n",
      "       2.e+08, 3.e+08, 4.e+08, 5.e+08, 6.e+08, 7.e+08, 8.e+08, 9.e+08,\n",
      "       2.e+09, 3.e+09, 4.e+09, 5.e+09, 6.e+09, 7.e+09, 8.e+09, 9.e+09])\n",
      "ticklocs array([2.e+06, 3.e+06, 4.e+06, 5.e+06, 6.e+06, 7.e+06, 8.e+06, 9.e+06,\n",
      "       2.e+07, 3.e+07, 4.e+07, 5.e+07, 6.e+07, 7.e+07, 8.e+07, 9.e+07,\n",
      "       2.e+08, 3.e+08, 4.e+08, 5.e+08, 6.e+08, 7.e+08, 8.e+08, 9.e+08,\n",
      "       2.e+09, 3.e+09, 4.e+09, 5.e+09, 6.e+09, 7.e+09, 8.e+09, 9.e+09])\n",
      "ticklocs array([2.e+06, 3.e+06, 4.e+06, 5.e+06, 6.e+06, 7.e+06, 8.e+06, 9.e+06,\n",
      "       2.e+07, 3.e+07, 4.e+07, 5.e+07, 6.e+07, 7.e+07, 8.e+07, 9.e+07,\n",
      "       2.e+08, 3.e+08, 4.e+08, 5.e+08, 6.e+08, 7.e+08, 8.e+08, 9.e+08,\n",
      "       2.e+09, 3.e+09, 4.e+09, 5.e+09, 6.e+09, 7.e+09, 8.e+09, 9.e+09])\n",
      "ticklocs array([2.e+06, 3.e+06, 4.e+06, 5.e+06, 6.e+06, 7.e+06, 8.e+06, 9.e+06,\n",
      "       2.e+07, 3.e+07, 4.e+07, 5.e+07, 6.e+07, 7.e+07, 8.e+07, 9.e+07,\n",
      "       2.e+08, 3.e+08, 4.e+08, 5.e+08, 6.e+08, 7.e+08, 8.e+08, 9.e+08,\n",
      "       2.e+09, 3.e+09, 4.e+09, 5.e+09, 6.e+09, 7.e+09, 8.e+09, 9.e+09])\n",
      "ticklocs array([2.e+06, 3.e+06, 4.e+06, 5.e+06, 6.e+06, 7.e+06, 8.e+06, 9.e+06,\n",
      "       2.e+07, 3.e+07, 4.e+07, 5.e+07, 6.e+07, 7.e+07, 8.e+07, 9.e+07,\n",
      "       2.e+08, 3.e+08, 4.e+08, 5.e+08, 6.e+08, 7.e+08, 8.e+08, 9.e+08,\n",
      "       2.e+09, 3.e+09, 4.e+09, 5.e+09, 6.e+09, 7.e+09, 8.e+09, 9.e+09])\n",
      "ticklocs array([2.e+06, 3.e+06, 4.e+06, 5.e+06, 6.e+06, 7.e+06, 8.e+06, 9.e+06,\n",
      "       2.e+07, 3.e+07, 4.e+07, 5.e+07, 6.e+07, 7.e+07, 8.e+07, 9.e+07,\n",
      "       2.e+08, 3.e+08, 4.e+08, 5.e+08, 6.e+08, 7.e+08, 8.e+08, 9.e+08,\n",
      "       2.e+09, 3.e+09, 4.e+09, 5.e+09, 6.e+09, 7.e+09, 8.e+09, 9.e+09])\n"
     ]
    },
    {
     "name": "stderr",
     "output_type": "stream",
     "text": [
      " 14159433 vmin 12862488.32227021 vmax 28176790.09172422\n"
     ]
    },
    {
     "name": "stdout",
     "output_type": "stream",
     "text": [
      "vmin 12862488.32227021 vmax 28176790.09172422\n",
      "vmin 12862488.32227021 vmax 28176790.09172422\n",
      "vmin 12862488.32227021 vmax 28176790.09172422\n",
      "vmin 12862488.32227021 vmax 28176790.09172422\n",
      "vmin 12862488.32227021 vmax 28176790.09172422\n",
      "vmin 12862488.32227021 vmax 28176790.09172422\n",
      "vmin 12862488.32227021 vmax 28176790.09172422\n"
     ]
    },
    {
     "name": "stderr",
     "output_type": "stream",
     "text": [
      " 14159439 ticklocs array([1.e+06, 1.e+07, 1.e+08, 1.e+09])\n"
     ]
    },
    {
     "name": "stdout",
     "output_type": "stream",
     "text": [
      "ticklocs array([1.e+06, 1.e+07, 1.e+08, 1.e+09])\n",
      "ticklocs array([1.e+06, 1.e+07, 1.e+08, 1.e+09])\n",
      "ticklocs array([1.e+06, 1.e+07, 1.e+08, 1.e+09])\n",
      "ticklocs array([1.e+06, 1.e+07, 1.e+08, 1.e+09])\n",
      "ticklocs array([1.e+06, 1.e+07, 1.e+08, 1.e+09])\n",
      "ticklocs array([1.e+06, 1.e+07, 1.e+08, 1.e+09])\n",
      "ticklocs array([1.e+06, 1.e+07, 1.e+08, 1.e+09])\n"
     ]
    },
    {
     "name": "stderr",
     "output_type": "stream",
     "text": [
      " 14159445 vmin 12862488.32227021 vmax 28176790.09172422\n"
     ]
    },
    {
     "name": "stdout",
     "output_type": "stream",
     "text": [
      "vmin 12862488.32227021 vmax 28176790.09172422\n",
      "vmin 12862488.32227021 vmax 28176790.09172422\n",
      "vmin 12862488.32227021 vmax 28176790.09172422\n",
      "vmin 12862488.32227021 vmax 28176790.09172422\n",
      "vmin 12862488.32227021 vmax 28176790.09172422\n",
      "vmin 12862488.32227021 vmax 28176790.09172422\n",
      "vmin 12862488.32227021 vmax 28176790.09172422\n"
     ]
    },
    {
     "name": "stderr",
     "output_type": "stream",
     "text": [
      " 14159450 ticklocs array([1.e+06, 1.e+07, 1.e+08, 1.e+09])\n"
     ]
    },
    {
     "name": "stdout",
     "output_type": "stream",
     "text": [
      "ticklocs array([1.e+06, 1.e+07, 1.e+08, 1.e+09])\n",
      "ticklocs array([1.e+06, 1.e+07, 1.e+08, 1.e+09])\n",
      "ticklocs array([1.e+06, 1.e+07, 1.e+08, 1.e+09])\n",
      "ticklocs array([1.e+06, 1.e+07, 1.e+08, 1.e+09])\n",
      "ticklocs array([1.e+06, 1.e+07, 1.e+08, 1.e+09])\n",
      "ticklocs array([1.e+06, 1.e+07, 1.e+08, 1.e+09])\n",
      "ticklocs array([1.e+06, 1.e+07, 1.e+08, 1.e+09])\n"
     ]
    },
    {
     "name": "stderr",
     "output_type": "stream",
     "text": [
      " 14159457 vmin 12862488.32227021 vmax 28176790.09172422\n"
     ]
    },
    {
     "name": "stdout",
     "output_type": "stream",
     "text": [
      "vmin 12862488.32227021 vmax 28176790.09172422\n",
      "vmin 12862488.32227021 vmax 28176790.09172422\n",
      "vmin 12862488.32227021 vmax 28176790.09172422\n",
      "vmin 12862488.32227021 vmax 28176790.09172422\n",
      "vmin 12862488.32227021 vmax 28176790.09172422\n",
      "vmin 12862488.32227021 vmax 28176790.09172422\n",
      "vmin 12862488.32227021 vmax 28176790.09172422\n"
     ]
    },
    {
     "name": "stderr",
     "output_type": "stream",
     "text": [
      " 14159462 ticklocs array([2.e+06, 3.e+06, 4.e+06, 5.e+06, 6.e+06, 7.e+06, 8.e+06, 9.e+06,\n",
      "       2.e+07, 3.e+07, 4.e+07, 5.e+07, 6.e+07, 7.e+07, 8.e+07, 9.e+07,\n",
      "       2.e+08, 3.e+08, 4.e+08, 5.e+08, 6.e+08, 7.e+08, 8.e+08, 9.e+08,\n",
      "       2.e+09, 3.e+09, 4.e+09, 5.e+09, 6.e+09, 7.e+09, 8.e+09, 9.e+09])\n"
     ]
    },
    {
     "name": "stdout",
     "output_type": "stream",
     "text": [
      "ticklocs array([2.e+06, 3.e+06, 4.e+06, 5.e+06, 6.e+06, 7.e+06, 8.e+06, 9.e+06,\n",
      "       2.e+07, 3.e+07, 4.e+07, 5.e+07, 6.e+07, 7.e+07, 8.e+07, 9.e+07,\n",
      "       2.e+08, 3.e+08, 4.e+08, 5.e+08, 6.e+08, 7.e+08, 8.e+08, 9.e+08,\n",
      "       2.e+09, 3.e+09, 4.e+09, 5.e+09, 6.e+09, 7.e+09, 8.e+09, 9.e+09])\n",
      "ticklocs array([2.e+06, 3.e+06, 4.e+06, 5.e+06, 6.e+06, 7.e+06, 8.e+06, 9.e+06,\n",
      "       2.e+07, 3.e+07, 4.e+07, 5.e+07, 6.e+07, 7.e+07, 8.e+07, 9.e+07,\n",
      "       2.e+08, 3.e+08, 4.e+08, 5.e+08, 6.e+08, 7.e+08, 8.e+08, 9.e+08,\n",
      "       2.e+09, 3.e+09, 4.e+09, 5.e+09, 6.e+09, 7.e+09, 8.e+09, 9.e+09])\n",
      "ticklocs array([2.e+06, 3.e+06, 4.e+06, 5.e+06, 6.e+06, 7.e+06, 8.e+06, 9.e+06,\n",
      "       2.e+07, 3.e+07, 4.e+07, 5.e+07, 6.e+07, 7.e+07, 8.e+07, 9.e+07,\n",
      "       2.e+08, 3.e+08, 4.e+08, 5.e+08, 6.e+08, 7.e+08, 8.e+08, 9.e+08,\n",
      "       2.e+09, 3.e+09, 4.e+09, 5.e+09, 6.e+09, 7.e+09, 8.e+09, 9.e+09])\n",
      "ticklocs array([2.e+06, 3.e+06, 4.e+06, 5.e+06, 6.e+06, 7.e+06, 8.e+06, 9.e+06,\n",
      "       2.e+07, 3.e+07, 4.e+07, 5.e+07, 6.e+07, 7.e+07, 8.e+07, 9.e+07,\n",
      "       2.e+08, 3.e+08, 4.e+08, 5.e+08, 6.e+08, 7.e+08, 8.e+08, 9.e+08,\n",
      "       2.e+09, 3.e+09, 4.e+09, 5.e+09, 6.e+09, 7.e+09, 8.e+09, 9.e+09])\n",
      "ticklocs array([2.e+06, 3.e+06, 4.e+06, 5.e+06, 6.e+06, 7.e+06, 8.e+06, 9.e+06,\n",
      "       2.e+07, 3.e+07, 4.e+07, 5.e+07, 6.e+07, 7.e+07, 8.e+07, 9.e+07,\n",
      "       2.e+08, 3.e+08, 4.e+08, 5.e+08, 6.e+08, 7.e+08, 8.e+08, 9.e+08,\n",
      "       2.e+09, 3.e+09, 4.e+09, 5.e+09, 6.e+09, 7.e+09, 8.e+09, 9.e+09])\n",
      "ticklocs array([2.e+06, 3.e+06, 4.e+06, 5.e+06, 6.e+06, 7.e+06, 8.e+06, 9.e+06,\n",
      "       2.e+07, 3.e+07, 4.e+07, 5.e+07, 6.e+07, 7.e+07, 8.e+07, 9.e+07,\n",
      "       2.e+08, 3.e+08, 4.e+08, 5.e+08, 6.e+08, 7.e+08, 8.e+08, 9.e+08,\n",
      "       2.e+09, 3.e+09, 4.e+09, 5.e+09, 6.e+09, 7.e+09, 8.e+09, 9.e+09])\n",
      "ticklocs array([2.e+06, 3.e+06, 4.e+06, 5.e+06, 6.e+06, 7.e+06, 8.e+06, 9.e+06,\n",
      "       2.e+07, 3.e+07, 4.e+07, 5.e+07, 6.e+07, 7.e+07, 8.e+07, 9.e+07,\n",
      "       2.e+08, 3.e+08, 4.e+08, 5.e+08, 6.e+08, 7.e+08, 8.e+08, 9.e+08,\n",
      "       2.e+09, 3.e+09, 4.e+09, 5.e+09, 6.e+09, 7.e+09, 8.e+09, 9.e+09])\n"
     ]
    },
    {
     "name": "stderr",
     "output_type": "stream",
     "text": [
      " 14159499 vmin 12862488.32227021 vmax 28176790.09172422\n"
     ]
    },
    {
     "name": "stdout",
     "output_type": "stream",
     "text": [
      "vmin 12862488.32227021 vmax 28176790.09172422\n",
      "vmin 12862488.32227021 vmax 28176790.09172422\n",
      "vmin 12862488.32227021 vmax 28176790.09172422\n",
      "vmin 12862488.32227021 vmax 28176790.09172422\n",
      "vmin 12862488.32227021 vmax 28176790.09172422\n",
      "vmin 12862488.32227021 vmax 28176790.09172422\n",
      "vmin 12862488.32227021 vmax 28176790.09172422\n"
     ]
    },
    {
     "name": "stderr",
     "output_type": "stream",
     "text": [
      " 14159506 ticklocs array([1.e+06, 1.e+07, 1.e+08, 1.e+09])\n"
     ]
    },
    {
     "name": "stdout",
     "output_type": "stream",
     "text": [
      "ticklocs array([1.e+06, 1.e+07, 1.e+08, 1.e+09])\n",
      "ticklocs array([1.e+06, 1.e+07, 1.e+08, 1.e+09])\n",
      "ticklocs array([1.e+06, 1.e+07, 1.e+08, 1.e+09])\n",
      "ticklocs array([1.e+06, 1.e+07, 1.e+08, 1.e+09])\n",
      "ticklocs array([1.e+06, 1.e+07, 1.e+08, 1.e+09])\n",
      "ticklocs array([1.e+06, 1.e+07, 1.e+08, 1.e+09])\n",
      "ticklocs array([1.e+06, 1.e+07, 1.e+08, 1.e+09])\n"
     ]
    },
    {
     "name": "stderr",
     "output_type": "stream",
     "text": [
      " 14159513 vmin 12862488.32227021 vmax 28176790.09172422\n"
     ]
    },
    {
     "name": "stdout",
     "output_type": "stream",
     "text": [
      "vmin 12862488.32227021 vmax 28176790.09172422\n",
      "vmin 12862488.32227021 vmax 28176790.09172422\n",
      "vmin 12862488.32227021 vmax 28176790.09172422\n",
      "vmin 12862488.32227021 vmax 28176790.09172422\n",
      "vmin 12862488.32227021 vmax 28176790.09172422\n",
      "vmin 12862488.32227021 vmax 28176790.09172422\n",
      "vmin 12862488.32227021 vmax 28176790.09172422\n"
     ]
    },
    {
     "name": "stderr",
     "output_type": "stream",
     "text": [
      " 14159518 ticklocs array([1.e+06, 1.e+07, 1.e+08, 1.e+09])\n"
     ]
    },
    {
     "name": "stdout",
     "output_type": "stream",
     "text": [
      "ticklocs array([1.e+06, 1.e+07, 1.e+08, 1.e+09])\n",
      "ticklocs array([1.e+06, 1.e+07, 1.e+08, 1.e+09])\n",
      "ticklocs array([1.e+06, 1.e+07, 1.e+08, 1.e+09])\n",
      "ticklocs array([1.e+06, 1.e+07, 1.e+08, 1.e+09])\n",
      "ticklocs array([1.e+06, 1.e+07, 1.e+08, 1.e+09])\n",
      "ticklocs array([1.e+06, 1.e+07, 1.e+08, 1.e+09])\n",
      "ticklocs array([1.e+06, 1.e+07, 1.e+08, 1.e+09])\n"
     ]
    },
    {
     "name": "stderr",
     "output_type": "stream",
     "text": [
      " 14159526 vmin 12862488.32227021 vmax 28176790.09172422\n"
     ]
    },
    {
     "name": "stdout",
     "output_type": "stream",
     "text": [
      "vmin 12862488.32227021 vmax 28176790.09172422\n",
      "vmin 12862488.32227021 vmax 28176790.09172422\n",
      "vmin 12862488.32227021 vmax 28176790.09172422\n",
      "vmin 12862488.32227021 vmax 28176790.09172422\n",
      "vmin 12862488.32227021 vmax 28176790.09172422\n",
      "vmin 12862488.32227021 vmax 28176790.09172422\n",
      "vmin 12862488.32227021 vmax 28176790.09172422\n"
     ]
    },
    {
     "name": "stderr",
     "output_type": "stream",
     "text": [
      " 14159532 ticklocs array([2.e+06, 3.e+06, 4.e+06, 5.e+06, 6.e+06, 7.e+06, 8.e+06, 9.e+06,\n",
      "       2.e+07, 3.e+07, 4.e+07, 5.e+07, 6.e+07, 7.e+07, 8.e+07, 9.e+07,\n",
      "       2.e+08, 3.e+08, 4.e+08, 5.e+08, 6.e+08, 7.e+08, 8.e+08, 9.e+08,\n",
      "       2.e+09, 3.e+09, 4.e+09, 5.e+09, 6.e+09, 7.e+09, 8.e+09, 9.e+09])\n"
     ]
    },
    {
     "name": "stdout",
     "output_type": "stream",
     "text": [
      "ticklocs array([2.e+06, 3.e+06, 4.e+06, 5.e+06, 6.e+06, 7.e+06, 8.e+06, 9.e+06,\n",
      "       2.e+07, 3.e+07, 4.e+07, 5.e+07, 6.e+07, 7.e+07, 8.e+07, 9.e+07,\n",
      "       2.e+08, 3.e+08, 4.e+08, 5.e+08, 6.e+08, 7.e+08, 8.e+08, 9.e+08,\n",
      "       2.e+09, 3.e+09, 4.e+09, 5.e+09, 6.e+09, 7.e+09, 8.e+09, 9.e+09])\n",
      "ticklocs array([2.e+06, 3.e+06, 4.e+06, 5.e+06, 6.e+06, 7.e+06, 8.e+06, 9.e+06,\n",
      "       2.e+07, 3.e+07, 4.e+07, 5.e+07, 6.e+07, 7.e+07, 8.e+07, 9.e+07,\n",
      "       2.e+08, 3.e+08, 4.e+08, 5.e+08, 6.e+08, 7.e+08, 8.e+08, 9.e+08,\n",
      "       2.e+09, 3.e+09, 4.e+09, 5.e+09, 6.e+09, 7.e+09, 8.e+09, 9.e+09])\n",
      "ticklocs array([2.e+06, 3.e+06, 4.e+06, 5.e+06, 6.e+06, 7.e+06, 8.e+06, 9.e+06,\n",
      "       2.e+07, 3.e+07, 4.e+07, 5.e+07, 6.e+07, 7.e+07, 8.e+07, 9.e+07,\n",
      "       2.e+08, 3.e+08, 4.e+08, 5.e+08, 6.e+08, 7.e+08, 8.e+08, 9.e+08,\n",
      "       2.e+09, 3.e+09, 4.e+09, 5.e+09, 6.e+09, 7.e+09, 8.e+09, 9.e+09])\n",
      "ticklocs array([2.e+06, 3.e+06, 4.e+06, 5.e+06, 6.e+06, 7.e+06, 8.e+06, 9.e+06,\n",
      "       2.e+07, 3.e+07, 4.e+07, 5.e+07, 6.e+07, 7.e+07, 8.e+07, 9.e+07,\n",
      "       2.e+08, 3.e+08, 4.e+08, 5.e+08, 6.e+08, 7.e+08, 8.e+08, 9.e+08,\n",
      "       2.e+09, 3.e+09, 4.e+09, 5.e+09, 6.e+09, 7.e+09, 8.e+09, 9.e+09])\n",
      "ticklocs array([2.e+06, 3.e+06, 4.e+06, 5.e+06, 6.e+06, 7.e+06, 8.e+06, 9.e+06,\n",
      "       2.e+07, 3.e+07, 4.e+07, 5.e+07, 6.e+07, 7.e+07, 8.e+07, 9.e+07,\n",
      "       2.e+08, 3.e+08, 4.e+08, 5.e+08, 6.e+08, 7.e+08, 8.e+08, 9.e+08,\n",
      "       2.e+09, 3.e+09, 4.e+09, 5.e+09, 6.e+09, 7.e+09, 8.e+09, 9.e+09])\n",
      "ticklocs array([2.e+06, 3.e+06, 4.e+06, 5.e+06, 6.e+06, 7.e+06, 8.e+06, 9.e+06,\n",
      "       2.e+07, 3.e+07, 4.e+07, 5.e+07, 6.e+07, 7.e+07, 8.e+07, 9.e+07,\n",
      "       2.e+08, 3.e+08, 4.e+08, 5.e+08, 6.e+08, 7.e+08, 8.e+08, 9.e+08,\n",
      "       2.e+09, 3.e+09, 4.e+09, 5.e+09, 6.e+09, 7.e+09, 8.e+09, 9.e+09])\n",
      "ticklocs array([2.e+06, 3.e+06, 4.e+06, 5.e+06, 6.e+06, 7.e+06, 8.e+06, 9.e+06,\n",
      "       2.e+07, 3.e+07, 4.e+07, 5.e+07, 6.e+07, 7.e+07, 8.e+07, 9.e+07,\n",
      "       2.e+08, 3.e+08, 4.e+08, 5.e+08, 6.e+08, 7.e+08, 8.e+08, 9.e+08,\n",
      "       2.e+09, 3.e+09, 4.e+09, 5.e+09, 6.e+09, 7.e+09, 8.e+09, 9.e+09])\n"
     ]
    },
    {
     "name": "stderr",
     "output_type": "stream",
     "text": [
      " 14159675 vmin 12862488.32227021 vmax 28176790.09172422\n"
     ]
    },
    {
     "name": "stdout",
     "output_type": "stream",
     "text": [
      "vmin 12862488.32227021 vmax 28176790.09172422\n",
      "vmin 12862488.32227021 vmax 28176790.09172422\n",
      "vmin 12862488.32227021 vmax 28176790.09172422\n",
      "vmin 12862488.32227021 vmax 28176790.09172422\n",
      "vmin 12862488.32227021 vmax 28176790.09172422\n",
      "vmin 12862488.32227021 vmax 28176790.09172422\n",
      "vmin 12862488.32227021 vmax 28176790.09172422\n"
     ]
    },
    {
     "name": "stderr",
     "output_type": "stream",
     "text": [
      " 14159679 ticklocs array([1.e+06, 1.e+07, 1.e+08, 1.e+09])\n"
     ]
    },
    {
     "name": "stdout",
     "output_type": "stream",
     "text": [
      "ticklocs array([1.e+06, 1.e+07, 1.e+08, 1.e+09])\n",
      "ticklocs array([1.e+06, 1.e+07, 1.e+08, 1.e+09])\n",
      "ticklocs array([1.e+06, 1.e+07, 1.e+08, 1.e+09])\n",
      "ticklocs array([1.e+06, 1.e+07, 1.e+08, 1.e+09])\n",
      "ticklocs array([1.e+06, 1.e+07, 1.e+08, 1.e+09])\n",
      "ticklocs array([1.e+06, 1.e+07, 1.e+08, 1.e+09])\n",
      "ticklocs array([1.e+06, 1.e+07, 1.e+08, 1.e+09])\n"
     ]
    },
    {
     "name": "stderr",
     "output_type": "stream",
     "text": [
      " 14159685 vmin 12862488.32227021 vmax 28176790.09172422\n"
     ]
    },
    {
     "name": "stdout",
     "output_type": "stream",
     "text": [
      "vmin 12862488.32227021 vmax 28176790.09172422\n",
      "vmin 12862488.32227021 vmax 28176790.09172422\n",
      "vmin 12862488.32227021 vmax 28176790.09172422\n",
      "vmin 12862488.32227021 vmax 28176790.09172422\n",
      "vmin 12862488.32227021 vmax 28176790.09172422\n",
      "vmin 12862488.32227021 vmax 28176790.09172422\n",
      "vmin 12862488.32227021 vmax 28176790.09172422\n"
     ]
    },
    {
     "name": "stderr",
     "output_type": "stream",
     "text": [
      " 14159690 ticklocs array([1.e+06, 1.e+07, 1.e+08, 1.e+09])\n"
     ]
    },
    {
     "name": "stdout",
     "output_type": "stream",
     "text": [
      "ticklocs array([1.e+06, 1.e+07, 1.e+08, 1.e+09])\n",
      "ticklocs array([1.e+06, 1.e+07, 1.e+08, 1.e+09])\n",
      "ticklocs array([1.e+06, 1.e+07, 1.e+08, 1.e+09])\n",
      "ticklocs array([1.e+06, 1.e+07, 1.e+08, 1.e+09])\n",
      "ticklocs array([1.e+06, 1.e+07, 1.e+08, 1.e+09])\n",
      "ticklocs array([1.e+06, 1.e+07, 1.e+08, 1.e+09])\n",
      "ticklocs array([1.e+06, 1.e+07, 1.e+08, 1.e+09])\n"
     ]
    },
    {
     "name": "stderr",
     "output_type": "stream",
     "text": [
      " 14159696 vmin 12862488.32227021 vmax 28176790.09172422\n"
     ]
    },
    {
     "name": "stdout",
     "output_type": "stream",
     "text": [
      "vmin 12862488.32227021 vmax 28176790.09172422\n",
      "vmin 12862488.32227021 vmax 28176790.09172422\n",
      "vmin 12862488.32227021 vmax 28176790.09172422\n",
      "vmin 12862488.32227021 vmax 28176790.09172422\n",
      "vmin 12862488.32227021 vmax 28176790.09172422\n",
      "vmin 12862488.32227021 vmax 28176790.09172422\n",
      "vmin 12862488.32227021 vmax 28176790.09172422\n"
     ]
    },
    {
     "name": "stderr",
     "output_type": "stream",
     "text": [
      " 14159702 ticklocs array([2.e+06, 3.e+06, 4.e+06, 5.e+06, 6.e+06, 7.e+06, 8.e+06, 9.e+06,\n",
      "       2.e+07, 3.e+07, 4.e+07, 5.e+07, 6.e+07, 7.e+07, 8.e+07, 9.e+07,\n",
      "       2.e+08, 3.e+08, 4.e+08, 5.e+08, 6.e+08, 7.e+08, 8.e+08, 9.e+08,\n",
      "       2.e+09, 3.e+09, 4.e+09, 5.e+09, 6.e+09, 7.e+09, 8.e+09, 9.e+09])\n"
     ]
    },
    {
     "name": "stdout",
     "output_type": "stream",
     "text": [
      "ticklocs array([2.e+06, 3.e+06, 4.e+06, 5.e+06, 6.e+06, 7.e+06, 8.e+06, 9.e+06,\n",
      "       2.e+07, 3.e+07, 4.e+07, 5.e+07, 6.e+07, 7.e+07, 8.e+07, 9.e+07,\n",
      "       2.e+08, 3.e+08, 4.e+08, 5.e+08, 6.e+08, 7.e+08, 8.e+08, 9.e+08,\n",
      "       2.e+09, 3.e+09, 4.e+09, 5.e+09, 6.e+09, 7.e+09, 8.e+09, 9.e+09])\n",
      "ticklocs array([2.e+06, 3.e+06, 4.e+06, 5.e+06, 6.e+06, 7.e+06, 8.e+06, 9.e+06,\n",
      "       2.e+07, 3.e+07, 4.e+07, 5.e+07, 6.e+07, 7.e+07, 8.e+07, 9.e+07,\n",
      "       2.e+08, 3.e+08, 4.e+08, 5.e+08, 6.e+08, 7.e+08, 8.e+08, 9.e+08,\n",
      "       2.e+09, 3.e+09, 4.e+09, 5.e+09, 6.e+09, 7.e+09, 8.e+09, 9.e+09])\n",
      "ticklocs array([2.e+06, 3.e+06, 4.e+06, 5.e+06, 6.e+06, 7.e+06, 8.e+06, 9.e+06,\n",
      "       2.e+07, 3.e+07, 4.e+07, 5.e+07, 6.e+07, 7.e+07, 8.e+07, 9.e+07,\n",
      "       2.e+08, 3.e+08, 4.e+08, 5.e+08, 6.e+08, 7.e+08, 8.e+08, 9.e+08,\n",
      "       2.e+09, 3.e+09, 4.e+09, 5.e+09, 6.e+09, 7.e+09, 8.e+09, 9.e+09])\n",
      "ticklocs array([2.e+06, 3.e+06, 4.e+06, 5.e+06, 6.e+06, 7.e+06, 8.e+06, 9.e+06,\n",
      "       2.e+07, 3.e+07, 4.e+07, 5.e+07, 6.e+07, 7.e+07, 8.e+07, 9.e+07,\n",
      "       2.e+08, 3.e+08, 4.e+08, 5.e+08, 6.e+08, 7.e+08, 8.e+08, 9.e+08,\n",
      "       2.e+09, 3.e+09, 4.e+09, 5.e+09, 6.e+09, 7.e+09, 8.e+09, 9.e+09])\n",
      "ticklocs array([2.e+06, 3.e+06, 4.e+06, 5.e+06, 6.e+06, 7.e+06, 8.e+06, 9.e+06,\n",
      "       2.e+07, 3.e+07, 4.e+07, 5.e+07, 6.e+07, 7.e+07, 8.e+07, 9.e+07,\n",
      "       2.e+08, 3.e+08, 4.e+08, 5.e+08, 6.e+08, 7.e+08, 8.e+08, 9.e+08,\n",
      "       2.e+09, 3.e+09, 4.e+09, 5.e+09, 6.e+09, 7.e+09, 8.e+09, 9.e+09])\n",
      "ticklocs array([2.e+06, 3.e+06, 4.e+06, 5.e+06, 6.e+06, 7.e+06, 8.e+06, 9.e+06,\n",
      "       2.e+07, 3.e+07, 4.e+07, 5.e+07, 6.e+07, 7.e+07, 8.e+07, 9.e+07,\n",
      "       2.e+08, 3.e+08, 4.e+08, 5.e+08, 6.e+08, 7.e+08, 8.e+08, 9.e+08,\n",
      "       2.e+09, 3.e+09, 4.e+09, 5.e+09, 6.e+09, 7.e+09, 8.e+09, 9.e+09])\n",
      "ticklocs array([2.e+06, 3.e+06, 4.e+06, 5.e+06, 6.e+06, 7.e+06, 8.e+06, 9.e+06,\n",
      "       2.e+07, 3.e+07, 4.e+07, 5.e+07, 6.e+07, 7.e+07, 8.e+07, 9.e+07,\n",
      "       2.e+08, 3.e+08, 4.e+08, 5.e+08, 6.e+08, 7.e+08, 8.e+08, 9.e+08,\n",
      "       2.e+09, 3.e+09, 4.e+09, 5.e+09, 6.e+09, 7.e+09, 8.e+09, 9.e+09])\n"
     ]
    },
    {
     "data": {
      "image/png": "[encoded data removed]",
      "text/plain": [
       "<Figure size 1000x300 with 1 Axes>"
      ]
     },
     "metadata": {},
     "output_type": "display_data"
    }
   ],
   "source": [
    "pyplot.figure(figsize=(10,3), dpi=100).set_facecolor('white')\n",
    "_ = pyplot.plot(losses)\n",
    "pyplot.xlabel('iters')\n",
    "pyplot.ylabel('loss')\n",
    "pyplot.yscale('log')\n",
    "pyplot.title('Convergence of SVI');"
   ]
  },
  {
   "cell_type": "code",
   "execution_count": 139,
   "metadata": {},
   "outputs": [],
   "source": [
    "map_estimates = global_guide(cnv, expr)\n",
    "\n",
    "clone_assign_prob = map_estimates['expose_clone_assign_prob']\n",
    "# gene_type_score = map_estimates['expose_gene_type_score']\n",
    "\n",
    "per_copy_expr = map_estimates['expose_per_copy_expr']\n",
    "psi = map_estimates['expose_psi']\n",
    "chi = map_estimates['expose_chi']\n",
    "w = map_estimates['expose_w']\n",
    "\n",
    "gene_fold_change = map_estimates['expose_gene_fold_change']\n",
    "\n",
    "clone_assign_prob_dataframe = pd.DataFrame(clone_assign_prob.data.numpy())\n",
    "# gene_type_score_dataframe = pd.DataFrame(gene_type_score.data.numpy())\n",
    "\n",
    "gene_fold_change_dataframe = pd.DataFrame(gene_fold_change.data.numpy())"
   ]
  },
  {
   "cell_type": "code",
   "execution_count": 140,
   "metadata": {},
   "outputs": [
    {
     "data": {
      "text/html": [
       "<div>\n",
       "<style scoped>\n",
       "    .dataframe tbody tr th:only-of-type {\n",
       "        vertical-align: middle;\n",
       "    }\n",
       "\n",
       "    .dataframe tbody tr th {\n",
       "        vertical-align: top;\n",
       "    }\n",
       "\n",
       "    .dataframe thead th {\n",
       "        text-align: right;\n",
       "    }\n",
       "</style>\n",
       "<table border=\"1\" class=\"dataframe\">\n",
       "  <thead>\n",
       "    <tr style=\"text-align: right;\">\n",
       "      <th></th>\n",
       "      <th>0</th>\n",
       "    </tr>\n",
       "  </thead>\n",
       "  <tbody>\n",
       "    <tr>\n",
       "      <th>0</th>\n",
       "      <td>0.897863</td>\n",
       "    </tr>\n",
       "    <tr>\n",
       "      <th>1</th>\n",
       "      <td>2.616322</td>\n",
       "    </tr>\n",
       "    <tr>\n",
       "      <th>2</th>\n",
       "      <td>3.532978</td>\n",
       "    </tr>\n",
       "    <tr>\n",
       "      <th>3</th>\n",
       "      <td>5.413507</td>\n",
       "    </tr>\n",
       "    <tr>\n",
       "      <th>4</th>\n",
       "      <td>-0.961082</td>\n",
       "    </tr>\n",
       "    <tr>\n",
       "      <th>...</th>\n",
       "      <td>...</td>\n",
       "    </tr>\n",
       "    <tr>\n",
       "      <th>4054</th>\n",
       "      <td>2.234807</td>\n",
       "    </tr>\n",
       "    <tr>\n",
       "      <th>4055</th>\n",
       "      <td>2.926473</td>\n",
       "    </tr>\n",
       "    <tr>\n",
       "      <th>4056</th>\n",
       "      <td>1.923223</td>\n",
       "    </tr>\n",
       "    <tr>\n",
       "      <th>4057</th>\n",
       "      <td>3.436948</td>\n",
       "    </tr>\n",
       "    <tr>\n",
       "      <th>4058</th>\n",
       "      <td>3.489384</td>\n",
       "    </tr>\n",
       "  </tbody>\n",
       "</table>\n",
       "<p>4059 rows × 1 columns</p>\n",
       "</div>"
      ],
      "text/plain": [
       "             0\n",
       "0     0.897863\n",
       "1     2.616322\n",
       "2     3.532978\n",
       "3     5.413507\n",
       "4    -0.961082\n",
       "...        ...\n",
       "4054  2.234807\n",
       "4055  2.926473\n",
       "4056  1.923223\n",
       "4057  3.436948\n",
       "4058  3.489384\n",
       "\n",
       "[4059 rows x 1 columns]"
      ]
     },
     "execution_count": 140,
     "metadata": {},
     "output_type": "execute_result"
    }
   ],
   "source": [
    "gene_fold_change_dataframe"
   ]
  },
  {
   "cell_type": "code",
   "execution_count": 141,
   "metadata": {},
   "outputs": [
    {
     "data": {
      "text/html": [
       "<div>\n",
       "<style scoped>\n",
       "    .dataframe tbody tr th:only-of-type {\n",
       "        vertical-align: middle;\n",
       "    }\n",
       "\n",
       "    .dataframe tbody tr th {\n",
       "        vertical-align: top;\n",
       "    }\n",
       "\n",
       "    .dataframe thead th {\n",
       "        text-align: right;\n",
       "    }\n",
       "</style>\n",
       "<table border=\"1\" class=\"dataframe\">\n",
       "  <thead>\n",
       "    <tr style=\"text-align: right;\">\n",
       "      <th></th>\n",
       "      <th>0</th>\n",
       "      <th>1</th>\n",
       "      <th>2</th>\n",
       "    </tr>\n",
       "  </thead>\n",
       "  <tbody>\n",
       "    <tr>\n",
       "      <th>0</th>\n",
       "      <td>2.333412e-23</td>\n",
       "      <td>2.333412e-23</td>\n",
       "      <td>1.000000e+00</td>\n",
       "    </tr>\n",
       "    <tr>\n",
       "      <th>1</th>\n",
       "      <td>1.000000e+00</td>\n",
       "      <td>2.333412e-23</td>\n",
       "      <td>2.333412e-23</td>\n",
       "    </tr>\n",
       "    <tr>\n",
       "      <th>2</th>\n",
       "      <td>1.000000e+00</td>\n",
       "      <td>2.333412e-23</td>\n",
       "      <td>2.333412e-23</td>\n",
       "    </tr>\n",
       "    <tr>\n",
       "      <th>3</th>\n",
       "      <td>1.000000e+00</td>\n",
       "      <td>2.333412e-23</td>\n",
       "      <td>2.333412e-23</td>\n",
       "    </tr>\n",
       "    <tr>\n",
       "      <th>4</th>\n",
       "      <td>1.000000e+00</td>\n",
       "      <td>2.333412e-23</td>\n",
       "      <td>2.333412e-23</td>\n",
       "    </tr>\n",
       "    <tr>\n",
       "      <th>...</th>\n",
       "      <td>...</td>\n",
       "      <td>...</td>\n",
       "      <td>...</td>\n",
       "    </tr>\n",
       "    <tr>\n",
       "      <th>5134</th>\n",
       "      <td>2.333412e-23</td>\n",
       "      <td>2.333412e-23</td>\n",
       "      <td>1.000000e+00</td>\n",
       "    </tr>\n",
       "    <tr>\n",
       "      <th>5135</th>\n",
       "      <td>2.333412e-23</td>\n",
       "      <td>2.333412e-23</td>\n",
       "      <td>1.000000e+00</td>\n",
       "    </tr>\n",
       "    <tr>\n",
       "      <th>5136</th>\n",
       "      <td>2.333412e-23</td>\n",
       "      <td>2.333412e-23</td>\n",
       "      <td>1.000000e+00</td>\n",
       "    </tr>\n",
       "    <tr>\n",
       "      <th>5137</th>\n",
       "      <td>2.333412e-23</td>\n",
       "      <td>1.000000e+00</td>\n",
       "      <td>2.333412e-23</td>\n",
       "    </tr>\n",
       "    <tr>\n",
       "      <th>5138</th>\n",
       "      <td>1.000000e+00</td>\n",
       "      <td>2.333412e-23</td>\n",
       "      <td>2.333412e-23</td>\n",
       "    </tr>\n",
       "  </tbody>\n",
       "</table>\n",
       "<p>5139 rows × 3 columns</p>\n",
       "</div>"
      ],
      "text/plain": [
       "                 0             1             2\n",
       "0     2.333412e-23  2.333412e-23  1.000000e+00\n",
       "1     1.000000e+00  2.333412e-23  2.333412e-23\n",
       "2     1.000000e+00  2.333412e-23  2.333412e-23\n",
       "3     1.000000e+00  2.333412e-23  2.333412e-23\n",
       "4     1.000000e+00  2.333412e-23  2.333412e-23\n",
       "...            ...           ...           ...\n",
       "5134  2.333412e-23  2.333412e-23  1.000000e+00\n",
       "5135  2.333412e-23  2.333412e-23  1.000000e+00\n",
       "5136  2.333412e-23  2.333412e-23  1.000000e+00\n",
       "5137  2.333412e-23  1.000000e+00  2.333412e-23\n",
       "5138  1.000000e+00  2.333412e-23  2.333412e-23\n",
       "\n",
       "[5139 rows x 3 columns]"
      ]
     },
     "execution_count": 141,
     "metadata": {},
     "output_type": "execute_result"
    }
   ],
   "source": [
    "clone_assign_prob_dataframe"
   ]
  },
  {
   "cell_type": "code",
   "execution_count": 142,
   "metadata": {},
   "outputs": [],
   "source": [
    "rowname_dict = {i:c for i, c in enumerate(expr_csv.columns)}\n",
    "colname_dict = {i:c for i, c in enumerate(cnv_csv.columns)}\n",
    "\n",
    "genename_dict = {i:c for i, c in enumerate(expr_csv.index)}\n",
    "\n",
    "clone_assign_prob_dataframe.rename(index = rowname_dict, inplace = True)\n",
    "clone_assign_prob_dataframe.rename(columns = colname_dict, inplace = True)\n",
    "\n",
    "# gene_type_score_dataframe.rename(index = genename_dict, inplace = True)\n",
    "gene_fold_change_dataframe.rename(index = genename_dict, inplace = True)"
   ]
  },
  {
   "cell_type": "code",
   "execution_count": 143,
   "metadata": {},
   "outputs": [],
   "source": [
    "clone_assign_prob_dataframe.to_csv(clone_assign_prob_output)"
   ]
  },
  {
   "cell_type": "code",
   "execution_count": 144,
   "metadata": {},
   "outputs": [],
   "source": [
    "gene_type_score_dataframe.to_csv(gene_type_score_output)"
   ]
  },
  {
   "cell_type": "code",
   "execution_count": 145,
   "metadata": {},
   "outputs": [],
   "source": [
    "gene_fold_change_dataframe.to_csv(gene_fold_change_output)"
   ]
  },
  {
   "cell_type": "code",
   "execution_count": 146,
   "metadata": {},
   "outputs": [
    {
     "data": {
      "text/html": [
       "<div>\n",
       "<style scoped>\n",
       "    .dataframe tbody tr th:only-of-type {\n",
       "        vertical-align: middle;\n",
       "    }\n",
       "\n",
       "    .dataframe tbody tr th {\n",
       "        vertical-align: top;\n",
       "    }\n",
       "\n",
       "    .dataframe thead th {\n",
       "        text-align: right;\n",
       "    }\n",
       "</style>\n",
       "<table border=\"1\" class=\"dataframe\">\n",
       "  <thead>\n",
       "    <tr style=\"text-align: right;\">\n",
       "      <th></th>\n",
       "      <th>cluster_1</th>\n",
       "      <th>cluster_2</th>\n",
       "      <th>cluster_3</th>\n",
       "    </tr>\n",
       "  </thead>\n",
       "  <tbody>\n",
       "    <tr>\n",
       "      <th>SPECTRUM-OV-022_S1_CD45N_RIGHT_ADNEXA_AAACCCACAAGCGCAA</th>\n",
       "      <td>2.333412e-23</td>\n",
       "      <td>2.333412e-23</td>\n",
       "      <td>1.000000e+00</td>\n",
       "    </tr>\n",
       "    <tr>\n",
       "      <th>SPECTRUM-OV-022_S1_CD45N_RIGHT_ADNEXA_AAACCCATCGCGGACT</th>\n",
       "      <td>1.000000e+00</td>\n",
       "      <td>2.333412e-23</td>\n",
       "      <td>2.333412e-23</td>\n",
       "    </tr>\n",
       "    <tr>\n",
       "      <th>SPECTRUM-OV-022_S1_CD45N_RIGHT_ADNEXA_AAACGAATCCTTGGAA</th>\n",
       "      <td>1.000000e+00</td>\n",
       "      <td>2.333412e-23</td>\n",
       "      <td>2.333412e-23</td>\n",
       "    </tr>\n",
       "    <tr>\n",
       "      <th>SPECTRUM-OV-022_S1_CD45N_RIGHT_ADNEXA_AAACGCTCACTATCGA</th>\n",
       "      <td>1.000000e+00</td>\n",
       "      <td>2.333412e-23</td>\n",
       "      <td>2.333412e-23</td>\n",
       "    </tr>\n",
       "    <tr>\n",
       "      <th>SPECTRUM-OV-022_S1_CD45N_RIGHT_ADNEXA_AAACGCTGTCGACTTA</th>\n",
       "      <td>1.000000e+00</td>\n",
       "      <td>2.333412e-23</td>\n",
       "      <td>2.333412e-23</td>\n",
       "    </tr>\n",
       "    <tr>\n",
       "      <th>...</th>\n",
       "      <td>...</td>\n",
       "      <td>...</td>\n",
       "      <td>...</td>\n",
       "    </tr>\n",
       "    <tr>\n",
       "      <th>SPECTRUM-OV-022_S1_CD45N_LEFT_ADNEXA_TTTGATCCATGACTGT</th>\n",
       "      <td>2.333412e-23</td>\n",
       "      <td>2.333412e-23</td>\n",
       "      <td>1.000000e+00</td>\n",
       "    </tr>\n",
       "    <tr>\n",
       "      <th>SPECTRUM-OV-022_S1_CD45N_LEFT_ADNEXA_TTTGATCGTTCAAGTC</th>\n",
       "      <td>2.333412e-23</td>\n",
       "      <td>2.333412e-23</td>\n",
       "      <td>1.000000e+00</td>\n",
       "    </tr>\n",
       "    <tr>\n",
       "      <th>SPECTRUM-OV-022_S1_CD45N_LEFT_ADNEXA_TTTGGAGTCCATTGCC</th>\n",
       "      <td>2.333412e-23</td>\n",
       "      <td>2.333412e-23</td>\n",
       "      <td>1.000000e+00</td>\n",
       "    </tr>\n",
       "    <tr>\n",
       "      <th>SPECTRUM-OV-022_S1_CD45N_LEFT_ADNEXA_TTTGTTGGTGTCTAAC</th>\n",
       "      <td>2.333412e-23</td>\n",
       "      <td>1.000000e+00</td>\n",
       "      <td>2.333412e-23</td>\n",
       "    </tr>\n",
       "    <tr>\n",
       "      <th>SPECTRUM-OV-022_S1_CD45N_LEFT_ADNEXA_TTTGTTGTCCCAGTGG</th>\n",
       "      <td>1.000000e+00</td>\n",
       "      <td>2.333412e-23</td>\n",
       "      <td>2.333412e-23</td>\n",
       "    </tr>\n",
       "  </tbody>\n",
       "</table>\n",
       "<p>5139 rows × 3 columns</p>\n",
       "</div>"
      ],
      "text/plain": [
       "                                                       cluster_1  \\\n",
       "SPECTRUM-OV-022_S1_CD45N_RIGHT_ADNEXA_AAACCCACA...  2.333412e-23   \n",
       "SPECTRUM-OV-022_S1_CD45N_RIGHT_ADNEXA_AAACCCATC...  1.000000e+00   \n",
       "SPECTRUM-OV-022_S1_CD45N_RIGHT_ADNEXA_AAACGAATC...  1.000000e+00   \n",
       "SPECTRUM-OV-022_S1_CD45N_RIGHT_ADNEXA_AAACGCTCA...  1.000000e+00   \n",
       "SPECTRUM-OV-022_S1_CD45N_RIGHT_ADNEXA_AAACGCTGT...  1.000000e+00   \n",
       "...                                                          ...   \n",
       "SPECTRUM-OV-022_S1_CD45N_LEFT_ADNEXA_TTTGATCCAT...  2.333412e-23   \n",
       "SPECTRUM-OV-022_S1_CD45N_LEFT_ADNEXA_TTTGATCGTT...  2.333412e-23   \n",
       "SPECTRUM-OV-022_S1_CD45N_LEFT_ADNEXA_TTTGGAGTCC...  2.333412e-23   \n",
       "SPECTRUM-OV-022_S1_CD45N_LEFT_ADNEXA_TTTGTTGGTG...  2.333412e-23   \n",
       "SPECTRUM-OV-022_S1_CD45N_LEFT_ADNEXA_TTTGTTGTCC...  1.000000e+00   \n",
       "\n",
       "                                                       cluster_2     cluster_3  \n",
       "SPECTRUM-OV-022_S1_CD45N_RIGHT_ADNEXA_AAACCCACA...  2.333412e-23  1.000000e+00  \n",
       "SPECTRUM-OV-022_S1_CD45N_RIGHT_ADNEXA_AAACCCATC...  2.333412e-23  2.333412e-23  \n",
       "SPECTRUM-OV-022_S1_CD45N_RIGHT_ADNEXA_AAACGAATC...  2.333412e-23  2.333412e-23  \n",
       "SPECTRUM-OV-022_S1_CD45N_RIGHT_ADNEXA_AAACGCTCA...  2.333412e-23  2.333412e-23  \n",
       "SPECTRUM-OV-022_S1_CD45N_RIGHT_ADNEXA_AAACGCTGT...  2.333412e-23  2.333412e-23  \n",
       "...                                                          ...           ...  \n",
       "SPECTRUM-OV-022_S1_CD45N_LEFT_ADNEXA_TTTGATCCAT...  2.333412e-23  1.000000e+00  \n",
       "SPECTRUM-OV-022_S1_CD45N_LEFT_ADNEXA_TTTGATCGTT...  2.333412e-23  1.000000e+00  \n",
       "SPECTRUM-OV-022_S1_CD45N_LEFT_ADNEXA_TTTGGAGTCC...  2.333412e-23  1.000000e+00  \n",
       "SPECTRUM-OV-022_S1_CD45N_LEFT_ADNEXA_TTTGTTGGTG...  1.000000e+00  2.333412e-23  \n",
       "SPECTRUM-OV-022_S1_CD45N_LEFT_ADNEXA_TTTGTTGTCC...  2.333412e-23  2.333412e-23  \n",
       "\n",
       "[5139 rows x 3 columns]"
      ]
     },
     "execution_count": 146,
     "metadata": {},
     "output_type": "execute_result"
    }
   ],
   "source": [
    "clone_assign_prob_dataframe"
   ]
  },
  {
   "cell_type": "code",
   "execution_count": 59,
   "metadata": {},
   "outputs": [
    {
     "data": {
      "text/html": [
       "<div>\n",
       "<style scoped>\n",
       "    .dataframe tbody tr th:only-of-type {\n",
       "        vertical-align: middle;\n",
       "    }\n",
       "\n",
       "    .dataframe tbody tr th {\n",
       "        vertical-align: top;\n",
       "    }\n",
       "\n",
       "    .dataframe thead th {\n",
       "        text-align: right;\n",
       "    }\n",
       "</style>\n",
       "<table border=\"1\" class=\"dataframe\">\n",
       "  <thead>\n",
       "    <tr style=\"text-align: right;\">\n",
       "      <th></th>\n",
       "      <th>cluster_1</th>\n",
       "      <th>cluster_2</th>\n",
       "      <th>cluster_3</th>\n",
       "    </tr>\n",
       "  </thead>\n",
       "  <tbody>\n",
       "    <tr>\n",
       "      <th>SPECTRUM-OV-022_S1_CD45N_RIGHT_ADNEXA_AAACCCACAAGCGCAA</th>\n",
       "      <td>1.254433e-16</td>\n",
       "      <td>1.254433e-16</td>\n",
       "      <td>1.0</td>\n",
       "    </tr>\n",
       "    <tr>\n",
       "      <th>SPECTRUM-OV-022_S1_CD45N_RIGHT_ADNEXA_AAACCCATCGCGGACT</th>\n",
       "      <td>1.254433e-16</td>\n",
       "      <td>1.254433e-16</td>\n",
       "      <td>1.0</td>\n",
       "    </tr>\n",
       "    <tr>\n",
       "      <th>SPECTRUM-OV-022_S1_CD45N_RIGHT_ADNEXA_AAACGAATCCTTGGAA</th>\n",
       "      <td>1.254433e-16</td>\n",
       "      <td>1.254433e-16</td>\n",
       "      <td>1.0</td>\n",
       "    </tr>\n",
       "    <tr>\n",
       "      <th>SPECTRUM-OV-022_S1_CD45N_RIGHT_ADNEXA_AAACGCTCACTATCGA</th>\n",
       "      <td>1.254433e-16</td>\n",
       "      <td>1.254433e-16</td>\n",
       "      <td>1.0</td>\n",
       "    </tr>\n",
       "    <tr>\n",
       "      <th>SPECTRUM-OV-022_S1_CD45N_RIGHT_ADNEXA_AAACGCTGTCGACTTA</th>\n",
       "      <td>1.254433e-16</td>\n",
       "      <td>1.254433e-16</td>\n",
       "      <td>1.0</td>\n",
       "    </tr>\n",
       "    <tr>\n",
       "      <th>...</th>\n",
       "      <td>...</td>\n",
       "      <td>...</td>\n",
       "      <td>...</td>\n",
       "    </tr>\n",
       "    <tr>\n",
       "      <th>SPECTRUM-OV-022_S1_CD45N_LEFT_ADNEXA_TTTGATCCATGACTGT</th>\n",
       "      <td>1.254433e-16</td>\n",
       "      <td>1.254433e-16</td>\n",
       "      <td>1.0</td>\n",
       "    </tr>\n",
       "    <tr>\n",
       "      <th>SPECTRUM-OV-022_S1_CD45N_LEFT_ADNEXA_TTTGATCGTTCAAGTC</th>\n",
       "      <td>1.254433e-16</td>\n",
       "      <td>1.254433e-16</td>\n",
       "      <td>1.0</td>\n",
       "    </tr>\n",
       "    <tr>\n",
       "      <th>SPECTRUM-OV-022_S1_CD45N_LEFT_ADNEXA_TTTGGAGTCCATTGCC</th>\n",
       "      <td>1.254429e-16</td>\n",
       "      <td>1.254429e-16</td>\n",
       "      <td>1.0</td>\n",
       "    </tr>\n",
       "    <tr>\n",
       "      <th>SPECTRUM-OV-022_S1_CD45N_LEFT_ADNEXA_TTTGTTGGTGTCTAAC</th>\n",
       "      <td>1.254429e-16</td>\n",
       "      <td>1.254429e-16</td>\n",
       "      <td>1.0</td>\n",
       "    </tr>\n",
       "    <tr>\n",
       "      <th>SPECTRUM-OV-022_S1_CD45N_LEFT_ADNEXA_TTTGTTGTCCCAGTGG</th>\n",
       "      <td>1.254429e-16</td>\n",
       "      <td>1.254429e-16</td>\n",
       "      <td>1.0</td>\n",
       "    </tr>\n",
       "  </tbody>\n",
       "</table>\n",
       "<p>5139 rows × 3 columns</p>\n",
       "</div>"
      ],
      "text/plain": [
       "                                                       cluster_1  \\\n",
       "SPECTRUM-OV-022_S1_CD45N_RIGHT_ADNEXA_AAACCCACA...  1.254433e-16   \n",
       "SPECTRUM-OV-022_S1_CD45N_RIGHT_ADNEXA_AAACCCATC...  1.254433e-16   \n",
       "SPECTRUM-OV-022_S1_CD45N_RIGHT_ADNEXA_AAACGAATC...  1.254433e-16   \n",
       "SPECTRUM-OV-022_S1_CD45N_RIGHT_ADNEXA_AAACGCTCA...  1.254433e-16   \n",
       "SPECTRUM-OV-022_S1_CD45N_RIGHT_ADNEXA_AAACGCTGT...  1.254433e-16   \n",
       "...                                                          ...   \n",
       "SPECTRUM-OV-022_S1_CD45N_LEFT_ADNEXA_TTTGATCCAT...  1.254433e-16   \n",
       "SPECTRUM-OV-022_S1_CD45N_LEFT_ADNEXA_TTTGATCGTT...  1.254433e-16   \n",
       "SPECTRUM-OV-022_S1_CD45N_LEFT_ADNEXA_TTTGGAGTCC...  1.254429e-16   \n",
       "SPECTRUM-OV-022_S1_CD45N_LEFT_ADNEXA_TTTGTTGGTG...  1.254429e-16   \n",
       "SPECTRUM-OV-022_S1_CD45N_LEFT_ADNEXA_TTTGTTGTCC...  1.254429e-16   \n",
       "\n",
       "                                                       cluster_2  cluster_3  \n",
       "SPECTRUM-OV-022_S1_CD45N_RIGHT_ADNEXA_AAACCCACA...  1.254433e-16        1.0  \n",
       "SPECTRUM-OV-022_S1_CD45N_RIGHT_ADNEXA_AAACCCATC...  1.254433e-16        1.0  \n",
       "SPECTRUM-OV-022_S1_CD45N_RIGHT_ADNEXA_AAACGAATC...  1.254433e-16        1.0  \n",
       "SPECTRUM-OV-022_S1_CD45N_RIGHT_ADNEXA_AAACGCTCA...  1.254433e-16        1.0  \n",
       "SPECTRUM-OV-022_S1_CD45N_RIGHT_ADNEXA_AAACGCTGT...  1.254433e-16        1.0  \n",
       "...                                                          ...        ...  \n",
       "SPECTRUM-OV-022_S1_CD45N_LEFT_ADNEXA_TTTGATCCAT...  1.254433e-16        1.0  \n",
       "SPECTRUM-OV-022_S1_CD45N_LEFT_ADNEXA_TTTGATCGTT...  1.254433e-16        1.0  \n",
       "SPECTRUM-OV-022_S1_CD45N_LEFT_ADNEXA_TTTGGAGTCC...  1.254429e-16        1.0  \n",
       "SPECTRUM-OV-022_S1_CD45N_LEFT_ADNEXA_TTTGTTGGTG...  1.254429e-16        1.0  \n",
       "SPECTRUM-OV-022_S1_CD45N_LEFT_ADNEXA_TTTGTTGTCC...  1.254429e-16        1.0  \n",
       "\n",
       "[5139 rows x 3 columns]"
      ]
     },
     "execution_count": 59,
     "metadata": {},
     "output_type": "execute_result"
    }
   ],
   "source": [
    "clone_assign_prob_dataframe"
   ]
  },
  {
   "cell_type": "code",
   "execution_count": 3,
   "metadata": {},
   "outputs": [
    {
     "data": {
      "text/plain": [
       "tensor([0.5000])"
      ]
     },
     "execution_count": 3,
     "metadata": {},
     "output_type": "execute_result"
    }
   ],
   "source": [
    "torch.tensor([0.5])"
   ]
  },
  {
   "cell_type": "code",
   "execution_count": null,
   "metadata": {},
   "outputs": [],
   "source": []
  }
 ],
 "metadata": {
  "kernelspec": {
   "display_name": "Python 3",
   "language": "python",
   "name": "python3"
  },
  "language_info": {
   "codemirror_mode": {
    "name": "ipython",
    "version": 3
   },
   "file_extension": ".py",
   "mimetype": "text/x-python",
   "name": "python",
   "nbconvert_exporter": "python",
   "pygments_lexer": "ipython3",
   "version": "3.7.4"
  }
 },
 "nbformat": 4,
 "nbformat_minor": 2
}
